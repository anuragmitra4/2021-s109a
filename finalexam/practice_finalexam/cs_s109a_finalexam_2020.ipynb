{
 "cells": [
  {
   "cell_type": "markdown",
   "metadata": {
    "button": false,
    "new_sheet": false,
    "run_control": {
     "read_only": false
    }
   },
   "source": [
    "# <img style=\"float: left; padding-right: 10px; width: 45px\" src=\"https://raw.githubusercontent.com/Harvard-IACS/2018-CS109A/master/content/styles/iacs.png\"> CS-S109A Introduction to Data Science \n",
    "\n",
    "## Final Exam: Airline Delays\n",
    "\n",
    "**Harvard University**<br/>\n",
    "**Summer 2020**<br/>\n",
    "**Instructors**: Kevin Rader\n",
    "\n",
    "\n",
    "<hr style='height:2px'>\n",
    "\n",
    "---\n",
    "\n"
   ]
  },
  {
   "cell_type": "code",
   "execution_count": 1,
   "metadata": {},
   "outputs": [
    {
     "data": {
      "text/html": [
       "<style>\n",
       "blockquote { background: #AEDE94; }\n",
       "h1 { \n",
       "    padding-top: 25px;\n",
       "    padding-bottom: 25px;\n",
       "    text-align: left; \n",
       "    padding-left: 10px;\n",
       "    background-color: #DDDDDD; \n",
       "    color: black;\n",
       "}\n",
       "h2 { \n",
       "    padding-top: 10px;\n",
       "    padding-bottom: 10px;\n",
       "    text-align: left; \n",
       "    padding-left: 5px;\n",
       "    background-color: #EEEEEE; \n",
       "    color: black;\n",
       "}\n",
       "\n",
       "div.exercise {\n",
       "\tbackground-color: #ffcccc;\n",
       "\tborder-color: #E9967A; \t\n",
       "\tborder-left: 5px solid #800080; \n",
       "\tpadding: 0.5em;\n",
       "}\n",
       "\n",
       "span.sub-q {\n",
       "\tfont-weight: bold;\n",
       "}\n",
       "div.theme {\n",
       "\tbackground-color: #DDDDDD;\n",
       "\tborder-color: #E9967A; \t\n",
       "\tborder-left: 5px solid #800080; \n",
       "\tpadding: 0.5em;\n",
       "\tfont-size: 18pt;\n",
       "}\n",
       "div.gc { \n",
       "\tbackground-color: #AEDE94;\n",
       "\tborder-color: #E9967A; \t \n",
       "\tborder-left: 5px solid #800080; \n",
       "\tpadding: 0.5em;\n",
       "\tfont-size: 12pt;\n",
       "}\n",
       "p.q1 { \n",
       "    padding-top: 5px;\n",
       "    padding-bottom: 5px;\n",
       "    text-align: left; \n",
       "    padding-left: 5px;\n",
       "    background-color: #EEEEEE; \n",
       "    color: black;\n",
       "}\n",
       "header {\n",
       "   padding-top: 35px;\n",
       "    padding-bottom: 35px;\n",
       "    text-align: left; \n",
       "    padding-left: 10px;\n",
       "    background-color: #DDDDDD; \n",
       "    color: black;\n",
       "}\n",
       "</style>\n",
       "\n"
      ],
      "text/plain": [
       "<IPython.core.display.HTML object>"
      ]
     },
     "execution_count": 1,
     "metadata": {},
     "output_type": "execute_result"
    }
   ],
   "source": [
    "## RUN THIS CELL TO GET THE RIGHT FORMATTING \n",
    "import requests\n",
    "from IPython.core.display import HTML\n",
    "styles = requests.get(\"https://raw.githubusercontent.com/Harvard-IACS/2018-CS109A/master/content/styles/cs109.css\").text\n",
    "HTML(styles)"
   ]
  },
  {
   "cell_type": "markdown",
   "metadata": {},
   "source": [
    "### INSTRUCTIONS\n",
    "\n",
    "- This final exam is to be completed indivudally.  Do not consult with your peers when working on it (you can aks the teaching staff for clarification questions, including private messages on Ed).\n",
    "- To submit your assignment follow the instructions given in Canvas.\n",
    "- Restart the kernel and run the whole notebook again before you submit. \n",
    "- As much as possible, try and stick to the hints and functions we import at the top of the homework, as those are the ideas and tools the class supports and is aiming to teach. And if a problem specifies a particular library you're required to use that library, and possibly others from the import list.\n",
    "- Please use .head() when viewing data. Do not submit a notebook that is excessively long because output was not suppressed or otherwise limited. "
   ]
  },
  {
   "cell_type": "code",
   "execution_count": 2,
   "metadata": {},
   "outputs": [],
   "source": [
    "import numpy as np\n",
    "import pandas as pd\n",
    "import sklearn as sk\n",
    "import matplotlib.pyplot as plt\n",
    "\n",
    "\n",
    "%matplotlib inline\n",
    "\n",
    "import seaborn as sns\n",
    "sns.set(style='whitegrid')\n",
    "pd.set_option('display.width', 1500)\n",
    "pd.set_option('display.max_columns', 100)"
   ]
  },
  {
   "cell_type": "code",
   "execution_count": null,
   "metadata": {},
   "outputs": [],
   "source": [
    "### cs109default ### \n",
    "# TensorFlow and tf.keras\n",
    "import tensorflow as tf\n",
    "\n",
    "print(tf.__version__)  # You should see a 2.2.0 here!"
   ]
  },
  {
   "cell_type": "code",
   "execution_count": null,
   "metadata": {},
   "outputs": [],
   "source": [
    "# pip install --upgrade tensorflow"
   ]
  },
  {
   "cell_type": "markdown",
   "metadata": {},
   "source": [
    "<hr style=\"height:2pt\">"
   ]
  },
  {
   "cell_type": "markdown",
   "metadata": {},
   "source": [
    "# Predicting Flight Delays\n",
    "\n",
    "The Bureau of Trapnsportaions Statistics houses many datasets, including detailed information about every domestic flight's departure and arrival information, see [here](https://www.transtats.bts.gov/DL_SelectFields.asp?Table_ID=236).\n",
    "\n",
    "The variables included are:\n",
    "\n",
    "- `year`: the year of the flight (2019 or 2020)\n",
    "- `month`: the month of the flight where 1 = January, for example\n",
    "- `day_of_month`: the day of the month\n",
    "- `day_of_week`: the day of the week where 1 = Monday, 2 = Tuesday, etc.\n",
    "- `carrier`: the unique airline carrier code.  See [here](https://www.transtats.bts.gov/Fields.asp?Table_ID=273)\n",
    "- `tail_number`: the unique tail number of the aircraft.\n",
    "- `origin`: 3-letter code for the originating airport of the flight\n",
    "- `origin_state`: the FIPS code of the state the origin airport is located.  See [here](https://www.nrcs.usda.gov/wps/portal/nrcs/detail/?cid=nrcs143_013696). \n",
    "- `dest`: 3-letter code for the destination airport of the flight\n",
    "- `dest_state`: the FIPS code of the state the destination airport is located.\n",
    "- `scheduled_depart_time`: scheduled departure time, in HHMM format (1730 is 5:30pm.)\n",
    "- `actual_depart_time`: the actual departure time, in HHMM format\n",
    "- `depart_delay`: the difference between actual and scheduled departure times, in minutes (negative means it departed early)\n",
    "- `taxi_out`: the time it took for the flight to take off after leaving the gate, in minutes\n",
    "- `taxi_in`: the time it took for the flight to arrive at the gate after landing\n",
    "- `scheduled_arrival_time`: the scheduled arrival time, in HHMM format\n",
    "- `actual_arrival_time`: the actual arrival time, in HHMM format\n",
    "- `arrival_delay`: the difference between actual and scheduled arrival times, in minutes (negative means it arrived early)\n",
    "- `cancelled`: an indicator for whether the flight was cancelled.\n",
    "- `diverted`: an indicator for whether the flight was diverted to a different airport.\n",
    "- `elapsed_time`: total time from gate-to-gate\n",
    "- `air_time`: time in the air between take-off and landing\n",
    "- `distance`: the distance of the flight, in miles\n",
    "- `carrier_delay`: the amount of time the flight was delayed due to carrier-controllable problems\n",
    "- `weather_delay`: the amount of time the flight was delayed due to sever weather\n",
    "- `nas_delay`: the amount of time the flight was delayed due to issues in the national aviation system\n",
    "- `security_delay`: the amount of time the flight was delayed due to security issues \n",
    "- `late_aircraft_delay`: the amount of time the flight was delayed due to the aircraft arriving late from another flight.\n",
    "\n",
    "*Note:* see [here](https://www.bts.gov/topics/airlines-and-airports/understanding-reporting-causes-flight-delays-and-cancellations) for more details on the delay types.\n",
    "\n",
    "Use the provided data sets (`flightdelays_nov19.csv`,`flightdelays_dec19.csv`,`flightdelays_jan20.csv`, and `flightdelays_feb20.csv`) to answer the following questions:"
   ]
  },
  {
   "cell_type": "markdown",
   "metadata": {},
   "source": [
    "# <div class='exercise'><b>Question 1 [30pts]: Data Wrangling and Explorations </b></div>\n",
    "\n",
    "**1.1** Load and combine the four flight data sets (each one represents a different month from November 2019 until Feb 2020).\n",
    "\n",
    "**1.2** Next, let's perform some data wrangling: \n",
    "1. drop the flights that were cancelled or diverted\n",
    "2. convert the 5 `_delay` variables at the end of the dataset into indicators whether or not there was any delay due to this reason (you will need to impute zeros for missing values, and convert any non-zeros into ones).  \n",
    "3. convert `scheduled_depart_time` and `scheduled_arrival_time` into minutes (Hint: the operations `\\\\` and `%` will be useful for this).\n",
    "\n",
    "How many flights were dropped?  How many observations were imputed in each of the `_delay` variables (they should all be the same)?  Save your cleaned data frame as `flights`. \n",
    "\n",
    "**1.3** Create a new variable called `delayed` that measures whether or not a flight was delayed by 15 minutes or more at arrival. This will be one of your primary response variables.\n",
    "\n",
    "**1.4** Split the data, 50-50, into `train` and `test` using `random_state = 109` and `shuffle = True` in sklearn's `train_test_split`.  Why is it important to shuffle the data set first?\n",
    "\n",
    "**1.5** Create two datasets called `bos_flights_train` and `bos_flights_test` which contain only the flights either departing from or arriving at Boston's Logan Airport in the train and test sets from the previous part.  \n",
    "\n",
    "**1.6** Answer some exploratory questions: \n",
    "1. What proportion of flights were delayed in total?  Which month had the highest proportion of flights delayed?\n",
    "2. Which airport was the busiest (had the most flights in and out)?  \n",
    "3. Which airport had the highest proportion of departures delayed? \n",
    "4. Which airlines had the highest and least proportion of arrivals delayed?\n",
    "5. How many flights did Boston have over this time period (combined across train and test counts)?  \n",
    "6. What proportion of departing flights from Boston's Logan Airport were delayed in train?  \n",
    "7. How do the distributions of arrival delays compare in flight leaving Boston vs. flights arriving at Boston (in train).  Provide a visual and interpret what you see.\n"
   ]
  },
  {
   "cell_type": "markdown",
   "metadata": {},
   "source": [
    "## Answers"
   ]
  },
  {
   "cell_type": "markdown",
   "metadata": {},
   "source": [
    "**1.1** Combine the four flight data sets (each one represents a different month from November 2019 until Feb 2020).\n",
    "\n"
   ]
  },
  {
   "cell_type": "code",
   "execution_count": null,
   "metadata": {},
   "outputs": [],
   "source": [
    "######\n",
    "# your code here\n",
    "######\n",
    "\n"
   ]
  },
  {
   "cell_type": "markdown",
   "metadata": {},
   "source": [
    "**1.2** Next, let's perform some data wrangling: \n",
    "1. drop the flights that were cancelled or diverted\n",
    "2. convert the 5 `_delay` variables at the end of the dataset into indicators whether or not there was any delay due to this reason (you will need to impute zeros for missing values, and convert any non-zeros into ones).  \n",
    "3. convert `scheduled_depart_time` and `scheduled_arrival_time` into minutes (Hint: the operations `\\\\` and `%` will be useful for this).\n",
    "\n",
    "How many flights were dropped?  How many observations were imputed in each of the `_delay` variables (they should all be the same)?  Save your cleaned data frame as `flights`. \n"
   ]
  },
  {
   "cell_type": "code",
   "execution_count": null,
   "metadata": {},
   "outputs": [],
   "source": [
    "######\n",
    "# your code here\n",
    "######\n"
   ]
  },
  {
   "cell_type": "markdown",
   "metadata": {},
   "source": [
    "*your answer here*"
   ]
  },
  {
   "cell_type": "markdown",
   "metadata": {},
   "source": [
    "\n",
    "**1.3** Create a new variable called `delayed` that measures whether or not a flight was delayed by 15 minutes or more at arrival. This will be one of your primary response variables.\n",
    "\n"
   ]
  },
  {
   "cell_type": "code",
   "execution_count": null,
   "metadata": {},
   "outputs": [],
   "source": [
    "######\n",
    "# your code here\n",
    "######"
   ]
  },
  {
   "cell_type": "markdown",
   "metadata": {},
   "source": [
    "**1.4** Split the data, 50-50, into `train` and `test` using `random_state = 109` and `shuffle = True` in sklearn's `train_test_split`.  Why is it important to shuffle the data set first?\n",
    "\n"
   ]
  },
  {
   "cell_type": "code",
   "execution_count": null,
   "metadata": {},
   "outputs": [],
   "source": [
    "######\n",
    "# your code here\n",
    "######"
   ]
  },
  {
   "cell_type": "markdown",
   "metadata": {},
   "source": [
    "*your answer here*"
   ]
  },
  {
   "cell_type": "markdown",
   "metadata": {},
   "source": [
    "**1.5** Create two datasets called `bos_flights_train` and `bos_flights_test` which contain only the flights either departing from or arriving at Boston's Logan Airport in the train and test sets from the previous part.  \n"
   ]
  },
  {
   "cell_type": "code",
   "execution_count": null,
   "metadata": {},
   "outputs": [],
   "source": [
    "######\n",
    "# your code here\n",
    "######"
   ]
  },
  {
   "cell_type": "markdown",
   "metadata": {},
   "source": [
    "\n",
    "**1.6** Answer some exploratory questions: \n",
    "1. What proportion of flights were delayed in total?  Which month had the highest proportion of flights delayed?\n",
    "2. Which airport was the busiest (had the most flights in and out)?  \n",
    "3. Which airport had the highest proportion of departures delayed? \n",
    "4. Which airlines had the highest and least proportion of arrivals delayed?\n",
    "5. How many flights did Boston have over this time period (combined across train and test counts)?  \n",
    "6. What proportion of departing flights from Boston's Logan Airport were delayed in train?  \n",
    "7. How do the distributions of arrival delays compare in flight leaving Boston vs. flights arriving at Boston (in train).  Provide a visual and interpret what you see.\n"
   ]
  },
  {
   "cell_type": "code",
   "execution_count": null,
   "metadata": {},
   "outputs": [],
   "source": [
    "######\n",
    "# your code here\n",
    "#######"
   ]
  },
  {
   "cell_type": "markdown",
   "metadata": {},
   "source": [
    "*your answer here*"
   ]
  },
  {
   "cell_type": "markdown",
   "metadata": {},
   "source": [
    "---"
   ]
  },
  {
   "cell_type": "markdown",
   "metadata": {},
   "source": [
    "<div class='exercise'><b>Question 2 [25pts]: Predicting whether a flight was delayed at arrival </b></div>\n",
    "\n",
    "**2.1** Fit a logistic regression model  to predict whether a flight is delayed or not from the carrier of the flight.  What is the estimated probability for a Sothwest Airlines (`carrier = 'WN'`) flight to be delayed?  \n",
    "\n",
    "**2.2** Calculate and interpret the misclassification rate and AUC for the logit model on the train set.  Explain why this value make sense based on the estimated coefficients from the previous part.\n",
    "\n",
    "**2.3** Build a well-tuned decision tree model to predict `delayed` from the predictor set: `['month', 'day_of_month', 'day_of_week', 'carrier',  'origin_state','origin','dest',  'dest_state', 'scheduled_depart_time', 'depart_delay','scheduled_arrival_time', 'distance']`.  Use 2-fold cross-validation to to select the best `max_depth` from the set `np.arange(1,21)`.\n",
    "\n",
    "*Hint: it is useful to use `pd.astype('category')` and `pd.cat.codes` for the categorical predictors.\n",
    "\n",
    "**2.4** Evaluate the misclassification rate and AUC on both train and test for your well-tuned decision tree in the previous part.  How do these copmare to the logistic regression model?\n",
    "\n",
    "**2.5** Provide a plot which shows which predictors are most important in building the well-tuned decision tree model.  Interpret this plot.  \n",
    "\n",
    "**2.6**. If a well-tuned random forest model were built from this set of predictors, would you expect the tuned 'max_features' to be above, below, or nearly equal to the default of $\\sqrt{P}$, where $P$ is the number of predictors?  Justify briefly. \n"
   ]
  },
  {
   "cell_type": "markdown",
   "metadata": {},
   "source": [
    "## Answers"
   ]
  },
  {
   "cell_type": "markdown",
   "metadata": {},
   "source": [
    "**2.1** Fit a logistic regression model  to predict whether a flight is delayed or not from the carrier of the flight.  What is the estimated probability for a Sothwest Airlines (`carrier` = 'WN') flight to be delayed?  \n",
    "\n"
   ]
  },
  {
   "cell_type": "code",
   "execution_count": null,
   "metadata": {},
   "outputs": [],
   "source": [
    "######\n",
    "# your code here\n",
    "######"
   ]
  },
  {
   "cell_type": "markdown",
   "metadata": {},
   "source": [
    "**2.2** Calculate and interpret the misclassification rate and AUC for the logit model on the train set.  Explain why this value make sense based on the estimated coefficients from the previous part.\n"
   ]
  },
  {
   "cell_type": "code",
   "execution_count": null,
   "metadata": {},
   "outputs": [],
   "source": [
    "######\n",
    "# your code here\n",
    "######"
   ]
  },
  {
   "cell_type": "markdown",
   "metadata": {},
   "source": [
    "**2.3** Build a well-tuned decision tree model to predict `delayed` from the predictor set: `['month', 'day_of_month', 'day_of_week', 'carrier',  'origin_state','origin','dest',  'dest_state', 'scheduled_depart_time', 'depart_delay','scheduled_arrival_time', 'distance']`.  Use 2-fold cross-validation to to select the best `max_depth` from the set `np.arange(1,21)`.\n",
    "\n",
    "*Hint: it is useful to use `pd.astype('category')` and `pd.cat.codes` for the categorical predictors.\n"
   ]
  },
  {
   "cell_type": "code",
   "execution_count": null,
   "metadata": {},
   "outputs": [],
   "source": [
    "######\n",
    "# your code here\n",
    "######\n",
    "\n"
   ]
  },
  {
   "cell_type": "markdown",
   "metadata": {},
   "source": [
    "\n",
    "**2.4** Evaluate the misclassification rate and AUC on both train and test for your well-tuned decision tree in the previous part.  How do these copmare to the logistic regression model?\n",
    "\n"
   ]
  },
  {
   "cell_type": "code",
   "execution_count": null,
   "metadata": {},
   "outputs": [],
   "source": [
    "######\n",
    "# your code here\n",
    "######"
   ]
  },
  {
   "cell_type": "code",
   "execution_count": null,
   "metadata": {},
   "outputs": [],
   "source": [
    "*your answer here*"
   ]
  },
  {
   "cell_type": "markdown",
   "metadata": {},
   "source": [
    "**2.5** Provide a plot which shows which predictors are most important in building the well-tuned decision tree model.  Interpret this plot.  \n",
    "\n"
   ]
  },
  {
   "cell_type": "code",
   "execution_count": null,
   "metadata": {},
   "outputs": [],
   "source": [
    "######\n",
    "# your code here\n",
    "######"
   ]
  },
  {
   "cell_type": "code",
   "execution_count": null,
   "metadata": {},
   "outputs": [],
   "source": [
    "*your answer here*"
   ]
  },
  {
   "cell_type": "markdown",
   "metadata": {},
   "source": [
    "**2.6**. If a well-tuned random forest model were built from this set of predictors, would you expect the tuned 'max_features' to be above, below, or nearly equal to the default of $\\sqrt{P}$, where $P$ is the number of predictors?  Justify briefly. "
   ]
  },
  {
   "cell_type": "markdown",
   "metadata": {},
   "source": [
    "*your answer here*"
   ]
  },
  {
   "cell_type": "markdown",
   "metadata": {},
   "source": [
    "---"
   ]
  },
  {
   "cell_type": "markdown",
   "metadata": {},
   "source": [
    "<div class='exercise'><b>Question 3 [25pts]: Predicting how delayed a flight will be at arrival </b></div>\n",
    "\n",
    "**3.1** Fit a linear regression model to predict how much a flight will be delayed on arrival from the scheduled departure time. Plot the fitted line on top of the scatterplot.  What is the estimated delay for a 5am departing flight?  For an 11pm departing flight?\n",
    "\n",
    "**3.2** Build a well-tuned Lasso model to predict `arrival_delay` from `origin`.  Use 2-fold cross-validation to to select the best `alpha` from the set `10.0**(np.arange(-4,2))`.  For this Lasso model, how many airports are considered to be unimportant?  How is Boston treated?\n",
    "\n",
    "**3.3** Compare the number of departing flights for origin airports considered to be unimportant to those that are important from the Lasso model.  In what way does this explain why these airports were deemed to be unimportant in the Lasso model?\n",
    "\n",
    "**3.4** Build a well-tuned random forest model (use 200 base trees and a max_depth of 15) to predict the amount of `arrival_delay` from `['month', 'day_of_month', 'day_of_week', 'carrier',  'origin_state','origin','dest',  'dest_state', 'scheduled_depart_time','depart_delay', 'scheduled_arrival_time', 'distance']`.  Note: feel free to use a subset of your training data set to train this model...just explain your approach.  Evaluate it's performance on the full train and test sets using $R^2$.\n",
    "\n",
    "**3.5** A friend of yours suggests that airlines can \"make up time in the air\" if a flight departs late and is a long enough flight.  Investigate this claim visually and interpret what you see.\n",
    "\n",
    "Hint: Look at the relationship between the Y = predicted amount of arrival delay based on the X = amount of departure delay, for several well-chosen values of `distance`."
   ]
  },
  {
   "cell_type": "markdown",
   "metadata": {},
   "source": [
    "## Answers"
   ]
  },
  {
   "cell_type": "markdown",
   "metadata": {},
   "source": [
    "**3.1** Fit a linear regression model to predict how much a flight will be delayed on arrival from the scheduled departure time. Plot the fitted line on top of the scatterplot.  What is the estimated delay for a 5am departing flight?  For an 11pm departing flight?\n"
   ]
  },
  {
   "cell_type": "code",
   "execution_count": null,
   "metadata": {},
   "outputs": [],
   "source": [
    "######\n",
    "# your code here\n",
    "######"
   ]
  },
  {
   "cell_type": "markdown",
   "metadata": {},
   "source": [
    "\n",
    "**3.2** Build a well-tuned Lasso model to predict `arrival_delay` from `origin`.  Use 2-fold cross-validation to to select the best `alpha` from the set `10.0**(np.arange(-4,2))`.  For this Lasso model, how many airports are considered to be unimportant?  How is Boston treated?\n",
    "\n"
   ]
  },
  {
   "cell_type": "code",
   "execution_count": null,
   "metadata": {},
   "outputs": [],
   "source": [
    "######\n",
    "# your code here\n",
    "######"
   ]
  },
  {
   "cell_type": "markdown",
   "metadata": {},
   "source": [
    "**3.3** Compare the number of departing flights for origin airports considered to be unimportant to those that are important from the Lasso model.  In what way does this explain why these airports were deemed to be unimportant in the Lasso model?\n",
    "\n"
   ]
  },
  {
   "cell_type": "code",
   "execution_count": null,
   "metadata": {},
   "outputs": [],
   "source": [
    "######\n",
    "# your code here\n",
    "######"
   ]
  },
  {
   "cell_type": "code",
   "execution_count": null,
   "metadata": {},
   "outputs": [],
   "source": [
    "*your answer here*"
   ]
  },
  {
   "cell_type": "markdown",
   "metadata": {},
   "source": [
    "**3.4** Build a well-tuned random forest model (use 200 base trees and a max_depth of 15) to predict the amount of `arrival_delay` from `['month', 'day_of_month', 'day_of_week', 'carrier',  'origin_state','origin','dest',  'dest_state', 'scheduled_depart_time','depart_delay', 'scheduled_arrival_time', 'distance']`.  Note: feel free to use a smaller subset of your training data set to train this model...just explain your approach.  Evaluate its performance on the full train and test sets using $R^2$.\n",
    "\n"
   ]
  },
  {
   "cell_type": "code",
   "execution_count": null,
   "metadata": {},
   "outputs": [],
   "source": [
    "######\n",
    "# your code here\n",
    "######"
   ]
  },
  {
   "cell_type": "markdown",
   "metadata": {},
   "source": [
    "**3.5** A friend of yours suggests that airlines can \"make up time in the air\" if a flight departs late and is a long enough flight.  Investigate this claim visually and interpret what you see.\n",
    "\n",
    "Hint: Look at the relationship between the Y = predicted amount of arrival delay based on the X = amount of departure delay, for several well-chosen values of `distance`."
   ]
  },
  {
   "cell_type": "code",
   "execution_count": null,
   "metadata": {},
   "outputs": [],
   "source": [
    "######\n",
    "# your code here\n",
    "######"
   ]
  },
  {
   "cell_type": "markdown",
   "metadata": {},
   "source": [
    "*your answer here*"
   ]
  },
  {
   "cell_type": "markdown",
   "metadata": {},
   "source": [
    "---"
   ]
  },
  {
   "cell_type": "markdown",
   "metadata": {},
   "source": [
    "<div class='exercise'><b>Question 4 [20pts]: Predicting delays out of Boston </b></div>\n",
    "\n",
    "For this question, use the `bos_flights_train` and `bos_flights_test` data sets you created in question 1.\n",
    "\n",
    "**4.1** Build a boosted tree-based model to predict whether or not a Boston flight will be delayed from `['month', 'day_of_month', 'day_of_week', 'carrier',  'origin_state','origin','dest',  'dest_state', 'scheduled_depart_time', 'scheduled_arrival_time', 'distance']`. Justify your choices for the 3 parameters that could be tuned for this model (a visual set of visuals can help for this).  Evaluate the accuracy of this model on the test set.\n",
    "\n",
    "**4.2** Build a fully-connected neural network (NN) model to predict the amount of `arrival_delay` from `['month', 'day_of_month', 'day_of_week', 'carrier',  'origin_state','origin','dest',  'dest_state', 'scheduled_depart_time', 'scheduled_arrival_time', 'distance']` in Boston flights.  Briefly justify your choice for the network architecture. Evaluate the accuracy of this model on the test set.\n",
    "\n",
    "**4.3** You have a scheduled flight from Boston (BOS) to San Francisco (SFO) that is scheduled to depart at 2pm on Wednesday, November 26 (the day before Thanksgiving) and arrive at 5:15pm.  Use your models in the previous two parts to determine the (i) probability that the flight will be delayed on arrival and (ii) predicted amount of arrival delay given it takes off anywhere from 5 minutes early to 2 hours late.\n",
    "\n",
    "**4.4** The data set `bos_weather.csv` includes daily weather from this same time period .  Use this dataset and the boston flight data to investigate the effect of weather (precipitation, temperature, etc.) on flight delays at Logan Airport.  Could this extra data source improve the predictions from the models in 4.1 and 4.2?  Explain."
   ]
  },
  {
   "cell_type": "markdown",
   "metadata": {},
   "source": [
    "## Answers"
   ]
  },
  {
   "cell_type": "markdown",
   "metadata": {},
   "source": [
    "**4.1** Build a boosted tree-based model to predict whether or not a Boston flight will be delayed from `['month', 'day_of_month', 'day_of_week', 'carrier',  'origin_state','origin','dest',  'dest_state', 'scheduled_depart_time', 'scheduled_arrival_time', 'distance']`. Justify your choices for the 3 parameters that could be tuned for this model (a visual set of visuals can help for this).  Evaluate the accuracy of this model on the test set.\n",
    "\n"
   ]
  },
  {
   "cell_type": "code",
   "execution_count": null,
   "metadata": {},
   "outputs": [],
   "source": [
    "######\n",
    "# your code here\n",
    "######"
   ]
  },
  {
   "cell_type": "markdown",
   "metadata": {},
   "source": [
    "**4.2** Build a fully-connected neural network (NN) model to predict the amount of `arrival_delay` from `['month', 'day_of_month', 'day_of_week', 'carrier',  'origin_state','origin','dest',  'dest_state', 'scheduled_depart_time', 'scheduled_arrival_time', 'distance']` in Boston flights.  Briefly justify your choice for the network architecture. Evaluate the accuracy of this model on the test set.\n"
   ]
  },
  {
   "cell_type": "code",
   "execution_count": null,
   "metadata": {},
   "outputs": [],
   "source": [
    "######\n",
    "# your code here\n",
    "######"
   ]
  },
  {
   "cell_type": "markdown",
   "metadata": {},
   "source": [
    "**4.3** You have a scheduled flight from Boston (BOS) to San Francisco (SFO) that is scheduled to depart at 2pm on Wednesday, November 26 (the day before Thanksgiving) and arrive at 5:15pm.  Use your models in the previous two parts to determine the (i) probability that the flight will be delayed on arrival and (ii) predicted amount of arrival delay given it takes off anywhere from 5 minutes early to 2 hours late.\n"
   ]
  },
  {
   "cell_type": "code",
   "execution_count": null,
   "metadata": {},
   "outputs": [],
   "source": [
    "######\n",
    "# your code here\n",
    "######\n",
    "\n"
   ]
  },
  {
   "cell_type": "markdown",
   "metadata": {},
   "source": [
    "\n",
    "**4.4** The data set `bos_weather.csv` includes daily weather from this same time period .  Use this dataset and the boston flight data to investigate the effect of weather (total precipitation, mean temperature, etc.) on flight delays at Logan Airport.  Would this extra data source improve the predictions from the models in 4.1 and 4.2?  Explain."
   ]
  },
  {
   "cell_type": "code",
   "execution_count": null,
   "metadata": {},
   "outputs": [],
   "source": [
    "######\n",
    "# your code here\n",
    "######"
   ]
  },
  {
   "cell_type": "markdown",
   "metadata": {},
   "source": [
    "*your answer here*"
   ]
  },
  {
   "cell_type": "code",
   "execution_count": null,
   "metadata": {},
   "outputs": [],
   "source": []
  }
 ],
 "metadata": {
  "anaconda-cloud": {},
  "kernelspec": {
   "display_name": "Python 3",
   "language": "python",
   "name": "python3"
  },
  "language_info": {
   "codemirror_mode": {
    "name": "ipython",
    "version": 3
   },
   "file_extension": ".py",
   "mimetype": "text/x-python",
   "name": "python",
   "nbconvert_exporter": "python",
   "pygments_lexer": "ipython3",
   "version": "3.7.6"
  }
 },
 "nbformat": 4,
 "nbformat_minor": 2
}
