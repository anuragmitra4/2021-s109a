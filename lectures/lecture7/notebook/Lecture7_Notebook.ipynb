{
 "cells": [
  {
   "cell_type": "markdown",
   "metadata": {},
   "source": [
    "# <img style=\"float: left; padding-right: 10px; width: 45px\" src=\"https://github.com/Harvard-IACS/2021-s109a/blob/master/lectures/crest.png?raw=true\"> CS-S109A Introduction to Data Science \n",
    "\n",
    "## Lecture 7: $k$-NN Classification, Missingness, and PCA\n",
    "\n",
    "**Harvard University**<br>\n",
    "**Summer 2021**<br>\n",
    "**Instructors:** Kevin Rader<br>\n",
    "**Authors:** Rahul Dave, David Sondak, Will Claybaugh, Pavlos Protopapas, Chris Tanner, Kevin Rader\n",
    "\n",
    "---"
   ]
  },
  {
   "cell_type": "markdown",
   "metadata": {},
   "source": [
    "# Table of Contents \n",
    "<ol start=\"0\">\n",
    "<li> Learning Goals </li>\n",
    "<li> $k$-NN Classification </li> \n",
    "<li> PCA </li>\n",
    "<li> Multiclass Classification Models </li> \n",
    "\n",
    "    "
   ]
  },
  {
   "cell_type": "markdown",
   "metadata": {},
   "source": [
    "## Learning Goals\n",
    "\n",
    "This Jupyter notebook accompanies Lecture 7. By the end of this lecture, you should be able to:\n",
    "\n",
    "- Fit, plot, and 'interpret' $k$-NN classification models\n",
    "- Determine classification boundaries (through plotting predictions) for $k$-NN models\n",
    "- Perform principal components analysis (PCA) on a set of predictors\n",
    "- Use the PCA vectors as the basis of modeling and visualizations\n",
    "- Be comfortable with multiclass models\n"
   ]
  },
  {
   "cell_type": "code",
   "execution_count": 1,
   "metadata": {
    "scrolled": true,
    "slideshow": {
     "slide_type": "slide"
    }
   },
   "outputs": [],
   "source": [
    "%matplotlib inline\n",
    "import sys\n",
    "import numpy as np\n",
    "import pylab as pl\n",
    "import pandas as pd\n",
    "import sklearn as sk\n",
    "import statsmodels.api as sm\n",
    "import matplotlib.pyplot as plt\n",
    "import matplotlib\n",
    "import seaborn as sns\n",
    "\n",
    "from sklearn.linear_model import LogisticRegression\n",
    "from sklearn.neighbors import KNeighborsClassifier \n",
    "from sklearn.decomposition import PCA\n",
    "import sklearn.metrics as met\n",
    "\n",
    "from sklearn.preprocessing import PolynomialFeatures\n",
    "\n",
    "pd.set_option('display.width', 500)\n",
    "pd.set_option('display.max_columns', 100)"
   ]
  },
  {
   "cell_type": "markdown",
   "metadata": {},
   "source": [
    "## Part 0: Reading the data \n",
    "\n",
    "In this notebook, we will be using the same Heart dataset from last lecture.  As a reminder the variables we will be using today include:\n",
    "\n",
    "- `AHD`: whether or not the patient presents atherosclerotic heart disease (a heart attack): `Yes` or `No`\n",
    "- `Sex`: a binary indicator for whether the patient is male (Sex=1) or female (Sex=0)\n",
    "- `Age`: age of patient, in years\n",
    "- `MaxHR`: the maximum heart rate of patient based on exercise testing\n",
    "- `RestBP`: the resting systolic blood pressure of the patient\n",
    "- `Chol`: the HDL cholesterol level of the patient\n",
    "\n",
    "For further information on the dataset, please see the [UC Irvine Machine Learning Repository](https://archive.ics.uci.edu/ml/datasets/Heart+Disease)."
   ]
  },
  {
   "cell_type": "code",
   "execution_count": 2,
   "metadata": {
    "scrolled": false
   },
   "outputs": [
    {
     "name": "stdout",
     "output_type": "stream",
     "text": [
      "(303, 15)\n"
     ]
    },
    {
     "data": {
      "text/html": [
       "<div>\n",
       "<style scoped>\n",
       "    .dataframe tbody tr th:only-of-type {\n",
       "        vertical-align: middle;\n",
       "    }\n",
       "\n",
       "    .dataframe tbody tr th {\n",
       "        vertical-align: top;\n",
       "    }\n",
       "\n",
       "    .dataframe thead th {\n",
       "        text-align: right;\n",
       "    }\n",
       "</style>\n",
       "<table border=\"1\" class=\"dataframe\">\n",
       "  <thead>\n",
       "    <tr style=\"text-align: right;\">\n",
       "      <th></th>\n",
       "      <th>Unnamed: 0</th>\n",
       "      <th>Age</th>\n",
       "      <th>Sex</th>\n",
       "      <th>ChestPain</th>\n",
       "      <th>RestBP</th>\n",
       "      <th>Chol</th>\n",
       "      <th>Fbs</th>\n",
       "      <th>RestECG</th>\n",
       "      <th>MaxHR</th>\n",
       "      <th>ExAng</th>\n",
       "      <th>Oldpeak</th>\n",
       "      <th>Slope</th>\n",
       "      <th>Ca</th>\n",
       "      <th>Thal</th>\n",
       "      <th>AHD</th>\n",
       "    </tr>\n",
       "  </thead>\n",
       "  <tbody>\n",
       "    <tr>\n",
       "      <th>0</th>\n",
       "      <td>1</td>\n",
       "      <td>63</td>\n",
       "      <td>1</td>\n",
       "      <td>typical</td>\n",
       "      <td>145</td>\n",
       "      <td>233</td>\n",
       "      <td>1</td>\n",
       "      <td>2</td>\n",
       "      <td>150</td>\n",
       "      <td>0</td>\n",
       "      <td>2.3</td>\n",
       "      <td>3</td>\n",
       "      <td>0.0</td>\n",
       "      <td>fixed</td>\n",
       "      <td>0</td>\n",
       "    </tr>\n",
       "    <tr>\n",
       "      <th>1</th>\n",
       "      <td>2</td>\n",
       "      <td>67</td>\n",
       "      <td>1</td>\n",
       "      <td>asymptomatic</td>\n",
       "      <td>160</td>\n",
       "      <td>286</td>\n",
       "      <td>0</td>\n",
       "      <td>2</td>\n",
       "      <td>108</td>\n",
       "      <td>1</td>\n",
       "      <td>1.5</td>\n",
       "      <td>2</td>\n",
       "      <td>3.0</td>\n",
       "      <td>normal</td>\n",
       "      <td>1</td>\n",
       "    </tr>\n",
       "    <tr>\n",
       "      <th>2</th>\n",
       "      <td>3</td>\n",
       "      <td>67</td>\n",
       "      <td>1</td>\n",
       "      <td>asymptomatic</td>\n",
       "      <td>120</td>\n",
       "      <td>229</td>\n",
       "      <td>0</td>\n",
       "      <td>2</td>\n",
       "      <td>129</td>\n",
       "      <td>1</td>\n",
       "      <td>2.6</td>\n",
       "      <td>2</td>\n",
       "      <td>2.0</td>\n",
       "      <td>reversable</td>\n",
       "      <td>1</td>\n",
       "    </tr>\n",
       "    <tr>\n",
       "      <th>3</th>\n",
       "      <td>4</td>\n",
       "      <td>37</td>\n",
       "      <td>1</td>\n",
       "      <td>nonanginal</td>\n",
       "      <td>130</td>\n",
       "      <td>250</td>\n",
       "      <td>0</td>\n",
       "      <td>0</td>\n",
       "      <td>187</td>\n",
       "      <td>0</td>\n",
       "      <td>3.5</td>\n",
       "      <td>3</td>\n",
       "      <td>0.0</td>\n",
       "      <td>normal</td>\n",
       "      <td>0</td>\n",
       "    </tr>\n",
       "    <tr>\n",
       "      <th>4</th>\n",
       "      <td>5</td>\n",
       "      <td>41</td>\n",
       "      <td>0</td>\n",
       "      <td>nontypical</td>\n",
       "      <td>130</td>\n",
       "      <td>204</td>\n",
       "      <td>0</td>\n",
       "      <td>2</td>\n",
       "      <td>172</td>\n",
       "      <td>0</td>\n",
       "      <td>1.4</td>\n",
       "      <td>1</td>\n",
       "      <td>0.0</td>\n",
       "      <td>normal</td>\n",
       "      <td>0</td>\n",
       "    </tr>\n",
       "  </tbody>\n",
       "</table>\n",
       "</div>"
      ],
      "text/plain": [
       "   Unnamed: 0  Age  Sex     ChestPain  RestBP  Chol  Fbs  RestECG  MaxHR  ExAng  Oldpeak  Slope   Ca        Thal  AHD\n",
       "0           1   63    1       typical     145   233    1        2    150      0      2.3      3  0.0       fixed    0\n",
       "1           2   67    1  asymptomatic     160   286    0        2    108      1      1.5      2  3.0      normal    1\n",
       "2           3   67    1  asymptomatic     120   229    0        2    129      1      2.6      2  2.0  reversable    1\n",
       "3           4   37    1    nonanginal     130   250    0        0    187      0      3.5      3  0.0      normal    0\n",
       "4           5   41    0    nontypical     130   204    0        2    172      0      1.4      1  0.0      normal    0"
      ]
     },
     "execution_count": 2,
     "metadata": {},
     "output_type": "execute_result"
    }
   ],
   "source": [
    "df_heart = pd.read_csv('../data/Heart.csv')\n",
    "\n",
    "# Force the response into a binary indicator:\n",
    "df_heart['AHD'] = 1*(df_heart['AHD'] == \"Yes\")\n",
    "\n",
    "print(df_heart.shape)\n",
    "df_heart.head()"
   ]
  },
  {
   "cell_type": "markdown",
   "metadata": {},
   "source": [
    "Here are some basic summaries and EDA from last time:"
   ]
  },
  {
   "cell_type": "code",
   "execution_count": 3,
   "metadata": {},
   "outputs": [
    {
     "data": {
      "text/html": [
       "<div>\n",
       "<style scoped>\n",
       "    .dataframe tbody tr th:only-of-type {\n",
       "        vertical-align: middle;\n",
       "    }\n",
       "\n",
       "    .dataframe tbody tr th {\n",
       "        vertical-align: top;\n",
       "    }\n",
       "\n",
       "    .dataframe thead th {\n",
       "        text-align: right;\n",
       "    }\n",
       "</style>\n",
       "<table border=\"1\" class=\"dataframe\">\n",
       "  <thead>\n",
       "    <tr style=\"text-align: right;\">\n",
       "      <th></th>\n",
       "      <th>Unnamed: 0</th>\n",
       "      <th>Age</th>\n",
       "      <th>Sex</th>\n",
       "      <th>RestBP</th>\n",
       "      <th>Chol</th>\n",
       "      <th>Fbs</th>\n",
       "      <th>RestECG</th>\n",
       "      <th>MaxHR</th>\n",
       "      <th>ExAng</th>\n",
       "      <th>Oldpeak</th>\n",
       "      <th>Slope</th>\n",
       "      <th>Ca</th>\n",
       "      <th>AHD</th>\n",
       "    </tr>\n",
       "  </thead>\n",
       "  <tbody>\n",
       "    <tr>\n",
       "      <th>count</th>\n",
       "      <td>303.000000</td>\n",
       "      <td>303.000000</td>\n",
       "      <td>303.000000</td>\n",
       "      <td>303.000000</td>\n",
       "      <td>303.000000</td>\n",
       "      <td>303.000000</td>\n",
       "      <td>303.000000</td>\n",
       "      <td>303.000000</td>\n",
       "      <td>303.000000</td>\n",
       "      <td>303.000000</td>\n",
       "      <td>303.000000</td>\n",
       "      <td>299.000000</td>\n",
       "      <td>303.000000</td>\n",
       "    </tr>\n",
       "    <tr>\n",
       "      <th>mean</th>\n",
       "      <td>152.000000</td>\n",
       "      <td>54.438944</td>\n",
       "      <td>0.679868</td>\n",
       "      <td>131.689769</td>\n",
       "      <td>246.693069</td>\n",
       "      <td>0.148515</td>\n",
       "      <td>0.990099</td>\n",
       "      <td>149.607261</td>\n",
       "      <td>0.326733</td>\n",
       "      <td>1.039604</td>\n",
       "      <td>1.600660</td>\n",
       "      <td>0.672241</td>\n",
       "      <td>0.458746</td>\n",
       "    </tr>\n",
       "    <tr>\n",
       "      <th>std</th>\n",
       "      <td>87.612784</td>\n",
       "      <td>9.038662</td>\n",
       "      <td>0.467299</td>\n",
       "      <td>17.599748</td>\n",
       "      <td>51.776918</td>\n",
       "      <td>0.356198</td>\n",
       "      <td>0.994971</td>\n",
       "      <td>22.875003</td>\n",
       "      <td>0.469794</td>\n",
       "      <td>1.161075</td>\n",
       "      <td>0.616226</td>\n",
       "      <td>0.937438</td>\n",
       "      <td>0.499120</td>\n",
       "    </tr>\n",
       "    <tr>\n",
       "      <th>min</th>\n",
       "      <td>1.000000</td>\n",
       "      <td>29.000000</td>\n",
       "      <td>0.000000</td>\n",
       "      <td>94.000000</td>\n",
       "      <td>126.000000</td>\n",
       "      <td>0.000000</td>\n",
       "      <td>0.000000</td>\n",
       "      <td>71.000000</td>\n",
       "      <td>0.000000</td>\n",
       "      <td>0.000000</td>\n",
       "      <td>1.000000</td>\n",
       "      <td>0.000000</td>\n",
       "      <td>0.000000</td>\n",
       "    </tr>\n",
       "    <tr>\n",
       "      <th>25%</th>\n",
       "      <td>76.500000</td>\n",
       "      <td>48.000000</td>\n",
       "      <td>0.000000</td>\n",
       "      <td>120.000000</td>\n",
       "      <td>211.000000</td>\n",
       "      <td>0.000000</td>\n",
       "      <td>0.000000</td>\n",
       "      <td>133.500000</td>\n",
       "      <td>0.000000</td>\n",
       "      <td>0.000000</td>\n",
       "      <td>1.000000</td>\n",
       "      <td>0.000000</td>\n",
       "      <td>0.000000</td>\n",
       "    </tr>\n",
       "    <tr>\n",
       "      <th>50%</th>\n",
       "      <td>152.000000</td>\n",
       "      <td>56.000000</td>\n",
       "      <td>1.000000</td>\n",
       "      <td>130.000000</td>\n",
       "      <td>241.000000</td>\n",
       "      <td>0.000000</td>\n",
       "      <td>1.000000</td>\n",
       "      <td>153.000000</td>\n",
       "      <td>0.000000</td>\n",
       "      <td>0.800000</td>\n",
       "      <td>2.000000</td>\n",
       "      <td>0.000000</td>\n",
       "      <td>0.000000</td>\n",
       "    </tr>\n",
       "    <tr>\n",
       "      <th>75%</th>\n",
       "      <td>227.500000</td>\n",
       "      <td>61.000000</td>\n",
       "      <td>1.000000</td>\n",
       "      <td>140.000000</td>\n",
       "      <td>275.000000</td>\n",
       "      <td>0.000000</td>\n",
       "      <td>2.000000</td>\n",
       "      <td>166.000000</td>\n",
       "      <td>1.000000</td>\n",
       "      <td>1.600000</td>\n",
       "      <td>2.000000</td>\n",
       "      <td>1.000000</td>\n",
       "      <td>1.000000</td>\n",
       "    </tr>\n",
       "    <tr>\n",
       "      <th>max</th>\n",
       "      <td>303.000000</td>\n",
       "      <td>77.000000</td>\n",
       "      <td>1.000000</td>\n",
       "      <td>200.000000</td>\n",
       "      <td>564.000000</td>\n",
       "      <td>1.000000</td>\n",
       "      <td>2.000000</td>\n",
       "      <td>202.000000</td>\n",
       "      <td>1.000000</td>\n",
       "      <td>6.200000</td>\n",
       "      <td>3.000000</td>\n",
       "      <td>3.000000</td>\n",
       "      <td>1.000000</td>\n",
       "    </tr>\n",
       "  </tbody>\n",
       "</table>\n",
       "</div>"
      ],
      "text/plain": [
       "       Unnamed: 0         Age         Sex      RestBP        Chol         Fbs     RestECG       MaxHR       ExAng     Oldpeak       Slope          Ca         AHD\n",
       "count  303.000000  303.000000  303.000000  303.000000  303.000000  303.000000  303.000000  303.000000  303.000000  303.000000  303.000000  299.000000  303.000000\n",
       "mean   152.000000   54.438944    0.679868  131.689769  246.693069    0.148515    0.990099  149.607261    0.326733    1.039604    1.600660    0.672241    0.458746\n",
       "std     87.612784    9.038662    0.467299   17.599748   51.776918    0.356198    0.994971   22.875003    0.469794    1.161075    0.616226    0.937438    0.499120\n",
       "min      1.000000   29.000000    0.000000   94.000000  126.000000    0.000000    0.000000   71.000000    0.000000    0.000000    1.000000    0.000000    0.000000\n",
       "25%     76.500000   48.000000    0.000000  120.000000  211.000000    0.000000    0.000000  133.500000    0.000000    0.000000    1.000000    0.000000    0.000000\n",
       "50%    152.000000   56.000000    1.000000  130.000000  241.000000    0.000000    1.000000  153.000000    0.000000    0.800000    2.000000    0.000000    0.000000\n",
       "75%    227.500000   61.000000    1.000000  140.000000  275.000000    0.000000    2.000000  166.000000    1.000000    1.600000    2.000000    1.000000    1.000000\n",
       "max    303.000000   77.000000    1.000000  200.000000  564.000000    1.000000    2.000000  202.000000    1.000000    6.200000    3.000000    3.000000    1.000000"
      ]
     },
     "execution_count": 3,
     "metadata": {},
     "output_type": "execute_result"
    }
   ],
   "source": [
    "df_heart.describe()"
   ]
  },
  {
   "cell_type": "code",
   "execution_count": 4,
   "metadata": {},
   "outputs": [
    {
     "data": {
      "text/html": [
       "<div>\n",
       "<style scoped>\n",
       "    .dataframe tbody tr th:only-of-type {\n",
       "        vertical-align: middle;\n",
       "    }\n",
       "\n",
       "    .dataframe tbody tr th {\n",
       "        vertical-align: top;\n",
       "    }\n",
       "\n",
       "    .dataframe thead th {\n",
       "        text-align: right;\n",
       "    }\n",
       "</style>\n",
       "<table border=\"1\" class=\"dataframe\">\n",
       "  <thead>\n",
       "    <tr style=\"text-align: right;\">\n",
       "      <th>AHD</th>\n",
       "      <th>0</th>\n",
       "      <th>1</th>\n",
       "    </tr>\n",
       "    <tr>\n",
       "      <th>Sex</th>\n",
       "      <th></th>\n",
       "      <th></th>\n",
       "    </tr>\n",
       "  </thead>\n",
       "  <tbody>\n",
       "    <tr>\n",
       "      <th>0</th>\n",
       "      <td>72</td>\n",
       "      <td>25</td>\n",
       "    </tr>\n",
       "    <tr>\n",
       "      <th>1</th>\n",
       "      <td>92</td>\n",
       "      <td>114</td>\n",
       "    </tr>\n",
       "  </tbody>\n",
       "</table>\n",
       "</div>"
      ],
      "text/plain": [
       "AHD   0    1\n",
       "Sex         \n",
       "0    72   25\n",
       "1    92  114"
      ]
     },
     "execution_count": 4,
     "metadata": {},
     "output_type": "execute_result"
    }
   ],
   "source": [
    "pd.crosstab(df_heart['Sex'],df_heart['AHD'])\n"
   ]
  },
  {
   "cell_type": "code",
   "execution_count": 5,
   "metadata": {},
   "outputs": [
    {
     "data": {
      "text/html": [
       "<div>\n",
       "<style scoped>\n",
       "    .dataframe tbody tr th:only-of-type {\n",
       "        vertical-align: middle;\n",
       "    }\n",
       "\n",
       "    .dataframe tbody tr th {\n",
       "        vertical-align: top;\n",
       "    }\n",
       "\n",
       "    .dataframe thead th {\n",
       "        text-align: right;\n",
       "    }\n",
       "</style>\n",
       "<table border=\"1\" class=\"dataframe\">\n",
       "  <thead>\n",
       "    <tr style=\"text-align: right;\">\n",
       "      <th>AHD</th>\n",
       "      <th>0</th>\n",
       "      <th>1</th>\n",
       "    </tr>\n",
       "    <tr>\n",
       "      <th>Thal</th>\n",
       "      <th></th>\n",
       "      <th></th>\n",
       "    </tr>\n",
       "  </thead>\n",
       "  <tbody>\n",
       "    <tr>\n",
       "      <th>fixed</th>\n",
       "      <td>6</td>\n",
       "      <td>12</td>\n",
       "    </tr>\n",
       "    <tr>\n",
       "      <th>normal</th>\n",
       "      <td>129</td>\n",
       "      <td>37</td>\n",
       "    </tr>\n",
       "    <tr>\n",
       "      <th>reversable</th>\n",
       "      <td>28</td>\n",
       "      <td>89</td>\n",
       "    </tr>\n",
       "  </tbody>\n",
       "</table>\n",
       "</div>"
      ],
      "text/plain": [
       "AHD           0   1\n",
       "Thal               \n",
       "fixed         6  12\n",
       "normal      129  37\n",
       "reversable   28  89"
      ]
     },
     "execution_count": 5,
     "metadata": {},
     "output_type": "execute_result"
    }
   ],
   "source": [
    "pd.crosstab(df_heart['Thal'],df_heart['AHD'])\n"
   ]
  },
  {
   "cell_type": "code",
   "execution_count": 6,
   "metadata": {},
   "outputs": [
    {
     "data": {
      "text/html": [
       "<div>\n",
       "<style scoped>\n",
       "    .dataframe tbody tr th:only-of-type {\n",
       "        vertical-align: middle;\n",
       "    }\n",
       "\n",
       "    .dataframe tbody tr th {\n",
       "        vertical-align: top;\n",
       "    }\n",
       "\n",
       "    .dataframe thead th {\n",
       "        text-align: right;\n",
       "    }\n",
       "</style>\n",
       "<table border=\"1\" class=\"dataframe\">\n",
       "  <thead>\n",
       "    <tr style=\"text-align: right;\">\n",
       "      <th>AHD</th>\n",
       "      <th>0</th>\n",
       "      <th>1</th>\n",
       "    </tr>\n",
       "    <tr>\n",
       "      <th>ChestPain</th>\n",
       "      <th></th>\n",
       "      <th></th>\n",
       "    </tr>\n",
       "  </thead>\n",
       "  <tbody>\n",
       "    <tr>\n",
       "      <th>asymptomatic</th>\n",
       "      <td>39</td>\n",
       "      <td>105</td>\n",
       "    </tr>\n",
       "    <tr>\n",
       "      <th>nonanginal</th>\n",
       "      <td>68</td>\n",
       "      <td>18</td>\n",
       "    </tr>\n",
       "    <tr>\n",
       "      <th>nontypical</th>\n",
       "      <td>41</td>\n",
       "      <td>9</td>\n",
       "    </tr>\n",
       "    <tr>\n",
       "      <th>typical</th>\n",
       "      <td>16</td>\n",
       "      <td>7</td>\n",
       "    </tr>\n",
       "  </tbody>\n",
       "</table>\n",
       "</div>"
      ],
      "text/plain": [
       "AHD            0    1\n",
       "ChestPain            \n",
       "asymptomatic  39  105\n",
       "nonanginal    68   18\n",
       "nontypical    41    9\n",
       "typical       16    7"
      ]
     },
     "execution_count": 6,
     "metadata": {},
     "output_type": "execute_result"
    }
   ],
   "source": [
    "pd.crosstab(df_heart['ChestPain'],df_heart['AHD'])\n"
   ]
  },
  {
   "cell_type": "code",
   "execution_count": 7,
   "metadata": {},
   "outputs": [
    {
     "data": {
      "image/png": "[encoded data removed]",
      "text/plain": [
       "<Figure size 432x288 with 1 Axes>"
      ]
     },
     "metadata": {
      "needs_background": "light"
     },
     "output_type": "display_data"
    }
   ],
   "source": [
    "plt.hist(df_heart['Age'][df_heart['AHD']==1])\n",
    "plt.hist(df_heart['Age'][df_heart['AHD']==0],alpha=0.5)\n",
    "plt.show()"
   ]
  },
  {
   "cell_type": "code",
   "execution_count": 8,
   "metadata": {},
   "outputs": [
    {
     "data": {
      "image/png": "[encoded data removed]",
      "text/plain": [
       "<Figure size 432x288 with 1 Axes>"
      ]
     },
     "metadata": {
      "needs_background": "light"
     },
     "output_type": "display_data"
    }
   ],
   "source": [
    "plt.hist(df_heart['MaxHR'][df_heart['AHD']==1])\n",
    "plt.hist(df_heart['MaxHR'][df_heart['AHD']==0],alpha=0.5)\n",
    "plt.show()"
   ]
  },
  {
   "cell_type": "markdown",
   "metadata": {},
   "source": [
    "---"
   ]
  },
  {
   "cell_type": "markdown",
   "metadata": {},
   "source": [
    "## Part 1: $k$-NN Classification\n",
    "\n",
    "Several [*k*-nn classification models](https://scikit-learn.org/stable/modules/generated/sklearn.neighbors.KNeighborsClassifier.html) using sklearn are fit and plotted below, using `MaxHR` as the sole predictor:"
   ]
  },
  {
   "cell_type": "code",
   "execution_count": 9,
   "metadata": {},
   "outputs": [
    {
     "data": {
      "image/png": "[encoded data removed]",
      "text/plain": [
       "<Figure size 432x288 with 1 Axes>"
      ]
     },
     "metadata": {
      "needs_background": "light"
     },
     "output_type": "display_data"
    }
   ],
   "source": [
    "data_x = df_heart[['MaxHR']]\n",
    "data_y = df_heart['AHD']\n",
    "\n",
    "knn1 = KNeighborsClassifier(n_neighbors=1)\n",
    "knn10 = KNeighborsClassifier(n_neighbors=10)\n",
    "knn50 = KNeighborsClassifier(n_neighbors=50)\n",
    "knn150 = KNeighborsClassifier(n_neighbors=150)\n",
    "\n",
    "knn1.fit(data_x, data_y);\n",
    "knn10.fit(data_x, data_y);\n",
    "knn50.fit(data_x, data_y);\n",
    "knn150.fit(data_x, data_y);\n",
    "\n",
    "\n",
    "fig = plt.figure()\n",
    "fig.patch.set_alpha(0.0)\n",
    "plt.xkcd(scale=0.1, length=0.0)\n",
    "plt.gcf().subplots_adjust(bottom=0.20, left = 0.16, right=0.86)\n",
    "\n",
    "\n",
    "x=np.linspace(np.min(data_x),np.max(data_x),500)\n",
    "yhat1 = knn1.predict(x)\n",
    "yhat10 = knn10.predict(x)\n",
    "yhat50 = knn50.predict(x)\n",
    "yhat150 = knn150.predict(x)\n",
    "\n",
    "plt.plot(data_x, data_y, 'o' ,alpha=0.1, label='Data')\n",
    "plt.plot(x,yhat1, label='knn1')\n",
    "plt.plot(x,yhat10, label='knn10')\n",
    "plt.plot(x,yhat50, label='knn50')\n",
    "plt.plot(x,yhat150, label='knn150')\n",
    "\n",
    "plt.legend()\n",
    "\n",
    "plt.xlabel(\"MaxHR\")\n",
    "plt.ylabel(\"Heart disease (AHD)\")\n",
    "\n",
    "plt.show()\n"
   ]
  },
  {
   "cell_type": "markdown",
   "metadata": {},
   "source": [
    "**Q1.1** Interpret these results: what is this plot showing?  How useful is it?  What would be a better plot to visualize the predictions?"
   ]
  },
  {
   "cell_type": "markdown",
   "metadata": {},
   "source": [
    "*your asnwer here*"
   ]
  },
  {
   "cell_type": "markdown",
   "metadata": {},
   "source": [
    "**Q1.2** Create a similar plot as above, but instead use the predicted probabilities of success.  Interpret this plot: which model seems to be most appropriate?"
   ]
  },
  {
   "cell_type": "code",
   "execution_count": null,
   "metadata": {},
   "outputs": [],
   "source": [
    "######\n",
    "# your code here\n",
    "######\n",
    "\n"
   ]
  },
  {
   "cell_type": "markdown",
   "metadata": {},
   "source": [
    "$k$-NN classification can also be applied to multiple predictors at once:"
   ]
  },
  {
   "cell_type": "code",
   "execution_count": null,
   "metadata": {},
   "outputs": [],
   "source": [
    "#two predictors\n",
    "\n",
    "data_x = df_heart[['MaxHR','Age']]\n",
    "\n",
    "knn1.fit(data_x, data_y);\n",
    "knn10.fit(data_x, data_y);\n",
    "knn50.fit(data_x, data_y);\n",
    "knn150.fit(data_x, data_y);\n",
    "\n",
    "print(knn1.score(data_x, data_y))\n",
    "print(knn10.score(data_x, data_y))\n",
    "print(knn50.score(data_x, data_y))\n",
    "print(knn150.score(data_x, data_y))"
   ]
  },
  {
   "cell_type": "markdown",
   "metadata": {},
   "source": [
    "**Q1.3** Which predictor has more influence on the model above?  How could we fix this 'issue'?  Refit knn10 with the issue resolved (call it `knn10_fixed`)."
   ]
  },
  {
   "cell_type": "markdown",
   "metadata": {},
   "source": [
    "*your answer here* \n",
    "\n"
   ]
  },
  {
   "cell_type": "code",
   "execution_count": null,
   "metadata": {},
   "outputs": [],
   "source": [
    "from sklearn.preprocessing import StandardScaler\n",
    "\n",
    "######\n",
    "# your code here\n",
    "######\n",
    "\n"
   ]
  },
  {
   "cell_type": "markdown",
   "metadata": {},
   "source": [
    "In order to plot prediction on 2-D predictor space, some work needs to be done (several ways to do this).  This is done for you "
   ]
  },
  {
   "cell_type": "code",
   "execution_count": null,
   "metadata": {},
   "outputs": [],
   "source": [
    "n = 100\n",
    "\n",
    "x1=np.linspace(np.min(df_heart[['MaxHR']]),np.max(df_heart[['MaxHR']]),n)\n",
    "x2=np.linspace(np.min(df_heart[['Age']]),np.max(df_heart[['Age']]),n)\n",
    "x1v, x2v = np.meshgrid(x1, x2)\n",
    "\n",
    "# This is how we would typically do the prediction (have a vector of yhats)\n",
    "#yhat10 = knn10.predict(np.array([x1v.flatten(),x2v.flatten()]).reshape(-1,2))\n",
    "\n",
    "# To do the predictions and keep the yhats on 2-D (to match the dummy predictor shapes), use this\n",
    "yhat50 = knn50.predict_proba(np.c_[x1v.ravel(), x2v.ravel()])[:,1]\n",
    "\n"
   ]
  },
  {
   "cell_type": "code",
   "execution_count": null,
   "metadata": {},
   "outputs": [],
   "source": [
    "#plt.scatter(x1v.flatten(),x2v.flatten(),c=yhat10)\n",
    "plt.pcolormesh(x1v, x2v, yhat50.reshape(x1v.shape)) #, cmap=cmap_light\n",
    "plt.show()"
   ]
  },
  {
   "cell_type": "code",
   "execution_count": null,
   "metadata": {},
   "outputs": [],
   "source": [
    "#plt.scatter(x1v.flatten(),x2v.flatten(),c=yhat10)\n",
    "yhat50 = knn50.predict(np.c_[x1v.ravel(), x2v.ravel()])\n",
    "plt.pcolormesh(x1v, x2v, yhat50.reshape(x1v.shape)) #, cmap=cmap_light\n",
    "plt.show()"
   ]
  },
  {
   "cell_type": "markdown",
   "metadata": {},
   "source": [
    "**Q1.4** Recreate the plot above using `knn10_fixed`.  What differences do you notice?  How do these plots compare to what plot would look like from a logistic regression model?\n",
    "\n",
    "Hint: make sure you reapply your scaler on the X matrix when doing the predictions."
   ]
  },
  {
   "cell_type": "code",
   "execution_count": null,
   "metadata": {},
   "outputs": [],
   "source": [
    "######\n",
    "# your code here\n",
    "######\n",
    "\n"
   ]
  },
  {
   "cell_type": "markdown",
   "metadata": {},
   "source": [
    "It has a slightly different picture, but the same general pattern.  Note the logistic regression model (without interactions) would be a straight line.  See below."
   ]
  },
  {
   "cell_type": "code",
   "execution_count": null,
   "metadata": {},
   "outputs": [],
   "source": [
    "logit = LogisticRegression(C=10000).fit(df_heart[['MaxHR','Age']], df_heart['AHD'])\n",
    "phat_logit = logit.predict_proba(np.c_[x1v.ravel(), x2v.ravel()])[:,1]\n",
    "yhat_logit = logit.predict(np.c_[x1v.ravel(), x2v.ravel()])\n",
    "\n",
    "plt.pcolormesh(x1v, x2v, yhat_logit.reshape(x1v.shape)) \n",
    "plt.show()"
   ]
  },
  {
   "cell_type": "code",
   "execution_count": null,
   "metadata": {},
   "outputs": [],
   "source": [
    "# Don't forget to split into train and test  (or better yet, use cross-validation) \n",
    "# generally speaking to evaluate model performance or to determine what k is actually best!"
   ]
  },
  {
   "cell_type": "markdown",
   "metadata": {},
   "source": [
    "---"
   ]
  },
  {
   "cell_type": "markdown",
   "metadata": {},
   "source": [
    "## Part 2: Principal Components Analysis (PCA) "
   ]
  },
  {
   "cell_type": "markdown",
   "metadata": {},
   "source": [
    "**Q2.1** Just a sidebar (and a curiosity), what happens when two of the identical predictor is used in logistic regression?  Is an error created?  Should one be?  Investigate by predicting `AHD` from two copies of `Age`, and compare to the simple logistic regression model with `Age` alone"
   ]
  },
  {
   "cell_type": "code",
   "execution_count": null,
   "metadata": {},
   "outputs": [],
   "source": [
    "y = df_heart['AHD']\n",
    "\n",
    "logit1 = LogisticRegression(C=1000000,solver=\"lbfgs\").fit(df_heart[['Age']],y)\n",
    "\n",
    "# investigating what happens when two identical predictors are used\n",
    "\n",
    "######\n",
    "# your code here\n",
    "######\n",
    "\n",
    "logit2 = LogisticRegression(C=1000000,solver=\"lbfgs\").fit(df_heart[['Age','Age','Age']],y)\n",
    "\n",
    "print(\"The coef estimate for Age (when in the model once):\",logit1.coef_)\n",
    "print(\"The coef estimate for Age (when in the model twice):\",logit2.coef_)"
   ]
  },
  {
   "cell_type": "markdown",
   "metadata": {},
   "source": [
    "We will apply PCA to the heart dataset when there are just 4 predictors considered (remember: PCA is used when dimensionality is high (lots of predictors), but this will help us get our heads around what is going on):"
   ]
  },
  {
   "cell_type": "code",
   "execution_count": null,
   "metadata": {},
   "outputs": [],
   "source": [
    "# For pedagogical purposes, let's simplify our lives and use just 4 predictors\n",
    "X = df_heart[['Age','RestBP','Chol','MaxHR']]\n",
    "y = df_heart['AHD']\n",
    "X.describe()"
   ]
  },
  {
   "cell_type": "markdown",
   "metadata": {},
   "source": [
    "First let's fit the full logistic regression model to predict `AHD` from the 4 predictors above.\n",
    "\n",
    "Remember: PCA is an approach to handling the predictors, so it does not matter if we are using it for a regression or classification type problem."
   ]
  },
  {
   "cell_type": "code",
   "execution_count": null,
   "metadata": {},
   "outputs": [],
   "source": [
    "#fit the 'full' model on the 4 predictors. and print out the coefficients\n",
    "logit_full = LogisticRegression(C=1000000,solver=\"lbfgs\").fit(X,y)\n",
    "\n",
    "beta = logit_full.coef_[0]\n",
    "\n",
    "print(beta)"
   ]
  },
  {
   "cell_type": "markdown",
   "metadata": {},
   "source": [
    "**Q2.2** Is there any evidence of multicollinearity in the set of predictors?  How do you know?  How will PCA handle these correlations?"
   ]
  },
  {
   "cell_type": "markdown",
   "metadata": {},
   "source": [
    "*your answer here*"
   ]
  },
  {
   "cell_type": "markdown",
   "metadata": {},
   "source": [
    "Next we apply the [PCA transformation](https://scikit-learn.org/stable/modules/generated/sklearn.decomposition.PCA.html) in a few steps, and show some of the results below:"
   ]
  },
  {
   "cell_type": "code",
   "execution_count": null,
   "metadata": {},
   "outputs": [],
   "source": [
    "# create/fit the 'full' pca transformation\n",
    "pca = PCA().fit(X)\n",
    "\n",
    "# apply the pca transformation to the full predictor set\n",
    "pcaX = pca.transform(X)\n",
    "\n",
    "# convert to a data frame\n",
    "pcaX_df = pd.DataFrame(pcaX, columns=[['PCA1' , 'PCA2', 'PCA3', 'PCA4']])\n",
    "\n",
    "# here are the weighting (eigen-vectors) of the variables (first 2 at least)\n",
    "print(\"First PCA Component (w1):\",pca.components_[0,:])\n",
    "print(\"Second PCA Component (w2):\",pca.components_[1,:])\n",
    "\n",
    "# here is the variance explained:\n",
    "print(\"Variance explained by each component:\",pca.explained_variance_ratio_)"
   ]
  },
  {
   "cell_type": "code",
   "execution_count": null,
   "metadata": {},
   "outputs": [],
   "source": [
    "print(pca.components_.shape)\n",
    "print(pcaX.shape, X.shape)"
   ]
  },
  {
   "cell_type": "markdown",
   "metadata": {},
   "source": [
    "**Q2.3** Interpret the results above.  What doss $w_1$ represent?  Why do the values make sense?  What does it's values squared sum up to?  Why does this make sense?"
   ]
  },
  {
   "cell_type": "markdown",
   "metadata": {},
   "source": [
    "*your answer here*"
   ]
  },
  {
   "cell_type": "code",
   "execution_count": null,
   "metadata": {},
   "outputs": [],
   "source": [
    "######\n",
    "# your code here\n",
    "######\n",
    "pca.components_[0,:]"
   ]
  },
  {
   "cell_type": "markdown",
   "metadata": {},
   "source": [
    "It is common for a model with high dimensional data (lots of predictors) to be plotted along the first 2 PCA components (with the classification boundaries added).  Below is the scatter plot for these data (without a classificaiton boundary, since we do not have a model yet):"
   ]
  },
  {
   "cell_type": "code",
   "execution_count": null,
   "metadata": {},
   "outputs": [],
   "source": [
    "# Plot the response over the first 2 PCA component vectors\n",
    "\n",
    "plt.scatter(pcaX_df[['PCA1']][y==0],pcaX_df[['PCA2']][y==0])\n",
    "plt.scatter(pcaX_df[['PCA1']][y==1],pcaX_df[['PCA2']][y==1])\n",
    "\n",
    "plt.legend([\"AHD = No\",\"AHD = Yes\"])\n",
    "plt.xlabel(\"First PCA Component Vector (Z1)\")\n",
    "plt.ylabel(\"Second PCA Component Vector (Z2)\");\n"
   ]
  },
  {
   "cell_type": "markdown",
   "metadata": {},
   "source": [
    "**Q2.4** What would a classification boundary look like if a logistic regression model were fit using the first 2 principal components as the predictors?  Does there appear to be good potential here?"
   ]
  },
  {
   "cell_type": "markdown",
   "metadata": {},
   "source": [
    "*your answer here*"
   ]
  },
  {
   "cell_type": "markdown",
   "metadata": {},
   "source": [
    "Below is the result of the PCR-1 (logistic) to predict `AHD` from the first principal component vector."
   ]
  },
  {
   "cell_type": "code",
   "execution_count": null,
   "metadata": {},
   "outputs": [],
   "source": [
    "logit_pcr1 = LogisticRegression(C=1000000,solver=\"lbfgs\").fit(pcaX_df[['PCA1']],y)\n",
    "\n",
    "print(\"Intercept from simple PCR-Logistic:\",logit_pcr1.intercept_)\n",
    "print(\"'Slope' from simple PCR-Logistic:\", logit_pcr1.coef_)\n",
    "\n",
    "print(\"First PCA Component (w1):\",pca.components_[0:1,:])\n"
   ]
  },
  {
   "cell_type": "markdown",
   "metadata": {},
   "source": [
    "**Q2.5** What does this PCR-1 model tell us about how the predictors relate to the response (aka, estimate the coefficient(s) in the original predictor space)?  Is it truly a simple logistic regression model in the original predictor space?"
   ]
  },
  {
   "cell_type": "code",
   "execution_count": null,
   "metadata": {},
   "outputs": [],
   "source": [
    "######\n",
    "# your code here\n",
    "######"
   ]
  },
  {
   "cell_type": "markdown",
   "metadata": {},
   "source": [
    "*your answer here*"
   ]
  },
  {
   "cell_type": "markdown",
   "metadata": {},
   "source": [
    "Here is the above claculation for all 4 PCR logistic regressions, and then plotted on a pretty plot:"
   ]
  },
  {
   "cell_type": "code",
   "execution_count": null,
   "metadata": {},
   "outputs": [],
   "source": [
    "# Fit the other 3 PCRs on the rest of the 4 predictors\n",
    "\n",
    "logit_pcr2 = LogisticRegression(C=1000000,solver=\"lbfgs\").fit(pcaX_df[['PCA1','PCA2']],y)\n",
    "logit_pcr3 = LogisticRegression(C=1000000,solver=\"lbfgs\").fit(pcaX_df[['PCA1','PCA2','PCA3']],y)\n",
    "logit_pcr4 = LogisticRegression(C=1000000,solver=\"lbfgs\").fit(pcaX_df[['PCA1','PCA2','PCA3','PCA4']],y)\n",
    "\n",
    "pcr1=(logit_pcr1.coef_*np.transpose(pca.components_[0:1,:])).sum(axis=1)\n",
    "pcr2=(logit_pcr2.coef_*np.transpose(pca.components_[0:2,:])).sum(axis=1)\n",
    "pcr3=(logit_pcr3.coef_*np.transpose(pca.components_[0:3,:])).sum(axis=1)\n",
    "pcr4=(logit_pcr4.coef_*np.transpose(pca.components_[0:4,:])).sum(axis=1)\n",
    "\n",
    "results = np.vstack((pcr1,pcr2,pcr3,pcr4,beta))\n",
    "print(results)"
   ]
  },
  {
   "cell_type": "code",
   "execution_count": null,
   "metadata": {},
   "outputs": [],
   "source": [
    "plt.plot(['PCR1' , 'PCR2', 'PCR3', 'PCR4', 'Logistic'],results)\n",
    "\n",
    "plt.ylabel(\"Back-calculated Beta Coefficients\");\n",
    "\n",
    "plt.legend(X.columns);"
   ]
  },
  {
   "cell_type": "markdown",
   "metadata": {},
   "source": [
    "**Q2.6** Interpret the plot above.  Specifically, compare how each PCA vector \"contributes\" to the original logistic regression model using all 4 original predictors.  How Does PCR-4 compare to the original logistic regression model (in estimated coefficients)?"
   ]
  },
  {
   "cell_type": "markdown",
   "metadata": {},
   "source": [
    "*your answer here*"
   ]
  },
  {
   "cell_type": "markdown",
   "metadata": {},
   "source": [
    "All of this PCA work should have been done using the standardized versions of the predictors.  Below is the code that does exactly that:"
   ]
  },
  {
   "cell_type": "code",
   "execution_count": null,
   "metadata": {},
   "outputs": [],
   "source": [
    "scaler = sk.preprocessing.StandardScaler()\n",
    "scaler.fit(X)\n",
    "Z = scaler.transform(X)\n",
    "pca = PCA(n_components=4).fit(Z)\n",
    "pcaZ = pca.transform(Z)\n",
    "pcaZ_df = pd.DataFrame(pcaZ, columns=[['PCA1' , 'PCA2', 'PCA3', 'PCA4']])\n",
    "\n",
    "print(\"First PCA Component (w1):\",pca.components_[0,:])\n",
    "print(\"Second PCA Component (w2):\",pca.components_[1,:])"
   ]
  },
  {
   "cell_type": "code",
   "execution_count": null,
   "metadata": {},
   "outputs": [],
   "source": [
    "# Plot the response over the first 2 PCA component vectors\n",
    "\n",
    "plt.scatter(pcaZ_df[['PCA1']][y==0],pcaZ_df[['PCA2']][y==0])\n",
    "plt.scatter(pcaZ_df[['PCA1']][y==1],pcaZ_df[['PCA2']][y==1])\n",
    "\n",
    "plt.legend([\"AHD = No\",\"AHD = Yes\"])\n",
    "plt.xlabel(\"First PCA Component Vector (Z1) based on standardized data\")\n",
    "plt.ylabel(\"Second PCA Component Vector (Z2) based on standardized data\");\n"
   ]
  },
  {
   "cell_type": "code",
   "execution_count": null,
   "metadata": {},
   "outputs": [],
   "source": [
    "#fit the 'full' model on the 4 predictors. and print out the coefficients\n",
    "logit_full = LogisticRegression(C=1000000,solver=\"lbfgs\").fit(Z,y)\n",
    "\n",
    "\n",
    "betaZ = logit_full.coef_[0]\n",
    "\n",
    "print(\"Logistic coef. on standardized predictors:\",betaZ)"
   ]
  },
  {
   "cell_type": "code",
   "execution_count": null,
   "metadata": {
    "scrolled": true
   },
   "outputs": [],
   "source": [
    "# Fit the PCR\n",
    "logit_pcr1Z = LogisticRegression(C=1000000,solver=\"lbfgs\").fit(pcaZ_df[['PCA1']],y)\n",
    "logit_pcr2Z = LogisticRegression(C=1000000,solver=\"lbfgs\").fit(pcaZ_df[['PCA1','PCA2']],y)\n",
    "logit_pcr3Z = LogisticRegression(C=1000000,solver=\"lbfgs\").fit(pcaZ_df[['PCA1','PCA2','PCA3']],y)\n",
    "logit_pcr4Z = LogisticRegression(C=1000000,solver=\"lbfgs\").fit(pcaZ_df[['PCA1','PCA2','PCA3','PCA4']],y)\n",
    "\n",
    "pcr1Z=(logit_pcr1Z.coef_*np.transpose(pca.components_[0:1,:])).sum(axis=1)\n",
    "pcr2Z=(logit_pcr2Z.coef_*np.transpose(pca.components_[0:2,:])).sum(axis=1)\n",
    "pcr3Z=(logit_pcr3Z.coef_*np.transpose(pca.components_[0:3,:])).sum(axis=1)\n",
    "pcr4Z=(logit_pcr4Z.coef_*np.transpose(pca.components_[0:4,:])).sum(axis=1)\n",
    "\n",
    "resultsZ = np.vstack((pcr1Z,pcr2Z,pcr3Z,pcr4Z,betaZ))\n",
    "print(resultsZ)\n",
    "\n",
    "plt.plot(['PCR1-Z' , 'PCR2-Z', 'PCR3-Z', 'PCR4-Z', 'Logistic'],resultsZ)\n",
    "\n",
    "plt.ylabel(\"Back-calculated Beta Coefficients\");\n",
    "\n",
    "plt.legend(X.columns);"
   ]
  },
  {
   "cell_type": "markdown",
   "metadata": {},
   "source": [
    "**Q2.7** Compare this plot to the previous one; why does this plot make sense?.  What does this illustrate?  "
   ]
  },
  {
   "cell_type": "markdown",
   "metadata": {},
   "source": [
    "*your answer here*"
   ]
  },
  {
   "cell_type": "markdown",
   "metadata": {},
   "source": [
    "---"
   ]
  },
  {
   "cell_type": "markdown",
   "metadata": {},
   "source": [
    "## Part 3: Multiclass using Irises"
   ]
  },
  {
   "cell_type": "markdown",
   "metadata": {},
   "source": [
    "This problem provides code to analyze a multiclass problem: using the [R.A. Fisher's classic Iris dataset](https://en.wikipedia.org/wiki/Iris_flower_data_set)."
   ]
  },
  {
   "cell_type": "code",
   "execution_count": null,
   "metadata": {},
   "outputs": [],
   "source": [
    "#read in the dataset from sklearn and explore:\n",
    "from sklearn import datasets\n",
    "raw = datasets.load_iris()\n",
    "iris = pd.DataFrame(raw['data'],columns=raw['feature_names'])\n",
    "iris['type'] = raw['target'] \n",
    "\n",
    "# Ideally we'd split into train and test if prediction was important...but this is just for learning purposes\n",
    "# iris_train, iris_test, y_train, y_test = train_test_split(iris, test_size=0.3, random_state=109, shuffle=True)\n",
    "iris.head()"
   ]
  },
  {
   "cell_type": "code",
   "execution_count": null,
   "metadata": {},
   "outputs": [],
   "source": [
    "# Let's see how the sepal length varies across types\n",
    "sns.violinplot(y=iris['sepal length (cm)'], x=iris['type'], split=True);"
   ]
  },
  {
   "cell_type": "code",
   "execution_count": null,
   "metadata": {},
   "outputs": [],
   "source": [
    "# Let's see how the sepal width varies across types\n",
    "sns.violinplot(y=iris['sepal width (cm)'], x=iris['type'], split=True);"
   ]
  },
  {
   "cell_type": "code",
   "execution_count": null,
   "metadata": {},
   "outputs": [],
   "source": [
    "# Fitting an ovr logistic regression (unregularized) to predict type with sepal length and width\n",
    "logit_ovr = LogisticRegression(penalty='none', multi_class='ovr',max_iter = 1000).fit(\n",
    "    iris[['sepal length (cm)','sepal width (cm)']], iris['type'])\n",
    "print(logit_ovr.intercept_)\n",
    "print(logit_ovr.coef_)\n"
   ]
  },
  {
   "cell_type": "markdown",
   "metadata": {},
   "source": [
    "**Q3.1** Interpret the coefficients.  Why are there 3 sets? "
   ]
  },
  {
   "cell_type": "markdown",
   "metadata": {},
   "source": [
    "*your answer here*"
   ]
  },
  {
   "cell_type": "code",
   "execution_count": null,
   "metadata": {},
   "outputs": [],
   "source": [
    "# perform the predicted probability calculations\n",
    "print(logit_ovr.predict_proba(iris[['sepal length (cm)','sepal width (cm)']]))\n",
    "\n",
    "#and the predicted classes\n",
    "logit_ovr.predict(iris[['sepal length (cm)','sepal width (cm)']])"
   ]
  },
  {
   "cell_type": "code",
   "execution_count": null,
   "metadata": {},
   "outputs": [],
   "source": [
    "# and the overall classification accuracy for the ovr model:\n",
    "print(logit_ovr.score(iris[['sepal length (cm)','sepal width (cm)']],iris['type']))"
   ]
  },
  {
   "cell_type": "code",
   "execution_count": null,
   "metadata": {},
   "outputs": [],
   "source": [
    "# here's the multinomial version\n",
    "logit_multi = LogisticRegression(penalty='none', multi_class='multinomial',max_iter = 1000).fit(\n",
    "    iris[['sepal length (cm)','sepal width (cm)']], iris['type'])\n",
    "print(logit_multi.intercept_)\n",
    "print(logit_multi.coef_)"
   ]
  },
  {
   "cell_type": "code",
   "execution_count": null,
   "metadata": {},
   "outputs": [],
   "source": [
    "# and the overall classification accuracy for the multinomial model:\n",
    "print(logit_multi.score(iris[['sepal length (cm)','sepal width (cm)']],iris['type']))"
   ]
  },
  {
   "cell_type": "code",
   "execution_count": null,
   "metadata": {},
   "outputs": [],
   "source": [
    "# Plot the decision boundary. For that, we will assign a color to each\n",
    "# point in the mesh [x_min, x_max]x[y_min, y_max].\n",
    "x1_range = iris['sepal length (cm)'].max() - iris['sepal length (cm)'].min()\n",
    "x2_range = iris['sepal width (cm)'].max() - iris['sepal width (cm)'].min()\n",
    "x1_min, x1_max = iris['sepal length (cm)'].min()-0.1*x1_range, iris['sepal length (cm)'].max() +0.1*x1_range\n",
    "x2_min, x2_max = iris['sepal width (cm)'].min()-0.1*x2_range, iris['sepal width (cm)'].max() + 0.1*x2_range\n",
    "\n",
    "step = .05 \n",
    "x1x, x2x = np.meshgrid(np.arange(x1_min, x1_max, step), np.arange(x2_min, x2_max, step))\n",
    "y_hat_ovr = logit_ovr.predict(np.c_[x1x.ravel(), x2x.ravel()])\n",
    "y_hat_multi = logit_multi.predict(np.c_[x1x.ravel(), x2x.ravel()])\n",
    "\n",
    "\n",
    "\n",
    "fig, (ax1, ax2) = plt.subplots(1, 2,  figsize=(15, 6))\n",
    "\n",
    "ax1.pcolormesh(x1x, x2x, y_hat_ovr.reshape(x1x.shape), cmap=plt.cm.Paired,alpha = 0.5)\n",
    "ax1.scatter(iris['sepal length (cm)'], iris['sepal width (cm)'], c=iris['type'], edgecolors='k', cmap=plt.cm.Paired)\n",
    "ax1.set_title(\"OVR Logistic Regression\")\n",
    "\n",
    "ax2.pcolormesh(x1x, x2x, y_hat_multi.reshape(x1x.shape), cmap=plt.cm.Paired,alpha = 0.5)\n",
    "ax2.scatter(iris['sepal length (cm)'], iris['sepal width (cm)'], c=iris['type'], edgecolors='k', cmap=plt.cm.Paired)\n",
    "ax2.set_title(\"Multinomial Logistic Regression\")\n",
    "\n",
    "plt.show()"
   ]
  },
  {
   "cell_type": "code",
   "execution_count": null,
   "metadata": {},
   "outputs": [],
   "source": [
    "# Fit a knn with k=5 model\n",
    "knn5 = KNeighborsClassifier(5).fit(iris[['sepal length (cm)','sepal width (cm)']], iris['type'])"
   ]
  },
  {
   "cell_type": "code",
   "execution_count": null,
   "metadata": {},
   "outputs": [],
   "source": [
    "# and the overall classification accuracy for the knn(5) model:\n",
    "print(knn5.score(iris[['sepal length (cm)','sepal width (cm)']],iris['type']))"
   ]
  },
  {
   "cell_type": "code",
   "execution_count": null,
   "metadata": {
    "scrolled": false
   },
   "outputs": [],
   "source": [
    "## Plot the decision boundary. \n",
    "\n",
    "y_hat_knn5 = knn5.predict(np.c_[x1x.ravel(), x2x.ravel()])\n",
    "\n",
    "fig, ax1 = plt.subplots(1, 1,  figsize=(8, 6))\n",
    "\n",
    "ax1.pcolormesh(x1x, x2x, y_hat_knn5.reshape(x1x.shape), cmap=plt.cm.Paired,alpha = 0.5)\n",
    "# Plot also the training points\n",
    "ax1.scatter(iris['sepal length (cm)'], iris['sepal width (cm)'], c=iris['type'], edgecolors='k', cmap=plt.cm.Paired)\n",
    "\n",
    "plt.show()"
   ]
  },
  {
   "cell_type": "markdown",
   "metadata": {},
   "source": [
    "**Q3.2** How do the plots of the 3 classification boundaries compare?  Which is the best choice?"
   ]
  },
  {
   "cell_type": "markdown",
   "metadata": {},
   "source": [
    "*your answer here*"
   ]
  }
 ],
 "metadata": {
  "anaconda-cloud": {},
  "kernelspec": {
   "display_name": "Python 3",
   "language": "python",
   "name": "python3"
  },
  "language_info": {
   "codemirror_mode": {
    "name": "ipython",
    "version": 3
   },
   "file_extension": ".py",
   "mimetype": "text/x-python",
   "name": "python",
   "nbconvert_exporter": "python",
   "pygments_lexer": "ipython3",
   "version": "3.7.10"
  }
 },
 "nbformat": 4,
 "nbformat_minor": 1
}
