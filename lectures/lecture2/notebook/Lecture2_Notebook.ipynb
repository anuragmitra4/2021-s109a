{
 "cells": [
  {
   "cell_type": "markdown",
   "metadata": {},
   "source": [
    "# <img style=\"float: left; padding-right: 10px; width: 45px\" src=\"https://github.com/Harvard-IACS/2021-s109a/blob/master/lectures/crest.png?raw=true\"> CS-S109A Introduction to Data Science \n",
    "\n",
    "## Lecture 2 (Pandas + Beautiful Soup)\n",
    "\n",
    "**Harvard University**<br>\n",
    "**Summer 2021**<br>\n",
    "**Instructors:** Kevin Rader<br>\n",
    "**Authors:** Rahul Dave, David Sondak, Will Claybaugh, Pavlos Protopapas, Chris Tanner, Kevin Rader\n",
    "\n",
    "---"
   ]
  },
  {
   "cell_type": "code",
   "execution_count": 1,
   "metadata": {},
   "outputs": [
    {
     "data": {
      "text/html": [
       "<style>\n",
       "blockquote { background: #AEDE94; }\n",
       "h1 { \n",
       "    padding-top: 25px;\n",
       "    padding-bottom: 25px;\n",
       "    text-align: left; \n",
       "    padding-left: 10px;\n",
       "    background-color: #DDDDDD; \n",
       "    color: black;\n",
       "}\n",
       "h2 { \n",
       "    padding-top: 10px;\n",
       "    padding-bottom: 10px;\n",
       "    text-align: left; \n",
       "    padding-left: 5px;\n",
       "    background-color: #EEEEEE; \n",
       "    color: black;\n",
       "}\n",
       "\n",
       "div.exercise {\n",
       "\tbackground-color: #ffcccc;\n",
       "\tborder-color: #E9967A; \t\n",
       "\tborder-left: 5px solid #800080; \n",
       "\tpadding: 0.5em;\n",
       "}\n",
       "\n",
       "div.exercise-r {\n",
       "\tbackground-color: #fce8e8;\n",
       "\tborder-color: #E9967A; \t\n",
       "\tborder-left: 5px solid #800080; \n",
       "\tpadding: 0.5em;\n",
       "}\n",
       "\n",
       "\n",
       "span.sub-q {\n",
       "\tfont-weight: bold;\n",
       "}\n",
       "div.theme {\n",
       "\tbackground-color: #DDDDDD;\n",
       "\tborder-color: #E9967A; \t\n",
       "\tborder-left: 5px solid #800080; \n",
       "\tpadding: 0.5em;\n",
       "\tfont-size: 18pt;\n",
       "}\n",
       "div.gc { \n",
       "\tbackground-color: #AEDE94;\n",
       "\tborder-color: #E9967A; \t \n",
       "\tborder-left: 5px solid #800080; \n",
       "\tpadding: 0.5em;\n",
       "\tfont-size: 12pt;\n",
       "}\n",
       "p.q1 { \n",
       "    padding-top: 5px;\n",
       "    padding-bottom: 5px;\n",
       "    text-align: left; \n",
       "    padding-left: 5px;\n",
       "    background-color: #EEEEEE; \n",
       "    color: black;\n",
       "}\n",
       "header {\n",
       "   padding-top: 35px;\n",
       "    padding-bottom: 35px;\n",
       "    text-align: left; \n",
       "    padding-left: 10px;\n",
       "    background-color: #DDDDDD; \n",
       "    color: black;\n",
       "}\n",
       "</style>\n",
       "\n"
      ],
      "text/plain": [
       "<IPython.core.display.HTML object>"
      ]
     },
     "execution_count": 1,
     "metadata": {},
     "output_type": "execute_result"
    }
   ],
   "source": [
    "## RUN THIS CELL TO GET THE RIGHT FORMATTING \n",
    "import requests\n",
    "from IPython.core.display import HTML\n",
    "styles = requests.get(\"https://raw.githubusercontent.com/Harvard-IACS/2018-CS109A/master/content/styles/cs109.css\").text\n",
    "HTML(styles)"
   ]
  },
  {
   "cell_type": "markdown",
   "metadata": {},
   "source": [
    "# Table of Contents \n",
    "<ol start=\"0\">\n",
    "<li> Learning Goals </li>\n",
    "<li> Data without Pandas </li>\n",
    "<li> Loading and Cleaning with Pandas  </li>\n",
    "<li> Combinng Data Sources </li>\n",
    "<li> Basic Scraping with Beautiful Soup </li>\n",
    "</ol>"
   ]
  },
  {
   "cell_type": "markdown",
   "metadata": {},
   "source": [
    "## Learning Goals\n",
    "\n",
    "This Jupyter notebook accompanies Lecture 2. By the end of this lecture, you should be able to:\n",
    "\n",
    "- Appreciate that base Python is not great for most data handling.\n",
    "- Understand why and how Pandas can be useful. \n",
    "- Use Pandas to:\n",
    "    - Load data into a DataFrame\n",
    "    - Access subsets of data based on column and row values\n",
    "    - Address missing values (e.g., `NaN`)\n",
    "    - Use `groupby()` to select sections of data.\n",
    "    - Plot DataFrames (e.g., barplot())\n",
    "- Use Beautiful Soup to download a webpage and all of its links, and begin to learn parse out tables, links, etc."
   ]
  },
  {
   "cell_type": "markdown",
   "metadata": {},
   "source": [
    "## Part 1: Processing Data without Pandas \n",
    "\n",
    "`../data/top50.csv` is a dataset found online (https://www.kaggle.com/leonardopena/top50spotify2019) that contains information about the 50 most popular songs on Spotify in 2019.\n",
    "\n",
    "Each row represents a distinct song.\n",
    "The columns (in order) are:\n",
    "```\n",
    "ID: a unique ID (i.e., 1-50)\n",
    "TrackName: Name of the Track\n",
    "ArtistName: Name of the Artist\n",
    "Genre: the genre of the track\n",
    "BeatsPerMinute: The tempo of the song.\n",
    "Energy: The energy of a song - the higher the value, the more energetic. song\n",
    "Danceability: The higher the value, the easier it is to dance to this song.\n",
    "Loudness: The higher the value, the louder the song.\n",
    "Liveness: The higher the value, the more likely the song is a live recording.\n",
    "Valence: The higher the value, the more positive mood for the song.\n",
    "Length: The duration of the song (in seconds).\n",
    "Acousticness: The higher the value, the more acoustic the song is.\n",
    "Speechiness: The higher the value, the more spoken words the song contains.\n",
    "Popularity: The higher the value, the more popular the song is.\n",
    "```"
   ]
  },
  {
   "cell_type": "markdown",
   "metadata": {},
   "source": [
    "![](fig/top50_screenshot.png) "
   ]
  },
  {
   "cell_type": "markdown",
   "metadata": {},
   "source": [
    "### Read and store `../data/top50.csv`\n",
    "\n",
    "**Q1.1:** Read in the `../data/top50.csv` file and store all of its contents into any data structure(s) that make the most sense to you, keeping in mind that you'd want to easily access any row or column.  Why does a dictionary make the most sense to use for data storage?"
   ]
  },
  {
   "cell_type": "code",
   "execution_count": 3,
   "metadata": {},
   "outputs": [
    {
     "ename": "SyntaxError",
     "evalue": "invalid syntax (<ipython-input-3-ede9522dcbca>, line 16)",
     "output_type": "error",
     "traceback": [
      "\u001b[0;36m  File \u001b[0;32m\"<ipython-input-3-ede9522dcbca>\"\u001b[0;36m, line \u001b[0;32m16\u001b[0m\n\u001b[0;31m    dataset.append(item_dict)\u001b[0m\n\u001b[0m          ^\u001b[0m\n\u001b[0;31mSyntaxError\u001b[0m\u001b[0;31m:\u001b[0m invalid syntax\n"
     ]
    }
   ],
   "source": [
    "f = open(\"../data/top50.csv\")\n",
    "column_names = f.readline().strip().split(\",\")[1:] # puts names in a list\n",
    "cleaned_column_names = [name for name in column_names] # removes the extraneous quotes\n",
    "cleaned_column_names.insert(0, \"ID\")\n",
    "\n",
    "dataset = []\n",
    "\n",
    "# iterates through each line of the .csv file\n",
    "for line in f:\n",
    "    attributes = line.strip().split(\",\")\n",
    "    \n",
    "    # constructs a new dictionary for each line, and\n",
    "    # appends this dictionary to the `dataset`;\n",
    "    # thus, the dataset is a list of dictionaries (1 dictionary per song)\n",
    "    item_dict = dict(zip(cleaned_column_names, attributes)\n",
    "    dataset.append(item_dict)\n",
    "\n",
    "    \n",
    "dataset[0:2]"
   ]
  },
  {
   "cell_type": "markdown",
   "metadata": {},
   "source": [
    "**Q1.2:** Write code to print all songs (Artist and Track name) that are longer than 4 minutes (240 seconds):"
   ]
  },
  {
   "cell_type": "code",
   "execution_count": null,
   "metadata": {},
   "outputs": [],
   "source": [
    "\n",
    "########\n",
    "# your code below: uncomment and fill in the ****\n",
    "########\n",
    "\n",
    "for song in dataset:\n",
    "     if int(****) > 240 :\n",
    "         print(song[****], \"by\", song[****], \"is\", **** ,\"seconds long\")\n",
    "        \n"
   ]
  },
  {
   "cell_type": "markdown",
   "metadata": {},
   "source": [
    "**Q1.3:** Write code to print the most popular song (or song(s) if there is a tie):"
   ]
  },
  {
   "cell_type": "code",
   "execution_count": null,
   "metadata": {
    "scrolled": true
   },
   "outputs": [],
   "source": [
    "########\n",
    "# your code below: uncomment and fill in the ****\n",
    "########\n",
    "\n",
    "max_score = -1\n",
    "most_populars = set()\n",
    "# for ***:\n",
    "#    if int(song[\"Popularity\"]) > max_score:\n",
    "#        most_populars = set([str(song[\"ArtistName\"] + \"-\" + song[\"TrackName\"])])\n",
    "#        max_score = int(****)\n",
    "    # elif ****:\n",
    "    #    most_populars.add(****)\n",
    "print(most_populars)\n",
    "\n",
    "\n"
   ]
  },
  {
   "cell_type": "markdown",
   "metadata": {},
   "source": [
    "**Q1.4:** How would you print the songs (and their attributes) in sorted order by their popularity (highest scoring ones first)?  No coding necessary."
   ]
  },
  {
   "cell_type": "markdown",
   "metadata": {},
   "source": [
    "*your answer here*"
   ]
  },
  {
   "cell_type": "markdown",
   "metadata": {},
   "source": [
    "**Q1.5**: How could you check for null/empty entries?  No coding necessary."
   ]
  },
  {
   "cell_type": "markdown",
   "metadata": {},
   "source": [
    "*your answer here*"
   ]
  },
  {
   "cell_type": "markdown",
   "metadata": {},
   "source": [
    "Often times, one dataset doesn't contain all of the information you are interested in -- in which case, you need to combine data from multiple files.\n",
    "\n",
    "**Q1.6:** Imagine we had another table (i.e., .csv file) below. How could we combine its data with our already-existing *dataset*?  No coding necessary."
   ]
  },
  {
   "cell_type": "markdown",
   "metadata": {},
   "source": [
    "*your answer here*"
   ]
  },
  {
   "cell_type": "markdown",
   "metadata": {},
   "source": [
    "## Part 2: Processing Data _with_ Pandas "
   ]
  },
  {
   "cell_type": "markdown",
   "metadata": {},
   "source": [
    "**Pandas** is an _open-source_ Python library designed for **data analysis and processing.** Being _open-sourced_ means that anyone can contribute to it (don't worry, a team of people vett all official updates to the library). Pandas allows for high-performance, easy-to-use data structures. Namely, instead of using N-dimensional arrays like NumPy (which are extremely fast, though), Pandas provides a 2D-table object calleda **DataFrame**.\n",
    "\n",
    "As a very gross simplification: **NumPy** is great for performing math operations with matrices, whereas **Pandas** is excellent for wrangling, processing, and understanding 2D data like spreadsheets (2D data like spreadsheets is very common and great).\n",
    "\n",
    "Let's get started with simple examples of how to use Pandas. We will continue with our ``top50.csv`` Spotify music data.\n",
    "\n",
    "First, we need to import pandas so that we have access to it. For typing convenience, we choose to rename it as ``pd``, which is common practice."
   ]
  },
  {
   "cell_type": "code",
   "execution_count": 58,
   "metadata": {},
   "outputs": [],
   "source": [
    "%matplotlib inline\n",
    "import numpy as np\n",
    "import matplotlib.pyplot as plt\n",
    "import pandas as pd\n",
    "import seaborn as sns\n",
    "pd.set_option('display.width', 500)\n",
    "pd.set_option('display.max_columns', 100)"
   ]
  },
  {
   "cell_type": "markdown",
   "metadata": {},
   "source": [
    "### Reading in the data\n",
    "Pandas allows us to [read in various structured files](https://pandas.pydata.org/pandas-docs/stable/user_guide/io.html) (e.g., .csv, .json, .html, etc) with just one line:"
   ]
  },
  {
   "cell_type": "code",
   "execution_count": 59,
   "metadata": {},
   "outputs": [],
   "source": [
    "# we don't always need to specify the encoding, but this particular\n",
    "# file has special characters that we need to handle\n",
    "top50 = pd.read_csv(\"../data/top50.csv\")"
   ]
  },
  {
   "cell_type": "markdown",
   "metadata": {},
   "source": [
    "### High-level view of the data"
   ]
  },
  {
   "cell_type": "markdown",
   "metadata": {},
   "source": [
    "We can view the data frame by simply printing it:"
   ]
  },
  {
   "cell_type": "code",
   "execution_count": 60,
   "metadata": {},
   "outputs": [
    {
     "data": {
      "text/html": [
       "<div>\n",
       "<style scoped>\n",
       "    .dataframe tbody tr th:only-of-type {\n",
       "        vertical-align: middle;\n",
       "    }\n",
       "\n",
       "    .dataframe tbody tr th {\n",
       "        vertical-align: top;\n",
       "    }\n",
       "\n",
       "    .dataframe thead th {\n",
       "        text-align: right;\n",
       "    }\n",
       "</style>\n",
       "<table border=\"1\" class=\"dataframe\">\n",
       "  <thead>\n",
       "    <tr style=\"text-align: right;\">\n",
       "      <th></th>\n",
       "      <th>Unnamed: 0</th>\n",
       "      <th>TrackName</th>\n",
       "      <th>ArtistName</th>\n",
       "      <th>Genre</th>\n",
       "      <th>BeatsPerMinute</th>\n",
       "      <th>Energy</th>\n",
       "      <th>Danceability</th>\n",
       "      <th>Loudness</th>\n",
       "      <th>Liveness</th>\n",
       "      <th>Valence</th>\n",
       "      <th>Length</th>\n",
       "      <th>Acousticness</th>\n",
       "      <th>Speechiness</th>\n",
       "      <th>Popularity</th>\n",
       "    </tr>\n",
       "  </thead>\n",
       "  <tbody>\n",
       "    <tr>\n",
       "      <th>0</th>\n",
       "      <td>1</td>\n",
       "      <td>Senorita</td>\n",
       "      <td>Shawn Mendes</td>\n",
       "      <td>canadian pop</td>\n",
       "      <td>117</td>\n",
       "      <td>55</td>\n",
       "      <td>76</td>\n",
       "      <td>-6</td>\n",
       "      <td>8</td>\n",
       "      <td>75</td>\n",
       "      <td>191</td>\n",
       "      <td>4</td>\n",
       "      <td>3</td>\n",
       "      <td>79</td>\n",
       "    </tr>\n",
       "    <tr>\n",
       "      <th>1</th>\n",
       "      <td>2</td>\n",
       "      <td>China</td>\n",
       "      <td>Anuel AA</td>\n",
       "      <td>reggaeton flow</td>\n",
       "      <td>105</td>\n",
       "      <td>81</td>\n",
       "      <td>79</td>\n",
       "      <td>-4</td>\n",
       "      <td>8</td>\n",
       "      <td>61</td>\n",
       "      <td>302</td>\n",
       "      <td>8</td>\n",
       "      <td>9</td>\n",
       "      <td>92</td>\n",
       "    </tr>\n",
       "    <tr>\n",
       "      <th>2</th>\n",
       "      <td>3</td>\n",
       "      <td>boyfriend (with Social House)</td>\n",
       "      <td>Ariana Grande</td>\n",
       "      <td>dance pop</td>\n",
       "      <td>190</td>\n",
       "      <td>80</td>\n",
       "      <td>40</td>\n",
       "      <td>-4</td>\n",
       "      <td>16</td>\n",
       "      <td>70</td>\n",
       "      <td>186</td>\n",
       "      <td>12</td>\n",
       "      <td>46</td>\n",
       "      <td>85</td>\n",
       "    </tr>\n",
       "    <tr>\n",
       "      <th>3</th>\n",
       "      <td>4</td>\n",
       "      <td>Beautiful People (feat. Khalid)</td>\n",
       "      <td>Ed Sheeran</td>\n",
       "      <td>pop</td>\n",
       "      <td>93</td>\n",
       "      <td>65</td>\n",
       "      <td>64</td>\n",
       "      <td>-8</td>\n",
       "      <td>8</td>\n",
       "      <td>55</td>\n",
       "      <td>198</td>\n",
       "      <td>12</td>\n",
       "      <td>19</td>\n",
       "      <td>86</td>\n",
       "    </tr>\n",
       "    <tr>\n",
       "      <th>4</th>\n",
       "      <td>5</td>\n",
       "      <td>Goodbyes (Feat. Young Thug)</td>\n",
       "      <td>Post Malone</td>\n",
       "      <td>dfw rap</td>\n",
       "      <td>150</td>\n",
       "      <td>65</td>\n",
       "      <td>58</td>\n",
       "      <td>-4</td>\n",
       "      <td>11</td>\n",
       "      <td>18</td>\n",
       "      <td>175</td>\n",
       "      <td>45</td>\n",
       "      <td>7</td>\n",
       "      <td>94</td>\n",
       "    </tr>\n",
       "    <tr>\n",
       "      <th>5</th>\n",
       "      <td>6</td>\n",
       "      <td>I Don't Care (with Justin Bieber)</td>\n",
       "      <td>Ed Sheeran</td>\n",
       "      <td>pop</td>\n",
       "      <td>102</td>\n",
       "      <td>68</td>\n",
       "      <td>80</td>\n",
       "      <td>-5</td>\n",
       "      <td>9</td>\n",
       "      <td>84</td>\n",
       "      <td>220</td>\n",
       "      <td>9</td>\n",
       "      <td>4</td>\n",
       "      <td>84</td>\n",
       "    </tr>\n",
       "    <tr>\n",
       "      <th>6</th>\n",
       "      <td>7</td>\n",
       "      <td>Ransom</td>\n",
       "      <td>Lil Tecca</td>\n",
       "      <td>trap music</td>\n",
       "      <td>180</td>\n",
       "      <td>64</td>\n",
       "      <td>75</td>\n",
       "      <td>-6</td>\n",
       "      <td>7</td>\n",
       "      <td>23</td>\n",
       "      <td>131</td>\n",
       "      <td>2</td>\n",
       "      <td>29</td>\n",
       "      <td>92</td>\n",
       "    </tr>\n",
       "    <tr>\n",
       "      <th>7</th>\n",
       "      <td>8</td>\n",
       "      <td>How Do You Sleep?</td>\n",
       "      <td>Sam Smith</td>\n",
       "      <td>pop</td>\n",
       "      <td>111</td>\n",
       "      <td>68</td>\n",
       "      <td>48</td>\n",
       "      <td>-5</td>\n",
       "      <td>8</td>\n",
       "      <td>35</td>\n",
       "      <td>202</td>\n",
       "      <td>15</td>\n",
       "      <td>9</td>\n",
       "      <td>90</td>\n",
       "    </tr>\n",
       "    <tr>\n",
       "      <th>8</th>\n",
       "      <td>9</td>\n",
       "      <td>Old Town Road - Remix</td>\n",
       "      <td>Lil Nas X</td>\n",
       "      <td>country rap</td>\n",
       "      <td>136</td>\n",
       "      <td>62</td>\n",
       "      <td>88</td>\n",
       "      <td>-6</td>\n",
       "      <td>11</td>\n",
       "      <td>64</td>\n",
       "      <td>157</td>\n",
       "      <td>5</td>\n",
       "      <td>10</td>\n",
       "      <td>87</td>\n",
       "    </tr>\n",
       "    <tr>\n",
       "      <th>9</th>\n",
       "      <td>10</td>\n",
       "      <td>bad guy</td>\n",
       "      <td>Billie Eilish</td>\n",
       "      <td>electropop</td>\n",
       "      <td>135</td>\n",
       "      <td>43</td>\n",
       "      <td>70</td>\n",
       "      <td>-11</td>\n",
       "      <td>10</td>\n",
       "      <td>56</td>\n",
       "      <td>194</td>\n",
       "      <td>33</td>\n",
       "      <td>38</td>\n",
       "      <td>95</td>\n",
       "    </tr>\n",
       "    <tr>\n",
       "      <th>10</th>\n",
       "      <td>11</td>\n",
       "      <td>Callaita</td>\n",
       "      <td>Bad Bunny</td>\n",
       "      <td>reggaeton</td>\n",
       "      <td>176</td>\n",
       "      <td>62</td>\n",
       "      <td>61</td>\n",
       "      <td>-5</td>\n",
       "      <td>24</td>\n",
       "      <td>24</td>\n",
       "      <td>251</td>\n",
       "      <td>60</td>\n",
       "      <td>31</td>\n",
       "      <td>93</td>\n",
       "    </tr>\n",
       "    <tr>\n",
       "      <th>11</th>\n",
       "      <td>12</td>\n",
       "      <td>Loco Contigo (feat. J. Balvin &amp; Tyga)</td>\n",
       "      <td>DJ Snake</td>\n",
       "      <td>dance pop</td>\n",
       "      <td>96</td>\n",
       "      <td>71</td>\n",
       "      <td>82</td>\n",
       "      <td>-4</td>\n",
       "      <td>15</td>\n",
       "      <td>38</td>\n",
       "      <td>185</td>\n",
       "      <td>28</td>\n",
       "      <td>7</td>\n",
       "      <td>86</td>\n",
       "    </tr>\n",
       "    <tr>\n",
       "      <th>12</th>\n",
       "      <td>13</td>\n",
       "      <td>Someone You Loved</td>\n",
       "      <td>Lewis Capaldi</td>\n",
       "      <td>pop</td>\n",
       "      <td>110</td>\n",
       "      <td>41</td>\n",
       "      <td>50</td>\n",
       "      <td>-6</td>\n",
       "      <td>11</td>\n",
       "      <td>45</td>\n",
       "      <td>182</td>\n",
       "      <td>75</td>\n",
       "      <td>3</td>\n",
       "      <td>88</td>\n",
       "    </tr>\n",
       "    <tr>\n",
       "      <th>13</th>\n",
       "      <td>14</td>\n",
       "      <td>Otro Trago - Remix</td>\n",
       "      <td>Sech</td>\n",
       "      <td>panamanian pop</td>\n",
       "      <td>176</td>\n",
       "      <td>79</td>\n",
       "      <td>73</td>\n",
       "      <td>-2</td>\n",
       "      <td>6</td>\n",
       "      <td>76</td>\n",
       "      <td>288</td>\n",
       "      <td>7</td>\n",
       "      <td>20</td>\n",
       "      <td>87</td>\n",
       "    </tr>\n",
       "    <tr>\n",
       "      <th>14</th>\n",
       "      <td>15</td>\n",
       "      <td>Money In The Grave (Drake ft. Rick Ross)</td>\n",
       "      <td>Drake</td>\n",
       "      <td>canadian hip hop</td>\n",
       "      <td>101</td>\n",
       "      <td>50</td>\n",
       "      <td>83</td>\n",
       "      <td>-4</td>\n",
       "      <td>12</td>\n",
       "      <td>10</td>\n",
       "      <td>205</td>\n",
       "      <td>10</td>\n",
       "      <td>5</td>\n",
       "      <td>92</td>\n",
       "    </tr>\n",
       "    <tr>\n",
       "      <th>15</th>\n",
       "      <td>16</td>\n",
       "      <td>No Guidance (feat. Drake)</td>\n",
       "      <td>Chris Brown</td>\n",
       "      <td>dance pop</td>\n",
       "      <td>93</td>\n",
       "      <td>45</td>\n",
       "      <td>70</td>\n",
       "      <td>-7</td>\n",
       "      <td>16</td>\n",
       "      <td>14</td>\n",
       "      <td>261</td>\n",
       "      <td>12</td>\n",
       "      <td>15</td>\n",
       "      <td>82</td>\n",
       "    </tr>\n",
       "    <tr>\n",
       "      <th>16</th>\n",
       "      <td>17</td>\n",
       "      <td>LA CANCIÓN</td>\n",
       "      <td>J Balvin</td>\n",
       "      <td>latin</td>\n",
       "      <td>176</td>\n",
       "      <td>65</td>\n",
       "      <td>75</td>\n",
       "      <td>-6</td>\n",
       "      <td>11</td>\n",
       "      <td>43</td>\n",
       "      <td>243</td>\n",
       "      <td>15</td>\n",
       "      <td>32</td>\n",
       "      <td>90</td>\n",
       "    </tr>\n",
       "    <tr>\n",
       "      <th>17</th>\n",
       "      <td>18</td>\n",
       "      <td>Sunflower - Spider-Man: Into the Spider-Verse</td>\n",
       "      <td>Post Malone</td>\n",
       "      <td>dfw rap</td>\n",
       "      <td>90</td>\n",
       "      <td>48</td>\n",
       "      <td>76</td>\n",
       "      <td>-6</td>\n",
       "      <td>7</td>\n",
       "      <td>91</td>\n",
       "      <td>158</td>\n",
       "      <td>56</td>\n",
       "      <td>5</td>\n",
       "      <td>91</td>\n",
       "    </tr>\n",
       "    <tr>\n",
       "      <th>18</th>\n",
       "      <td>19</td>\n",
       "      <td>Lalala</td>\n",
       "      <td>Y2K</td>\n",
       "      <td>canadian hip hop</td>\n",
       "      <td>130</td>\n",
       "      <td>39</td>\n",
       "      <td>84</td>\n",
       "      <td>-8</td>\n",
       "      <td>14</td>\n",
       "      <td>50</td>\n",
       "      <td>161</td>\n",
       "      <td>18</td>\n",
       "      <td>8</td>\n",
       "      <td>88</td>\n",
       "    </tr>\n",
       "    <tr>\n",
       "      <th>19</th>\n",
       "      <td>20</td>\n",
       "      <td>Truth Hurts</td>\n",
       "      <td>Lizzo</td>\n",
       "      <td>escape room</td>\n",
       "      <td>158</td>\n",
       "      <td>62</td>\n",
       "      <td>72</td>\n",
       "      <td>-3</td>\n",
       "      <td>12</td>\n",
       "      <td>41</td>\n",
       "      <td>173</td>\n",
       "      <td>11</td>\n",
       "      <td>11</td>\n",
       "      <td>91</td>\n",
       "    </tr>\n",
       "    <tr>\n",
       "      <th>20</th>\n",
       "      <td>21</td>\n",
       "      <td>Piece Of Your Heart</td>\n",
       "      <td>MEDUZA</td>\n",
       "      <td>pop house</td>\n",
       "      <td>124</td>\n",
       "      <td>74</td>\n",
       "      <td>68</td>\n",
       "      <td>-7</td>\n",
       "      <td>7</td>\n",
       "      <td>63</td>\n",
       "      <td>153</td>\n",
       "      <td>4</td>\n",
       "      <td>3</td>\n",
       "      <td>91</td>\n",
       "    </tr>\n",
       "    <tr>\n",
       "      <th>21</th>\n",
       "      <td>22</td>\n",
       "      <td>Panini</td>\n",
       "      <td>Lil Nas X</td>\n",
       "      <td>country rap</td>\n",
       "      <td>154</td>\n",
       "      <td>59</td>\n",
       "      <td>70</td>\n",
       "      <td>-6</td>\n",
       "      <td>12</td>\n",
       "      <td>48</td>\n",
       "      <td>115</td>\n",
       "      <td>34</td>\n",
       "      <td>8</td>\n",
       "      <td>91</td>\n",
       "    </tr>\n",
       "    <tr>\n",
       "      <th>22</th>\n",
       "      <td>23</td>\n",
       "      <td>No Me Conoce - Remix</td>\n",
       "      <td>Jhay Cortez</td>\n",
       "      <td>reggaeton flow</td>\n",
       "      <td>92</td>\n",
       "      <td>79</td>\n",
       "      <td>81</td>\n",
       "      <td>-4</td>\n",
       "      <td>9</td>\n",
       "      <td>58</td>\n",
       "      <td>309</td>\n",
       "      <td>14</td>\n",
       "      <td>7</td>\n",
       "      <td>83</td>\n",
       "    </tr>\n",
       "    <tr>\n",
       "      <th>23</th>\n",
       "      <td>24</td>\n",
       "      <td>Soltera - Remix</td>\n",
       "      <td>Lunay</td>\n",
       "      <td>latin</td>\n",
       "      <td>92</td>\n",
       "      <td>78</td>\n",
       "      <td>80</td>\n",
       "      <td>-4</td>\n",
       "      <td>44</td>\n",
       "      <td>80</td>\n",
       "      <td>266</td>\n",
       "      <td>36</td>\n",
       "      <td>4</td>\n",
       "      <td>91</td>\n",
       "    </tr>\n",
       "    <tr>\n",
       "      <th>24</th>\n",
       "      <td>25</td>\n",
       "      <td>bad guy (with Justin Bieber)</td>\n",
       "      <td>Billie Eilish</td>\n",
       "      <td>electropop</td>\n",
       "      <td>135</td>\n",
       "      <td>45</td>\n",
       "      <td>67</td>\n",
       "      <td>-11</td>\n",
       "      <td>12</td>\n",
       "      <td>68</td>\n",
       "      <td>195</td>\n",
       "      <td>25</td>\n",
       "      <td>30</td>\n",
       "      <td>89</td>\n",
       "    </tr>\n",
       "    <tr>\n",
       "      <th>25</th>\n",
       "      <td>26</td>\n",
       "      <td>If I Can't Have You</td>\n",
       "      <td>Shawn Mendes</td>\n",
       "      <td>canadian pop</td>\n",
       "      <td>124</td>\n",
       "      <td>82</td>\n",
       "      <td>69</td>\n",
       "      <td>-4</td>\n",
       "      <td>13</td>\n",
       "      <td>87</td>\n",
       "      <td>191</td>\n",
       "      <td>49</td>\n",
       "      <td>6</td>\n",
       "      <td>70</td>\n",
       "    </tr>\n",
       "    <tr>\n",
       "      <th>26</th>\n",
       "      <td>27</td>\n",
       "      <td>Dance Monkey</td>\n",
       "      <td>Tones and I</td>\n",
       "      <td>australian pop</td>\n",
       "      <td>98</td>\n",
       "      <td>59</td>\n",
       "      <td>82</td>\n",
       "      <td>-6</td>\n",
       "      <td>18</td>\n",
       "      <td>54</td>\n",
       "      <td>210</td>\n",
       "      <td>69</td>\n",
       "      <td>10</td>\n",
       "      <td>83</td>\n",
       "    </tr>\n",
       "    <tr>\n",
       "      <th>27</th>\n",
       "      <td>28</td>\n",
       "      <td>It's You</td>\n",
       "      <td>Ali Gatie</td>\n",
       "      <td>canadian hip hop</td>\n",
       "      <td>96</td>\n",
       "      <td>46</td>\n",
       "      <td>73</td>\n",
       "      <td>-7</td>\n",
       "      <td>19</td>\n",
       "      <td>40</td>\n",
       "      <td>213</td>\n",
       "      <td>37</td>\n",
       "      <td>3</td>\n",
       "      <td>89</td>\n",
       "    </tr>\n",
       "    <tr>\n",
       "      <th>28</th>\n",
       "      <td>29</td>\n",
       "      <td>Con Calma</td>\n",
       "      <td>Daddy Yankee</td>\n",
       "      <td>latin</td>\n",
       "      <td>94</td>\n",
       "      <td>86</td>\n",
       "      <td>74</td>\n",
       "      <td>-3</td>\n",
       "      <td>6</td>\n",
       "      <td>66</td>\n",
       "      <td>193</td>\n",
       "      <td>11</td>\n",
       "      <td>6</td>\n",
       "      <td>91</td>\n",
       "    </tr>\n",
       "    <tr>\n",
       "      <th>29</th>\n",
       "      <td>30</td>\n",
       "      <td>QUE PRETENDES</td>\n",
       "      <td>J Balvin</td>\n",
       "      <td>latin</td>\n",
       "      <td>93</td>\n",
       "      <td>79</td>\n",
       "      <td>64</td>\n",
       "      <td>-4</td>\n",
       "      <td>36</td>\n",
       "      <td>94</td>\n",
       "      <td>222</td>\n",
       "      <td>3</td>\n",
       "      <td>25</td>\n",
       "      <td>89</td>\n",
       "    </tr>\n",
       "    <tr>\n",
       "      <th>30</th>\n",
       "      <td>31</td>\n",
       "      <td>Takeaway</td>\n",
       "      <td>The Chainsmokers</td>\n",
       "      <td>edm</td>\n",
       "      <td>85</td>\n",
       "      <td>51</td>\n",
       "      <td>29</td>\n",
       "      <td>-8</td>\n",
       "      <td>10</td>\n",
       "      <td>36</td>\n",
       "      <td>210</td>\n",
       "      <td>12</td>\n",
       "      <td>4</td>\n",
       "      <td>84</td>\n",
       "    </tr>\n",
       "    <tr>\n",
       "      <th>31</th>\n",
       "      <td>32</td>\n",
       "      <td>7 rings</td>\n",
       "      <td>Ariana Grande</td>\n",
       "      <td>dance pop</td>\n",
       "      <td>140</td>\n",
       "      <td>32</td>\n",
       "      <td>78</td>\n",
       "      <td>-11</td>\n",
       "      <td>9</td>\n",
       "      <td>33</td>\n",
       "      <td>179</td>\n",
       "      <td>59</td>\n",
       "      <td>33</td>\n",
       "      <td>89</td>\n",
       "    </tr>\n",
       "    <tr>\n",
       "      <th>32</th>\n",
       "      <td>33</td>\n",
       "      <td>0.958333333</td>\n",
       "      <td>Maluma</td>\n",
       "      <td>reggaeton</td>\n",
       "      <td>96</td>\n",
       "      <td>71</td>\n",
       "      <td>78</td>\n",
       "      <td>-5</td>\n",
       "      <td>9</td>\n",
       "      <td>68</td>\n",
       "      <td>176</td>\n",
       "      <td>22</td>\n",
       "      <td>28</td>\n",
       "      <td>89</td>\n",
       "    </tr>\n",
       "    <tr>\n",
       "      <th>33</th>\n",
       "      <td>34</td>\n",
       "      <td>The London (feat. J. Cole &amp; Travis Scott)</td>\n",
       "      <td>Young Thug</td>\n",
       "      <td>atl hip hop</td>\n",
       "      <td>98</td>\n",
       "      <td>59</td>\n",
       "      <td>80</td>\n",
       "      <td>-7</td>\n",
       "      <td>13</td>\n",
       "      <td>18</td>\n",
       "      <td>200</td>\n",
       "      <td>2</td>\n",
       "      <td>15</td>\n",
       "      <td>89</td>\n",
       "    </tr>\n",
       "    <tr>\n",
       "      <th>34</th>\n",
       "      <td>35</td>\n",
       "      <td>Never Really Over</td>\n",
       "      <td>Katy Perry</td>\n",
       "      <td>dance pop</td>\n",
       "      <td>100</td>\n",
       "      <td>88</td>\n",
       "      <td>77</td>\n",
       "      <td>-5</td>\n",
       "      <td>32</td>\n",
       "      <td>39</td>\n",
       "      <td>224</td>\n",
       "      <td>19</td>\n",
       "      <td>6</td>\n",
       "      <td>89</td>\n",
       "    </tr>\n",
       "    <tr>\n",
       "      <th>35</th>\n",
       "      <td>36</td>\n",
       "      <td>Summer Days (feat. Macklemore &amp; Patrick Stump ...</td>\n",
       "      <td>Martin Garrix</td>\n",
       "      <td>big room</td>\n",
       "      <td>114</td>\n",
       "      <td>72</td>\n",
       "      <td>66</td>\n",
       "      <td>-7</td>\n",
       "      <td>14</td>\n",
       "      <td>32</td>\n",
       "      <td>164</td>\n",
       "      <td>18</td>\n",
       "      <td>6</td>\n",
       "      <td>89</td>\n",
       "    </tr>\n",
       "    <tr>\n",
       "      <th>36</th>\n",
       "      <td>37</td>\n",
       "      <td>Otro Trago</td>\n",
       "      <td>Sech</td>\n",
       "      <td>panamanian pop</td>\n",
       "      <td>176</td>\n",
       "      <td>70</td>\n",
       "      <td>75</td>\n",
       "      <td>-5</td>\n",
       "      <td>11</td>\n",
       "      <td>62</td>\n",
       "      <td>226</td>\n",
       "      <td>14</td>\n",
       "      <td>34</td>\n",
       "      <td>91</td>\n",
       "    </tr>\n",
       "    <tr>\n",
       "      <th>37</th>\n",
       "      <td>38</td>\n",
       "      <td>Antisocial (with Travis Scott)</td>\n",
       "      <td>Ed Sheeran</td>\n",
       "      <td>pop</td>\n",
       "      <td>152</td>\n",
       "      <td>82</td>\n",
       "      <td>72</td>\n",
       "      <td>-5</td>\n",
       "      <td>36</td>\n",
       "      <td>91</td>\n",
       "      <td>162</td>\n",
       "      <td>13</td>\n",
       "      <td>5</td>\n",
       "      <td>87</td>\n",
       "    </tr>\n",
       "    <tr>\n",
       "      <th>38</th>\n",
       "      <td>39</td>\n",
       "      <td>Sucker</td>\n",
       "      <td>Jonas Brothers</td>\n",
       "      <td>boy band</td>\n",
       "      <td>138</td>\n",
       "      <td>73</td>\n",
       "      <td>84</td>\n",
       "      <td>-5</td>\n",
       "      <td>11</td>\n",
       "      <td>95</td>\n",
       "      <td>181</td>\n",
       "      <td>4</td>\n",
       "      <td>6</td>\n",
       "      <td>80</td>\n",
       "    </tr>\n",
       "    <tr>\n",
       "      <th>39</th>\n",
       "      <td>40</td>\n",
       "      <td>[damn], i'm lonely (with Anne-Marie) - from 13...</td>\n",
       "      <td>Lauv</td>\n",
       "      <td>dance pop</td>\n",
       "      <td>95</td>\n",
       "      <td>56</td>\n",
       "      <td>81</td>\n",
       "      <td>-6</td>\n",
       "      <td>6</td>\n",
       "      <td>68</td>\n",
       "      <td>199</td>\n",
       "      <td>48</td>\n",
       "      <td>7</td>\n",
       "      <td>78</td>\n",
       "    </tr>\n",
       "    <tr>\n",
       "      <th>40</th>\n",
       "      <td>41</td>\n",
       "      <td>Higher Love</td>\n",
       "      <td>Kygo</td>\n",
       "      <td>edm</td>\n",
       "      <td>104</td>\n",
       "      <td>68</td>\n",
       "      <td>69</td>\n",
       "      <td>-7</td>\n",
       "      <td>10</td>\n",
       "      <td>40</td>\n",
       "      <td>228</td>\n",
       "      <td>2</td>\n",
       "      <td>3</td>\n",
       "      <td>88</td>\n",
       "    </tr>\n",
       "    <tr>\n",
       "      <th>41</th>\n",
       "      <td>42</td>\n",
       "      <td>You Need To Calm Down</td>\n",
       "      <td>Taylor Swift</td>\n",
       "      <td>dance pop</td>\n",
       "      <td>85</td>\n",
       "      <td>68</td>\n",
       "      <td>77</td>\n",
       "      <td>-6</td>\n",
       "      <td>7</td>\n",
       "      <td>73</td>\n",
       "      <td>171</td>\n",
       "      <td>1</td>\n",
       "      <td>5</td>\n",
       "      <td>90</td>\n",
       "    </tr>\n",
       "    <tr>\n",
       "      <th>42</th>\n",
       "      <td>43</td>\n",
       "      <td>Shallow</td>\n",
       "      <td>Lady Gaga</td>\n",
       "      <td>dance pop</td>\n",
       "      <td>96</td>\n",
       "      <td>39</td>\n",
       "      <td>57</td>\n",
       "      <td>-6</td>\n",
       "      <td>23</td>\n",
       "      <td>32</td>\n",
       "      <td>216</td>\n",
       "      <td>37</td>\n",
       "      <td>3</td>\n",
       "      <td>87</td>\n",
       "    </tr>\n",
       "    <tr>\n",
       "      <th>43</th>\n",
       "      <td>44</td>\n",
       "      <td>Talk</td>\n",
       "      <td>Khalid</td>\n",
       "      <td>pop</td>\n",
       "      <td>136</td>\n",
       "      <td>40</td>\n",
       "      <td>90</td>\n",
       "      <td>-9</td>\n",
       "      <td>6</td>\n",
       "      <td>35</td>\n",
       "      <td>198</td>\n",
       "      <td>5</td>\n",
       "      <td>13</td>\n",
       "      <td>84</td>\n",
       "    </tr>\n",
       "    <tr>\n",
       "      <th>44</th>\n",
       "      <td>45</td>\n",
       "      <td>Con Altura</td>\n",
       "      <td>ROSALÍA</td>\n",
       "      <td>r&amp;b en espanol</td>\n",
       "      <td>98</td>\n",
       "      <td>69</td>\n",
       "      <td>88</td>\n",
       "      <td>-4</td>\n",
       "      <td>5</td>\n",
       "      <td>75</td>\n",
       "      <td>162</td>\n",
       "      <td>39</td>\n",
       "      <td>12</td>\n",
       "      <td>88</td>\n",
       "    </tr>\n",
       "    <tr>\n",
       "      <th>45</th>\n",
       "      <td>46</td>\n",
       "      <td>One Thing Right</td>\n",
       "      <td>Marshmello</td>\n",
       "      <td>brostep</td>\n",
       "      <td>88</td>\n",
       "      <td>62</td>\n",
       "      <td>66</td>\n",
       "      <td>-2</td>\n",
       "      <td>58</td>\n",
       "      <td>44</td>\n",
       "      <td>182</td>\n",
       "      <td>7</td>\n",
       "      <td>5</td>\n",
       "      <td>88</td>\n",
       "    </tr>\n",
       "    <tr>\n",
       "      <th>46</th>\n",
       "      <td>47</td>\n",
       "      <td>Te Robaré</td>\n",
       "      <td>Nicky Jam</td>\n",
       "      <td>latin</td>\n",
       "      <td>176</td>\n",
       "      <td>75</td>\n",
       "      <td>67</td>\n",
       "      <td>-4</td>\n",
       "      <td>8</td>\n",
       "      <td>80</td>\n",
       "      <td>202</td>\n",
       "      <td>24</td>\n",
       "      <td>6</td>\n",
       "      <td>88</td>\n",
       "    </tr>\n",
       "    <tr>\n",
       "      <th>47</th>\n",
       "      <td>48</td>\n",
       "      <td>Happier</td>\n",
       "      <td>Marshmello</td>\n",
       "      <td>brostep</td>\n",
       "      <td>100</td>\n",
       "      <td>79</td>\n",
       "      <td>69</td>\n",
       "      <td>-3</td>\n",
       "      <td>17</td>\n",
       "      <td>67</td>\n",
       "      <td>214</td>\n",
       "      <td>19</td>\n",
       "      <td>5</td>\n",
       "      <td>88</td>\n",
       "    </tr>\n",
       "    <tr>\n",
       "      <th>48</th>\n",
       "      <td>49</td>\n",
       "      <td>Call You Mine</td>\n",
       "      <td>The Chainsmokers</td>\n",
       "      <td>edm</td>\n",
       "      <td>104</td>\n",
       "      <td>70</td>\n",
       "      <td>59</td>\n",
       "      <td>-6</td>\n",
       "      <td>41</td>\n",
       "      <td>50</td>\n",
       "      <td>218</td>\n",
       "      <td>23</td>\n",
       "      <td>3</td>\n",
       "      <td>88</td>\n",
       "    </tr>\n",
       "    <tr>\n",
       "      <th>49</th>\n",
       "      <td>50</td>\n",
       "      <td>Cross Me (feat. Chance the Rapper &amp; PnB Rock)</td>\n",
       "      <td>Ed Sheeran</td>\n",
       "      <td>pop</td>\n",
       "      <td>95</td>\n",
       "      <td>79</td>\n",
       "      <td>75</td>\n",
       "      <td>-6</td>\n",
       "      <td>7</td>\n",
       "      <td>61</td>\n",
       "      <td>206</td>\n",
       "      <td>21</td>\n",
       "      <td>12</td>\n",
       "      <td>82</td>\n",
       "    </tr>\n",
       "  </tbody>\n",
       "</table>\n",
       "</div>"
      ],
      "text/plain": [
       "    Unnamed: 0                                          TrackName        ArtistName             Genre  BeatsPerMinute  Energy  Danceability  Loudness  Liveness  Valence  Length  Acousticness  Speechiness  Popularity\n",
       "0            1                                           Senorita      Shawn Mendes      canadian pop             117      55            76        -6         8       75     191             4            3          79\n",
       "1            2                                              China          Anuel AA    reggaeton flow             105      81            79        -4         8       61     302             8            9          92\n",
       "2            3                      boyfriend (with Social House)     Ariana Grande         dance pop             190      80            40        -4        16       70     186            12           46          85\n",
       "3            4                    Beautiful People (feat. Khalid)        Ed Sheeran               pop              93      65            64        -8         8       55     198            12           19          86\n",
       "4            5                        Goodbyes (Feat. Young Thug)       Post Malone           dfw rap             150      65            58        -4        11       18     175            45            7          94\n",
       "5            6                  I Don't Care (with Justin Bieber)        Ed Sheeran               pop             102      68            80        -5         9       84     220             9            4          84\n",
       "6            7                                             Ransom         Lil Tecca        trap music             180      64            75        -6         7       23     131             2           29          92\n",
       "7            8                                  How Do You Sleep?         Sam Smith               pop             111      68            48        -5         8       35     202            15            9          90\n",
       "8            9                              Old Town Road - Remix         Lil Nas X       country rap             136      62            88        -6        11       64     157             5           10          87\n",
       "9           10                                            bad guy     Billie Eilish        electropop             135      43            70       -11        10       56     194            33           38          95\n",
       "10          11                                           Callaita         Bad Bunny         reggaeton             176      62            61        -5        24       24     251            60           31          93\n",
       "11          12              Loco Contigo (feat. J. Balvin & Tyga)          DJ Snake         dance pop              96      71            82        -4        15       38     185            28            7          86\n",
       "12          13                                  Someone You Loved     Lewis Capaldi               pop             110      41            50        -6        11       45     182            75            3          88\n",
       "13          14                                 Otro Trago - Remix              Sech    panamanian pop             176      79            73        -2         6       76     288             7           20          87\n",
       "14          15           Money In The Grave (Drake ft. Rick Ross)             Drake  canadian hip hop             101      50            83        -4        12       10     205            10            5          92\n",
       "15          16                          No Guidance (feat. Drake)       Chris Brown         dance pop              93      45            70        -7        16       14     261            12           15          82\n",
       "16          17                                         LA CANCIÓN          J Balvin             latin             176      65            75        -6        11       43     243            15           32          90\n",
       "17          18      Sunflower - Spider-Man: Into the Spider-Verse       Post Malone           dfw rap              90      48            76        -6         7       91     158            56            5          91\n",
       "18          19                                             Lalala               Y2K  canadian hip hop             130      39            84        -8        14       50     161            18            8          88\n",
       "19          20                                        Truth Hurts             Lizzo       escape room             158      62            72        -3        12       41     173            11           11          91\n",
       "20          21                                Piece Of Your Heart            MEDUZA         pop house             124      74            68        -7         7       63     153             4            3          91\n",
       "21          22                                             Panini         Lil Nas X       country rap             154      59            70        -6        12       48     115            34            8          91\n",
       "22          23                               No Me Conoce - Remix       Jhay Cortez    reggaeton flow              92      79            81        -4         9       58     309            14            7          83\n",
       "23          24                                    Soltera - Remix             Lunay             latin              92      78            80        -4        44       80     266            36            4          91\n",
       "24          25                       bad guy (with Justin Bieber)     Billie Eilish        electropop             135      45            67       -11        12       68     195            25           30          89\n",
       "25          26                                If I Can't Have You      Shawn Mendes      canadian pop             124      82            69        -4        13       87     191            49            6          70\n",
       "26          27                                       Dance Monkey       Tones and I    australian pop              98      59            82        -6        18       54     210            69           10          83\n",
       "27          28                                           It's You         Ali Gatie  canadian hip hop              96      46            73        -7        19       40     213            37            3          89\n",
       "28          29                                          Con Calma      Daddy Yankee             latin              94      86            74        -3         6       66     193            11            6          91\n",
       "29          30                                      QUE PRETENDES          J Balvin             latin              93      79            64        -4        36       94     222             3           25          89\n",
       "30          31                                           Takeaway  The Chainsmokers               edm              85      51            29        -8        10       36     210            12            4          84\n",
       "31          32                                            7 rings     Ariana Grande         dance pop             140      32            78       -11         9       33     179            59           33          89\n",
       "32          33                                        0.958333333            Maluma         reggaeton              96      71            78        -5         9       68     176            22           28          89\n",
       "33          34          The London (feat. J. Cole & Travis Scott)        Young Thug       atl hip hop              98      59            80        -7        13       18     200             2           15          89\n",
       "34          35                                  Never Really Over        Katy Perry         dance pop             100      88            77        -5        32       39     224            19            6          89\n",
       "35          36  Summer Days (feat. Macklemore & Patrick Stump ...     Martin Garrix          big room             114      72            66        -7        14       32     164            18            6          89\n",
       "36          37                                         Otro Trago              Sech    panamanian pop             176      70            75        -5        11       62     226            14           34          91\n",
       "37          38                     Antisocial (with Travis Scott)        Ed Sheeran               pop             152      82            72        -5        36       91     162            13            5          87\n",
       "38          39                                             Sucker    Jonas Brothers          boy band             138      73            84        -5        11       95     181             4            6          80\n",
       "39          40  [damn], i'm lonely (with Anne-Marie) - from 13...              Lauv         dance pop              95      56            81        -6         6       68     199            48            7          78\n",
       "40          41                                        Higher Love              Kygo               edm             104      68            69        -7        10       40     228             2            3          88\n",
       "41          42                              You Need To Calm Down      Taylor Swift         dance pop              85      68            77        -6         7       73     171             1            5          90\n",
       "42          43                                            Shallow         Lady Gaga         dance pop              96      39            57        -6        23       32     216            37            3          87\n",
       "43          44                                               Talk            Khalid               pop             136      40            90        -9         6       35     198             5           13          84\n",
       "44          45                                         Con Altura           ROSALÍA    r&b en espanol              98      69            88        -4         5       75     162            39           12          88\n",
       "45          46                                    One Thing Right        Marshmello           brostep              88      62            66        -2        58       44     182             7            5          88\n",
       "46          47                                          Te Robaré         Nicky Jam             latin             176      75            67        -4         8       80     202            24            6          88\n",
       "47          48                                            Happier        Marshmello           brostep             100      79            69        -3        17       67     214            19            5          88\n",
       "48          49                                      Call You Mine  The Chainsmokers               edm             104      70            59        -6        41       50     218            23            3          88\n",
       "49          50      Cross Me (feat. Chance the Rapper & PnB Rock)        Ed Sheeran               pop              95      79            75        -6         7       61     206            21           12          82"
      ]
     },
     "execution_count": 60,
     "metadata": {},
     "output_type": "execute_result"
    }
   ],
   "source": [
    "top50"
   ]
  },
  {
   "cell_type": "markdown",
   "metadata": {},
   "source": [
    "Recall that we can also inspect the file by looking at just the first N rows or last N rows (instead of printing the entire dataframe)."
   ]
  },
  {
   "cell_type": "code",
   "execution_count": 61,
   "metadata": {},
   "outputs": [
    {
     "data": {
      "text/html": [
       "<div>\n",
       "<style scoped>\n",
       "    .dataframe tbody tr th:only-of-type {\n",
       "        vertical-align: middle;\n",
       "    }\n",
       "\n",
       "    .dataframe tbody tr th {\n",
       "        vertical-align: top;\n",
       "    }\n",
       "\n",
       "    .dataframe thead th {\n",
       "        text-align: right;\n",
       "    }\n",
       "</style>\n",
       "<table border=\"1\" class=\"dataframe\">\n",
       "  <thead>\n",
       "    <tr style=\"text-align: right;\">\n",
       "      <th></th>\n",
       "      <th>Unnamed: 0</th>\n",
       "      <th>TrackName</th>\n",
       "      <th>ArtistName</th>\n",
       "      <th>Genre</th>\n",
       "      <th>BeatsPerMinute</th>\n",
       "      <th>Energy</th>\n",
       "      <th>Danceability</th>\n",
       "      <th>Loudness</th>\n",
       "      <th>Liveness</th>\n",
       "      <th>Valence</th>\n",
       "      <th>Length</th>\n",
       "      <th>Acousticness</th>\n",
       "      <th>Speechiness</th>\n",
       "      <th>Popularity</th>\n",
       "    </tr>\n",
       "  </thead>\n",
       "  <tbody>\n",
       "    <tr>\n",
       "      <th>47</th>\n",
       "      <td>48</td>\n",
       "      <td>Happier</td>\n",
       "      <td>Marshmello</td>\n",
       "      <td>brostep</td>\n",
       "      <td>100</td>\n",
       "      <td>79</td>\n",
       "      <td>69</td>\n",
       "      <td>-3</td>\n",
       "      <td>17</td>\n",
       "      <td>67</td>\n",
       "      <td>214</td>\n",
       "      <td>19</td>\n",
       "      <td>5</td>\n",
       "      <td>88</td>\n",
       "    </tr>\n",
       "    <tr>\n",
       "      <th>48</th>\n",
       "      <td>49</td>\n",
       "      <td>Call You Mine</td>\n",
       "      <td>The Chainsmokers</td>\n",
       "      <td>edm</td>\n",
       "      <td>104</td>\n",
       "      <td>70</td>\n",
       "      <td>59</td>\n",
       "      <td>-6</td>\n",
       "      <td>41</td>\n",
       "      <td>50</td>\n",
       "      <td>218</td>\n",
       "      <td>23</td>\n",
       "      <td>3</td>\n",
       "      <td>88</td>\n",
       "    </tr>\n",
       "    <tr>\n",
       "      <th>49</th>\n",
       "      <td>50</td>\n",
       "      <td>Cross Me (feat. Chance the Rapper &amp; PnB Rock)</td>\n",
       "      <td>Ed Sheeran</td>\n",
       "      <td>pop</td>\n",
       "      <td>95</td>\n",
       "      <td>79</td>\n",
       "      <td>75</td>\n",
       "      <td>-6</td>\n",
       "      <td>7</td>\n",
       "      <td>61</td>\n",
       "      <td>206</td>\n",
       "      <td>21</td>\n",
       "      <td>12</td>\n",
       "      <td>82</td>\n",
       "    </tr>\n",
       "  </tbody>\n",
       "</table>\n",
       "</div>"
      ],
      "text/plain": [
       "    Unnamed: 0                                      TrackName        ArtistName    Genre  BeatsPerMinute  Energy  Danceability  Loudness  Liveness  Valence  Length  Acousticness  Speechiness  Popularity\n",
       "47          48                                        Happier        Marshmello  brostep             100      79            69        -3        17       67     214            19            5          88\n",
       "48          49                                  Call You Mine  The Chainsmokers      edm             104      70            59        -6        41       50     218            23            3          88\n",
       "49          50  Cross Me (feat. Chance the Rapper & PnB Rock)        Ed Sheeran      pop              95      79            75        -6         7       61     206            21           12          82"
      ]
     },
     "execution_count": 61,
     "metadata": {},
     "output_type": "execute_result"
    }
   ],
   "source": [
    "# top50.head(5) # first 5 rows\n",
    "top50.tail(3) # last 3 rows"
   ]
  },
  {
   "cell_type": "markdown",
   "metadata": {},
   "source": [
    "**Q2.1:** That's cool, but we can't see all of the columns too well. Write code to print out the names of the columns of 'top50' and the code to calculate the number of columns and rows in it."
   ]
  },
  {
   "cell_type": "code",
   "execution_count": 70,
   "metadata": {},
   "outputs": [
    {
     "data": {
      "text/plain": [
       "'Senorita'"
      ]
     },
     "execution_count": 70,
     "metadata": {},
     "output_type": "execute_result"
    }
   ],
   "source": [
    "######\n",
    "# your code here\n",
    "######\n",
    "top50.iloc[0,1]"
   ]
  },
  {
   "cell_type": "markdown",
   "metadata": {},
   "source": [
    "Fortunately, many of the features in our dataset are numeric. Conveniently, Pandas' `describe()` function calculates basic statistics for our columns. It's pretty amazing, as it allows us a very coarse-grain approach to understanding our data and checking for errors. That is, if we notice any summary statistics that are drastically different than what we deem reasonable, we should dive deeper and figure out why the values are what they are."
   ]
  },
  {
   "cell_type": "code",
   "execution_count": null,
   "metadata": {},
   "outputs": [],
   "source": [
    "top50.describe()"
   ]
  },
  {
   "cell_type": "markdown",
   "metadata": {},
   "source": [
    "**Q2.2:** Which of the variable above appears to be the most skewed?  Investigate its skew with a histogram."
   ]
  },
  {
   "cell_type": "code",
   "execution_count": null,
   "metadata": {},
   "outputs": [],
   "source": [
    "######\n",
    "# your code here: use matplotlib\n",
    "######\n",
    "\n"
   ]
  },
  {
   "cell_type": "markdown",
   "metadata": {},
   "source": [
    "*your answer here* \n",
    "\n"
   ]
  },
  {
   "cell_type": "markdown",
   "metadata": {},
   "source": [
    "Notice, it calculated statistics only for the columns that are of numeric data types. What about the textual ones (e.g., Track name and Artist)? Pandas is smart enough to infer the data types. **Don't forget to inspect the columns that are text-based though, as we need to ensure they are sound, too.**\n",
    "\n",
    "To view the data type of each column:"
   ]
  },
  {
   "cell_type": "code",
   "execution_count": null,
   "metadata": {
    "scrolled": true
   },
   "outputs": [],
   "source": [
    "top50.dtypes"
   ]
  },
  {
   "cell_type": "markdown",
   "metadata": {},
   "source": [
    "**Q2.3:** Write code to obtain the table of frequencies for any categorical variables in the dataset."
   ]
  },
  {
   "cell_type": "code",
   "execution_count": null,
   "metadata": {},
   "outputs": [],
   "source": [
    "#######\n",
    "# your code here: np.unique can work\n",
    "#######\n"
   ]
  },
  {
   "cell_type": "markdown",
   "metadata": {},
   "source": [
    "### Exploring the data"
   ]
  },
  {
   "cell_type": "markdown",
   "metadata": {},
   "source": [
    "I agree with Pandas' handling of the data. If any column contained floating point numbers, we would expect to see such here, too.\n",
    "\n",
    "Now that we've viewed our dataset at a high-level, let's actually use and explore it.\n",
    "\n",
    "Recall: we can **access a column of data** the same way we access dictionary by its keys:"
   ]
  },
  {
   "cell_type": "code",
   "execution_count": null,
   "metadata": {},
   "outputs": [],
   "source": [
    "top50[\"Length\"]"
   ]
  },
  {
   "cell_type": "markdown",
   "metadata": {},
   "source": [
    "We could have also used this syntax (identical results):"
   ]
  },
  {
   "cell_type": "code",
   "execution_count": null,
   "metadata": {},
   "outputs": [],
   "source": [
    "top50.Length"
   ]
  },
  {
   "cell_type": "markdown",
   "metadata": {},
   "source": [
    "If we want just the highest or lowest **value** of a given column, we can use the functions ``max()`` and ``min()``, respectively."
   ]
  },
  {
   "cell_type": "code",
   "execution_count": null,
   "metadata": {},
   "outputs": [],
   "source": [
    "top50['Length'].max()"
   ]
  },
  {
   "cell_type": "code",
   "execution_count": null,
   "metadata": {},
   "outputs": [],
   "source": [
    "top50['Length'].min()"
   ]
  },
  {
   "cell_type": "markdown",
   "metadata": {},
   "source": [
    "If we want the **row index** that corresponds to a column's max or min value, we can use ``idxmax()`` and ``idxmin()``, respectively."
   ]
  },
  {
   "cell_type": "code",
   "execution_count": null,
   "metadata": {},
   "outputs": [],
   "source": [
    "top50['Length'].idxmax()"
   ]
  },
  {
   "cell_type": "code",
   "execution_count": null,
   "metadata": {},
   "outputs": [],
   "source": [
    "top50['Length'].idxmin()"
   ]
  },
  {
   "cell_type": "markdown",
   "metadata": {},
   "source": [
    "We can also add `conditional statements` (e.g., >, <, ==) for columns, which yields a boolean vector:"
   ]
  },
  {
   "cell_type": "code",
   "execution_count": null,
   "metadata": {},
   "outputs": [],
   "source": [
    "top50['Length'] > 240"
   ]
  },
  {
   "cell_type": "markdown",
   "metadata": {},
   "source": [
    "This is useful, as it allows us to process only the rows with the True values.\n",
    "\n",
    "The **`loc()`** function allows us to access data via labels:\n",
    "- A single scalar label\n",
    "- A list of labels\n",
    "- A slice object\n",
    "- A Boolean array\n",
    "\n",
    "A single scalar:"
   ]
  },
  {
   "cell_type": "code",
   "execution_count": null,
   "metadata": {},
   "outputs": [],
   "source": [
    "# single scalar label\n",
    "top50.loc[0] # prints the (unnamed) row that has a label of 0 (the 1st row)"
   ]
  },
  {
   "cell_type": "code",
   "execution_count": null,
   "metadata": {},
   "outputs": [],
   "source": [
    "# list of labels\n",
    "top50.loc[[0,2]] # prints the (unnamed) rows that have the labels of 0 and 2 (the 1st and 3rd rows)"
   ]
  },
  {
   "cell_type": "code",
   "execution_count": null,
   "metadata": {},
   "outputs": [],
   "source": [
    "# a slice of the dataframe, based on the passed-in booleans;\n",
    "# picture it's like a filter overlaying the DataFrame, and the filter\n",
    "# dictates which values will be emitted/make it through to us\n",
    "\n",
    "top50.loc[top50['Length'] > 240] # prints all rows that have Length > 240"
   ]
  },
  {
   "cell_type": "markdown",
   "metadata": {},
   "source": [
    "Note, this returns a *DataFrame*. Everything we've learned so far concerns how to use DataFrames, so we can tack on additional syntax to this command if we wish to do further processing.\n",
    "\n",
    "For example, if we want to index just select columns (e.g., ArtistName, TrackName, and Length) of this returned DataFrame:"
   ]
  },
  {
   "cell_type": "code",
   "execution_count": null,
   "metadata": {},
   "outputs": [],
   "source": [
    "top50.loc[top50['Length'] > 240][['ArtistName', 'TrackName', 'Length']]"
   ]
  },
  {
   "cell_type": "markdown",
   "metadata": {},
   "source": [
    "Note, the above solves our original **Q1.2:** _(Write code to print all songs (Artist and Track name) that are longer than 4 minutes (240 seconds))_\n",
    "\n",
    "**Q2.4:** Write code to print the most popular song (or song(s) if there is a tie):"
   ]
  },
  {
   "cell_type": "code",
   "execution_count": null,
   "metadata": {},
   "outputs": [],
   "source": [
    "#######\n",
    "# your code here\n",
    "#######"
   ]
  },
  {
   "cell_type": "markdown",
   "metadata": {},
   "source": [
    "We can also sort our data by a single column! This pertains to our original **Q1.4**!\n",
    "\n",
    "**Q2.4:** Write code to print the songs (and their attributes), if we sorted by their popularity (highest scoring ones first)."
   ]
  },
  {
   "cell_type": "code",
   "execution_count": null,
   "metadata": {},
   "outputs": [],
   "source": [
    "# use top50.sort_values() to answer this question\n",
    "\n",
    "#######\n",
    "# your code here\n",
    "#######\n",
    "\n"
   ]
  },
  {
   "cell_type": "markdown",
   "metadata": {},
   "source": [
    "While ``.loc()`` allows us to index based on passed-in labels, ``.iloc()`` allows us to **access data based on 0-based indices.**\n",
    "\n",
    "The syntax is ``.iloc[<row selection>, <column selection>]``, where <row selection> and <column selection> can be scalars, lists, or slices of indices."
   ]
  },
  {
   "cell_type": "code",
   "execution_count": null,
   "metadata": {},
   "outputs": [],
   "source": [
    "top50.iloc[5:6] # prints all columns for the 6th row"
   ]
  },
  {
   "cell_type": "code",
   "execution_count": null,
   "metadata": {},
   "outputs": [],
   "source": [
    "top50.iloc[:,2] # prints all rows for the 3rd column"
   ]
  },
  {
   "cell_type": "code",
   "execution_count": null,
   "metadata": {},
   "outputs": [],
   "source": [
    "top50.iloc[[0,2,3], [2,1]] # prints the 1st, 3rd, and 4th rows of the 3rd and 2nd columns (artist and track)"
   ]
  },
  {
   "cell_type": "markdown",
   "metadata": {},
   "source": [
    "### Inspecting/cleaning the data\n",
    "\n",
    "As mentioned, it is imperative to ensure the data is sound to use:\n",
    "1. Did it come from a trustworthy, authoritative source?\n",
    "2. Is the data a complete sample?\n",
    "3. Does the data seem correct?\n",
    "4. **(optional)** Is the data stored efficiently or does it have redundancies?\n",
    "\n",
    "Let's walk through each of these points now:\n",
    "\n",
    "1. Did it come from a trustworthy, authoritative source?\n",
    "\n",
    "The data came from Kaggle.com, which anyone can publish to. However, the author claims that he/she used Spotify.com's official API to query songs in 2019. There are no public comments for it so far. It's potentially credible.\n",
    "\n",
    "2. Is the data a complete sample?\n",
    "\n",
    "Pandas has functions named ``isnull()`` and ``notnull()``, which return DataFrames corresponding to any null or non-null entries, respectively.\n",
    "\n",
    "For example:"
   ]
  },
  {
   "cell_type": "code",
   "execution_count": null,
   "metadata": {},
   "outputs": [],
   "source": [
    "top50[top50.ArtistName.isnull()] # returns an empty DataFrame"
   ]
  },
  {
   "cell_type": "code",
   "execution_count": null,
   "metadata": {
    "scrolled": true
   },
   "outputs": [],
   "source": [
    "top50[top50.ArtistName.notnull()] # returns the complete DataFrame since there are no null Artists"
   ]
  },
  {
   "cell_type": "markdown",
   "metadata": {},
   "source": [
    "If we run this for all of our features/columns, we will see there are no nulls. Since this dataset is manageable in size, you can also just scroll through it and notice no nulls.\n",
    "\n",
    "This answers our original **Q1.5**: How could you check for null/empty entries?\n",
    "\n",
    "Continuing with our data sanity check list:\n",
    "\n",
    "3. Does the data seem correct?\n",
    "\n",
    "A quick scroll through the data, and we see a song by _Maluma_ titled _0.95833333_. This is possibly a song about probability, but I think the chances are slim. The song is 176 seconds long (2m56s). Looking on Spotify, we see **Maluma's most popular song is currently _11PM_ which is 2m56s in length!** Somehow, during the creation of the dataset, 11PM became 0.95833333. _Bonus points if you can figure out where this pointing number could have come from._"
   ]
  },
  {
   "cell_type": "code",
   "execution_count": null,
   "metadata": {},
   "outputs": [],
   "source": [
    "Image(\"fig/maluma.png\") # sample of the data"
   ]
  },
  {
   "cell_type": "markdown",
   "metadata": {},
   "source": [
    "Since only one song seems obviously wrong, we can manually fix it. And it's worth noting such to ourselves and to whomever else would see our results or receive a copy of our data. If there were many more wrong values, we'd potentialy not fix them, as we'd explore other options."
   ]
  },
  {
   "cell_type": "code",
   "execution_count": null,
   "metadata": {},
   "outputs": [],
   "source": [
    "top50['TrackName'][top50['ArtistName'] == \"Maluma\"] = \"11PM\"\n",
    "# Watch out for the warning."
   ]
  },
  {
   "cell_type": "markdown",
   "metadata": {},
   "source": [
    "## Part 3: Grouping and Combining Multiple Data Frames\n",
    "\n",
    "As mentioned, often times one dataset doesn't contain all of the information you are interested in -- in which case, you need to combine data from multiple files. This also means you need to verify the accuracy (per above) of each dataset.\n",
    "\n",
    "Pandas' ``groupby()`` function splits the DataFrame into different groups, depending on the passed-in variable. For example, we can group our data by the genres:"
   ]
  },
  {
   "cell_type": "code",
   "execution_count": null,
   "metadata": {},
   "outputs": [],
   "source": [
    "grouped_df = top50.groupby('Genre')\n",
    "#for key, item in grouped_df:\n",
    "#    print(\"Genre:\", key, \"(\", len(grouped_df.get_group(key)), \"items):\", grouped_df.get_group(key), \"\\n\\n\")"
   ]
  },
  {
   "cell_type": "markdown",
   "metadata": {},
   "source": [
    "``../data/spotify_aux.csv`` contains the same 50 songs as ``top50.csv``; however, it only contains 3 columns:\n",
    "- Track Name\n",
    "- Artist Name\n",
    "- Explicit Language (boolean valued)\n",
    "\n",
    "Note, that 3rd column is just random values, but pretend as if it's correct. The point of this section is to demonstrate how to merge columns together.\n",
    "\n",
    "Let's load ``../data/spotify_aux.csv`` into a DataFrame:"
   ]
  },
  {
   "cell_type": "code",
   "execution_count": null,
   "metadata": {},
   "outputs": [],
   "source": [
    "explicit_lyrics = pd.read_csv(\"../data/spotify_aux.csv\")\n",
    "#explicit_lyrics"
   ]
  },
  {
   "cell_type": "markdown",
   "metadata": {},
   "source": [
    "Let's merge it with our ``top50`` DataFrame.\n",
    "\n",
    "``.merge()`` is a Pandas function that stitches together DataFrames by their columns.\n",
    "\n",
    "``.concat()`` is a Pandas function that stitches together DataFrames by their rows (if you pass axis=1 as a flag, it will be column-based)"
   ]
  },
  {
   "cell_type": "code",
   "execution_count": null,
   "metadata": {},
   "outputs": [],
   "source": [
    "# 'on='' specifies the column used as the shared key\n",
    "df_combined = pd.merge(explicit_lyrics, top50, on='TrackName')\n",
    "#df_combined"
   ]
  },
  {
   "cell_type": "markdown",
   "metadata": {},
   "source": [
    "We see that all columns from both DataFrames have been added. That's nice, but having duplicate ArtistName and TrackName is unecessary. Since ``merge()`` uses DataFrames as the passed-in objects, we can simply pass merge() a stripped-down copy of _ExplicitLanguage_, which helps merge() not add any redundant fields. "
   ]
  },
  {
   "cell_type": "code",
   "execution_count": null,
   "metadata": {},
   "outputs": [],
   "source": [
    "df_combined = pd.merge(explicit_lyrics[['TrackName', 'ExplicitLanguage']], top50, on='TrackName')\n",
    "#df_combined"
   ]
  },
  {
   "cell_type": "markdown",
   "metadata": {},
   "source": [
    "This answers our original **Q1.6:** Imagine we had another table (i.e., .csv file) below. How could we combine its data with our already-existing *dataset*?"
   ]
  },
  {
   "cell_type": "markdown",
   "metadata": {},
   "source": [
    "While we do not exhaustively illustrate Pandas' joining/splitting functionality, you may find the following functions useful:\n",
    "- ``merge()``\n",
    "- ``concat()``\n",
    "- ``aggregate()``\n",
    "- ``append()``"
   ]
  },
  {
   "cell_type": "markdown",
   "metadata": {},
   "source": [
    "### Plotting DataFrames\n",
    "As a very simple example of how one can plot elements of a DataFrame, we turn to Pandas' built-in plotting:"
   ]
  },
  {
   "cell_type": "code",
   "execution_count": null,
   "metadata": {},
   "outputs": [],
   "source": [
    "scatter_plot = top50.plot.scatter(x='Danceability', y='Popularity', c='DarkBlue')"
   ]
  },
  {
   "cell_type": "markdown",
   "metadata": {},
   "source": [
    "**Q3.1:** Alternatively, use `plt.scatter` to recreate the scatterplot above.\n"
   ]
  },
  {
   "cell_type": "code",
   "execution_count": null,
   "metadata": {},
   "outputs": [],
   "source": [
    "######\n",
    "# your code here\n",
    "######\n",
    "\n"
   ]
  },
  {
   "cell_type": "markdown",
   "metadata": {},
   "source": [
    "This shows the lack of a correlation between the Danceability of a song and its popularity, based on just the top 50 songs, of course.\n",
    "\n",
    "Please feel free to experiment with plotting other items of interest, and we recommend using Seaborn.\n",
    "\n",
    "## Practice Problems \n",
    "\n",
    "**Q3.2:** Print the shortest song (all features):"
   ]
  },
  {
   "cell_type": "code",
   "execution_count": null,
   "metadata": {},
   "outputs": [],
   "source": [
    "######\n",
    "# your code here\n",
    "######\n",
    "\n"
   ]
  },
  {
   "cell_type": "markdown",
   "metadata": {},
   "source": [
    "**Q3.3:** Print the 5 shortest songs (all features):"
   ]
  },
  {
   "cell_type": "code",
   "execution_count": null,
   "metadata": {},
   "outputs": [],
   "source": [
    "######\n",
    "# your code here\n",
    "######\n",
    "\n"
   ]
  },
  {
   "cell_type": "markdown",
   "metadata": {},
   "source": [
    "**Q3.4:**  What is the average length of the 5 shortest songs?"
   ]
  },
  {
   "cell_type": "code",
   "execution_count": null,
   "metadata": {},
   "outputs": [],
   "source": [
    "######\n",
    "# your code here\n",
    "######\n",
    "\n"
   ]
  },
  {
   "cell_type": "markdown",
   "metadata": {},
   "source": [
    "**Q3.5:**  How many distinct genres are present in the top 50 songs?"
   ]
  },
  {
   "cell_type": "code",
   "execution_count": null,
   "metadata": {
    "scrolled": true
   },
   "outputs": [],
   "source": [
    "######\n",
    "# your code here\n",
    "######\n",
    "\n"
   ]
  },
  {
   "cell_type": "markdown",
   "metadata": {},
   "source": [
    "**Q3.6:**  Print the songs that have a Danceability score above 80 and a popularity above 86. HINT: you can combine conditional statements with the & operator, and each item must be surrounded with ( ) brackets."
   ]
  },
  {
   "cell_type": "code",
   "execution_count": null,
   "metadata": {},
   "outputs": [],
   "source": [
    "######\n",
    "# your code here\n",
    "######\n"
   ]
  },
  {
   "cell_type": "markdown",
   "metadata": {},
   "source": [
    "**Q3.7:**  Plot a histogram of the Genre counts (x-axis is the Genres, y-axis is the # of songs with that Genre)"
   ]
  },
  {
   "cell_type": "code",
   "execution_count": null,
   "metadata": {},
   "outputs": [],
   "source": [
    "######\n",
    "# your code here\n",
    "######"
   ]
  },
  {
   "cell_type": "markdown",
   "metadata": {},
   "source": [
    "**Q3.8 (open ended):** Think of a _subset_ of the data that you're interested in. Think of an interesting plot that could be shown to illustrate that data. With a partner, discuss whose would be easier to create. Together, create that plot. Then, try to create the harder plot."
   ]
  },
  {
   "cell_type": "code",
   "execution_count": null,
   "metadata": {},
   "outputs": [],
   "source": [
    "######\n",
    "# your code here\n",
    "######"
   ]
  },
  {
   "cell_type": "markdown",
   "metadata": {},
   "source": [
    "##  Part 4: Beautiful Soup \n",
    "Data Engineering, the process of gathering and preparing data for analysis, is a very big part of Data Science.\n",
    "\n",
    "Datasets might not be formatted in the way you need (e.g. you have categorical features but your algorithm requires numerical features); or you might need to cross-reference some dataset to another that has a different format; or you might be dealing with a dataset that contains missing or invalid data.\n",
    "\n",
    "These are just a few examples of why data retrieval and cleaning are so important.\n",
    "\n",
    "---"
   ]
  },
  {
   "cell_type": "markdown",
   "metadata": {},
   "source": [
    "### `requests`:  Retrieving Data from the Web"
   ]
  },
  {
   "cell_type": "markdown",
   "metadata": {},
   "source": [
    "In HW1, you will be asked to retrieve some data from the Internet. `Python` has many built-in libraries that were developed over the years to do exactly that (e.g. `urllib`, `urllib2`, `urllib3`).\n",
    "\n",
    "However, these libraries are very low-level and somewhat hard to use. They become especially cumbersome when you need to issue POST requests or authenticate against a web service.\n",
    "\n",
    "Luckly, as with most tasks in `Python`, someone has developed a library that simplifies these tasks. In reality, the requests made both on this lab and on HW1 are fairly simple, and could easily be done using one of the built-in libraries. However, it is better to get acquainted to `requests` as soon as possible, since you will probably need it in the future."
   ]
  },
  {
   "cell_type": "code",
   "execution_count": 4,
   "metadata": {},
   "outputs": [],
   "source": [
    "# You tell Python that you want to use a library with the import statement.\n",
    "import requests"
   ]
  },
  {
   "cell_type": "markdown",
   "metadata": {},
   "source": [
    "Now that the requests library was imported into our namespace, we can use the functions offered by it.\n",
    "\n",
    "In this case we'll use the appropriately named `get` function to issue a *GET* request. This is equivalent to typing a URL into your browser and hitting enter."
   ]
  },
  {
   "cell_type": "code",
   "execution_count": 6,
   "metadata": {},
   "outputs": [],
   "source": [
    "# Get the HU Wikipedia page\n",
    "req = requests.get(\"https://en.wikipedia.org/wiki/Harvard_University\")"
   ]
  },
  {
   "cell_type": "markdown",
   "metadata": {},
   "source": [
    "Python is an Object Oriented language, and everything on it is an object. Even built-in functions such as `len` are just syntactic sugar for acting on object properties.\n",
    "\n",
    "We will not dwell too long on OO concepts, but some of Python's idiosyncrasies will be easier to understand if we spend a few minutes on this subject.\n",
    "\n",
    "When you evaluate an object itself, such as the `req` object we created above, Python will automatially call the `__str__()` or `__repr__()` method of that object. The default values for these methods are usually very simple and boring. The `req` object however has a custom implementation that shows the object type (i.e. `Response`) and the HTTP status number (200 means the request was successful)."
   ]
  },
  {
   "cell_type": "code",
   "execution_count": 7,
   "metadata": {},
   "outputs": [
    {
     "data": {
      "text/plain": [
       "<Response [200]>"
      ]
     },
     "execution_count": 7,
     "metadata": {},
     "output_type": "execute_result"
    }
   ],
   "source": [
    "req"
   ]
  },
  {
   "cell_type": "markdown",
   "metadata": {},
   "source": [
    "Just to confirm, we will call the `type` function on the object to make sure it agrees with the value above."
   ]
  },
  {
   "cell_type": "code",
   "execution_count": 8,
   "metadata": {},
   "outputs": [
    {
     "data": {
      "text/plain": [
       "requests.models.Response"
      ]
     },
     "execution_count": 8,
     "metadata": {},
     "output_type": "execute_result"
    }
   ],
   "source": [
    "type(req)"
   ]
  },
  {
   "cell_type": "markdown",
   "metadata": {},
   "source": [
    "Another very nifty Python function is `dir`. You can use it to list all the properties of an object.\n",
    "\n",
    "By the way, properties starting with a single and double underscores are usually not meant to be called directly."
   ]
  },
  {
   "cell_type": "code",
   "execution_count": 9,
   "metadata": {},
   "outputs": [
    {
     "data": {
      "text/plain": [
       "['__attrs__',\n",
       " '__bool__',\n",
       " '__class__',\n",
       " '__delattr__',\n",
       " '__dict__',\n",
       " '__dir__',\n",
       " '__doc__',\n",
       " '__enter__',\n",
       " '__eq__',\n",
       " '__exit__',\n",
       " '__format__',\n",
       " '__ge__',\n",
       " '__getattribute__',\n",
       " '__getstate__',\n",
       " '__gt__',\n",
       " '__hash__',\n",
       " '__init__',\n",
       " '__init_subclass__',\n",
       " '__iter__',\n",
       " '__le__',\n",
       " '__lt__',\n",
       " '__module__',\n",
       " '__ne__',\n",
       " '__new__',\n",
       " '__nonzero__',\n",
       " '__reduce__',\n",
       " '__reduce_ex__',\n",
       " '__repr__',\n",
       " '__setattr__',\n",
       " '__setstate__',\n",
       " '__sizeof__',\n",
       " '__str__',\n",
       " '__subclasshook__',\n",
       " '__weakref__',\n",
       " '_content',\n",
       " '_content_consumed',\n",
       " '_next',\n",
       " 'apparent_encoding',\n",
       " 'close',\n",
       " 'connection',\n",
       " 'content',\n",
       " 'cookies',\n",
       " 'elapsed',\n",
       " 'encoding',\n",
       " 'headers',\n",
       " 'history',\n",
       " 'is_permanent_redirect',\n",
       " 'is_redirect',\n",
       " 'iter_content',\n",
       " 'iter_lines',\n",
       " 'json',\n",
       " 'links',\n",
       " 'next',\n",
       " 'ok',\n",
       " 'raise_for_status',\n",
       " 'raw',\n",
       " 'reason',\n",
       " 'request',\n",
       " 'status_code',\n",
       " 'text',\n",
       " 'url']"
      ]
     },
     "execution_count": 9,
     "metadata": {},
     "output_type": "execute_result"
    }
   ],
   "source": [
    "dir(req)"
   ]
  },
  {
   "cell_type": "markdown",
   "metadata": {},
   "source": [
    "Right now `req` holds a reference to a *Request* object; but we are interested in the text associated with the web page, not the object itself.\n",
    "\n",
    "So the next step is to assign the value of the `text` property of this `Request` object to a variable."
   ]
  },
  {
   "cell_type": "code",
   "execution_count": 10,
   "metadata": {},
   "outputs": [
    {
     "data": {
      "text/plain": [
       "'sion I</a> – <a href=\"/wiki/Ivy_League\" title=\"Ivy League\">Ivy League</a></td></tr><tr><th scope=\"row\" class=\"infobox-label\" style=\"padding-right:0.65em;\"><a href=\"/wiki/Athletic_nickname\" title=\"Athletic nickname\">Nickname</a></th><td class=\"infobox-data\"><a href=\"/wiki/Harvard_Crimson\" title=\"Harvard Crimson\">Harvard Crimson</a></td></tr><tr><th scope=\"row\" class=\"infobox-label\" style=\"padding-right:0.65em;\">Mascot</th><td class=\"infobox-data\">John Harvard</td></tr><tr><th scope=\"row\" class=\"infobox-label\" style=\"padding-right:0.65em;\">Website</th><td class=\"infobox-data\"><span class=\"url\"><a rel=\"nofollow\" class=\"external text\" href=\"http://harvard.edu\">harvard<wbr />.edu</a></span></td></tr><tr><td colspan=\"2\" class=\"infobox-full-data\"><a href=\"/wiki/File:Harvard_University_logo.svg\" class=\"image\" title=\"Logotype of Harvard University\"><img alt=\"Logotype of Harvard University\" src=\"//upload.wikimedia.org/wikipedia/commons/thumb/7/70/Harvard_University_logo.svg/220px-Harvard_University_logo.svg.png\" decoding=\"async\" width=\"220\" height=\"58\" srcset=\"//upload.wikimedia.org/wikipedia/commons/thumb/7/70/Harvard_University_logo.svg/330px-Harvard_University_logo.svg.png 1.5x, //upload.wikimedia.org/wikipedia/commons/thumb/7/70/Harvard_University_logo.svg/440px-Harvard_University_logo.svg.png 2x\" data-file-width=\"1123\" data-file-height=\"294\" /></a></td></tr></tbody></table>\\n<p><b>Harvard University</b> is a <a href=\"/wiki/Private_university\" title=\"Private university\">private</a> <a href=\"/wiki/Ivy_League\" title=\"Ivy League\">Ivy League</a> <a href=\"/wiki/Research_university\" title=\"Research university\">research university</a> in <a href=\"/wiki/Cambridge,_Massachusetts\" title=\"Cambridge, Massachusetts\">Cambridge, Massachusetts</a>. Established in 1636 and named for its first benefactor, clergyman <a href=\"/wiki/John_Harvard_(clergyman)\" title=\"John Harvard (clergyman)\">John Harvard</a>, Harvard is the <a href=\"/wiki/Colonial_colleges\" title=\"Colonial colleges\">oldest institution of higher learning in the United States</a><sup id=\"cite_ref-6\" class=\"reference\"><a href=\"#cite_note-6\">&#91;6&#93;</a></sup>\\nand among the most prestigious in the world.<sup id=\"cite_ref-7\" class=\"reference\"><a href=\"#cite_note-7\">&#91;7&#93;</a></sup>\\n</p><p>The Massachusetts colonial legislature, the <a href=\"/wiki/Massachusetts_General_Court\" title=\"Massachusetts General Court\">General Court</a>, authorized Harvard\\'s founding. In its early years, <a href=\"/wiki/Harvard_College\" title=\"Harvard College\">Harvard College</a> primarily trained <a href=\"/wiki/Congregationalism_in_the_United_States\" title=\"Congregationalism in the United States\">Congregational</a> and <a href=\"/wiki/Unitarianism\" title=\"Unitarianism\">Unitarian</a> clergy, although it has never been formally affiliated with any <a href=\"/wiki/Religious_denomination\" title=\"Religious denomination\">denomination</a>. Its curriculum and student body were gradually secularized during the 18th century, and by the 19th century, Harvard had emerged as the central cultural establishment among <a href=\"/wiki/Boston_Brahmin\" title=\"Boston Brahmin\">the Boston elite</a>.<sup id=\"cite_ref-8\" class=\"reference\"><a href=\"#cite_note-8\">&#91;8&#93;</a></sup><sup id=\"cite_ref-9\" class=\"reference\"><a href=\"#cite_note-9\">&#91;9&#93;</a></sup>\\nFollowing the <a href=\"/wiki/American_Civil_War\" title=\"American Civil War\">American Civil War</a>, President <a href=\"/wiki/Charles_William_Eliot\" title=\"Charles William Eliot\">Charles William Eliot</a>\\'s long tenure (1869–1909) transformed the <a href=\"/wiki/Harvard_College\" title=\"Harvard College\">college</a> and affiliated professional schools into a modern <a href=\"/wiki/Research_university\" title=\"Research university\">research university</a>; Harvard became a founding member of the <a href=\"/wiki/Association_of_American_Universities\" title=\"Association of American Universities\">Association of American Universities</a> in 1900.<sup id=\"cite_ref-AAU_10-0\" class=\"reference\"><a href=\"#cite_note-AAU-10\">&#91;10&#93;</a></sup> <a href=\"/wiki/James_B._Conant\" title=\"James B. Conant\">James B. Conant</a> led the university through the <a href=\"/wiki/Great_Depression\" title=\"Great Depression\">Great Depression</a> and <a href=\"/wiki/World_War_II\" title=\"World War II\">World War II</a>; he liberalized admissions after the war.\\n</p><p>The university is composed of ten academic faculties plus the <a href=\"/wiki/Radcliffe_Institute_for_Advanced_Study\" title=\"Radcliffe Institute for Advanced Study\">Radcliffe Institute for Advanced Study</a>. <a href=\"/wiki/Harvard_Faculty_of_Arts_and_Sciences\" title=\"Harvard Faculty of Arts and Sciences\">Arts and Sciences</a> offers study in a wide range of <a href=\"/wiki/Academic_discipline\" title=\"Academic discipline\">academic disciplines</a> for undergraduates and for graduates, while the other faculties offer only graduate degrees, mostly <a href=\"/wiki/Professional_degree\" title=\"Professional degree\">professional</a>. Harvard has three main campuses:<sup id=\"cite_ref-11\" class=\"reference\"><a href=\"#cite_note-11\">&#91;11&#93;</a></sup>\\nthe 209-acre (85&#160;ha) Cambridge campus centered on <a href=\"/wiki/Harvard_Yard\" title=\"Harvard Yard\">Harvard Yard</a>; an adjoining campus immediately across the <a href=\"/wiki/Charles_River\" title=\"Charles River\">Charles River</a> in the <a href=\"/wiki/Allston\" title=\"Allston\">Allston</a> neighborhood of Boston; and the medical campus in Boston\\'s <a href=\"/wiki/Longwood_Medical_and_Academic_Area\" title=\"Longwood Medical and Academic Area\">Longwood Medical Area</a>.<sup id=\"cite_ref-Campus_12-0\" class=\"reference\"><a href=\"#cite_note-Campus-12\">&#91;12&#93;</a></sup> <a href=\"/wiki/Harvard_University_endowment\" title=\"Harvard University endowment\">Harvard\\'s endowment</a> is valued at $41.9&#160;billion, making it the <a href=\"/wiki/List_of_colleges_and_universities_in_the_United_States_by_endowment\" title=\"List of colleges and universities in the United States by endowment\">largest of any academic institution</a>.<sup id=\"cite_ref-Endowment_3-1\" class=\"reference\"><a href=\"#cite_note-Endowment-3\">&#91;3&#93;</a></sup> Endowment income helps enable the undergraduate college to <a href=\"/wiki/Need-blind_admission\" title=\"Need-blind admission\">admit students regardless of financial need</a> and provide generous financial aid with no loans.<sup id=\"cite_ref-13\" class=\"reference\"><a href=\"#cite_note-13\">&#91;13&#93;</a></sup> The <a href=\"/wiki/Harvard_Library\" title=\"Harvard Library\">Harvard Library</a> is the world\\'s largest academic library system, comprising 79 individual libraries holding about 20.4&#160;million items.<sup id=\"cite_ref-hlar_14-0\" class=\"reference\"><a href=\"#cite_note-hlar-14\">&#91;14&#93;</a></sup><sup id=\"cite_ref-largestlibs_15-0\" class=\"reference\"><a href=\"#cite_note-largestlibs-15\">&#91;15&#93;</a></sup><sup id=\"cite_ref-speaking_16-0\" class=\"reference\"><a href=\"#cite_note-speaking-16\">&#91;16&#93;</a></sup><sup id=\"cite_ref-Harvard_Media_Relations_17-0\" class=\"reference\"><a href=\"#cite_note-Harvard_Media_Relations-17\">&#91;17&#93;</a></sup>\\n</p><p>Harvard has more alumni, faculty, and researchers who have won <a href=\"/wiki/List_of_Nobel_laureates_by_university_affiliation\" title=\"List of Nobel laureates by university affiliation\">Nobel Prizes</a> (161) and <a href=\"/wiki/List_of_Fields_Medal_winners_by_university_affiliation\" title=\"List of Fields Medal winners by university affiliation\">Fields Medals</a> (18) than any other university in the world and more alumni who have been members of the <a href=\"/wiki/United_States_Congress\" title=\"United States Congress\">U.S. Congress</a>, <a href=\"/wiki/MacArthur_Fellows\" class=\"mw-redirect\" title=\"MacArthur Fellows\">MacArthur Fellows</a>, <a href=\"/wiki/Rhodes_Scholarship\" title=\"Rhodes Scholarship\">Rhodes Scholars</a> (375), and <a href=\"/wiki/Marshall_Scholarship\" title=\"Marshall Scholarship\">Marshall Scholars</a> (255) than any other university in the United States.<sup id=\"cite_ref-18\" class=\"reference\"><a href=\"#cite_note-18\">&#91;18&#93;</a></sup> Its alumni also include <a href=\"/wiki/List_of_Presidents_of_the_United_States_by_education\" class=\"mw-redirect\" title=\"List of Presidents of the United States by education\">eight U.S. presidents</a> and <a href=\"/wiki/List_of_universities_by_number_of_billionaire_alumni\" title=\"List of universities by number of billionaire alumni\">188 living billionaires</a>, the most of any university. Fourteen <a href=\"/wiki/List_of_Turing_Award_laureates_by_university_affiliation\" title=\"List of Turing Award laureates by university affiliation\">Turing Award laureates</a> have been Harvard affiliates. Students and alumni have also won 10 <a href=\"/wiki/Academy_Awards\" title=\"Academy Awards\">Academy Awards</a>, 48 <a href=\"/wiki/Pulitzer_Prize\" title=\"Pulitzer Prize\">Pulitzer Prizes</a>, and <a href=\"/wiki/List_of_American_universities_with_Olympic_medals\" title=\"List of American universities with Olympic medals\">108 Olympic medals</a> (46 gold), and they have founded <a href=\"/wiki/List_of_companies_founded_by_Harvard_University_alumni\" title=\"List of companies founded by Harvard University alumni\">many notable companies</a>.\\n</p>\\n<div id=\"toc\" class=\"toc\" role=\"navigation\" aria-labelledby=\"mw-toc-heading\"><input type=\"checkbox\" role=\"button\" id=\"toctogglecheckbox\" class=\"toctogglecheckbox\" style=\"display:none\" /><div class=\"toctitle\" lang=\"en\" dir=\"ltr\"><h2 id=\"mw-toc-heading\">Contents</h2><span class=\"toctogglespan\"><label class=\"toctogglelabel\" for=\"toctogglecheckbox\"></label></span></div>\\n<ul>\\n<li class=\"toclevel-1 tocsection-1\"><a href=\"#History\"><span class=\"tocnumber\">1</span> <span class=\"toctext\">History</span></a>\\n<ul>\\n<li class=\"toclevel-2 tocsection-2\"><a href=\"#Colonial\"><span class=\"tocnumber\">1.1</span> <span class=\"toctext\">Colonial</span></a></li>\\n<li class=\"toclevel-2 tocsection-3\"><a href=\"#19th_century\"><span class=\"tocnumber\">1.2</span> <span class=\"toctext\">19th century</span></'"
      ]
     },
     "execution_count": 10,
     "metadata": {},
     "output_type": "execute_result"
    }
   ],
   "source": [
    "page = req.text\n",
    "page[20000:30000]"
   ]
  },
  {
   "cell_type": "markdown",
   "metadata": {},
   "source": [
    "Great! Now we have the text of the Harvard University Wikipedia page. But this mess of HTML tags would be a pain to parse manually. Which is why we will use another very cool Python library called `BeautifulSoup`."
   ]
  },
  {
   "cell_type": "markdown",
   "metadata": {},
   "source": [
    "### `BeautifulSoup`\n",
    "\n",
    "Parsing data would be a breeze if we could always use well formatted data sources, such as CSV, JSON, or XML; but some formats such as HTML are at the same time a very popular and a pain to parse.\n",
    "\n",
    "One of the problems with HTML is that over the years browsers have evolved to be very forgiving of \"malformed\" syntax. Your browser is smart enough to detect some common problems, such as open tags, and correct them on the fly.\n",
    "\n",
    "Unfortunately, we do not have the time or patience to implement all the different corner cases, so we'll let BeautifulSoup do that for us.\n",
    "\n",
    "You'll notice that the `import` statement bellow is different from what we used for `requests`. The _from library import thing_ pattern is useful when you don't want to reference a function byt its full name (like we did with `requests.get`), but you also don't want to import every single thing on that library into your namespace."
   ]
  },
  {
   "cell_type": "code",
   "execution_count": 11,
   "metadata": {},
   "outputs": [],
   "source": [
    "from bs4 import BeautifulSoup"
   ]
  },
  {
   "cell_type": "markdown",
   "metadata": {},
   "source": [
    "`BeautifulSoup` can deal with `HTML` or `XML` data, so the next line parses the contents of the `page` variable using its `HTML` parser, and assigns the result of that to the `soup` variable."
   ]
  },
  {
   "cell_type": "code",
   "execution_count": 12,
   "metadata": {},
   "outputs": [],
   "source": [
    "soup = BeautifulSoup(page, 'html.parser')"
   ]
  },
  {
   "cell_type": "code",
   "execution_count": 13,
   "metadata": {},
   "outputs": [
    {
     "data": {
      "text/plain": [
       "bs4.BeautifulSoup"
      ]
     },
     "execution_count": 13,
     "metadata": {},
     "output_type": "execute_result"
    }
   ],
   "source": [
    "type(soup)"
   ]
  },
  {
   "cell_type": "markdown",
   "metadata": {},
   "source": [
    "Doesn't look much different from the `page` object representation. Let's make sure the two are different types."
   ]
  },
  {
   "cell_type": "code",
   "execution_count": 14,
   "metadata": {},
   "outputs": [
    {
     "data": {
      "text/plain": [
       "str"
      ]
     },
     "execution_count": 14,
     "metadata": {},
     "output_type": "execute_result"
    }
   ],
   "source": [
    "type(page)"
   ]
  },
  {
   "cell_type": "markdown",
   "metadata": {},
   "source": [
    "Looks like they are indeed different.\n",
    "\n",
    "`BeautifulSoup` objects have a cool little method that allows you to see the `HTML` content in a nice, indented way."
   ]
  },
  {
   "cell_type": "code",
   "execution_count": 15,
   "metadata": {},
   "outputs": [
    {
     "name": "stdout",
     "output_type": "stream",
     "text": [
      "<!DOCTYPE html>\n",
      "<html class=\"client-nojs\" dir=\"ltr\" lang=\"en\">\n",
      " <head>\n",
      "  <meta charset=\"utf-8\"/>\n",
      "  <title>\n",
      "   Harvard University - Wikipedia\n",
      "  </title>\n",
      "  <script>\n",
      "   document.documentElement.className=\"client-js\";RLCONF={\"wgBreakFrames\":!1,\"wgSeparatorTransformTable\":[\"\",\"\"],\"wgDigitTransformTable\":[\"\",\"\"],\"wgDefaultDateFormat\":\"dmy\",\"wgMonthNames\":[\"\",\"January\",\"February\",\"March\",\"April\",\"May\",\"June\",\"July\",\"August\",\"September\",\"October\",\"November\",\"December\"],\"wgRequestId\":\"076d5b49-fd4b-4b8a-af8e-987bddcf7cc3\",\"wgCSPNonce\":!1,\"wgCanonicalNamespace\":\"\",\"wgCanonicalSpecialPageName\":!1,\"wgNamespaceNumber\":0,\"wgPageName\":\"Harvard_University\",\"wgTitle\":\"Harvard University\",\"wgCurRevisionId\":1029495184,\"wgRevisionId\":1029495184,\"wgArticleId\":18426501,\"wgIsArticle\":!0,\"wgIsRedirect\":!1,\"wgAction\":\"view\",\"wgUserName\":null,\"wgUserGroups\":[\"*\"],\"wgCategories\":[\"CS1 maint: location\",\"Webarchive template wayback links\",\"CS1: Julian–Gregorian uncertainty\",\"Articles to be merged from June 2021\",\"\n"
     ]
    }
   ],
   "source": [
    "print(soup.prettify()[:1000])"
   ]
  },
  {
   "cell_type": "markdown",
   "metadata": {},
   "source": [
    "Looks like it's our page!\n",
    "\n",
    "We can now reference elements of the `HTML` document in different ways. One very convenient way is by using the dot notation, which allows us to access the elements as if they were properties of the object."
   ]
  },
  {
   "cell_type": "code",
   "execution_count": 17,
   "metadata": {},
   "outputs": [
    {
     "data": {
      "text/plain": [
       "<title>Harvard University - Wikipedia</title>"
      ]
     },
     "execution_count": 17,
     "metadata": {},
     "output_type": "execute_result"
    }
   ],
   "source": [
    "soup.title"
   ]
  },
  {
   "cell_type": "markdown",
   "metadata": {},
   "source": [
    "This is nice for `HTML` elements that only appear once per page, such the the `title` tag. But what about elements that can appear multiple times?"
   ]
  },
  {
   "cell_type": "code",
   "execution_count": 18,
   "metadata": {},
   "outputs": [
    {
     "data": {
      "text/plain": [
       "<p class=\"mw-empty-elt\">\n",
       "</p>"
      ]
     },
     "execution_count": 18,
     "metadata": {},
     "output_type": "execute_result"
    }
   ],
   "source": [
    "# Be careful with elements that show up multiple times.\n",
    "soup.p"
   ]
  },
  {
   "cell_type": "markdown",
   "metadata": {},
   "source": [
    "Uh Oh. Turns out the attribute syntax in `Beautiful` soup is what is called *syntactic sugar*. That's why it is safer to use the explicit commands behind that syntactic sugar I mentioned. These are:\n",
    "* `BeautifulSoup.find` for getting single elements, and \n",
    "* `BeautifulSoup.find_all` for retrieving multiple elements."
   ]
  },
  {
   "cell_type": "code",
   "execution_count": 19,
   "metadata": {},
   "outputs": [
    {
     "data": {
      "text/plain": [
       "108"
      ]
     },
     "execution_count": 19,
     "metadata": {},
     "output_type": "execute_result"
    }
   ],
   "source": [
    "len(soup.find_all(\"p\"))"
   ]
  },
  {
   "cell_type": "markdown",
   "metadata": {},
   "source": [
    "If you look at the Wikipedia page on your browser, you'll notice that it has a couple of tables in it. We will be working with the \"Demographics\" table, but first we need to find it.\n",
    "\n",
    "One of the `HTML` attributes that will be very useful to us is the `class` attribute.\n",
    "\n",
    "Getting the class of a single element is easy!"
   ]
  },
  {
   "cell_type": "code",
   "execution_count": 20,
   "metadata": {},
   "outputs": [
    {
     "data": {
      "text/plain": [
       "['box-Merge_from', 'plainlinks', 'metadata', 'ambox', 'ambox-move']"
      ]
     },
     "execution_count": 20,
     "metadata": {},
     "output_type": "execute_result"
    }
   ],
   "source": [
    "soup.table[\"class\"]"
   ]
  },
  {
   "cell_type": "markdown",
   "metadata": {},
   "source": [
    "Next we will use a *list comprehension* to see all the tables that have a `class` attribute. "
   ]
  },
  {
   "cell_type": "code",
   "execution_count": 21,
   "metadata": {},
   "outputs": [
    {
     "data": {
      "text/plain": [
       "[['box-Merge_from', 'plainlinks', 'metadata', 'ambox', 'ambox-move'],\n",
       " ['infobox', 'vcard'],\n",
       " ['toccolours'],\n",
       " ['infobox'],\n",
       " ['wikitable', 'sortable', 'collapsible', 'collapsed', 'floatright'],\n",
       " ['wikitable', 'sortable', 'collapsible', 'collapsed', 'floatright'],\n",
       " ['wikitable'],\n",
       " ['box-Cleanup_gallery', 'plainlinks', 'metadata', 'ambox', 'ambox-style'],\n",
       " ['metadata', 'mbox-small'],\n",
       " ['nowraplinks', 'mw-collapsible', 'mw-collapsed', 'navbox-inner'],\n",
       " ['nowraplinks', 'navbox-subgroup'],\n",
       " ['nowraplinks', 'mw-collapsible', 'mw-collapsed', 'navbox-inner'],\n",
       " ['nowraplinks', 'mw-collapsible', 'autocollapse', 'navbox-inner'],\n",
       " ['nowraplinks', 'mw-collapsible', 'mw-collapsed', 'navbox-inner'],\n",
       " ['nowraplinks', 'mw-collapsible', 'autocollapse', 'navbox-inner'],\n",
       " ['nowraplinks', 'mw-collapsible', 'autocollapse', 'navbox-inner'],\n",
       " ['nowraplinks', 'mw-collapsible', 'autocollapse', 'navbox-inner'],\n",
       " ['nowraplinks', 'mw-collapsible', 'autocollapse', 'navbox-inner'],\n",
       " ['nowraplinks', 'mw-collapsible', 'autocollapse', 'navbox-inner'],\n",
       " ['nowraplinks', 'mw-collapsible', 'autocollapse', 'navbox-inner'],\n",
       " ['nowraplinks', 'hlist', 'mw-collapsible', 'autocollapse', 'navbox-inner'],\n",
       " ['nowraplinks', 'mw-collapsible', 'autocollapse', 'navbox-inner'],\n",
       " ['nowraplinks', 'mw-collapsible', 'autocollapse', 'navbox-inner'],\n",
       " ['nowraplinks', 'mw-collapsible', 'mw-collapsed', 'navbox-inner'],\n",
       " ['nowraplinks', 'hlist', 'mw-collapsible', 'autocollapse', 'navbox-inner'],\n",
       " ['nowraplinks', 'navbox-subgroup'],\n",
       " ['nowraplinks', 'hlist', 'mw-collapsible', 'autocollapse', 'navbox-inner']]"
      ]
     },
     "execution_count": 21,
     "metadata": {},
     "output_type": "execute_result"
    }
   ],
   "source": [
    "# the classes of all tables that have a class attribute set on them\n",
    "[t[\"class\"] for t in soup.find_all(\"table\") if t.get(\"class\")]"
   ]
  },
  {
   "cell_type": "markdown",
   "metadata": {},
   "source": [
    "As already mentioned, we will be using the Demographics table for this lab. The next cell contains the `HTML` elements of said table. We will render it in different parts of the notebook to make it easier to follow along the parsing steps."
   ]
  },
  {
   "cell_type": "code",
   "execution_count": 27,
   "metadata": {},
   "outputs": [],
   "source": [
    "table_demographics = soup.find_all(\"table\", \"wikitable\")[2]"
   ]
  },
  {
   "cell_type": "code",
   "execution_count": 28,
   "metadata": {},
   "outputs": [
    {
     "data": {
      "text/html": [
       "<table class=\"wikitable\" style=\"text-align:center; float:right; font-size:85%; margin-right:2em;\">\n",
       "<caption><i>Student demographics (Fall 2019)</i><sup class=\"reference\" id=\"cite_ref-104\"><a href=\"#cite_note-104\">[104]</a></sup>\n",
       "</caption>\n",
       "<tbody><tr>\n",
       "<th></th>\n",
       "<th>Undergrad</th>\n",
       "<th>Grad/prof\n",
       "</th></tr>\n",
       "<tr>\n",
       "<th>Asian\n",
       "</th>\n",
       "<td>21%</td>\n",
       "<td>13%\n",
       "</td></tr>\n",
       "<tr>\n",
       "<th>Black\n",
       "</th>\n",
       "<td>9%</td>\n",
       "<td>5%\n",
       "</td></tr>\n",
       "<tr>\n",
       "<th>Hispanic or Latino\n",
       "</th>\n",
       "<td>11%</td>\n",
       "<td>7%\n",
       "</td></tr>\n",
       "<tr>\n",
       "<th>White\n",
       "</th>\n",
       "<td>37%</td>\n",
       "<td>38%\n",
       "</td></tr>\n",
       "<tr>\n",
       "<th>Two or more races\n",
       "</th>\n",
       "<td>8%</td>\n",
       "<td>3%\n",
       "</td></tr>\n",
       "<tr>\n",
       "<th>International\n",
       "</th>\n",
       "<td>12%</td>\n",
       "<td>32%\n",
       "</td></tr></tbody></table>"
      ],
      "text/plain": [
       "<IPython.core.display.HTML object>"
      ]
     },
     "execution_count": 28,
     "metadata": {},
     "output_type": "execute_result"
    }
   ],
   "source": [
    "from IPython.core.display import HTML\n",
    "HTML(str(table_demographics))"
   ]
  },
  {
   "cell_type": "markdown",
   "metadata": {},
   "source": [
    "First we'll use a list comprehension to extract the rows (*tr*) elements."
   ]
  },
  {
   "cell_type": "code",
   "execution_count": 29,
   "metadata": {
    "scrolled": true
   },
   "outputs": [
    {
     "name": "stdout",
     "output_type": "stream",
     "text": [
      "[<tr>\n",
      "<th></th>\n",
      "<th>Undergrad</th>\n",
      "<th>Grad/prof\n",
      "</th></tr>, <tr>\n",
      "<th>Asian\n",
      "</th>\n",
      "<td>21%</td>\n",
      "<td>13%\n",
      "</td></tr>, <tr>\n",
      "<th>Black\n",
      "</th>\n",
      "<td>9%</td>\n",
      "<td>5%\n",
      "</td></tr>, <tr>\n",
      "<th>Hispanic or Latino\n",
      "</th>\n",
      "<td>11%</td>\n",
      "<td>7%\n",
      "</td></tr>, <tr>\n",
      "<th>White\n",
      "</th>\n",
      "<td>37%</td>\n",
      "<td>38%\n",
      "</td></tr>, <tr>\n",
      "<th>Two or more races\n",
      "</th>\n",
      "<td>8%</td>\n",
      "<td>3%\n",
      "</td></tr>, <tr>\n",
      "<th>International\n",
      "</th>\n",
      "<td>12%</td>\n",
      "<td>32%\n",
      "</td></tr>]\n"
     ]
    }
   ],
   "source": [
    "rows = [row for row in table_demographics.find_all(\"tr\")]\n",
    "print(rows)"
   ]
  },
  {
   "cell_type": "code",
   "execution_count": 30,
   "metadata": {},
   "outputs": [
    {
     "data": {
      "text/html": [
       "<tr>\n",
       "<th></th>\n",
       "<th>Undergrad</th>\n",
       "<th>Grad/prof\n",
       "</th></tr>"
      ],
      "text/plain": [
       "<IPython.core.display.HTML object>"
      ]
     },
     "execution_count": 30,
     "metadata": {},
     "output_type": "execute_result"
    }
   ],
   "source": [
    "header_row = rows[0]\n",
    "HTML(str(header_row))"
   ]
  },
  {
   "cell_type": "markdown",
   "metadata": {},
   "source": [
    "We will then use a `lambda` expression to replace new line characters with spaces. `Lambda` expressions are to functions what list comprehensions are to lists: namely a more concise way to achieve the same thing.\n",
    "\n",
    "In reality, both lambda expressions and list comprehensions are a little different from their function and loop counterparts. But for the purposes of this class we can ignore those differences."
   ]
  },
  {
   "cell_type": "code",
   "execution_count": 32,
   "metadata": {},
   "outputs": [],
   "source": [
    "# Lambda expressions return the value of the expression inside it.\n",
    "# In this case, it will return a string with new line characters replaced by spaces.\n",
    "rem_nl = lambda s: s.replace(\"\\n\", \" \")"
   ]
  },
  {
   "cell_type": "markdown",
   "metadata": {},
   "source": [
    "#### Splitting the data\n",
    "Next we extract the text value of the columns. If you look at the table above, you'll see that we have three columns and six rows.\n",
    "\n",
    "Here we're doing the following:\n",
    "* Taking the first element (`Python` indices start at zero)\n",
    "* Iterating over the *th* elements inside it\n",
    "* Taking the text value of those elements\n",
    "\n",
    "We should end up with a list of column names.\n",
    "\n",
    "But there is one little caveat: the first column of the table is actually an empty string (look at the cell right above the row names). We could add it to our list and then remove it afterwards; but instead we will use the `if` statement inside the list comprehension to filter that out.\n",
    "\n",
    "In the following cell, `get_text` will return an empty string for the first cell of the table, which means that the test will fail and the value will not be added to the list."
   ]
  },
  {
   "cell_type": "code",
   "execution_count": 33,
   "metadata": {},
   "outputs": [
    {
     "data": {
      "text/plain": [
       "['Undergrad', 'Grad/prof ']"
      ]
     },
     "execution_count": 33,
     "metadata": {},
     "output_type": "execute_result"
    }
   ],
   "source": [
    "# the if col.get_text() takes care of no-text in the upper left\n",
    "columns = [rem_nl(col.get_text()) for col in header_row.find_all(\"th\") if col.get_text()]\n",
    "columns"
   ]
  },
  {
   "cell_type": "markdown",
   "metadata": {},
   "source": [
    "Now let's do the same for the rows. Notice that since we have already parsed the header row, we will continue from the second row."
   ]
  },
  {
   "cell_type": "code",
   "execution_count": 34,
   "metadata": {},
   "outputs": [
    {
     "data": {
      "text/plain": [
       "['Asian\\n',\n",
       " 'Black\\n',\n",
       " 'Hispanic or Latino\\n',\n",
       " 'White\\n',\n",
       " 'Two or more races\\n',\n",
       " 'International\\n']"
      ]
     },
     "execution_count": 34,
     "metadata": {},
     "output_type": "execute_result"
    }
   ],
   "source": [
    "indexes = [row.find(\"th\").get_text() for row in rows[1:]]\n",
    "indexes"
   ]
  },
  {
   "cell_type": "markdown",
   "metadata": {},
   "source": [
    "Now we want to transform the string on the cells to integers.  To do this, we follow a very common `python` pattern:\n",
    "1. Check if the last character of the string is a percent sign\n",
    "2. If it is, then convert the characters before the percent sign to integers\n",
    "3. If one of the prior checks fails, return a value of `None`\n",
    "\n",
    "These steps can be conveniently packaged into a function using `if-else` statements."
   ]
  },
  {
   "cell_type": "code",
   "execution_count": 35,
   "metadata": {},
   "outputs": [],
   "source": [
    "def to_num(s):\n",
    "    if s[-1] == \"%\":\n",
    "        return int(s[:-1])\n",
    "    else:\n",
    "        return None"
   ]
  },
  {
   "cell_type": "markdown",
   "metadata": {},
   "source": [
    "Notice the `Python` slices are open on the upper bound. So the `[:-1]` construct will return all elements of the string, except for the last."
   ]
  },
  {
   "cell_type": "markdown",
   "metadata": {},
   "source": [
    "Another nice way to write our `to_num` function would be\n",
    "```python\n",
    "def to_num(s):\n",
    "    return int(s[:-1]) if s[-1] == \"%\" else None\n",
    "```\n",
    "Notice that we only had to write `return` one time and everything conveniently fits on one line.  I'll leave it up to you to decide if it's readable or not."
   ]
  },
  {
   "cell_type": "markdown",
   "metadata": {},
   "source": [
    "Now we use the `to_num` function in a list comprehension to parse the table values.\n",
    "\n",
    "Notice that we have two `for ... in ...` in this list comprehension. That is perfectly valid and somewhat common.\n",
    "\n",
    "Although there is no real limit to how many iterations you can perform at once, having more than two can be visually unpleasant, at which point either regular nested loops or saving intermediate comprehensions might be a better solution."
   ]
  },
  {
   "cell_type": "code",
   "execution_count": 36,
   "metadata": {},
   "outputs": [
    {
     "data": {
      "text/plain": [
       "[21, None, 9, None, 11, None, 37, None, 8, None, 12, None]"
      ]
     },
     "execution_count": 36,
     "metadata": {},
     "output_type": "execute_result"
    }
   ],
   "source": [
    "values = [to_num(value.get_text()) for row in rows[1:] for value in row.find_all(\"td\")]\n",
    "values"
   ]
  },
  {
   "cell_type": "markdown",
   "metadata": {},
   "source": [
    "The problem with the list above is that the values lost their grouping.\n",
    "\n",
    "The `zip` function is used to combine two sequences element wise. So \n",
    "```python\n",
    "zip([1,2,3], [4,5,6])\n",
    "```\n",
    "would return\n",
    "```python\n",
    "[(1, 4), (2, 5), (3, 6)]\n",
    "```\n",
    "\n",
    "Next we create three arrays corresponding to the three columns by putting every three values in each list."
   ]
  },
  {
   "cell_type": "code",
   "execution_count": 40,
   "metadata": {},
   "outputs": [
    {
     "data": {
      "text/plain": [
       "[[21, 9, 11, 37, 8, 12], [None, None, None, None, None, None]]"
      ]
     },
     "execution_count": 40,
     "metadata": {},
     "output_type": "execute_result"
    }
   ],
   "source": [
    "stacked_values_lists = [values[i::2] for i in range(len(columns))]\n",
    "stacked_values_lists"
   ]
  },
  {
   "cell_type": "markdown",
   "metadata": {},
   "source": [
    "We then use `zip`. "
   ]
  },
  {
   "cell_type": "code",
   "execution_count": 41,
   "metadata": {},
   "outputs": [
    {
     "data": {
      "text/plain": [
       "[(21, None), (9, None), (11, None), (37, None), (8, None), (12, None)]"
      ]
     },
     "execution_count": 41,
     "metadata": {},
     "output_type": "execute_result"
    }
   ],
   "source": [
    "stacked_values = zip(*stacked_values_lists)\n",
    "list(stacked_values)"
   ]
  },
  {
   "cell_type": "markdown",
   "metadata": {},
   "source": [
    "Notice the use of the `*` in front: that converts the list of lists to a set of arguments to `zip`. See the ASIDE below."
   ]
  },
  {
   "cell_type": "code",
   "execution_count": 39,
   "metadata": {},
   "outputs": [
    {
     "data": {
      "text/html": [
       "<table class=\"wikitable\" style=\"text-align:center; float:right; font-size:85%; margin-right:2em;\">\n",
       "<caption><i>Student demographics (Fall 2019)</i><sup class=\"reference\" id=\"cite_ref-104\"><a href=\"#cite_note-104\">[104]</a></sup>\n",
       "</caption>\n",
       "<tbody><tr>\n",
       "<th></th>\n",
       "<th>Undergrad</th>\n",
       "<th>Grad/prof\n",
       "</th></tr>\n",
       "<tr>\n",
       "<th>Asian\n",
       "</th>\n",
       "<td>21%</td>\n",
       "<td>13%\n",
       "</td></tr>\n",
       "<tr>\n",
       "<th>Black\n",
       "</th>\n",
       "<td>9%</td>\n",
       "<td>5%\n",
       "</td></tr>\n",
       "<tr>\n",
       "<th>Hispanic or Latino\n",
       "</th>\n",
       "<td>11%</td>\n",
       "<td>7%\n",
       "</td></tr>\n",
       "<tr>\n",
       "<th>White\n",
       "</th>\n",
       "<td>37%</td>\n",
       "<td>38%\n",
       "</td></tr>\n",
       "<tr>\n",
       "<th>Two or more races\n",
       "</th>\n",
       "<td>8%</td>\n",
       "<td>3%\n",
       "</td></tr>\n",
       "<tr>\n",
       "<th>International\n",
       "</th>\n",
       "<td>12%</td>\n",
       "<td>32%\n",
       "</td></tr></tbody></table>"
      ],
      "text/plain": [
       "<IPython.core.display.HTML object>"
      ]
     },
     "execution_count": 39,
     "metadata": {},
     "output_type": "execute_result"
    }
   ],
   "source": [
    "# Here's the original HTML table for visual understanding\n",
    "HTML(str(table_demographics))"
   ]
  },
  {
   "cell_type": "markdown",
   "metadata": {},
   "source": [
    "**Q4.1:** Use the tables in `soup` to determine how Harvard's Computer Science program ranks both Nationally and Globally."
   ]
  },
  {
   "cell_type": "code",
   "execution_count": null,
   "metadata": {},
   "outputs": [],
   "source": [
    "######\n",
    "# your code here: check the other tables\n",
    "# (may help to go to the wiki page)\n",
    "######\n"
   ]
  },
  {
   "cell_type": "code",
   "execution_count": 57,
   "metadata": {},
   "outputs": [
    {
     "data": {
      "text/html": [
       "<table class=\"wikitable sortable collapsible collapsed floatright\">\n",
       "<tbody><tr>\n",
       "<th colspan=\"4\" style=\"background-color:#A51C30;color:white;box-shadow: inset 2px 2px 0 #1E1E1E, inset -2px -2px 0 #1E1E1E;\">Global Subject Rankings<sup class=\"reference\" id=\"cite_ref-USNWR_Global_Univ_Rankings_94-0\"><a href=\"#cite_note-USNWR_Global_Univ_Rankings-94\">[94]</a></sup>\n",
       "</th></tr>\n",
       "<tr>\n",
       "<th>Program\n",
       "</th>\n",
       "<th>Ranking\n",
       "</th></tr>\n",
       "<tr>\n",
       "<td>Agricultural Sciences</td>\n",
       "<td>22\n",
       "</td></tr>\n",
       "<tr>\n",
       "<td>Arts &amp; Humanities</td>\n",
       "<td>2\n",
       "</td></tr>\n",
       "<tr>\n",
       "<td>Biology &amp; Biochemistry</td>\n",
       "<td>1\n",
       "</td></tr>\n",
       "<tr>\n",
       "<td>Cardiac &amp; Cardiovascular Systems</td>\n",
       "<td>1\n",
       "</td></tr>\n",
       "<tr>\n",
       "<td>Chemistry</td>\n",
       "<td>15\n",
       "</td></tr>\n",
       "<tr>\n",
       "<td>Clinical Medicine</td>\n",
       "<td>1\n",
       "</td></tr>\n",
       "<tr>\n",
       "<td>Computer Science</td>\n",
       "<td>47\n",
       "</td></tr>\n",
       "<tr>\n",
       "<td>Economics &amp; Business</td>\n",
       "<td>1\n",
       "</td></tr>\n",
       "<tr>\n",
       "<td>Electrical &amp; Electronic Engineering</td>\n",
       "<td>136\n",
       "</td></tr>\n",
       "<tr>\n",
       "<td>Engineering</td>\n",
       "<td>27\n",
       "</td></tr>\n",
       "<tr>\n",
       "<td>Environment/Ecology</td>\n",
       "<td>5\n",
       "</td></tr>\n",
       "<tr>\n",
       "<td>Geosciences</td>\n",
       "<td>7\n",
       "</td></tr>\n",
       "<tr>\n",
       "<td>Immunology</td>\n",
       "<td>1\n",
       "</td></tr>\n",
       "<tr>\n",
       "<td>Materials Science</td>\n",
       "<td>7\n",
       "</td></tr>\n",
       "<tr>\n",
       "<td>Mathematics</td>\n",
       "<td>12\n",
       "</td></tr>\n",
       "<tr>\n",
       "<td>Microbiology</td>\n",
       "<td>1\n",
       "</td></tr>\n",
       "<tr>\n",
       "<td>Molecular Biology &amp; Genetics</td>\n",
       "<td>1\n",
       "</td></tr>\n",
       "<tr>\n",
       "<td>Neuroscience &amp; Behavior</td>\n",
       "<td>1\n",
       "</td></tr>\n",
       "<tr>\n",
       "<td>Oncology</td>\n",
       "<td>1\n",
       "</td></tr>\n",
       "<tr>\n",
       "<td>Pharmacology &amp; Toxicology</td>\n",
       "<td>1\n",
       "</td></tr>\n",
       "<tr>\n",
       "<td>Physics</td>\n",
       "<td>4\n",
       "</td></tr>\n",
       "<tr>\n",
       "<td>Plant &amp; Animal Science</td>\n",
       "<td>13\n",
       "</td></tr>\n",
       "<tr>\n",
       "<td>Psychiatry/Psychology</td>\n",
       "<td>1\n",
       "</td></tr>\n",
       "<tr>\n",
       "<td>Social Sciences &amp; Public Health</td>\n",
       "<td>1\n",
       "</td></tr>\n",
       "<tr>\n",
       "<td>Space Science</td>\n",
       "<td>2\n",
       "</td></tr>\n",
       "<tr>\n",
       "<td>Surgery</td>\n",
       "<td>1\n",
       "</td></tr></tbody></table>"
      ],
      "text/plain": [
       "<IPython.core.display.HTML object>"
      ]
     },
     "execution_count": 57,
     "metadata": {},
     "output_type": "execute_result"
    }
   ],
   "source": [
    "table_rankings = soup.find_all(\"table\",\"sortable\")[1]\n",
    "HTML(str(table_rankings))\n",
    "\n",
    "# Nationally - 16\n",
    "# Global - 47"
   ]
  },
  {
   "cell_type": "code",
   "execution_count": null,
   "metadata": {},
   "outputs": [],
   "source": []
  }
 ],
 "metadata": {
  "anaconda-cloud": {},
  "kernelspec": {
   "display_name": "Python 3",
   "language": "python",
   "name": "python3"
  },
  "language_info": {
   "codemirror_mode": {
    "name": "ipython",
    "version": 3
   },
   "file_extension": ".py",
   "mimetype": "text/x-python",
   "name": "python",
   "nbconvert_exporter": "python",
   "pygments_lexer": "ipython3",
   "version": "3.7.10"
  }
 },
 "nbformat": 4,
 "nbformat_minor": 1
}
