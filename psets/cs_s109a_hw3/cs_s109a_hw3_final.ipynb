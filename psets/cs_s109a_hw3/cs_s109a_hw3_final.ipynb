{
 "cells": [
  {
   "cell_type": "markdown",
   "metadata": {
    "button": false,
    "new_sheet": false,
    "run_control": {
     "read_only": false
    }
   },
   "source": [
    "# <img style=\"float: left; padding-right: 10px; width: 45px\" src=\"https://github.com/Harvard-IACS/2021-s109a/blob/master/lectures/crest.png?raw=true\"> CS-S109A Introduction to Data Science \n",
    "\n",
    "## Homework 3:  Regularization and Cross-Validation\n",
    "\n",
    "**Harvard University**<br/>\n",
    "**Summer 2021**<br/>\n",
    "**Instructors**: Kevin Rader\n",
    "\n",
    "\n",
    "<hr style='height:2px'>\n",
    "\n",
    "---\n",
    "\n"
   ]
  },
  {
   "cell_type": "code",
   "execution_count": 1,
   "metadata": {},
   "outputs": [
    {
     "data": {
      "text/html": [
       "<style>\n",
       "blockquote { background: #AEDE94; }\n",
       "h1 { \n",
       "    padding-top: 25px;\n",
       "    padding-bottom: 25px;\n",
       "    text-align: left; \n",
       "    padding-left: 10px;\n",
       "    background-color: #DDDDDD; \n",
       "    color: black;\n",
       "}\n",
       "h2 { \n",
       "    padding-top: 10px;\n",
       "    padding-bottom: 10px;\n",
       "    text-align: left; \n",
       "    padding-left: 5px;\n",
       "    background-color: #EEEEEE; \n",
       "    color: black;\n",
       "}\n",
       "\n",
       "div.exercise {\n",
       "\tbackground-color: #ffcccc;\n",
       "\tborder-color: #E9967A; \t\n",
       "\tborder-left: 5px solid #800080; \n",
       "\tpadding: 0.5em;\n",
       "}\n",
       "\n",
       "div.exercise-r {\n",
       "\tbackground-color: #fce8e8;\n",
       "\tborder-color: #E9967A; \t\n",
       "\tborder-left: 5px solid #800080; \n",
       "\tpadding: 0.5em;\n",
       "}\n",
       "\n",
       "\n",
       "span.sub-q {\n",
       "\tfont-weight: bold;\n",
       "}\n",
       "div.theme {\n",
       "\tbackground-color: #DDDDDD;\n",
       "\tborder-color: #E9967A; \t\n",
       "\tborder-left: 5px solid #800080; \n",
       "\tpadding: 0.5em;\n",
       "\tfont-size: 18pt;\n",
       "}\n",
       "div.gc { \n",
       "\tbackground-color: #AEDE94;\n",
       "\tborder-color: #E9967A; \t \n",
       "\tborder-left: 5px solid #800080; \n",
       "\tpadding: 0.5em;\n",
       "\tfont-size: 12pt;\n",
       "}\n",
       "p.q1 { \n",
       "    padding-top: 5px;\n",
       "    padding-bottom: 5px;\n",
       "    text-align: left; \n",
       "    padding-left: 5px;\n",
       "    background-color: #EEEEEE; \n",
       "    color: black;\n",
       "}\n",
       "header {\n",
       "   padding-top: 35px;\n",
       "    padding-bottom: 35px;\n",
       "    text-align: left; \n",
       "    padding-left: 10px;\n",
       "    background-color: #DDDDDD; \n",
       "    color: black;\n",
       "}\n",
       "</style>\n",
       "\n"
      ],
      "text/plain": [
       "<IPython.core.display.HTML object>"
      ]
     },
     "execution_count": 1,
     "metadata": {},
     "output_type": "execute_result"
    }
   ],
   "source": [
    "## RUN THIS CELL TO GET THE RIGHT FORMATTING \n",
    "import requests\n",
    "from IPython.core.display import HTML\n",
    "styles = requests.get(\"https://raw.githubusercontent.com/Harvard-IACS/2018-CS109A/master/content/styles/cs109.css\").text\n",
    "HTML(styles)"
   ]
  },
  {
   "cell_type": "markdown",
   "metadata": {},
   "source": [
    "### INSTRUCTIONS\n",
    "\n",
    "- To submit your assignment follow the instructions given in Canvas.\n",
    "- Restart the kernel and run the whole notebook again before you submit. \n",
    "- If you submit individually and you have worked with someone, please include the name of your [one] partner below. \n",
    "- As much as possible, try and stick to the hints and functions we import at the top of the homework, as those are the ideas and tools the class supports and is aiming to teach. And if a problem specifies a particular library you're required to use that library, and possibly others from the import list.\n",
    "- Please use .head() when viewing data. Do not submit a notebook that is excessively long because output was not suppressed or otherwise limited. "
   ]
  },
  {
   "cell_type": "markdown",
   "metadata": {},
   "source": [
    "<hr style=\"height:2pt\">"
   ]
  },
  {
   "cell_type": "code",
   "execution_count": 2,
   "metadata": {
    "scrolled": true
   },
   "outputs": [],
   "source": [
    "import numpy as np\n",
    "import pandas as pd\n",
    "import sklearn as sk\n",
    "import matplotlib\n",
    "import matplotlib.pyplot as plt\n",
    "from sklearn.metrics import r2_score\n",
    "from sklearn.neighbors import KNeighborsRegressor\n",
    "from sklearn.linear_model import LinearRegression\n",
    "from sklearn.model_selection import train_test_split\n",
    "import statsmodels.api as sm\n",
    "from statsmodels.api import OLS\n",
    "%matplotlib inline"
   ]
  },
  {
   "cell_type": "markdown",
   "metadata": {
    "button": false,
    "new_sheet": false,
    "run_control": {
     "read_only": false
    }
   },
   "source": [
    "<hr style=\"height:2pt\">"
   ]
  },
  {
   "cell_type": "markdown",
   "metadata": {
    "run_control": {}
   },
   "source": [
    "![bike_sharing](fig/BSS.png)\n",
    "\n",
    "<div class=\"theme\">  Main Theme: Multiple Linear Regression, Polynomial Regression, Ridge and Lasso Regression </div>\n",
    "\n",
    "### Overview \n",
    "\n",
    "You are hired by the administrators of the [Capital Bikeshare program](https://www.capitalbikeshare.com) program in Washington D.C., to **help them predict the hourly demand for rental bikes** and **give them suggestions on how to increase their revenue**. Your task is to prepare a short report summarizing your findings and make recommendations.\n",
    "\n",
    "The predicted hourly demand could be used for planning the number of bikes that need to be available in the system at any given hour of the day. It costs the program money if bike stations are full and bikes cannot be returned, or empty and there are no bikes available. You will use multiple linear regression and polynomial regression and will explore ridge and lasso regression to predict bike usage. The goal is to build a regression model that can predict the total number of bike rentals in a given hour of the day, based on all available information given to you. \n",
    "\n",
    "An example of a suggestion to increase revenue might be to offer discounts during certain times of the day either during holidays or non-holidays. Your suggestions will depend on your observations of the seasonality of ridership.\n",
    "\n",
    "The data for this problem were collected from the Capital Bikeshare program over the course of two years (2011 and 2012).\n",
    "\n"
   ]
  },
  {
   "cell_type": "markdown",
   "metadata": {
    "run_control": {}
   },
   "source": [
    "### Use only the libraries below:"
   ]
  },
  {
   "cell_type": "code",
   "execution_count": 3,
   "metadata": {
    "button": false,
    "new_sheet": false,
    "run_control": {
     "read_only": false
    }
   },
   "outputs": [],
   "source": [
    "import numpy as np\n",
    "import pandas as pd\n",
    "import matplotlib\n",
    "import matplotlib.pyplot as plt\n",
    "\n",
    "import statsmodels.api as sm\n",
    "from statsmodels.api import OLS\n",
    "\n",
    "from sklearn.model_selection import train_test_split\n",
    "from sklearn.preprocessing import PolynomialFeatures\n",
    "from sklearn.preprocessing import StandardScaler\n",
    "from sklearn.linear_model import LinearRegression\n",
    "from sklearn.linear_model import Ridge\n",
    "from sklearn.linear_model import RidgeCV\n",
    "from sklearn.linear_model import LassoCV\n",
    "from sklearn.metrics import r2_score\n",
    "\n",
    "from pandas.plotting import scatter_matrix"
   ]
  },
  {
   "cell_type": "markdown",
   "metadata": {
    "run_control": {}
   },
   "source": [
    "### Overview\n",
    "The initial data set is provided in the file `data/BSS_hour_raw.csv`. You will first add features that will help with the analysis and then separate the data into training and test sets. Each row in this file represents the number of rides by registered users and casual users in a given hour of a specific date. There are 12 attributes in total describing besides the number of users the weather if it is a holiday or not etc: \n",
    "\n",
    "\n",
    "- `dteday` (date in the format YYYY-MM-DD, e.g. 2011-01-01)\n",
    "- `season` (1 = winter, 2 = spring, 3 = summer, 4 = fall)\n",
    "- `hour` (0 for 12 midnight, 1 for 1:00am, 23 for 11:00pm)\n",
    "- `weekday` (0 through 6, with 0 denoting Sunday)\n",
    "- `holiday` (1 = the day is a holiday, 0 = otherwise)\n",
    "- `weather`\n",
    "    - 1: Clear, Few clouds, Partly cloudy, Partly cloudy\n",
    "    - 2: Mist + Cloudy, Mist + Broken clouds, Mist + Few clouds, Mist\n",
    "    - 3: Light Snow, Light Rain + Thunderstorm\n",
    "    - 4: Heavy Rain + Thunderstorm + Mist, Snow + Fog \n",
    "- `temp` (temperature in Celsius, normalized)\n",
    "- `atemp` (apparent temperature, or relative outdoor temperature, in Celsius, normalized)\n",
    "- `hum` (relative humidity, normalized)\n",
    "- `windspeed` (wind speed, normalized)\n",
    "- `casual` (number of rides that day made by casual riders, not registered in the system)\n",
    "- `registered` (number of rides that day made by registered riders)"
   ]
  },
  {
   "cell_type": "markdown",
   "metadata": {
    "button": false,
    "new_sheet": false,
    "run_control": {
     "read_only": false
    }
   },
   "source": [
    "<div class=\"exercise\"> <b> Question 1 [8pts]: Data Read-In and Processing </b> </div>\n",
    "\n",
    "In this section, we read in the data and begin one of the most important analytic steps: verifying that the data is what it claims to be.\n",
    "\n",
    "**1.1** Load the dataset from the csv file `data/BSS_hour_raw.csv` into a pandas dataframe that you name `bikes_df_raw`. Do any of the variables' ranges or averages seem suspect? Do the data types make sense?\n",
    "\n",
    "**1.2** Notice that the variable in column `dteday` is a pandas `object`, which is **not**  useful when you want to extract the elements of the date such as the year, month, and day. Convert `dteday` into a `datetime` object to prepare it for later analysis.\n",
    "\n",
    "**Hint:** http://pandas.pydata.org/pandas-docs/stable/generated/pandas.to_datetime.html\n",
    "\n",
    "**1.3** Create three new columns in the dataframe:\n",
    "- `year` with 0 for 2011, 1 for 2012, etc.\n",
    "- `month` with 1 through 12, with 1 denoting January.\n",
    "- `counts` with the total number of bike rentals for that **hour** (this is the response variable for later).\n"
   ]
  },
  {
   "cell_type": "markdown",
   "metadata": {
    "button": false,
    "new_sheet": false,
    "run_control": {
     "read_only": false
    }
   },
   "source": [
    "### Answers"
   ]
  },
  {
   "cell_type": "markdown",
   "metadata": {
    "button": false,
    "new_sheet": false,
    "run_control": {
     "read_only": false
    }
   },
   "source": [
    "**1.1 Load the dataset from the csv file...**"
   ]
  },
  {
   "cell_type": "code",
   "execution_count": 4,
   "metadata": {
    "button": false,
    "new_sheet": false,
    "run_control": {
     "read_only": false
    }
   },
   "outputs": [
    {
     "data": {
      "text/html": [
       "<div>\n",
       "<style scoped>\n",
       "    .dataframe tbody tr th:only-of-type {\n",
       "        vertical-align: middle;\n",
       "    }\n",
       "\n",
       "    .dataframe tbody tr th {\n",
       "        vertical-align: top;\n",
       "    }\n",
       "\n",
       "    .dataframe thead th {\n",
       "        text-align: right;\n",
       "    }\n",
       "</style>\n",
       "<table border=\"1\" class=\"dataframe\">\n",
       "  <thead>\n",
       "    <tr style=\"text-align: right;\">\n",
       "      <th></th>\n",
       "      <th>dteday</th>\n",
       "      <th>season</th>\n",
       "      <th>hour</th>\n",
       "      <th>holiday</th>\n",
       "      <th>weekday</th>\n",
       "      <th>workingday</th>\n",
       "      <th>weather</th>\n",
       "      <th>temp</th>\n",
       "      <th>atemp</th>\n",
       "      <th>hum</th>\n",
       "      <th>windspeed</th>\n",
       "      <th>casual</th>\n",
       "      <th>registered</th>\n",
       "    </tr>\n",
       "  </thead>\n",
       "  <tbody>\n",
       "    <tr>\n",
       "      <th>0</th>\n",
       "      <td>2011-01-01</td>\n",
       "      <td>1</td>\n",
       "      <td>0</td>\n",
       "      <td>0</td>\n",
       "      <td>6</td>\n",
       "      <td>0</td>\n",
       "      <td>1</td>\n",
       "      <td>0.24</td>\n",
       "      <td>0.2879</td>\n",
       "      <td>0.81</td>\n",
       "      <td>0.0</td>\n",
       "      <td>3</td>\n",
       "      <td>13</td>\n",
       "    </tr>\n",
       "    <tr>\n",
       "      <th>1</th>\n",
       "      <td>2011-01-01</td>\n",
       "      <td>1</td>\n",
       "      <td>1</td>\n",
       "      <td>0</td>\n",
       "      <td>6</td>\n",
       "      <td>0</td>\n",
       "      <td>1</td>\n",
       "      <td>0.22</td>\n",
       "      <td>0.2727</td>\n",
       "      <td>0.80</td>\n",
       "      <td>0.0</td>\n",
       "      <td>8</td>\n",
       "      <td>32</td>\n",
       "    </tr>\n",
       "    <tr>\n",
       "      <th>2</th>\n",
       "      <td>2011-01-01</td>\n",
       "      <td>1</td>\n",
       "      <td>2</td>\n",
       "      <td>0</td>\n",
       "      <td>6</td>\n",
       "      <td>0</td>\n",
       "      <td>1</td>\n",
       "      <td>0.22</td>\n",
       "      <td>0.2727</td>\n",
       "      <td>0.80</td>\n",
       "      <td>0.0</td>\n",
       "      <td>5</td>\n",
       "      <td>27</td>\n",
       "    </tr>\n",
       "    <tr>\n",
       "      <th>3</th>\n",
       "      <td>2011-01-01</td>\n",
       "      <td>1</td>\n",
       "      <td>3</td>\n",
       "      <td>0</td>\n",
       "      <td>6</td>\n",
       "      <td>0</td>\n",
       "      <td>1</td>\n",
       "      <td>0.24</td>\n",
       "      <td>0.2879</td>\n",
       "      <td>0.75</td>\n",
       "      <td>0.0</td>\n",
       "      <td>3</td>\n",
       "      <td>10</td>\n",
       "    </tr>\n",
       "    <tr>\n",
       "      <th>4</th>\n",
       "      <td>2011-01-01</td>\n",
       "      <td>1</td>\n",
       "      <td>4</td>\n",
       "      <td>0</td>\n",
       "      <td>6</td>\n",
       "      <td>0</td>\n",
       "      <td>1</td>\n",
       "      <td>0.24</td>\n",
       "      <td>0.2879</td>\n",
       "      <td>0.75</td>\n",
       "      <td>0.0</td>\n",
       "      <td>0</td>\n",
       "      <td>1</td>\n",
       "    </tr>\n",
       "  </tbody>\n",
       "</table>\n",
       "</div>"
      ],
      "text/plain": [
       "       dteday  season  hour  holiday  weekday  workingday  weather  temp  \\\n",
       "0  2011-01-01       1     0        0        6           0        1  0.24   \n",
       "1  2011-01-01       1     1        0        6           0        1  0.22   \n",
       "2  2011-01-01       1     2        0        6           0        1  0.22   \n",
       "3  2011-01-01       1     3        0        6           0        1  0.24   \n",
       "4  2011-01-01       1     4        0        6           0        1  0.24   \n",
       "\n",
       "    atemp   hum  windspeed  casual  registered  \n",
       "0  0.2879  0.81        0.0       3          13  \n",
       "1  0.2727  0.80        0.0       8          32  \n",
       "2  0.2727  0.80        0.0       5          27  \n",
       "3  0.2879  0.75        0.0       3          10  \n",
       "4  0.2879  0.75        0.0       0           1  "
      ]
     },
     "execution_count": 4,
     "metadata": {},
     "output_type": "execute_result"
    }
   ],
   "source": [
    "#loading from csv file\n",
    "bikes_df_raw = pd.read_csv(\"data/BSS_hour_raw.csv\")\n",
    "bikes_df_raw.head()"
   ]
  },
  {
   "cell_type": "code",
   "execution_count": 5,
   "metadata": {},
   "outputs": [
    {
     "data": {
      "text/html": [
       "<div>\n",
       "<style scoped>\n",
       "    .dataframe tbody tr th:only-of-type {\n",
       "        vertical-align: middle;\n",
       "    }\n",
       "\n",
       "    .dataframe tbody tr th {\n",
       "        vertical-align: top;\n",
       "    }\n",
       "\n",
       "    .dataframe thead th {\n",
       "        text-align: right;\n",
       "    }\n",
       "</style>\n",
       "<table border=\"1\" class=\"dataframe\">\n",
       "  <thead>\n",
       "    <tr style=\"text-align: right;\">\n",
       "      <th></th>\n",
       "      <th>season</th>\n",
       "      <th>hour</th>\n",
       "      <th>holiday</th>\n",
       "      <th>weekday</th>\n",
       "      <th>workingday</th>\n",
       "      <th>weather</th>\n",
       "      <th>temp</th>\n",
       "      <th>atemp</th>\n",
       "      <th>hum</th>\n",
       "      <th>windspeed</th>\n",
       "      <th>casual</th>\n",
       "      <th>registered</th>\n",
       "    </tr>\n",
       "  </thead>\n",
       "  <tbody>\n",
       "    <tr>\n",
       "      <th>count</th>\n",
       "      <td>17379.000000</td>\n",
       "      <td>17379.000000</td>\n",
       "      <td>17379.000000</td>\n",
       "      <td>17379.000000</td>\n",
       "      <td>17379.000000</td>\n",
       "      <td>17379.000000</td>\n",
       "      <td>17379.000000</td>\n",
       "      <td>17379.000000</td>\n",
       "      <td>17379.000000</td>\n",
       "      <td>17379.000000</td>\n",
       "      <td>17379.000000</td>\n",
       "      <td>17379.000000</td>\n",
       "    </tr>\n",
       "    <tr>\n",
       "      <th>mean</th>\n",
       "      <td>2.501640</td>\n",
       "      <td>11.546752</td>\n",
       "      <td>0.028770</td>\n",
       "      <td>3.003683</td>\n",
       "      <td>0.682721</td>\n",
       "      <td>1.425283</td>\n",
       "      <td>0.496987</td>\n",
       "      <td>0.475775</td>\n",
       "      <td>0.627229</td>\n",
       "      <td>0.190098</td>\n",
       "      <td>35.676218</td>\n",
       "      <td>153.786869</td>\n",
       "    </tr>\n",
       "    <tr>\n",
       "      <th>std</th>\n",
       "      <td>1.106918</td>\n",
       "      <td>6.914405</td>\n",
       "      <td>0.167165</td>\n",
       "      <td>2.005771</td>\n",
       "      <td>0.465431</td>\n",
       "      <td>0.639357</td>\n",
       "      <td>0.192556</td>\n",
       "      <td>0.171850</td>\n",
       "      <td>0.192930</td>\n",
       "      <td>0.122340</td>\n",
       "      <td>49.305030</td>\n",
       "      <td>151.357286</td>\n",
       "    </tr>\n",
       "    <tr>\n",
       "      <th>min</th>\n",
       "      <td>1.000000</td>\n",
       "      <td>0.000000</td>\n",
       "      <td>0.000000</td>\n",
       "      <td>0.000000</td>\n",
       "      <td>0.000000</td>\n",
       "      <td>1.000000</td>\n",
       "      <td>0.020000</td>\n",
       "      <td>0.000000</td>\n",
       "      <td>0.000000</td>\n",
       "      <td>0.000000</td>\n",
       "      <td>0.000000</td>\n",
       "      <td>0.000000</td>\n",
       "    </tr>\n",
       "    <tr>\n",
       "      <th>25%</th>\n",
       "      <td>2.000000</td>\n",
       "      <td>6.000000</td>\n",
       "      <td>0.000000</td>\n",
       "      <td>1.000000</td>\n",
       "      <td>0.000000</td>\n",
       "      <td>1.000000</td>\n",
       "      <td>0.340000</td>\n",
       "      <td>0.333300</td>\n",
       "      <td>0.480000</td>\n",
       "      <td>0.104500</td>\n",
       "      <td>4.000000</td>\n",
       "      <td>34.000000</td>\n",
       "    </tr>\n",
       "    <tr>\n",
       "      <th>50%</th>\n",
       "      <td>3.000000</td>\n",
       "      <td>12.000000</td>\n",
       "      <td>0.000000</td>\n",
       "      <td>3.000000</td>\n",
       "      <td>1.000000</td>\n",
       "      <td>1.000000</td>\n",
       "      <td>0.500000</td>\n",
       "      <td>0.484800</td>\n",
       "      <td>0.630000</td>\n",
       "      <td>0.194000</td>\n",
       "      <td>17.000000</td>\n",
       "      <td>115.000000</td>\n",
       "    </tr>\n",
       "    <tr>\n",
       "      <th>75%</th>\n",
       "      <td>3.000000</td>\n",
       "      <td>18.000000</td>\n",
       "      <td>0.000000</td>\n",
       "      <td>5.000000</td>\n",
       "      <td>1.000000</td>\n",
       "      <td>2.000000</td>\n",
       "      <td>0.660000</td>\n",
       "      <td>0.621200</td>\n",
       "      <td>0.780000</td>\n",
       "      <td>0.253700</td>\n",
       "      <td>48.000000</td>\n",
       "      <td>220.000000</td>\n",
       "    </tr>\n",
       "    <tr>\n",
       "      <th>max</th>\n",
       "      <td>4.000000</td>\n",
       "      <td>23.000000</td>\n",
       "      <td>1.000000</td>\n",
       "      <td>6.000000</td>\n",
       "      <td>1.000000</td>\n",
       "      <td>4.000000</td>\n",
       "      <td>1.000000</td>\n",
       "      <td>1.000000</td>\n",
       "      <td>1.000000</td>\n",
       "      <td>0.850700</td>\n",
       "      <td>367.000000</td>\n",
       "      <td>886.000000</td>\n",
       "    </tr>\n",
       "  </tbody>\n",
       "</table>\n",
       "</div>"
      ],
      "text/plain": [
       "             season          hour       holiday       weekday    workingday  \\\n",
       "count  17379.000000  17379.000000  17379.000000  17379.000000  17379.000000   \n",
       "mean       2.501640     11.546752      0.028770      3.003683      0.682721   \n",
       "std        1.106918      6.914405      0.167165      2.005771      0.465431   \n",
       "min        1.000000      0.000000      0.000000      0.000000      0.000000   \n",
       "25%        2.000000      6.000000      0.000000      1.000000      0.000000   \n",
       "50%        3.000000     12.000000      0.000000      3.000000      1.000000   \n",
       "75%        3.000000     18.000000      0.000000      5.000000      1.000000   \n",
       "max        4.000000     23.000000      1.000000      6.000000      1.000000   \n",
       "\n",
       "            weather          temp         atemp           hum     windspeed  \\\n",
       "count  17379.000000  17379.000000  17379.000000  17379.000000  17379.000000   \n",
       "mean       1.425283      0.496987      0.475775      0.627229      0.190098   \n",
       "std        0.639357      0.192556      0.171850      0.192930      0.122340   \n",
       "min        1.000000      0.020000      0.000000      0.000000      0.000000   \n",
       "25%        1.000000      0.340000      0.333300      0.480000      0.104500   \n",
       "50%        1.000000      0.500000      0.484800      0.630000      0.194000   \n",
       "75%        2.000000      0.660000      0.621200      0.780000      0.253700   \n",
       "max        4.000000      1.000000      1.000000      1.000000      0.850700   \n",
       "\n",
       "             casual    registered  \n",
       "count  17379.000000  17379.000000  \n",
       "mean      35.676218    153.786869  \n",
       "std       49.305030    151.357286  \n",
       "min        0.000000      0.000000  \n",
       "25%        4.000000     34.000000  \n",
       "50%       17.000000    115.000000  \n",
       "75%       48.000000    220.000000  \n",
       "max      367.000000    886.000000  "
      ]
     },
     "execution_count": 5,
     "metadata": {},
     "output_type": "execute_result"
    }
   ],
   "source": [
    "#do any of the ranges/averages seem suspect?\n",
    "bikes_df_raw.describe()"
   ]
  },
  {
   "cell_type": "code",
   "execution_count": 6,
   "metadata": {},
   "outputs": [
    {
     "data": {
      "text/plain": [
       "dteday         object\n",
       "season          int64\n",
       "hour            int64\n",
       "holiday         int64\n",
       "weekday         int64\n",
       "workingday      int64\n",
       "weather         int64\n",
       "temp          float64\n",
       "atemp         float64\n",
       "hum           float64\n",
       "windspeed     float64\n",
       "casual          int64\n",
       "registered      int64\n",
       "dtype: object"
      ]
     },
     "execution_count": 6,
     "metadata": {},
     "output_type": "execute_result"
    }
   ],
   "source": [
    "bikes_df_raw.dtypes"
   ]
  },
  {
   "cell_type": "markdown",
   "metadata": {
    "button": false,
    "new_sheet": false,
    "run_control": {
     "read_only": false
    }
   },
   "source": [
    "- If windspeed is normalized, the max should be 1 by definition. This suggests that at least one value was omitted when windspeed was being normalized.\n",
    "- The data types also make sense; the only possible improvements which could be made for memory optimizations are that the datatypes of `season`, `hour`, `holiday`, `weekday`, `workingday`, `weather` could be changed to `int8` since each of these variable's limited range is a subset of `int8`'s range and an `int64` is not required."
   ]
  },
  {
   "cell_type": "markdown",
   "metadata": {
    "button": false,
    "new_sheet": false,
    "run_control": {
     "read_only": false
    }
   },
   "source": [
    "**1.2 Notice that the variable in column...**"
   ]
  },
  {
   "cell_type": "code",
   "execution_count": 7,
   "metadata": {
    "button": false,
    "new_sheet": false,
    "run_control": {
     "read_only": false
    }
   },
   "outputs": [
    {
     "name": "stdout",
     "output_type": "stream",
     "text": [
      "0   2011-01-01\n",
      "1   2011-01-01\n",
      "2   2011-01-01\n",
      "3   2011-01-01\n",
      "4   2011-01-01\n",
      "Name: dteday, dtype: datetime64[ns]\n"
     ]
    }
   ],
   "source": [
    "#converting dteday into a datetime object\n",
    "bikes_df_raw['dteday'] = pd.to_datetime(bikes_df_raw.dteday, format='%Y-%m-%d')\n",
    "\n",
    "#checking\n",
    "print(bikes_df_raw.dteday.head())"
   ]
  },
  {
   "cell_type": "markdown",
   "metadata": {
    "button": false,
    "new_sheet": false,
    "run_control": {
     "read_only": false
    }
   },
   "source": [
    "**1.3** Create three new columns in the dataframe:\n",
    "- `year` with 0 for 2011, 1 for 2012, etc.\n",
    "- `month` with 1 through 12, with 1 denoting January.\n",
    "- `counts` with the total number of bike rentals for that **hour** (this is the response variable for later)."
   ]
  },
  {
   "cell_type": "code",
   "execution_count": 8,
   "metadata": {
    "button": false,
    "new_sheet": false,
    "run_control": {
     "read_only": false
    }
   },
   "outputs": [
    {
     "data": {
      "text/html": [
       "<div>\n",
       "<style scoped>\n",
       "    .dataframe tbody tr th:only-of-type {\n",
       "        vertical-align: middle;\n",
       "    }\n",
       "\n",
       "    .dataframe tbody tr th {\n",
       "        vertical-align: top;\n",
       "    }\n",
       "\n",
       "    .dataframe thead th {\n",
       "        text-align: right;\n",
       "    }\n",
       "</style>\n",
       "<table border=\"1\" class=\"dataframe\">\n",
       "  <thead>\n",
       "    <tr style=\"text-align: right;\">\n",
       "      <th></th>\n",
       "      <th>dteday</th>\n",
       "      <th>season</th>\n",
       "      <th>hour</th>\n",
       "      <th>holiday</th>\n",
       "      <th>weekday</th>\n",
       "      <th>workingday</th>\n",
       "      <th>weather</th>\n",
       "      <th>temp</th>\n",
       "      <th>atemp</th>\n",
       "      <th>hum</th>\n",
       "      <th>windspeed</th>\n",
       "      <th>casual</th>\n",
       "      <th>registered</th>\n",
       "      <th>year</th>\n",
       "      <th>month</th>\n",
       "      <th>counts</th>\n",
       "    </tr>\n",
       "  </thead>\n",
       "  <tbody>\n",
       "    <tr>\n",
       "      <th>0</th>\n",
       "      <td>2011-01-01</td>\n",
       "      <td>1</td>\n",
       "      <td>0</td>\n",
       "      <td>0</td>\n",
       "      <td>6</td>\n",
       "      <td>0</td>\n",
       "      <td>1</td>\n",
       "      <td>0.24</td>\n",
       "      <td>0.2879</td>\n",
       "      <td>0.81</td>\n",
       "      <td>0.0</td>\n",
       "      <td>3</td>\n",
       "      <td>13</td>\n",
       "      <td>0</td>\n",
       "      <td>1</td>\n",
       "      <td>16</td>\n",
       "    </tr>\n",
       "    <tr>\n",
       "      <th>1</th>\n",
       "      <td>2011-01-01</td>\n",
       "      <td>1</td>\n",
       "      <td>1</td>\n",
       "      <td>0</td>\n",
       "      <td>6</td>\n",
       "      <td>0</td>\n",
       "      <td>1</td>\n",
       "      <td>0.22</td>\n",
       "      <td>0.2727</td>\n",
       "      <td>0.80</td>\n",
       "      <td>0.0</td>\n",
       "      <td>8</td>\n",
       "      <td>32</td>\n",
       "      <td>0</td>\n",
       "      <td>1</td>\n",
       "      <td>40</td>\n",
       "    </tr>\n",
       "    <tr>\n",
       "      <th>2</th>\n",
       "      <td>2011-01-01</td>\n",
       "      <td>1</td>\n",
       "      <td>2</td>\n",
       "      <td>0</td>\n",
       "      <td>6</td>\n",
       "      <td>0</td>\n",
       "      <td>1</td>\n",
       "      <td>0.22</td>\n",
       "      <td>0.2727</td>\n",
       "      <td>0.80</td>\n",
       "      <td>0.0</td>\n",
       "      <td>5</td>\n",
       "      <td>27</td>\n",
       "      <td>0</td>\n",
       "      <td>1</td>\n",
       "      <td>32</td>\n",
       "    </tr>\n",
       "    <tr>\n",
       "      <th>3</th>\n",
       "      <td>2011-01-01</td>\n",
       "      <td>1</td>\n",
       "      <td>3</td>\n",
       "      <td>0</td>\n",
       "      <td>6</td>\n",
       "      <td>0</td>\n",
       "      <td>1</td>\n",
       "      <td>0.24</td>\n",
       "      <td>0.2879</td>\n",
       "      <td>0.75</td>\n",
       "      <td>0.0</td>\n",
       "      <td>3</td>\n",
       "      <td>10</td>\n",
       "      <td>0</td>\n",
       "      <td>1</td>\n",
       "      <td>13</td>\n",
       "    </tr>\n",
       "    <tr>\n",
       "      <th>4</th>\n",
       "      <td>2011-01-01</td>\n",
       "      <td>1</td>\n",
       "      <td>4</td>\n",
       "      <td>0</td>\n",
       "      <td>6</td>\n",
       "      <td>0</td>\n",
       "      <td>1</td>\n",
       "      <td>0.24</td>\n",
       "      <td>0.2879</td>\n",
       "      <td>0.75</td>\n",
       "      <td>0.0</td>\n",
       "      <td>0</td>\n",
       "      <td>1</td>\n",
       "      <td>0</td>\n",
       "      <td>1</td>\n",
       "      <td>1</td>\n",
       "    </tr>\n",
       "  </tbody>\n",
       "</table>\n",
       "</div>"
      ],
      "text/plain": [
       "      dteday  season  hour  holiday  weekday  workingday  weather  temp  \\\n",
       "0 2011-01-01       1     0        0        6           0        1  0.24   \n",
       "1 2011-01-01       1     1        0        6           0        1  0.22   \n",
       "2 2011-01-01       1     2        0        6           0        1  0.22   \n",
       "3 2011-01-01       1     3        0        6           0        1  0.24   \n",
       "4 2011-01-01       1     4        0        6           0        1  0.24   \n",
       "\n",
       "    atemp   hum  windspeed  casual  registered  year  month  counts  \n",
       "0  0.2879  0.81        0.0       3          13     0      1      16  \n",
       "1  0.2727  0.80        0.0       8          32     0      1      40  \n",
       "2  0.2727  0.80        0.0       5          27     0      1      32  \n",
       "3  0.2879  0.75        0.0       3          10     0      1      13  \n",
       "4  0.2879  0.75        0.0       0           1     0      1       1  "
      ]
     },
     "execution_count": 8,
     "metadata": {},
     "output_type": "execute_result"
    }
   ],
   "source": [
    "def get_year(dtime):\n",
    "    return dtime.year - 2011\n",
    "\n",
    "def get_month(dtime):\n",
    "    return dtime.month\n",
    "\n",
    "bikes_df_raw['year'] = bikes_df_raw['dteday'].apply(get_year)\n",
    "bikes_df_raw['month'] = bikes_df_raw['dteday'].apply(get_month)\n",
    "bikes_df_raw['counts'] = bikes_df_raw['casual'] + bikes_df_raw['registered']\n",
    "\n",
    "#checking\n",
    "bikes_df_raw.head()\n",
    "\n",
    "#QQ - ask question in Ed - is datetime object supposed to include time also?"
   ]
  },
  {
   "cell_type": "markdown",
   "metadata": {},
   "source": [
    "---"
   ]
  },
  {
   "cell_type": "markdown",
   "metadata": {
    "button": false,
    "new_sheet": false,
    "run_control": {
     "read_only": false
    }
   },
   "source": [
    "<div class='exercise'> <b> Question 2 [20 pts]: Exploratory Data Analysis. </b></div>\n",
    "\n",
    "In this question we begin hunting for patterns in ridership that shed light on who uses the service and why.\n",
    "\n",
    "**2.1** Make a new dataframe with the following subset of attributes from the previous dataset and with each entry being just **one** day: \n",
    "\n",
    "- `dteday`, the timestamp for that day (fine to set to noon or any other time) \n",
    "- `weekday`, the day of the week\n",
    "- `weather`, the most severe weather that day\n",
    "- `season`, the season that day falls in\n",
    "- `temp`, the average temperature\n",
    "- `atemp`, the average atemp that day\n",
    "- `windspeed`, the average windspeed that day\n",
    "- `hum`, the average humidity that day\n",
    "- `casual`, the **total** number of rentals by casual users\n",
    "- `registered`, the **total** number of rentals by registered users\n",
    "- `counts`, the **total** number of rentals of that day\n",
    "\n",
    "Name this dataframe `bikes_by_day`.\n",
    "\n",
    "Make a plot showing  the _distribution_ of the number of casual and registered riders on each day of the week.\n",
    "\n",
    "**Hint:** helpful to use panda's `.groupby()` command\n",
    "\n",
    "**2.2** Use `bikes_by_day` (please use the copy provided to you in `data/bikes_by_day.csv` for consistency and easy checking) to visualize how the distribution of **total number of rides** per day (casual and registered riders combined) varies with the **season**. Do you see any **outliers**? Here we use the pyplot's boxplot function definition of an outlier as any value 1.5 times the IQR above the 75th percentile or 1.5 times the IQR below the 25th percentiles. If you see any outliers, identify those dates and investigate if they are a chance occurence, an error in the data collection, or a significant event (an online search of those date(s) might help). \n",
    "\n",
    "**2.3** Convert the categorical attributes ('season', 'month', 'weekday', 'weather') in the original hourly dataset into multiple binary attributes using **one-hot encoding** and call this new dataframe `bikes_df`.\n",
    "\n",
    "**2.4** Split the updated `bikes_df` dataset into a 50-50 train-test split (call them `bikes_train` and `bikes_test`, respectively). Do this in a 'stratified' fashion, ensuring that all months are equally represented in each set.  Use `random_state=90`, a test set size of .5, and stratify on month.  Remember to specify the data's index column as you read it in.\n",
    "\n",
    "**2.5** Although we asked you to create your train and test set, for consistency, we ask that for the rest of this problem set you use the train and test set provided in the files `data/BSS_train.csv` and `data/BSS_test.csv`. Read these two files into dataframes `BSS_train` and `BSS_test`, respectively. Remove the `dteday` column from both the train and the test dataset (its format cannot be used for analysis). \n",
    "\n",
    "**2.6** Make a plot showing the _average_ number of casual and registered riders during each hour of the day. `.groupby` and `.aggregate` should make this task easy. Comment on the trends you observe. \n"
   ]
  },
  {
   "cell_type": "markdown",
   "metadata": {
    "button": false,
    "new_sheet": false,
    "run_control": {
     "read_only": false
    }
   },
   "source": [
    "### Answers"
   ]
  },
  {
   "cell_type": "markdown",
   "metadata": {
    "button": false,
    "new_sheet": false,
    "run_control": {
     "read_only": false
    }
   },
   "source": [
    "**2.1** Make a new dataframe with the following subset of attributes from the previous dataset and with each entry being just **one** day: \n",
    "\n",
    "- `dteday`, the timestamp for that day (fine to set to noon or any other time) \n",
    "- `weekday`, the day of the week\n",
    "- `weather`, the most severe weather that day\n",
    "- `season`, the season that day falls in\n",
    "- `temp`, the average temperature\n",
    "- `atemp`, the average atemp that day\n",
    "- `windspeed`, the average windspeed that day\n",
    "- `hum`, the average humidity that day\n",
    "- `casual`, the **total** number of rentals by casual users\n",
    "- `registered`, the **total** number of rentals by registered users\n",
    "- `counts`, the **total** number of rentals of that day\n",
    "\n",
    "Name this dataframe `bikes_by_day`.\n",
    "\n",
    "Make a plot showing  the _distribution_ of the number of casual and registered riders on each day of the week.\n",
    "\n",
    "**Hint:** helpful to use panda's `.groupby()` command"
   ]
  },
  {
   "cell_type": "code",
   "execution_count": 9,
   "metadata": {
    "button": false,
    "new_sheet": false,
    "run_control": {
     "read_only": false
    }
   },
   "outputs": [
    {
     "data": {
      "text/html": [
       "<div>\n",
       "<style scoped>\n",
       "    .dataframe tbody tr th:only-of-type {\n",
       "        vertical-align: middle;\n",
       "    }\n",
       "\n",
       "    .dataframe tbody tr th {\n",
       "        vertical-align: top;\n",
       "    }\n",
       "\n",
       "    .dataframe thead th {\n",
       "        text-align: right;\n",
       "    }\n",
       "</style>\n",
       "<table border=\"1\" class=\"dataframe\">\n",
       "  <thead>\n",
       "    <tr style=\"text-align: right;\">\n",
       "      <th></th>\n",
       "      <th>dteday</th>\n",
       "      <th>weekday</th>\n",
       "      <th>weather</th>\n",
       "      <th>season</th>\n",
       "      <th>temp</th>\n",
       "      <th>atemp</th>\n",
       "      <th>windspeed</th>\n",
       "      <th>hum</th>\n",
       "      <th>casual</th>\n",
       "      <th>registered</th>\n",
       "      <th>counts</th>\n",
       "    </tr>\n",
       "  </thead>\n",
       "  <tbody>\n",
       "    <tr>\n",
       "      <th>0</th>\n",
       "      <td>2011-01-01</td>\n",
       "      <td>6</td>\n",
       "      <td>3</td>\n",
       "      <td>1</td>\n",
       "      <td>0.344167</td>\n",
       "      <td>0.363625</td>\n",
       "      <td>0.160446</td>\n",
       "      <td>0.805833</td>\n",
       "      <td>331</td>\n",
       "      <td>654</td>\n",
       "      <td>985</td>\n",
       "    </tr>\n",
       "    <tr>\n",
       "      <th>1</th>\n",
       "      <td>2011-01-02</td>\n",
       "      <td>0</td>\n",
       "      <td>3</td>\n",
       "      <td>1</td>\n",
       "      <td>0.363478</td>\n",
       "      <td>0.353739</td>\n",
       "      <td>0.248539</td>\n",
       "      <td>0.696087</td>\n",
       "      <td>131</td>\n",
       "      <td>670</td>\n",
       "      <td>801</td>\n",
       "    </tr>\n",
       "    <tr>\n",
       "      <th>2</th>\n",
       "      <td>2011-01-03</td>\n",
       "      <td>1</td>\n",
       "      <td>1</td>\n",
       "      <td>1</td>\n",
       "      <td>0.196364</td>\n",
       "      <td>0.189405</td>\n",
       "      <td>0.248309</td>\n",
       "      <td>0.437273</td>\n",
       "      <td>120</td>\n",
       "      <td>1229</td>\n",
       "      <td>1349</td>\n",
       "    </tr>\n",
       "    <tr>\n",
       "      <th>3</th>\n",
       "      <td>2011-01-04</td>\n",
       "      <td>2</td>\n",
       "      <td>2</td>\n",
       "      <td>1</td>\n",
       "      <td>0.200000</td>\n",
       "      <td>0.212122</td>\n",
       "      <td>0.160296</td>\n",
       "      <td>0.590435</td>\n",
       "      <td>108</td>\n",
       "      <td>1454</td>\n",
       "      <td>1562</td>\n",
       "    </tr>\n",
       "    <tr>\n",
       "      <th>4</th>\n",
       "      <td>2011-01-05</td>\n",
       "      <td>3</td>\n",
       "      <td>1</td>\n",
       "      <td>1</td>\n",
       "      <td>0.226957</td>\n",
       "      <td>0.229270</td>\n",
       "      <td>0.186900</td>\n",
       "      <td>0.436957</td>\n",
       "      <td>82</td>\n",
       "      <td>1518</td>\n",
       "      <td>1600</td>\n",
       "    </tr>\n",
       "  </tbody>\n",
       "</table>\n",
       "</div>"
      ],
      "text/plain": [
       "      dteday  weekday  weather  season      temp     atemp  windspeed  \\\n",
       "0 2011-01-01        6        3       1  0.344167  0.363625   0.160446   \n",
       "1 2011-01-02        0        3       1  0.363478  0.353739   0.248539   \n",
       "2 2011-01-03        1        1       1  0.196364  0.189405   0.248309   \n",
       "3 2011-01-04        2        2       1  0.200000  0.212122   0.160296   \n",
       "4 2011-01-05        3        1       1  0.226957  0.229270   0.186900   \n",
       "\n",
       "        hum  casual  registered  counts  \n",
       "0  0.805833     331         654     985  \n",
       "1  0.696087     131         670     801  \n",
       "2  0.437273     120        1229    1349  \n",
       "3  0.590435     108        1454    1562  \n",
       "4  0.436957      82        1518    1600  "
      ]
     },
     "execution_count": 9,
     "metadata": {},
     "output_type": "execute_result"
    }
   ],
   "source": [
    "bikes_by_day = bikes_df_raw.copy()\n",
    "bikes_by_day = bikes_by_day.groupby('dteday').aggregate(\n",
    "    {'weekday' : min,  # the weekday will be constant for a date \n",
    "    'weather' : max,\n",
    "    'season' : min,    # the season will be constant for a date \n",
    "    'temp' : np.mean,\n",
    "    'atemp' : np.mean,\n",
    "    'windspeed' : np.mean,\n",
    "    'hum' : np.mean,\n",
    "    'casual' : np.sum,\n",
    "    'registered' : np.sum,\n",
    "    'counts' : np.sum}\n",
    ")\n",
    "\n",
    "bikes_by_day = bikes_by_day.reset_index()\n",
    "\n",
    "# checking\n",
    "bikes_by_day.head()"
   ]
  },
  {
   "cell_type": "code",
   "execution_count": 10,
   "metadata": {},
   "outputs": [
    {
     "data": {
      "image/png": "[encoded data removed]",
      "text/plain": [
       "<Figure size 1440x360 with 7 Axes>"
      ]
     },
     "metadata": {
      "needs_background": "light"
     },
     "output_type": "display_data"
    }
   ],
   "source": [
    "#plot showing distribution of registered and casual riders on each day of the week\n",
    "fig, ax = plt.subplots(1,7, figsize = (20,5))\n",
    "for day in range(0,7):\n",
    "    #get the bin edges\n",
    "    bins=np.histogram(np.hstack((bikes_by_day['registered'][bikes_by_day['weekday']==day],bikes_by_day['casual'][bikes_by_day['weekday']==day])), bins=10)[1]\n",
    "    ax[day].hist(bikes_by_day['registered'][bikes_by_day['weekday']==day], alpha = 0.4, color = 'blue', label = 'registered riders', bins=bins)\n",
    "    ax[day].hist(bikes_by_day['casual'][bikes_by_day['weekday']==day], alpha = 0.4, color = 'red', label = 'casual riders', bins=bins)\n",
    "    ax[day].legend()\n",
    "    ax[day].set_title('day {} histogram'.format(day))\n",
    "    ax[day].set_xlabel('number of riders')\n",
    "    ax[day].set_xlabel('frequency')\n",
    "    \n",
    "\"\"\"\n",
    "DISTRIBUTION OF RIDES:\n",
    "1. registered rides seem symmetrical, casual rides seem right skewed for the most part.\n",
    "2. number of rides varies significantly by day (we can see this from the changing axis on each plot, from a max value of just above 20 on day 0,\n",
    "to over 35 on day 1).\n",
    "3. Number of casual riders is lower, on average, than number of registered riders. This is especially true on days 1-5, and still true (but to \n",
    "a lesser extent) on day 0 and day 6, when there are relatively more casual riders.\n",
    "\"\"\";"
   ]
  },
  {
   "cell_type": "markdown",
   "metadata": {
    "button": false,
    "new_sheet": false,
    "run_control": {
     "read_only": false
    }
   },
   "source": [
    "**2.2** Use `bikes_by_day` (please use the copy provided to you in `data/bikes_by_day.csv` for consistency and easy checking) to visualize how the distribution of **total number of rides** per day (casual and registered riders combined) varies with the **season**. Do you see any **outliers**? Here we use the pyplot's boxplot function definition of an outlier as any value 1.5 times the IQR above the 75th percentile or 1.5 times the IQR below the 25th percentiles. If you see any outliers, identify those dates and investigate if they are a chance occurence, an error in the data collection, or a significant event (an online search of those date(s) might help). "
   ]
  },
  {
   "cell_type": "code",
   "execution_count": 11,
   "metadata": {
    "button": false,
    "new_sheet": false,
    "run_control": {
     "read_only": false
    }
   },
   "outputs": [
    {
     "data": {
      "image/png": "[encoded data removed]",
      "text/plain": [
       "<Figure size 432x288 with 1 Axes>"
      ]
     },
     "metadata": {
      "needs_background": "light"
     },
     "output_type": "display_data"
    }
   ],
   "source": [
    "#loading from csv file\n",
    "bikes_by_day = pd.read_csv(\"data/bikes_by_day.csv\")\n",
    "\n",
    "seasons = [1, 2, 3, 4]\n",
    "plt.boxplot([bikes_by_day['counts'][bikes_by_day.season == s] for s in seasons])\n",
    "xlabels = ['','Winter','Spring','Summer','Fall']\n",
    "xpos = np.arange(len(xlabels))\n",
    "plt.xticks(xpos, xlabels)\n",
    "plt.ylabel('Total number of riders per day')\n",
    "plt.title('Box plot of riders per day over each season');\n",
    "\n",
    "plt.show()"
   ]
  },
  {
   "cell_type": "markdown",
   "metadata": {},
   "source": [
    "Investigating outliers:\n",
    "- Two outliers are visible - one in season 1 (a high value) and one in season 4 (an abnormally low value).\n",
    "- First we investigate the value in season 1\n",
    "    - To do this we use the .groupby() and then the max function to get the highest value for 'total' in each season. We see that this value is 7836 for season 1. Next we find the row where this value appears. This date is 2012-03-17. Looking up this value online we find that it is notable on two accounts. It is St Patrick's Day, and also it is a day when Barack Obama gave a speech in Washington DC to commemorate this day. This would explain the abnormally high level of bike usage on the day. This shows that the outlier is a legitimate value due to a significant event.\n",
    "- Next we investigate the value in season 4\n",
    "    - We use the same process as above. Looking up the date 2012-10-29 we see that this day was notable for Hurricane Sandy. This may explain the abnormally low usage if people are afraid of the weather."
   ]
  },
  {
   "cell_type": "code",
   "execution_count": 12,
   "metadata": {},
   "outputs": [
    {
     "data": {
      "text/html": [
       "<div>\n",
       "<style scoped>\n",
       "    .dataframe tbody tr th:only-of-type {\n",
       "        vertical-align: middle;\n",
       "    }\n",
       "\n",
       "    .dataframe tbody tr th {\n",
       "        vertical-align: top;\n",
       "    }\n",
       "\n",
       "    .dataframe thead th {\n",
       "        text-align: right;\n",
       "    }\n",
       "</style>\n",
       "<table border=\"1\" class=\"dataframe\">\n",
       "  <thead>\n",
       "    <tr style=\"text-align: right;\">\n",
       "      <th></th>\n",
       "      <th>dteday</th>\n",
       "      <th>counts</th>\n",
       "      <th>casual</th>\n",
       "      <th>weather</th>\n",
       "      <th>registered</th>\n",
       "      <th>season</th>\n",
       "      <th>weekday</th>\n",
       "      <th>windspeed</th>\n",
       "      <th>temp</th>\n",
       "      <th>atemp</th>\n",
       "      <th>hum</th>\n",
       "      <th>high_casual</th>\n",
       "    </tr>\n",
       "  </thead>\n",
       "  <tbody>\n",
       "    <tr>\n",
       "      <th>441</th>\n",
       "      <td>2012-03-17</td>\n",
       "      <td>7836</td>\n",
       "      <td>3155</td>\n",
       "      <td>2</td>\n",
       "      <td>4681</td>\n",
       "      <td>1</td>\n",
       "      <td>6</td>\n",
       "      <td>0.110704</td>\n",
       "      <td>0.514167</td>\n",
       "      <td>0.505046</td>\n",
       "      <td>0.755833</td>\n",
       "      <td>1</td>\n",
       "    </tr>\n",
       "  </tbody>\n",
       "</table>\n",
       "</div>"
      ],
      "text/plain": [
       "         dteday  counts  casual  weather  registered  season  weekday  \\\n",
       "441  2012-03-17    7836    3155        2        4681       1        6   \n",
       "\n",
       "     windspeed      temp     atemp       hum  high_casual  \n",
       "441   0.110704  0.514167  0.505046  0.755833            1  "
      ]
     },
     "execution_count": 12,
     "metadata": {},
     "output_type": "execute_result"
    }
   ],
   "source": [
    "max_value_winter = bikes_by_day.groupby(['season']).max()['counts'][1]\n",
    "\n",
    "#finding row where max value appears\n",
    "bikes_by_day[(bikes_by_day['counts'] == max_value_winter) & (bikes_by_day['season'] == 1)]"
   ]
  },
  {
   "cell_type": "code",
   "execution_count": 13,
   "metadata": {},
   "outputs": [
    {
     "data": {
      "text/html": [
       "<div>\n",
       "<style scoped>\n",
       "    .dataframe tbody tr th:only-of-type {\n",
       "        vertical-align: middle;\n",
       "    }\n",
       "\n",
       "    .dataframe tbody tr th {\n",
       "        vertical-align: top;\n",
       "    }\n",
       "\n",
       "    .dataframe thead th {\n",
       "        text-align: right;\n",
       "    }\n",
       "</style>\n",
       "<table border=\"1\" class=\"dataframe\">\n",
       "  <thead>\n",
       "    <tr style=\"text-align: right;\">\n",
       "      <th></th>\n",
       "      <th>dteday</th>\n",
       "      <th>counts</th>\n",
       "      <th>casual</th>\n",
       "      <th>weather</th>\n",
       "      <th>registered</th>\n",
       "      <th>season</th>\n",
       "      <th>weekday</th>\n",
       "      <th>windspeed</th>\n",
       "      <th>temp</th>\n",
       "      <th>atemp</th>\n",
       "      <th>hum</th>\n",
       "      <th>high_casual</th>\n",
       "    </tr>\n",
       "  </thead>\n",
       "  <tbody>\n",
       "    <tr>\n",
       "      <th>667</th>\n",
       "      <td>2012-10-29</td>\n",
       "      <td>22</td>\n",
       "      <td>2</td>\n",
       "      <td>3</td>\n",
       "      <td>20</td>\n",
       "      <td>4</td>\n",
       "      <td>1</td>\n",
       "      <td>0.3582</td>\n",
       "      <td>0.44</td>\n",
       "      <td>0.4394</td>\n",
       "      <td>0.88</td>\n",
       "      <td>0</td>\n",
       "    </tr>\n",
       "  </tbody>\n",
       "</table>\n",
       "</div>"
      ],
      "text/plain": [
       "         dteday  counts  casual  weather  registered  season  weekday  \\\n",
       "667  2012-10-29      22       2        3          20       4        1   \n",
       "\n",
       "     windspeed  temp   atemp   hum  high_casual  \n",
       "667     0.3582  0.44  0.4394  0.88            0  "
      ]
     },
     "execution_count": 13,
     "metadata": {},
     "output_type": "execute_result"
    }
   ],
   "source": [
    "min_value_spring = bikes_by_day.groupby(['season']).min()['counts'][4]\n",
    "\n",
    "#finding row where min value appears\n",
    "bikes_by_day[(bikes_by_day['counts'] == min_value_spring) & (bikes_by_day['season'] == 4)]"
   ]
  },
  {
   "cell_type": "markdown",
   "metadata": {
    "button": false,
    "new_sheet": false,
    "run_control": {
     "read_only": false
    }
   },
   "source": [
    "**2.3** Convert the categorical attributes ('season', 'month', 'weekday', 'weather') in the original hourly dataset into multiple binary attributes using **one-hot encoding** and call this new dataframe `bikes_df`."
   ]
  },
  {
   "cell_type": "code",
   "execution_count": 14,
   "metadata": {
    "button": false,
    "new_sheet": false,
    "run_control": {
     "read_only": false
    }
   },
   "outputs": [
    {
     "data": {
      "text/plain": [
       "Index(['dteday', 'hour', 'holiday', 'workingday', 'temp', 'atemp', 'hum',\n",
       "       'windspeed', 'casual', 'registered', 'year', 'counts', 'season_2',\n",
       "       'season_3', 'season_4', 'weekday_1', 'weekday_2', 'weekday_3',\n",
       "       'weekday_4', 'weekday_5', 'weekday_6', 'month_2', 'month_3', 'month_4',\n",
       "       'month_5', 'month_6', 'month_7', 'month_8', 'month_9', 'month_10',\n",
       "       'month_11', 'month_12', 'weather_2', 'weather_3', 'weather_4'],\n",
       "      dtype='object')"
      ]
     },
     "execution_count": 14,
     "metadata": {},
     "output_type": "execute_result"
    }
   ],
   "source": [
    "bikes_df = pd.get_dummies(bikes_df_raw, columns=['season','weekday','month','weather'], drop_first=True)\n",
    "\n",
    "# checking\n",
    "bikes_df.columns"
   ]
  },
  {
   "cell_type": "markdown",
   "metadata": {
    "button": false,
    "new_sheet": false,
    "run_control": {
     "read_only": false
    }
   },
   "source": [
    "**2.4** Split the updated `bikes_df` dataset into a 50-50 train-test split (call them `bikes_train` and `bikes_test`, respectively). Do this in a 'stratified' fashion, ensuring that all months are equally represented in each set.  Use `random_state=90`, a test set size of .5, and stratify on month.  Remember to specify the data's index column as you read it in.\n"
   ]
  },
  {
   "cell_type": "code",
   "execution_count": 15,
   "metadata": {
    "button": false,
    "new_sheet": false,
    "run_control": {
     "read_only": false
    }
   },
   "outputs": [],
   "source": [
    "train_data, test_data = train_test_split(\n",
    "    bikes_df, \n",
    "    test_size = 0.5, \n",
    "    stratify = bikes_df[['month_2', 'month_3','month_4','month_5','month_6','month_7','month_8','month_9','month_10','month_11','month_12']], \n",
    "    random_state = 90\n",
    ")\n",
    "\n",
    "#QQ - what does it mean \"remember to specify the data's index column as you read it in??"
   ]
  },
  {
   "cell_type": "markdown",
   "metadata": {
    "button": false,
    "new_sheet": false,
    "run_control": {
     "read_only": false
    }
   },
   "source": [
    "**2.5** Although we asked you to create your train and test set, for consistency, we ask that for the rest of this problem set you use the train and test set provided in the files `data/BSS_train.csv` and `data/BSS_test.csv`. Read these two files into dataframes `BSS_train` and `BSS_test`, respectively. Remove the `dteday` column from both the train and the test dataset (its format cannot be used for analysis). "
   ]
  },
  {
   "cell_type": "code",
   "execution_count": 16,
   "metadata": {
    "button": false,
    "new_sheet": false,
    "run_control": {
     "read_only": false
    }
   },
   "outputs": [
    {
     "data": {
      "text/html": [
       "<div>\n",
       "<style scoped>\n",
       "    .dataframe tbody tr th:only-of-type {\n",
       "        vertical-align: middle;\n",
       "    }\n",
       "\n",
       "    .dataframe tbody tr th {\n",
       "        vertical-align: top;\n",
       "    }\n",
       "\n",
       "    .dataframe thead th {\n",
       "        text-align: right;\n",
       "    }\n",
       "</style>\n",
       "<table border=\"1\" class=\"dataframe\">\n",
       "  <thead>\n",
       "    <tr style=\"text-align: right;\">\n",
       "      <th></th>\n",
       "      <th>hour</th>\n",
       "      <th>holiday</th>\n",
       "      <th>year</th>\n",
       "      <th>workingday</th>\n",
       "      <th>temp</th>\n",
       "      <th>atemp</th>\n",
       "      <th>hum</th>\n",
       "      <th>windspeed</th>\n",
       "      <th>casual</th>\n",
       "      <th>registered</th>\n",
       "      <th>...</th>\n",
       "      <th>Dec</th>\n",
       "      <th>Mon</th>\n",
       "      <th>Tue</th>\n",
       "      <th>Wed</th>\n",
       "      <th>Thu</th>\n",
       "      <th>Fri</th>\n",
       "      <th>Sat</th>\n",
       "      <th>Cloudy</th>\n",
       "      <th>Snow</th>\n",
       "      <th>Storm</th>\n",
       "    </tr>\n",
       "  </thead>\n",
       "  <tbody>\n",
       "    <tr>\n",
       "      <th>0</th>\n",
       "      <td>21</td>\n",
       "      <td>0</td>\n",
       "      <td>1</td>\n",
       "      <td>1</td>\n",
       "      <td>0.24</td>\n",
       "      <td>0.2273</td>\n",
       "      <td>0.60</td>\n",
       "      <td>0.2537</td>\n",
       "      <td>12</td>\n",
       "      <td>51</td>\n",
       "      <td>...</td>\n",
       "      <td>1</td>\n",
       "      <td>0</td>\n",
       "      <td>0</td>\n",
       "      <td>0</td>\n",
       "      <td>1</td>\n",
       "      <td>0</td>\n",
       "      <td>0</td>\n",
       "      <td>1</td>\n",
       "      <td>0</td>\n",
       "      <td>0</td>\n",
       "    </tr>\n",
       "    <tr>\n",
       "      <th>1</th>\n",
       "      <td>17</td>\n",
       "      <td>0</td>\n",
       "      <td>0</td>\n",
       "      <td>1</td>\n",
       "      <td>0.62</td>\n",
       "      <td>0.5758</td>\n",
       "      <td>0.83</td>\n",
       "      <td>0.2537</td>\n",
       "      <td>47</td>\n",
       "      <td>432</td>\n",
       "      <td>...</td>\n",
       "      <td>0</td>\n",
       "      <td>0</td>\n",
       "      <td>0</td>\n",
       "      <td>0</td>\n",
       "      <td>1</td>\n",
       "      <td>0</td>\n",
       "      <td>0</td>\n",
       "      <td>0</td>\n",
       "      <td>1</td>\n",
       "      <td>0</td>\n",
       "    </tr>\n",
       "    <tr>\n",
       "      <th>2</th>\n",
       "      <td>9</td>\n",
       "      <td>0</td>\n",
       "      <td>1</td>\n",
       "      <td>1</td>\n",
       "      <td>0.76</td>\n",
       "      <td>0.7273</td>\n",
       "      <td>0.66</td>\n",
       "      <td>0.1642</td>\n",
       "      <td>54</td>\n",
       "      <td>299</td>\n",
       "      <td>...</td>\n",
       "      <td>0</td>\n",
       "      <td>0</td>\n",
       "      <td>0</td>\n",
       "      <td>0</td>\n",
       "      <td>1</td>\n",
       "      <td>0</td>\n",
       "      <td>0</td>\n",
       "      <td>0</td>\n",
       "      <td>0</td>\n",
       "      <td>0</td>\n",
       "    </tr>\n",
       "    <tr>\n",
       "      <th>3</th>\n",
       "      <td>17</td>\n",
       "      <td>0</td>\n",
       "      <td>1</td>\n",
       "      <td>0</td>\n",
       "      <td>0.62</td>\n",
       "      <td>0.6061</td>\n",
       "      <td>0.22</td>\n",
       "      <td>0.2985</td>\n",
       "      <td>185</td>\n",
       "      <td>226</td>\n",
       "      <td>...</td>\n",
       "      <td>0</td>\n",
       "      <td>0</td>\n",
       "      <td>0</td>\n",
       "      <td>0</td>\n",
       "      <td>0</td>\n",
       "      <td>0</td>\n",
       "      <td>0</td>\n",
       "      <td>0</td>\n",
       "      <td>0</td>\n",
       "      <td>0</td>\n",
       "    </tr>\n",
       "    <tr>\n",
       "      <th>4</th>\n",
       "      <td>8</td>\n",
       "      <td>0</td>\n",
       "      <td>1</td>\n",
       "      <td>0</td>\n",
       "      <td>0.18</td>\n",
       "      <td>0.1970</td>\n",
       "      <td>0.40</td>\n",
       "      <td>0.1343</td>\n",
       "      <td>9</td>\n",
       "      <td>61</td>\n",
       "      <td>...</td>\n",
       "      <td>0</td>\n",
       "      <td>0</td>\n",
       "      <td>0</td>\n",
       "      <td>0</td>\n",
       "      <td>0</td>\n",
       "      <td>0</td>\n",
       "      <td>0</td>\n",
       "      <td>0</td>\n",
       "      <td>0</td>\n",
       "      <td>0</td>\n",
       "    </tr>\n",
       "  </tbody>\n",
       "</table>\n",
       "<p>5 rows × 34 columns</p>\n",
       "</div>"
      ],
      "text/plain": [
       "   hour  holiday  year  workingday  temp   atemp   hum  windspeed  casual  \\\n",
       "0    21        0     1           1  0.24  0.2273  0.60     0.2537      12   \n",
       "1    17        0     0           1  0.62  0.5758  0.83     0.2537      47   \n",
       "2     9        0     1           1  0.76  0.7273  0.66     0.1642      54   \n",
       "3    17        0     1           0  0.62  0.6061  0.22     0.2985     185   \n",
       "4     8        0     1           0  0.18  0.1970  0.40     0.1343       9   \n",
       "\n",
       "   registered  ...  Dec  Mon  Tue  Wed  Thu  Fri  Sat  Cloudy  Snow  Storm  \n",
       "0          51  ...    1    0    0    0    1    0    0       1     0      0  \n",
       "1         432  ...    0    0    0    0    1    0    0       0     1      0  \n",
       "2         299  ...    0    0    0    0    1    0    0       0     0      0  \n",
       "3         226  ...    0    0    0    0    0    0    0       0     0      0  \n",
       "4          61  ...    0    0    0    0    0    0    0       0     0      0  \n",
       "\n",
       "[5 rows x 34 columns]"
      ]
     },
     "execution_count": 16,
     "metadata": {},
     "output_type": "execute_result"
    }
   ],
   "source": [
    "BSS_train = pd.read_csv('data/BSS_train.csv')\n",
    "BSS_test = pd.read_csv('data/BSS_test.csv')\n",
    "\n",
    "BSS_train = BSS_train.drop(['dteday'], axis = 1)\n",
    "BSS_test = BSS_test.drop(['dteday'], axis = 1)\n",
    "\n",
    "BSS_train.head()"
   ]
  },
  {
   "cell_type": "markdown",
   "metadata": {
    "button": false,
    "new_sheet": false,
    "run_control": {
     "read_only": false
    }
   },
   "source": [
    "**2.6** Make a plot showing the _average_ number of casual and registered riders during each hour of the day. `.groupby` and `.aggregate` should make this task easy. Comment on the trends you observe."
   ]
  },
  {
   "cell_type": "code",
   "execution_count": 17,
   "metadata": {
    "button": false,
    "new_sheet": false,
    "run_control": {
     "read_only": false
    }
   },
   "outputs": [
    {
     "data": {
      "image/png": "[encoded data removed]",
      "text/plain": [
       "<Figure size 432x288 with 1 Axes>"
      ]
     },
     "metadata": {
      "needs_background": "light"
     },
     "output_type": "display_data"
    }
   ],
   "source": [
    "fig, ax = plt.subplots(1,1, figsize=(6,4))\n",
    "\n",
    "bikes_by_hour = bikes_df.copy()\n",
    "bikes_by_hour = bikes_by_hour.groupby('hour').aggregate(\n",
    "    {'casual' : np.mean,\n",
    "     'registered' : np.mean}\n",
    ")\n",
    "\n",
    "plt.plot(bikes_by_hour['registered'])\n",
    "plt.plot(bikes_by_hour['casual'])\n",
    "ax.legend([\"registered riders\", \"casual riders\"])\n",
    "ax.set_xlabel(\"hour of the day\")\n",
    "ax.set_ylabel(\"average number of riders per hour\")\n",
    "plt.title('Number of riders over each hour');\n",
    "plt.show()"
   ]
  },
  {
   "cell_type": "markdown",
   "metadata": {},
   "source": [
    "There are distinct trends for registered and casual riders. Registered riders have two peaks in the graph - one in the early morning and one in the late evening. These are likely related to getting to and from work. Casual riders, meanwhile, have just one (shallower) peak, which reaches a peak at 14 hours in the day. These are likely predominantly rides for pleasure/travel purposes since the peak is unrelated to work opening and closing times.\n",
    "\n"
   ]
  },
  {
   "cell_type": "markdown",
   "metadata": {},
   "source": [
    "---"
   ]
  },
  {
   "cell_type": "markdown",
   "metadata": {
    "button": false,
    "new_sheet": false,
    "run_control": {
     "read_only": false
    }
   },
   "source": [
    "<div class='exercise'> <b> Question 3 [25pts]: Linear Regression to Model Hourly Ridership </b> </div>\n",
    "\n",
    "**3.1** Use a linear regression model to formally test (via a probabilistic-based hypothesis test) whether `counts` is significantly different in the summer than the other months combined.  Be sure to interpret the results.  \n",
    "\n",
    "**3.2** Use a resampling method to determine whether `counts` is significantly different in the summer than the other months combined.  How do these results compare to **3.1**?\n",
    "\n",
    "**3.3** Use statsmodels to fit a multiple linear regression model to the training set using all the useable predictors (nothing that `count` was directly derived from and no interactions or polynomial terms) to predict `counts`, and report its $R^2$ score on the train and test sets.  Call this set of predictors `X_train`.\n",
    "\n",
    "**3.4** Examine the estimated coefficients and report which ones are statistically significant (at a significance level of $\\alpha = 0.05$). \n",
    "\n",
    "**3.5** You should see some strange estimates for the predictors representing months.  Carefully interpret the `July` coefficient, and explain why this result is likely occurring (be as specific as possible). \n",
    "\n",
    "**3.6** To diagnose the model, make two plots: first a histogram of the residuals, and second a plot of the residuals of the fitted model ${e} = y - \\hat{y}$ as a function of the predicted value $\\hat{y}$. Draw a horizontal line denoting the zero residual value on the Y-axis. What do the plots reveal about the OLS assumptions (linearity, constant variance, and normality)?\n"
   ]
  },
  {
   "cell_type": "markdown",
   "metadata": {
    "button": false,
    "new_sheet": false,
    "run_control": {
     "read_only": false
    }
   },
   "source": [
    "### Answers"
   ]
  },
  {
   "cell_type": "markdown",
   "metadata": {
    "button": false,
    "new_sheet": false,
    "run_control": {
     "read_only": false
    }
   },
   "source": [
    "**3.1** Use a linear regression model to formally test (via a probabilistic-based hypothesis test) whether `counts` is significantly different in the summer than the other months combined.  Be sure to interpret the results.  "
   ]
  },
  {
   "cell_type": "code",
   "execution_count": 18,
   "metadata": {
    "button": false,
    "new_sheet": false,
    "run_control": {
     "read_only": false
    }
   },
   "outputs": [
    {
     "name": "stderr",
     "output_type": "stream",
     "text": [
      "/Users/anuragmitra/opt/miniconda3/envs/cs109a/lib/python3.7/site-packages/numpy/core/fromnumeric.py:2580: FutureWarning: Method .ptp is deprecated and will be removed in a future version. Use numpy.ptp instead.\n",
      "  return ptp(axis=axis, out=out, **kwargs)\n"
     ]
    },
    {
     "data": {
      "text/html": [
       "<table class=\"simpletable\">\n",
       "<caption>OLS Regression Results</caption>\n",
       "<tr>\n",
       "  <th>Dep. Variable:</th>         <td>counts</td>      <th>  R-squared:         </th> <td>   0.022</td> \n",
       "</tr>\n",
       "<tr>\n",
       "  <th>Model:</th>                   <td>OLS</td>       <th>  Adj. R-squared:    </th> <td>   0.022</td> \n",
       "</tr>\n",
       "<tr>\n",
       "  <th>Method:</th>             <td>Least Squares</td>  <th>  F-statistic:       </th> <td>   192.2</td> \n",
       "</tr>\n",
       "<tr>\n",
       "  <th>Date:</th>             <td>Wed, 14 Jul 2021</td> <th>  Prob (F-statistic):</th> <td>3.02e-43</td> \n",
       "</tr>\n",
       "<tr>\n",
       "  <th>Time:</th>                 <td>05:38:19</td>     <th>  Log-Likelihood:    </th> <td> -57424.</td> \n",
       "</tr>\n",
       "<tr>\n",
       "  <th>No. Observations:</th>      <td>  8689</td>      <th>  AIC:               </th> <td>1.149e+05</td>\n",
       "</tr>\n",
       "<tr>\n",
       "  <th>Df Residuals:</th>          <td>  8687</td>      <th>  BIC:               </th> <td>1.149e+05</td>\n",
       "</tr>\n",
       "<tr>\n",
       "  <th>Df Model:</th>              <td>     1</td>      <th>                     </th>     <td> </td>    \n",
       "</tr>\n",
       "<tr>\n",
       "  <th>Covariance Type:</th>      <td>nonrobust</td>    <th>                     </th>     <td> </td>    \n",
       "</tr>\n",
       "</table>\n",
       "<table class=\"simpletable\">\n",
       "<tr>\n",
       "     <td></td>       <th>coef</th>     <th>std err</th>      <th>t</th>      <th>P>|t|</th>  <th>[0.025</th>    <th>0.975]</th>  \n",
       "</tr>\n",
       "<tr>\n",
       "  <th>const</th>  <td>  174.5887</td> <td>    2.237</td> <td>   78.044</td> <td> 0.000</td> <td>  170.204</td> <td>  178.974</td>\n",
       "</tr>\n",
       "<tr>\n",
       "  <th>summer</th> <td>   60.9071</td> <td>    4.393</td> <td>   13.864</td> <td> 0.000</td> <td>   52.295</td> <td>   69.519</td>\n",
       "</tr>\n",
       "</table>\n",
       "<table class=\"simpletable\">\n",
       "<tr>\n",
       "  <th>Omnibus:</th>       <td>1616.728</td> <th>  Durbin-Watson:     </th> <td>   1.990</td>\n",
       "</tr>\n",
       "<tr>\n",
       "  <th>Prob(Omnibus):</th>  <td> 0.000</td>  <th>  Jarque-Bera (JB):  </th> <td>2773.202</td>\n",
       "</tr>\n",
       "<tr>\n",
       "  <th>Skew:</th>           <td> 1.220</td>  <th>  Prob(JB):          </th> <td>    0.00</td>\n",
       "</tr>\n",
       "<tr>\n",
       "  <th>Kurtosis:</th>       <td> 4.305</td>  <th>  Cond. No.          </th> <td>    2.47</td>\n",
       "</tr>\n",
       "</table><br/><br/>Notes:<br/>[1] Standard Errors assume that the covariance matrix of the errors is correctly specified."
      ],
      "text/plain": [
       "<class 'statsmodels.iolib.summary.Summary'>\n",
       "\"\"\"\n",
       "                            OLS Regression Results                            \n",
       "==============================================================================\n",
       "Dep. Variable:                 counts   R-squared:                       0.022\n",
       "Model:                            OLS   Adj. R-squared:                  0.022\n",
       "Method:                 Least Squares   F-statistic:                     192.2\n",
       "Date:                Wed, 14 Jul 2021   Prob (F-statistic):           3.02e-43\n",
       "Time:                        05:38:19   Log-Likelihood:                -57424.\n",
       "No. Observations:                8689   AIC:                         1.149e+05\n",
       "Df Residuals:                    8687   BIC:                         1.149e+05\n",
       "Df Model:                           1                                         \n",
       "Covariance Type:            nonrobust                                         \n",
       "==============================================================================\n",
       "                 coef    std err          t      P>|t|      [0.025      0.975]\n",
       "------------------------------------------------------------------------------\n",
       "const        174.5887      2.237     78.044      0.000     170.204     178.974\n",
       "summer        60.9071      4.393     13.864      0.000      52.295      69.519\n",
       "==============================================================================\n",
       "Omnibus:                     1616.728   Durbin-Watson:                   1.990\n",
       "Prob(Omnibus):                  0.000   Jarque-Bera (JB):             2773.202\n",
       "Skew:                           1.220   Prob(JB):                         0.00\n",
       "Kurtosis:                       4.305   Cond. No.                         2.47\n",
       "==============================================================================\n",
       "\n",
       "Notes:\n",
       "[1] Standard Errors assume that the covariance matrix of the errors is correctly specified.\n",
       "\"\"\""
      ]
     },
     "execution_count": 18,
     "metadata": {},
     "output_type": "execute_result"
    }
   ],
   "source": [
    "X = sm.add_constant(BSS_train['summer'])\n",
    "\n",
    "ols_model = sm.OLS(BSS_train['counts'], X).fit()\n",
    "\n",
    "ols_model.summary()"
   ]
  },
  {
   "cell_type": "markdown",
   "metadata": {
    "run_control": {}
   },
   "source": [
    "We want to difference between the counts in the summer and other seasons by using a t-test.\n",
    "\n",
    "The null hypthesis ($H_0$) is that the true difference between the means of the counts in summer vs the other seasons combined is zero.\\\n",
    "The alternate hypothesis ($H_1$) is that the true difference is different from zero.\n",
    "\n",
    "The $t$-value is $13.864$, which means that the coefficient is $13.864 \\sigma$s away from 0. The $p$-value is nearly $0$ which means that the chance of this beta coefficient occuring by chance when the null hypothesis is true is nearly $0$ (which is less than $0.05$).\n",
    "\n",
    "Hence we have sufficient evidence to REJECT the null hypothesis that the coefficient is 0."
   ]
  },
  {
   "cell_type": "markdown",
   "metadata": {
    "button": false,
    "new_sheet": false,
    "run_control": {
     "read_only": false
    }
   },
   "source": [
    "**3.2** Use a resampling method to determine whether `counts` is significantly different in the summer than the other months combined.  How do these results compare to **3.1**?"
   ]
  },
  {
   "cell_type": "code",
   "execution_count": 19,
   "metadata": {
    "button": false,
    "new_sheet": false,
    "run_control": {
     "read_only": false
    }
   },
   "outputs": [
    {
     "name": "stdout",
     "output_type": "stream",
     "text": [
      "Observed beta1 = [60.9070637]\n"
     ]
    }
   ],
   "source": [
    "regress1 = LinearRegression(fit_intercept=True).fit(BSS_train[['summer']], BSS_train['counts'])\n",
    "print(\"Observed beta1 =\", regress1.coef_)"
   ]
  },
  {
   "cell_type": "code",
   "execution_count": 20,
   "metadata": {},
   "outputs": [
    {
     "name": "stdout",
     "output_type": "stream",
     "text": [
      "Empirical estimate of the p-value based on 1000 iterations is: 0.0\n",
      "empirical 95% confidence interval is [-7.287853299391962, 6.969324337800242]\n"
     ]
    },
    {
     "data": {
      "image/png": "[encoded data removed]",
      "text/plain": [
       "<Figure size 432x288 with 1 Axes>"
      ]
     },
     "metadata": {
      "needs_background": "light"
     },
     "output_type": "display_data"
    }
   ],
   "source": [
    "nperms = 1000\n",
    "nboots = 1000\n",
    "n = np.size(BSS_train['counts'])\n",
    "beta1_perms = []\n",
    "\n",
    "# use a for loop to do the reampling for us\n",
    "for boot in np.arange(nboots):\n",
    "    y_perm = np.random.choice(BSS_train['counts'],size=n,replace=False)\n",
    "    regress_perm = LinearRegression(fit_intercept=True).fit(BSS_train[['summer']], y_perm)\n",
    "\n",
    "    beta1_perms.append(regress_perm.coef_[0])\n",
    "\n",
    "plt.hist(beta1_perms)\n",
    "\n",
    "five_pc_ci = np.percentile(beta1_perms, [5,95])[0]\n",
    "ninetyfive_pc_ci = np.percentile(beta1_perms, [5,95])[1]\n",
    "\n",
    "plt.axvline(five_pc_ci, color = 'red', alpha = .5)\n",
    "plt.axvline(ninetyfive_pc_ci, color = 'red', alpha = .5)\n",
    "plt.xlabel('beta')\n",
    "plt.ylabel('frequency')\n",
    "plt.title('Histogram of betas under permutation test (counts on summer)')\n",
    "\n",
    "print(\"Empirical estimate of the p-value based on 1000 iterations is:\" , \n",
    "      np.mean(np.abs(beta1_perms)>np.abs(regress1.coef_[0])))\n",
    "\n",
    "print('empirical 95% confidence interval is [{}, {}]'.format(five_pc_ci, ninetyfive_pc_ci))"
   ]
  },
  {
   "cell_type": "markdown",
   "metadata": {
    "run_control": {}
   },
   "source": [
    "This is a permutation test. This calculates the distribution of beta_1 in the situation that there is really no relationship between summer and counts. In this case we see via the histogram that beta would likely be within the range of [-7.52, 7.86], as this is the 95% confidence interval of the coefficient. The fact that we have a coefficient that is greater than 60 provides evidence at the 5% level that the relationship between summer and counts is not a chance relationship, since this value is outside the empirical confidence interval that we have calculated for $\\beta$ via the permutation test.\n",
    "\n",
    "As with 3.1, this means we have sufficient evidence to reject the null hypothesis that the coefficient is zero."
   ]
  },
  {
   "cell_type": "markdown",
   "metadata": {
    "button": false,
    "new_sheet": false,
    "run_control": {
     "read_only": false
    }
   },
   "source": [
    "**3.3** Use statsmodels to fit a multiple linear regression model to the training set using all the useable predictors (nothing that `count` was directly derived from and no interactions or polynomial terms) to predict `counts`, and report its $R^2$ score on the train and test sets.  Call this set of predictors `X_train`."
   ]
  },
  {
   "cell_type": "code",
   "execution_count": 21,
   "metadata": {
    "button": false,
    "new_sheet": false,
    "run_control": {
     "read_only": false
    }
   },
   "outputs": [
    {
     "name": "stderr",
     "output_type": "stream",
     "text": [
      "/Users/anuragmitra/opt/miniconda3/envs/cs109a/lib/python3.7/site-packages/numpy/core/fromnumeric.py:2580: FutureWarning: Method .ptp is deprecated and will be removed in a future version. Use numpy.ptp instead.\n",
      "  return ptp(axis=axis, out=out, **kwargs)\n"
     ]
    },
    {
     "data": {
      "text/html": [
       "<table class=\"simpletable\">\n",
       "<caption>OLS Regression Results</caption>\n",
       "<tr>\n",
       "  <th>Dep. Variable:</th>         <td>counts</td>      <th>  R-squared:         </th> <td>   0.412</td> \n",
       "</tr>\n",
       "<tr>\n",
       "  <th>Model:</th>                   <td>OLS</td>       <th>  Adj. R-squared:    </th> <td>   0.410</td> \n",
       "</tr>\n",
       "<tr>\n",
       "  <th>Method:</th>             <td>Least Squares</td>  <th>  F-statistic:       </th> <td>   201.9</td> \n",
       "</tr>\n",
       "<tr>\n",
       "  <th>Date:</th>             <td>Wed, 14 Jul 2021</td> <th>  Prob (F-statistic):</th>  <td>  0.00</td>  \n",
       "</tr>\n",
       "<tr>\n",
       "  <th>Time:</th>                 <td>05:38:23</td>     <th>  Log-Likelihood:    </th> <td> -55215.</td> \n",
       "</tr>\n",
       "<tr>\n",
       "  <th>No. Observations:</th>      <td>  8689</td>      <th>  AIC:               </th> <td>1.105e+05</td>\n",
       "</tr>\n",
       "<tr>\n",
       "  <th>Df Residuals:</th>          <td>  8658</td>      <th>  BIC:               </th> <td>1.107e+05</td>\n",
       "</tr>\n",
       "<tr>\n",
       "  <th>Df Model:</th>              <td>    30</td>      <th>                     </th>     <td> </td>    \n",
       "</tr>\n",
       "<tr>\n",
       "  <th>Covariance Type:</th>      <td>nonrobust</td>    <th>                     </th>     <td> </td>    \n",
       "</tr>\n",
       "</table>\n",
       "<table class=\"simpletable\">\n",
       "<tr>\n",
       "       <td></td>         <th>coef</th>     <th>std err</th>      <th>t</th>      <th>P>|t|</th>  <th>[0.025</th>    <th>0.975]</th>  \n",
       "</tr>\n",
       "<tr>\n",
       "  <th>const</th>      <td>  -30.4075</td> <td>   10.908</td> <td>   -2.788</td> <td> 0.005</td> <td>  -51.789</td> <td>   -9.026</td>\n",
       "</tr>\n",
       "<tr>\n",
       "  <th>hour</th>       <td>    7.2092</td> <td>    0.233</td> <td>   30.975</td> <td> 0.000</td> <td>    6.753</td> <td>    7.665</td>\n",
       "</tr>\n",
       "<tr>\n",
       "  <th>holiday</th>    <td>  -19.1510</td> <td>    8.369</td> <td>   -2.288</td> <td> 0.022</td> <td>  -35.556</td> <td>   -2.746</td>\n",
       "</tr>\n",
       "<tr>\n",
       "  <th>year</th>       <td>   78.1211</td> <td>    3.020</td> <td>   25.864</td> <td> 0.000</td> <td>   72.200</td> <td>   84.042</td>\n",
       "</tr>\n",
       "<tr>\n",
       "  <th>workingday</th> <td>   10.9484</td> <td>    3.512</td> <td>    3.118</td> <td> 0.002</td> <td>    4.065</td> <td>   17.832</td>\n",
       "</tr>\n",
       "<tr>\n",
       "  <th>temp</th>       <td>  273.6625</td> <td>   61.680</td> <td>    4.437</td> <td> 0.000</td> <td>  152.755</td> <td>  394.570</td>\n",
       "</tr>\n",
       "<tr>\n",
       "  <th>atemp</th>      <td>  162.5353</td> <td>   64.909</td> <td>    2.504</td> <td> 0.012</td> <td>   35.298</td> <td>  289.773</td>\n",
       "</tr>\n",
       "<tr>\n",
       "  <th>hum</th>        <td> -202.0080</td> <td>    9.927</td> <td>  -20.349</td> <td> 0.000</td> <td> -221.468</td> <td> -182.548</td>\n",
       "</tr>\n",
       "<tr>\n",
       "  <th>windspeed</th>  <td>   19.3827</td> <td>   13.595</td> <td>    1.426</td> <td> 0.154</td> <td>   -7.268</td> <td>   46.033</td>\n",
       "</tr>\n",
       "<tr>\n",
       "  <th>spring</th>     <td>   50.0754</td> <td>    9.528</td> <td>    5.256</td> <td> 0.000</td> <td>   31.398</td> <td>   68.753</td>\n",
       "</tr>\n",
       "<tr>\n",
       "  <th>summer</th>     <td>   22.6879</td> <td>   11.138</td> <td>    2.037</td> <td> 0.042</td> <td>    0.855</td> <td>   44.521</td>\n",
       "</tr>\n",
       "<tr>\n",
       "  <th>fall</th>       <td>   70.9474</td> <td>    9.448</td> <td>    7.509</td> <td> 0.000</td> <td>   52.426</td> <td>   89.469</td>\n",
       "</tr>\n",
       "<tr>\n",
       "  <th>Feb</th>        <td>  -10.7198</td> <td>    7.590</td> <td>   -1.412</td> <td> 0.158</td> <td>  -25.598</td> <td>    4.158</td>\n",
       "</tr>\n",
       "<tr>\n",
       "  <th>Mar</th>        <td>  -11.2938</td> <td>    8.385</td> <td>   -1.347</td> <td> 0.178</td> <td>  -27.731</td> <td>    5.143</td>\n",
       "</tr>\n",
       "<tr>\n",
       "  <th>Apr</th>        <td>  -44.8326</td> <td>   12.635</td> <td>   -3.548</td> <td> 0.000</td> <td>  -69.600</td> <td>  -20.065</td>\n",
       "</tr>\n",
       "<tr>\n",
       "  <th>May</th>        <td>  -50.1605</td> <td>   13.493</td> <td>   -3.718</td> <td> 0.000</td> <td>  -76.609</td> <td>  -23.712</td>\n",
       "</tr>\n",
       "<tr>\n",
       "  <th>Jun</th>        <td>  -72.2042</td> <td>   13.700</td> <td>   -5.271</td> <td> 0.000</td> <td>  -99.058</td> <td>  -45.350</td>\n",
       "</tr>\n",
       "<tr>\n",
       "  <th>Jul</th>        <td>  -90.8965</td> <td>   15.387</td> <td>   -5.907</td> <td> 0.000</td> <td> -121.058</td> <td>  -60.735</td>\n",
       "</tr>\n",
       "<tr>\n",
       "  <th>Aug</th>        <td>  -58.3246</td> <td>   15.061</td> <td>   -3.873</td> <td> 0.000</td> <td>  -87.847</td> <td>  -28.802</td>\n",
       "</tr>\n",
       "<tr>\n",
       "  <th>Sept</th>       <td>  -16.1686</td> <td>   13.432</td> <td>   -1.204</td> <td> 0.229</td> <td>  -42.499</td> <td>   10.162</td>\n",
       "</tr>\n",
       "<tr>\n",
       "  <th>Oct</th>        <td>  -15.8838</td> <td>   12.484</td> <td>   -1.272</td> <td> 0.203</td> <td>  -40.356</td> <td>    8.588</td>\n",
       "</tr>\n",
       "<tr>\n",
       "  <th>Nov</th>        <td>  -32.7232</td> <td>   12.049</td> <td>   -2.716</td> <td> 0.007</td> <td>  -56.342</td> <td>   -9.104</td>\n",
       "</tr>\n",
       "<tr>\n",
       "  <th>Dec</th>        <td>  -19.2088</td> <td>    9.560</td> <td>   -2.009</td> <td> 0.045</td> <td>  -37.949</td> <td>   -0.469</td>\n",
       "</tr>\n",
       "<tr>\n",
       "  <th>Mon</th>        <td>   -3.3336</td> <td>    3.756</td> <td>   -0.888</td> <td> 0.375</td> <td>  -10.697</td> <td>    4.029</td>\n",
       "</tr>\n",
       "<tr>\n",
       "  <th>Tue</th>        <td>   -0.0074</td> <td>    4.105</td> <td>   -0.002</td> <td> 0.999</td> <td>   -8.055</td> <td>    8.040</td>\n",
       "</tr>\n",
       "<tr>\n",
       "  <th>Wed</th>        <td>   -2.2059</td> <td>    4.082</td> <td>   -0.540</td> <td> 0.589</td> <td>  -10.207</td> <td>    5.795</td>\n",
       "</tr>\n",
       "<tr>\n",
       "  <th>Thu</th>        <td>   -5.5698</td> <td>    4.013</td> <td>   -1.388</td> <td> 0.165</td> <td>  -13.436</td> <td>    2.297</td>\n",
       "</tr>\n",
       "<tr>\n",
       "  <th>Fri</th>        <td>    2.9140</td> <td>    4.015</td> <td>    0.726</td> <td> 0.468</td> <td>   -4.956</td> <td>   10.784</td>\n",
       "</tr>\n",
       "<tr>\n",
       "  <th>Sat</th>        <td>   12.7461</td> <td>    5.587</td> <td>    2.281</td> <td> 0.023</td> <td>    1.793</td> <td>   23.699</td>\n",
       "</tr>\n",
       "<tr>\n",
       "  <th>Cloudy</th>     <td>    6.9163</td> <td>    3.676</td> <td>    1.882</td> <td> 0.060</td> <td>   -0.289</td> <td>   14.122</td>\n",
       "</tr>\n",
       "<tr>\n",
       "  <th>Snow</th>       <td>  -26.8155</td> <td>    6.094</td> <td>   -4.401</td> <td> 0.000</td> <td>  -38.760</td> <td>  -14.871</td>\n",
       "</tr>\n",
       "<tr>\n",
       "  <th>Storm</th>      <td>   48.2045</td> <td>   98.839</td> <td>    0.488</td> <td> 0.626</td> <td> -145.543</td> <td>  241.952</td>\n",
       "</tr>\n",
       "</table>\n",
       "<table class=\"simpletable\">\n",
       "<tr>\n",
       "  <th>Omnibus:</th>       <td>1691.839</td> <th>  Durbin-Watson:     </th> <td>   1.982</td>\n",
       "</tr>\n",
       "<tr>\n",
       "  <th>Prob(Omnibus):</th>  <td> 0.000</td>  <th>  Jarque-Bera (JB):  </th> <td>3250.657</td>\n",
       "</tr>\n",
       "<tr>\n",
       "  <th>Skew:</th>           <td> 1.191</td>  <th>  Prob(JB):          </th> <td>    0.00</td>\n",
       "</tr>\n",
       "<tr>\n",
       "  <th>Kurtosis:</th>       <td> 4.818</td>  <th>  Cond. No.          </th> <td>1.17e+16</td>\n",
       "</tr>\n",
       "</table><br/><br/>Notes:<br/>[1] Standard Errors assume that the covariance matrix of the errors is correctly specified.<br/>[2] The smallest eigenvalue is 1.18e-26. This might indicate that there are<br/>strong multicollinearity problems or that the design matrix is singular."
      ],
      "text/plain": [
       "<class 'statsmodels.iolib.summary.Summary'>\n",
       "\"\"\"\n",
       "                            OLS Regression Results                            \n",
       "==============================================================================\n",
       "Dep. Variable:                 counts   R-squared:                       0.412\n",
       "Model:                            OLS   Adj. R-squared:                  0.410\n",
       "Method:                 Least Squares   F-statistic:                     201.9\n",
       "Date:                Wed, 14 Jul 2021   Prob (F-statistic):               0.00\n",
       "Time:                        05:38:23   Log-Likelihood:                -55215.\n",
       "No. Observations:                8689   AIC:                         1.105e+05\n",
       "Df Residuals:                    8658   BIC:                         1.107e+05\n",
       "Df Model:                          30                                         \n",
       "Covariance Type:            nonrobust                                         \n",
       "==============================================================================\n",
       "                 coef    std err          t      P>|t|      [0.025      0.975]\n",
       "------------------------------------------------------------------------------\n",
       "const        -30.4075     10.908     -2.788      0.005     -51.789      -9.026\n",
       "hour           7.2092      0.233     30.975      0.000       6.753       7.665\n",
       "holiday      -19.1510      8.369     -2.288      0.022     -35.556      -2.746\n",
       "year          78.1211      3.020     25.864      0.000      72.200      84.042\n",
       "workingday    10.9484      3.512      3.118      0.002       4.065      17.832\n",
       "temp         273.6625     61.680      4.437      0.000     152.755     394.570\n",
       "atemp        162.5353     64.909      2.504      0.012      35.298     289.773\n",
       "hum         -202.0080      9.927    -20.349      0.000    -221.468    -182.548\n",
       "windspeed     19.3827     13.595      1.426      0.154      -7.268      46.033\n",
       "spring        50.0754      9.528      5.256      0.000      31.398      68.753\n",
       "summer        22.6879     11.138      2.037      0.042       0.855      44.521\n",
       "fall          70.9474      9.448      7.509      0.000      52.426      89.469\n",
       "Feb          -10.7198      7.590     -1.412      0.158     -25.598       4.158\n",
       "Mar          -11.2938      8.385     -1.347      0.178     -27.731       5.143\n",
       "Apr          -44.8326     12.635     -3.548      0.000     -69.600     -20.065\n",
       "May          -50.1605     13.493     -3.718      0.000     -76.609     -23.712\n",
       "Jun          -72.2042     13.700     -5.271      0.000     -99.058     -45.350\n",
       "Jul          -90.8965     15.387     -5.907      0.000    -121.058     -60.735\n",
       "Aug          -58.3246     15.061     -3.873      0.000     -87.847     -28.802\n",
       "Sept         -16.1686     13.432     -1.204      0.229     -42.499      10.162\n",
       "Oct          -15.8838     12.484     -1.272      0.203     -40.356       8.588\n",
       "Nov          -32.7232     12.049     -2.716      0.007     -56.342      -9.104\n",
       "Dec          -19.2088      9.560     -2.009      0.045     -37.949      -0.469\n",
       "Mon           -3.3336      3.756     -0.888      0.375     -10.697       4.029\n",
       "Tue           -0.0074      4.105     -0.002      0.999      -8.055       8.040\n",
       "Wed           -2.2059      4.082     -0.540      0.589     -10.207       5.795\n",
       "Thu           -5.5698      4.013     -1.388      0.165     -13.436       2.297\n",
       "Fri            2.9140      4.015      0.726      0.468      -4.956      10.784\n",
       "Sat           12.7461      5.587      2.281      0.023       1.793      23.699\n",
       "Cloudy         6.9163      3.676      1.882      0.060      -0.289      14.122\n",
       "Snow         -26.8155      6.094     -4.401      0.000     -38.760     -14.871\n",
       "Storm         48.2045     98.839      0.488      0.626    -145.543     241.952\n",
       "==============================================================================\n",
       "Omnibus:                     1691.839   Durbin-Watson:                   1.982\n",
       "Prob(Omnibus):                  0.000   Jarque-Bera (JB):             3250.657\n",
       "Skew:                           1.191   Prob(JB):                         0.00\n",
       "Kurtosis:                       4.818   Cond. No.                     1.17e+16\n",
       "==============================================================================\n",
       "\n",
       "Notes:\n",
       "[1] Standard Errors assume that the covariance matrix of the errors is correctly specified.\n",
       "[2] The smallest eigenvalue is 1.18e-26. This might indicate that there are\n",
       "strong multicollinearity problems or that the design matrix is singular.\n",
       "\"\"\""
      ]
     },
     "execution_count": 21,
     "metadata": {},
     "output_type": "execute_result"
    }
   ],
   "source": [
    "trivial_cols = ['casual','registered']\n",
    "BSS_train = BSS_train.drop(trivial_cols, axis=1)\n",
    "BSS_test = BSS_test.drop(trivial_cols, axis=1)\n",
    "\n",
    "X = sm.add_constant(BSS_train.drop(['counts'], axis = 1))\n",
    "\n",
    "regress_mult = sm.OLS(BSS_train['counts'], X).fit()\n",
    "\n",
    "regress_mult.summary()"
   ]
  },
  {
   "cell_type": "code",
   "execution_count": 22,
   "metadata": {},
   "outputs": [
    {
     "name": "stdout",
     "output_type": "stream",
     "text": [
      "0.4115699822629326\n",
      "0.40072109229413466\n"
     ]
    },
    {
     "name": "stderr",
     "output_type": "stream",
     "text": [
      "/Users/anuragmitra/opt/miniconda3/envs/cs109a/lib/python3.7/site-packages/numpy/core/fromnumeric.py:2580: FutureWarning: Method .ptp is deprecated and will be removed in a future version. Use numpy.ptp instead.\n",
      "  return ptp(axis=axis, out=out, **kwargs)\n",
      "/Users/anuragmitra/opt/miniconda3/envs/cs109a/lib/python3.7/site-packages/numpy/core/fromnumeric.py:2580: FutureWarning: Method .ptp is deprecated and will be removed in a future version. Use numpy.ptp instead.\n",
      "  return ptp(axis=axis, out=out, **kwargs)\n"
     ]
    }
   ],
   "source": [
    "inpt_train = BSS_train.drop(['counts'], axis = 1)\n",
    "inpt_test = BSS_test.drop(['counts'], axis = 1)\n",
    "\n",
    "print(r2_score(BSS_train['counts'], regress_mult.predict(sm.add_constant(inpt_train))))\n",
    "print(r2_score(BSS_test['counts'], regress_mult.predict(sm.add_constant(inpt_test))))\n",
    "#slightly lower score on training than test set. Shows small degree of overfitting"
   ]
  },
  {
   "cell_type": "code",
   "execution_count": 23,
   "metadata": {},
   "outputs": [],
   "source": [
    "#defining X_train\n",
    "X_train = BSS_train.drop(['counts'], axis = 1).copy()"
   ]
  },
  {
   "cell_type": "code",
   "execution_count": 24,
   "metadata": {},
   "outputs": [
    {
     "data": {
      "text/plain": [
       "Index(['hour', 'holiday', 'year', 'workingday', 'temp', 'atemp', 'hum',\n",
       "       'windspeed', 'spring', 'summer', 'fall', 'Feb', 'Mar', 'Apr', 'May',\n",
       "       'Jun', 'Jul', 'Aug', 'Sept', 'Oct', 'Nov', 'Dec', 'Mon', 'Tue', 'Wed',\n",
       "       'Thu', 'Fri', 'Sat', 'Cloudy', 'Snow', 'Storm'],\n",
       "      dtype='object')"
      ]
     },
     "execution_count": 24,
     "metadata": {},
     "output_type": "execute_result"
    }
   ],
   "source": [
    "X_train.columns"
   ]
  },
  {
   "cell_type": "markdown",
   "metadata": {
    "button": false,
    "new_sheet": false,
    "run_control": {
     "read_only": false
    }
   },
   "source": [
    "**3.4** Examine the estimated coefficients and report which ones are statistically significant (at a significance level of $\\alpha = 0.05$). "
   ]
  },
  {
   "cell_type": "markdown",
   "metadata": {},
   "source": [
    "The significant predictors at a 5% level (values where the P-values < alpha) are: \n",
    "\n",
    "[`hour`, `year`, `workingday`, `temp`, `hum`, `spring`, `fall`, `Apr`, `May`, `Jun`, `Jul`, `Aug`, `Snow`].\n",
    "Quite a few of the predictors are significant!"
   ]
  },
  {
   "cell_type": "markdown",
   "metadata": {
    "run_control": {}
   },
   "source": [
    "**3.5** You should see some strange estimates for the predictors representing months.  Carefully interpret the `July` coefficient, and explain why this result is likely occurring (be as specific as possible). "
   ]
  },
  {
   "cell_type": "markdown",
   "metadata": {
    "run_control": {}
   },
   "source": [
    "The July coefficient is -90.8965. The interpretation of this is that in July, on average and holding all other variables constant, 90.8965 fewer people use bikes compared to the all the other months in the year. This is a little surprising because you'd think more people would go out in July when the weather is warm compared to the rest of the months. \n",
    "\n",
    "This can be explained by looking at some of the other variables. For example, humidity has a very high negative coefficient and thus the rise in humidity in July could cause the decrease in the number of riders.\n",
    "\n",
    "July can also see a drop in the windspeeds without any seasonal winds at that time which can further contribute to the low number of people biking in July."
   ]
  },
  {
   "cell_type": "markdown",
   "metadata": {
    "button": false,
    "new_sheet": false,
    "run_control": {
     "read_only": false
    }
   },
   "source": [
    "**3.6** To diagnose the model, make two plots: first a histogram of the residuals, and second a plot of the residuals of the fitted model ${e} = y - \\hat{y}$ as a function of the predicted value $\\hat{y}$. Draw a horizontal line denoting the zero residual value on the Y-axis. What do the plots reveal about the OLS assumptions (linearity, constant variance, and normality)?"
   ]
  },
  {
   "cell_type": "code",
   "execution_count": 25,
   "metadata": {
    "button": false,
    "new_sheet": false,
    "run_control": {
     "read_only": false
    }
   },
   "outputs": [
    {
     "name": "stderr",
     "output_type": "stream",
     "text": [
      "/Users/anuragmitra/opt/miniconda3/envs/cs109a/lib/python3.7/site-packages/numpy/core/fromnumeric.py:2580: FutureWarning: Method .ptp is deprecated and will be removed in a future version. Use numpy.ptp instead.\n",
      "  return ptp(axis=axis, out=out, **kwargs)\n"
     ]
    },
    {
     "data": {
      "image/png": "[encoded data removed]",
      "text/plain": [
       "<Figure size 432x288 with 1 Axes>"
      ]
     },
     "metadata": {
      "needs_background": "light"
     },
     "output_type": "display_data"
    }
   ],
   "source": [
    "#plotting a histogram of the residuals\n",
    "residuals_list = BSS_train['counts'] - regress_mult.predict(sm.add_constant(X_train))\n",
    "plt.hist(residuals_list)\n",
    "plt.ylabel(\"number of observations\")\n",
    "plt.xlabel(\"residual value\")\n",
    "plt.title(\"histogram of residuals\")\n",
    "plt.show()"
   ]
  },
  {
   "cell_type": "code",
   "execution_count": 26,
   "metadata": {},
   "outputs": [
    {
     "data": {
      "image/png": "[encoded data removed]",
      "text/plain": [
       "<Figure size 432x288 with 1 Axes>"
      ]
     },
     "metadata": {
      "needs_background": "light"
     },
     "output_type": "display_data"
    }
   ],
   "source": [
    "predicted_val_list = regress_mult.predict(sm.add_constant(X_train))\n",
    "plt.scatter(predicted_val_list, residuals_list)\n",
    "plt.ylabel(\"residual value\")\n",
    "plt.xlabel(\"predicted value\")\n",
    "plt.title(\"scatterplot of residuals against predicted value\")\n",
    "plt.axhline(0, color = 'red', alpha = .9)\n",
    "plt.show()"
   ]
  },
  {
   "cell_type": "markdown",
   "metadata": {},
   "source": [
    "- Normality: The histogram appears slightly right skewed, but overall the normality assumption does not seem implausible. \n",
    "- Linearity: It can be seen easily that there exists non-linearity in the dat. This is illustrated in the second graph where the residuals don't follow a linear path along the horizontal line through $y=0$.\n",
    "- Constant variance: Not satisfied. The variance of the residuals increases with predicted value. So the constant variance of residuals is not satisfied."
   ]
  },
  {
   "cell_type": "markdown",
   "metadata": {
    "run_control": {}
   },
   "source": [
    "---"
   ]
  },
  {
   "cell_type": "markdown",
   "metadata": {
    "button": false,
    "new_sheet": false,
    "run_control": {
     "read_only": false
    }
   },
   "source": [
    "<div class='exercise'> <b> Question 4 [22pts]: Regression Models with Polynomial and Interaction Terms </b> </div>\n",
    "\n",
    "**4.1** Drop the variables `workingday`, `atemp`, `spring`, `summer`, `fall`, and  `dteday` from `BSS_train` and `BSS_test` (if any of them still remain) to reduce the collinearity in the predictor space.  The variables that remain should be: \n",
    "\n",
    "`['hour', 'holiday', 'year', 'temp', 'hum', 'windspeed', 'counts', 'Feb',\n",
    "  'Mar', 'Apr', 'May', 'Jun', 'Jul', 'Aug', 'Sept', 'Oct', 'Nov', 'Dec',\n",
    "  'Mon', 'Tue', 'Wed', 'Thu', 'Fri', 'Sat', 'Cloudy', 'Snow', 'Storm']`\n",
    "\n",
    "**4.2** Write a function to standardize a provided subset of columns in your training/validation/test sets. Remember that while you will be scaling all of your data, you must learn the scaling parameters (mean and SD) from only the training set.\n",
    "\n",
    "Test your code by building a list of all non-binary columns from `X_train` into a dataset called `practice_X_train` and scaling only those columns. Call the result `practice_X_train_scaled`. Display the `.describe()` and verify that you have correctly scaled all columns.\n",
    "\n",
    "**Hint: employ the provided list of binary columns and use `pd.columns.difference()`**\n",
    "\n",
    "`binary_columns = [ 'holiday', 'workingday','Feb', 'Mar', 'Apr',\n",
    "       'May', 'Jun', 'Jul', 'Aug', 'Sept', 'Oct', 'Nov', 'Dec', 'spring',\n",
    "       'summer', 'fall', 'Mon', 'Tue', 'Wed', 'Thu', 'Fri', 'Sat',\n",
    "       'Cloudy', 'Snow', 'Storm']`\n",
    "\n",
    "\n",
    "**4.3** Write a code to augment your a dataset with higher-order features for `temp`, `hum`,`windspeed`, and `hour`. You should include ONLY the pure powers of these columns. So with `degree=2` you should produce `temp^2` and `hum^2` but not `temp*hum` or any other two-feature interactions. \n",
    "\n",
    "Encapsulate this process as a function with appropriate inputs and outputs, and test your code by producing `practice_X_train_poly`, a training dataset with quadratic and cubic features built from `practice_X_train_scaled`, and printing `practice_X_train_poly`'s column names and `.head()`.\n",
    "\n",
    "**4.4** Write code to add interaction terms to the model. Specifically, we want interactions between the numeric predictors (`temp`, `hum`,`windspeed`) and the month and weekday dummies (`Feb`, `Mar`...`Dec`, `Mon`, `Tue`, ... `Sat`). That means you SHOULD build `temp*Feb` and `hum*Mon` and so on, but NOT `Feb*Mar` and NOT `Feb*Tue`. The interaction terms should always be a continuous feature times a month dummy or a numeric feature times a month of weekday dummy.\n",
    "\n",
    "Encapsulate this process as a function with appropriate inputs and outputs, and test your code by adding interaction terms to `practice_X_train_poly` and show its column names and `.head()`**\n",
    "\n",
    "**4.5** Combine all your code so far into a function named `get_design_mats` that takes in `BSS_train`, `BSS_test`, the names of columns for polynomial, the target column, the columns to be dropped and produces computation-ready design matrices `X_train` and `X_test` and responses `y_train` and `y_test`. Your final function should build correct, scaled design matrices with the stated interaction terms and any polynomial degree.\n",
    "\n",
    "\n",
    "**4.6** For polynomials of `degrees = [3,6,9,12,15,18]`:\n",
    "\n",
    "1.  Build the training design matrix and validation design matrix using the function `get_design_mats` with polynomial terms up through the specified degree.\n",
    "\n",
    "2.  Fit a regression model to the training data.\n",
    "\n",
    "3.  Report the model's score on the test data.\n",
    "\n",
    "**4.7** Which model would you select, and why?"
   ]
  },
  {
   "cell_type": "markdown",
   "metadata": {
    "button": false,
    "new_sheet": false,
    "run_control": {
     "read_only": false
    }
   },
   "source": [
    "### Answers"
   ]
  },
  {
   "cell_type": "markdown",
   "metadata": {
    "button": false,
    "new_sheet": false,
    "run_control": {
     "read_only": false
    }
   },
   "source": [
    "**4.1 Drop...**"
   ]
  },
  {
   "cell_type": "code",
   "execution_count": 27,
   "metadata": {
    "button": false,
    "new_sheet": false,
    "run_control": {
     "read_only": false
    }
   },
   "outputs": [
    {
     "data": {
      "text/plain": [
       "Index(['hour', 'holiday', 'year', 'temp', 'hum', 'windspeed', 'counts', 'Feb',\n",
       "       'Mar', 'Apr', 'May', 'Jun', 'Jul', 'Aug', 'Sept', 'Oct', 'Nov', 'Dec',\n",
       "       'Mon', 'Tue', 'Wed', 'Thu', 'Fri', 'Sat', 'Cloudy', 'Snow', 'Storm'],\n",
       "      dtype='object')"
      ]
     },
     "execution_count": 27,
     "metadata": {},
     "output_type": "execute_result"
    }
   ],
   "source": [
    "BSS_train = BSS_train.drop(['workingday', 'atemp', 'spring', 'summer', 'fall'], axis=1)\n",
    "BSS_test = BSS_test.drop(['workingday', 'atemp', 'spring', 'summer', 'fall'], axis=1)\n",
    "\n",
    "BSS_train.columns"
   ]
  },
  {
   "cell_type": "code",
   "execution_count": 28,
   "metadata": {},
   "outputs": [
    {
     "data": {
      "text/plain": [
       "Index(['hour', 'holiday', 'year', 'temp', 'hum', 'windspeed', 'counts', 'Feb',\n",
       "       'Mar', 'Apr', 'May', 'Jun', 'Jul', 'Aug', 'Sept', 'Oct', 'Nov', 'Dec',\n",
       "       'Mon', 'Tue', 'Wed', 'Thu', 'Fri', 'Sat', 'Cloudy', 'Snow', 'Storm'],\n",
       "      dtype='object')"
      ]
     },
     "execution_count": 28,
     "metadata": {},
     "output_type": "execute_result"
    }
   ],
   "source": [
    "# checking\n",
    "BSS_train.columns"
   ]
  },
  {
   "cell_type": "markdown",
   "metadata": {
    "button": false,
    "new_sheet": false,
    "run_control": {
     "read_only": false
    }
   },
   "source": [
    "**4.2 Write a function to standardize...**\n"
   ]
  },
  {
   "cell_type": "code",
   "execution_count": 29,
   "metadata": {
    "button": false,
    "new_sheet": false,
    "run_control": {
     "read_only": false
    }
   },
   "outputs": [],
   "source": [
    "def scale_datasets(train_data, test_data, cols_to_scale):\n",
    "    \"\"\"\n",
    "    This function will be used to standardize columns in your datasets. It\n",
    "    also allows you to pass in a test dataset, which will be standardized\n",
    "    using the stats from the training data. \n",
    "    \n",
    "    :param: train: The training dataset\n",
    "    :param: test: The test dataset, which will be standardized using stats \n",
    "                  from the training data. \n",
    "    :param: cols_to_scale: List containing the column names to be standardized\n",
    "    :return: (DataFrame, DataFrame) Standardized test and training DataFrames\n",
    "    \"\"\"\n",
    "    train = train_data.copy()\n",
    "    test = test_data.copy()\n",
    "    \n",
    "    for col in cols_to_scale:\n",
    "        mean = train[col].mean()\n",
    "        std = train[col].std()\n",
    "        train[col] = (train[col] - mean) / std\n",
    "        test[col] = (test[col] - mean) / std\n",
    "        \n",
    "    return train, test"
   ]
  },
  {
   "cell_type": "code",
   "execution_count": 30,
   "metadata": {
    "button": false,
    "new_sheet": false,
    "run_control": {
     "read_only": false
    }
   },
   "outputs": [],
   "source": [
    "def split_columns(df, target_col, drop_columns):\n",
    "    \"\"\"\n",
    "    :param: df: Your DataFrame\n",
    "    :param: target_col: The name of the response variable\n",
    "    :param: drop_columns: List containing the column names you want to drop\n",
    "    :return: (X_train, y_train)\n",
    "    \"\"\"\n",
    "    X_train = df.copy()\n",
    "    for col in drop_columns:\n",
    "        del X_train[col]\n",
    "        \n",
    "    y_train = df[target_col]\n",
    "    return X_train, y_train\n"
   ]
  },
  {
   "cell_type": "code",
   "execution_count": 31,
   "metadata": {},
   "outputs": [],
   "source": [
    "binary_columns = [\n",
    "    'holiday', 'workingday','Feb', 'Mar', 'Apr',\n",
    "    'May', 'Jun', 'Jul', 'Aug', 'Sept', \n",
    "    'Oct', 'Nov', 'Dec', 'spring', 'summer', \n",
    "    'fall', 'Mon', 'Tue', 'Wed', 'Thu', \n",
    "    'Fri', 'Sat', 'Cloudy', 'Snow', 'Storm'\n",
    "]\n",
    "non_binary_columns = BSS_train.columns.difference(binary_columns)"
   ]
  },
  {
   "cell_type": "code",
   "execution_count": 32,
   "metadata": {},
   "outputs": [
    {
     "data": {
      "text/html": [
       "<div>\n",
       "<style scoped>\n",
       "    .dataframe tbody tr th:only-of-type {\n",
       "        vertical-align: middle;\n",
       "    }\n",
       "\n",
       "    .dataframe tbody tr th {\n",
       "        vertical-align: top;\n",
       "    }\n",
       "\n",
       "    .dataframe thead th {\n",
       "        text-align: right;\n",
       "    }\n",
       "</style>\n",
       "<table border=\"1\" class=\"dataframe\">\n",
       "  <thead>\n",
       "    <tr style=\"text-align: right;\">\n",
       "      <th></th>\n",
       "      <th>counts</th>\n",
       "      <th>hour</th>\n",
       "      <th>hum</th>\n",
       "      <th>temp</th>\n",
       "      <th>windspeed</th>\n",
       "      <th>year</th>\n",
       "    </tr>\n",
       "  </thead>\n",
       "  <tbody>\n",
       "    <tr>\n",
       "      <th>count</th>\n",
       "      <td>8.689000e+03</td>\n",
       "      <td>8.689000e+03</td>\n",
       "      <td>8.689000e+03</td>\n",
       "      <td>8.689000e+03</td>\n",
       "      <td>8.689000e+03</td>\n",
       "      <td>8.689000e+03</td>\n",
       "    </tr>\n",
       "    <tr>\n",
       "      <th>mean</th>\n",
       "      <td>6.602051e-17</td>\n",
       "      <td>7.326526e-17</td>\n",
       "      <td>3.874411e-14</td>\n",
       "      <td>1.180187e-14</td>\n",
       "      <td>7.452489e-14</td>\n",
       "      <td>1.077015e-15</td>\n",
       "    </tr>\n",
       "    <tr>\n",
       "      <th>std</th>\n",
       "      <td>1.000000e+00</td>\n",
       "      <td>1.000000e+00</td>\n",
       "      <td>1.000000e+00</td>\n",
       "      <td>1.000000e+00</td>\n",
       "      <td>1.000000e+00</td>\n",
       "      <td>1.000000e+00</td>\n",
       "    </tr>\n",
       "    <tr>\n",
       "      <th>min</th>\n",
       "      <td>-1.043814e+00</td>\n",
       "      <td>-1.666263e+00</td>\n",
       "      <td>-3.251787e+00</td>\n",
       "      <td>-2.474050e+00</td>\n",
       "      <td>-1.546547e+00</td>\n",
       "      <td>-1.006755e+00</td>\n",
       "    </tr>\n",
       "    <tr>\n",
       "      <th>25%</th>\n",
       "      <td>-8.288580e-01</td>\n",
       "      <td>-8.042200e-01</td>\n",
       "      <td>-7.554373e-01</td>\n",
       "      <td>-8.122357e-01</td>\n",
       "      <td>-6.986934e-01</td>\n",
       "      <td>-1.006755e+00</td>\n",
       "    </tr>\n",
       "    <tr>\n",
       "      <th>50%</th>\n",
       "      <td>-2.556411e-01</td>\n",
       "      <td>5.782341e-02</td>\n",
       "      <td>-2.733539e-02</td>\n",
       "      <td>1.867126e-02</td>\n",
       "      <td>2.745877e-02</td>\n",
       "      <td>9.931755e-01</td>\n",
       "    </tr>\n",
       "    <tr>\n",
       "      <th>75%</th>\n",
       "      <td>5.159971e-01</td>\n",
       "      <td>9.198668e-01</td>\n",
       "      <td>8.047811e-01</td>\n",
       "      <td>8.495782e-01</td>\n",
       "      <td>5.118307e-01</td>\n",
       "      <td>9.931755e-01</td>\n",
       "    </tr>\n",
       "    <tr>\n",
       "      <th>max</th>\n",
       "      <td>4.335606e+00</td>\n",
       "      <td>1.638236e+00</td>\n",
       "      <td>1.948941e+00</td>\n",
       "      <td>2.511392e+00</td>\n",
       "      <td>5.355550e+00</td>\n",
       "      <td>9.931755e-01</td>\n",
       "    </tr>\n",
       "  </tbody>\n",
       "</table>\n",
       "</div>"
      ],
      "text/plain": [
       "             counts          hour           hum          temp     windspeed  \\\n",
       "count  8.689000e+03  8.689000e+03  8.689000e+03  8.689000e+03  8.689000e+03   \n",
       "mean   6.602051e-17  7.326526e-17  3.874411e-14  1.180187e-14  7.452489e-14   \n",
       "std    1.000000e+00  1.000000e+00  1.000000e+00  1.000000e+00  1.000000e+00   \n",
       "min   -1.043814e+00 -1.666263e+00 -3.251787e+00 -2.474050e+00 -1.546547e+00   \n",
       "25%   -8.288580e-01 -8.042200e-01 -7.554373e-01 -8.122357e-01 -6.986934e-01   \n",
       "50%   -2.556411e-01  5.782341e-02 -2.733539e-02  1.867126e-02  2.745877e-02   \n",
       "75%    5.159971e-01  9.198668e-01  8.047811e-01  8.495782e-01  5.118307e-01   \n",
       "max    4.335606e+00  1.638236e+00  1.948941e+00  2.511392e+00  5.355550e+00   \n",
       "\n",
       "               year  \n",
       "count  8.689000e+03  \n",
       "mean   1.077015e-15  \n",
       "std    1.000000e+00  \n",
       "min   -1.006755e+00  \n",
       "25%   -1.006755e+00  \n",
       "50%    9.931755e-01  \n",
       "75%    9.931755e-01  \n",
       "max    9.931755e-01  "
      ]
     },
     "execution_count": 32,
     "metadata": {},
     "output_type": "execute_result"
    }
   ],
   "source": [
    "practice_X_train = BSS_train[non_binary_columns]\n",
    "practice_X_test = BSS_test[non_binary_columns]\n",
    "\n",
    "practice_X_train_scaled, practice_X_test_scaled = scale_datasets(practice_X_train, practice_X_test, non_binary_columns)\n",
    "practice_X_train_scaled.describe()"
   ]
  },
  {
   "cell_type": "markdown",
   "metadata": {
    "button": false,
    "new_sheet": false,
    "run_control": {
     "read_only": false
    }
   },
   "source": [
    "**4.3 Write code to augment your a dataset with higher-order features for...**"
   ]
  },
  {
   "cell_type": "code",
   "execution_count": 33,
   "metadata": {
    "button": false,
    "new_sheet": false,
    "run_control": {
     "read_only": false
    }
   },
   "outputs": [],
   "source": [
    "def add_poly_features(dataset, degree, columns):\n",
    "    \"\"\"\n",
    "    :param dataset: Your data\n",
    "    :param degree: Max degree\n",
    "    :return: Augmented DataFrame\n",
    "    \"\"\"\n",
    "    poly_dataset = dataset.copy()\n",
    "    \n",
    "    for column in columns:\n",
    "        for i in range(degree+1):\n",
    "            if i == 0 or i == 1:\n",
    "                continue\n",
    "            column_name = column + \"^\" + str(i)\n",
    "            poly_dataset[column_name] = dataset[column] ** i\n",
    "    \n",
    "    return poly_dataset"
   ]
  },
  {
   "cell_type": "code",
   "execution_count": 34,
   "metadata": {},
   "outputs": [
    {
     "data": {
      "text/plain": [
       "Index(['counts', 'hour', 'hum', 'temp', 'windspeed', 'year', 'temp^2',\n",
       "       'temp^3', 'hum^2', 'hum^3', 'windspeed^2', 'windspeed^3', 'hour^2',\n",
       "       'hour^3'],\n",
       "      dtype='object')"
      ]
     },
     "execution_count": 34,
     "metadata": {},
     "output_type": "execute_result"
    }
   ],
   "source": [
    "# testing the function\n",
    "practice_X_train_poly = add_poly_features(practice_X_train_scaled, 3, ['temp', 'hum', 'windspeed', 'hour'])\n",
    "practice_X_train_poly.columns"
   ]
  },
  {
   "cell_type": "code",
   "execution_count": 35,
   "metadata": {},
   "outputs": [
    {
     "data": {
      "text/html": [
       "<div>\n",
       "<style scoped>\n",
       "    .dataframe tbody tr th:only-of-type {\n",
       "        vertical-align: middle;\n",
       "    }\n",
       "\n",
       "    .dataframe tbody tr th {\n",
       "        vertical-align: top;\n",
       "    }\n",
       "\n",
       "    .dataframe thead th {\n",
       "        text-align: right;\n",
       "    }\n",
       "</style>\n",
       "<table border=\"1\" class=\"dataframe\">\n",
       "  <thead>\n",
       "    <tr style=\"text-align: right;\">\n",
       "      <th></th>\n",
       "      <th>counts</th>\n",
       "      <th>hour</th>\n",
       "      <th>hum</th>\n",
       "      <th>temp</th>\n",
       "      <th>windspeed</th>\n",
       "      <th>year</th>\n",
       "      <th>temp^2</th>\n",
       "      <th>temp^3</th>\n",
       "      <th>hum^2</th>\n",
       "      <th>hum^3</th>\n",
       "      <th>windspeed^2</th>\n",
       "      <th>windspeed^3</th>\n",
       "      <th>hour^2</th>\n",
       "      <th>hour^3</th>\n",
       "    </tr>\n",
       "  </thead>\n",
       "  <tbody>\n",
       "    <tr>\n",
       "      <th>0</th>\n",
       "      <td>-0.702089</td>\n",
       "      <td>1.350889</td>\n",
       "      <td>-0.131350</td>\n",
       "      <td>-1.331553</td>\n",
       "      <td>0.511831</td>\n",
       "      <td>0.993176</td>\n",
       "      <td>1.773032</td>\n",
       "      <td>-2.360885</td>\n",
       "      <td>0.017253</td>\n",
       "      <td>-0.002266</td>\n",
       "      <td>0.261971</td>\n",
       "      <td>0.134085</td>\n",
       "      <td>1.824900</td>\n",
       "      <td>2.465236</td>\n",
       "    </tr>\n",
       "    <tr>\n",
       "      <th>1</th>\n",
       "      <td>1.590779</td>\n",
       "      <td>0.776193</td>\n",
       "      <td>1.064817</td>\n",
       "      <td>0.641851</td>\n",
       "      <td>0.511831</td>\n",
       "      <td>-1.006755</td>\n",
       "      <td>0.411973</td>\n",
       "      <td>0.264426</td>\n",
       "      <td>1.133836</td>\n",
       "      <td>1.207329</td>\n",
       "      <td>0.261971</td>\n",
       "      <td>0.134085</td>\n",
       "      <td>0.602475</td>\n",
       "      <td>0.467637</td>\n",
       "    </tr>\n",
       "    <tr>\n",
       "      <th>2</th>\n",
       "      <td>0.896304</td>\n",
       "      <td>-0.373198</td>\n",
       "      <td>0.180694</td>\n",
       "      <td>1.368895</td>\n",
       "      <td>-0.214322</td>\n",
       "      <td>0.993176</td>\n",
       "      <td>1.873874</td>\n",
       "      <td>2.565136</td>\n",
       "      <td>0.032650</td>\n",
       "      <td>0.005900</td>\n",
       "      <td>0.045934</td>\n",
       "      <td>-0.009845</td>\n",
       "      <td>0.139277</td>\n",
       "      <td>-0.051978</td>\n",
       "    </tr>\n",
       "    <tr>\n",
       "      <th>3</th>\n",
       "      <td>1.215983</td>\n",
       "      <td>0.776193</td>\n",
       "      <td>-2.107627</td>\n",
       "      <td>0.641851</td>\n",
       "      <td>0.875312</td>\n",
       "      <td>0.993176</td>\n",
       "      <td>0.411973</td>\n",
       "      <td>0.264426</td>\n",
       "      <td>4.442090</td>\n",
       "      <td>-9.362266</td>\n",
       "      <td>0.766172</td>\n",
       "      <td>0.670640</td>\n",
       "      <td>0.602475</td>\n",
       "      <td>0.467637</td>\n",
       "    </tr>\n",
       "    <tr>\n",
       "      <th>4</th>\n",
       "      <td>-0.663507</td>\n",
       "      <td>-0.516872</td>\n",
       "      <td>-1.171496</td>\n",
       "      <td>-1.643143</td>\n",
       "      <td>-0.456913</td>\n",
       "      <td>0.993176</td>\n",
       "      <td>2.699918</td>\n",
       "      <td>-4.436350</td>\n",
       "      <td>1.372402</td>\n",
       "      <td>-1.607762</td>\n",
       "      <td>0.208770</td>\n",
       "      <td>-0.095390</td>\n",
       "      <td>0.267157</td>\n",
       "      <td>-0.138086</td>\n",
       "    </tr>\n",
       "  </tbody>\n",
       "</table>\n",
       "</div>"
      ],
      "text/plain": [
       "     counts      hour       hum      temp  windspeed      year    temp^2  \\\n",
       "0 -0.702089  1.350889 -0.131350 -1.331553   0.511831  0.993176  1.773032   \n",
       "1  1.590779  0.776193  1.064817  0.641851   0.511831 -1.006755  0.411973   \n",
       "2  0.896304 -0.373198  0.180694  1.368895  -0.214322  0.993176  1.873874   \n",
       "3  1.215983  0.776193 -2.107627  0.641851   0.875312  0.993176  0.411973   \n",
       "4 -0.663507 -0.516872 -1.171496 -1.643143  -0.456913  0.993176  2.699918   \n",
       "\n",
       "     temp^3     hum^2     hum^3  windspeed^2  windspeed^3    hour^2    hour^3  \n",
       "0 -2.360885  0.017253 -0.002266     0.261971     0.134085  1.824900  2.465236  \n",
       "1  0.264426  1.133836  1.207329     0.261971     0.134085  0.602475  0.467637  \n",
       "2  2.565136  0.032650  0.005900     0.045934    -0.009845  0.139277 -0.051978  \n",
       "3  0.264426  4.442090 -9.362266     0.766172     0.670640  0.602475  0.467637  \n",
       "4 -4.436350  1.372402 -1.607762     0.208770    -0.095390  0.267157 -0.138086  "
      ]
     },
     "execution_count": 35,
     "metadata": {},
     "output_type": "execute_result"
    }
   ],
   "source": [
    "practice_X_train_poly.head()"
   ]
  },
  {
   "cell_type": "code",
   "execution_count": 36,
   "metadata": {},
   "outputs": [
    {
     "data": {
      "text/plain": [
       "(8689, 14)"
      ]
     },
     "execution_count": 36,
     "metadata": {},
     "output_type": "execute_result"
    }
   ],
   "source": [
    "practice_X_train_poly.shape"
   ]
  },
  {
   "cell_type": "markdown",
   "metadata": {
    "button": false,
    "new_sheet": false,
    "run_control": {
     "read_only": false
    }
   },
   "source": [
    "**4.4 Write code to add interaction terms to the model...**"
   ]
  },
  {
   "cell_type": "code",
   "execution_count": 37,
   "metadata": {
    "button": false,
    "new_sheet": false,
    "run_control": {
     "read_only": false
    }
   },
   "outputs": [],
   "source": [
    "def build_interaction(df, interact_left, interact_right):\n",
    "    \"\"\"\n",
    "    :param df: Your data\n",
    "    :param interact_left: The first set of columns you want to use in interactions\n",
    "    :param interact_right: The set of columns you want to generate interactions terms\n",
    "                           with in interact_left\n",
    "    \"\"\"\n",
    "    result_df = df.copy()\n",
    "    for column_1 in interact_left:\n",
    "        for column_2 in interact_right:\n",
    "            column_name = column_1+\"*\"+column_2 \n",
    "            result_df[column_name] = result_df[column_1] * result_df[column_2]\n",
    "\n",
    "    return result_df"
   ]
  },
  {
   "cell_type": "code",
   "execution_count": 38,
   "metadata": {},
   "outputs": [
    {
     "name": "stdout",
     "output_type": "stream",
     "text": [
      "counts\n",
      "hour\n",
      "hum\n",
      "temp\n",
      "windspeed\n",
      "year\n",
      "temp^2\n",
      "temp^3\n",
      "hum^2\n",
      "hum^3\n",
      "windspeed^2\n",
      "windspeed^3\n",
      "hour^2\n",
      "hour^3\n",
      "Feb\n",
      "Mar\n",
      "Apr\n",
      "May\n",
      "Jun\n",
      "Jul\n",
      "Aug\n",
      "Sept\n",
      "Oct\n",
      "Nov\n",
      "Dec\n",
      "Mon\n",
      "Tue\n",
      "Wed\n",
      "Thu\n",
      "Fri\n",
      "Sat\n",
      "temp*Feb\n",
      "temp*Mar\n",
      "temp*Apr\n",
      "temp*May\n",
      "temp*Jun\n",
      "temp*Jul\n",
      "temp*Aug\n",
      "temp*Sept\n",
      "temp*Oct\n",
      "temp*Nov\n",
      "temp*Dec\n",
      "temp*Mon\n",
      "temp*Tue\n",
      "temp*Wed\n",
      "temp*Thu\n",
      "temp*Fri\n",
      "temp*Sat\n",
      "hour*Feb\n",
      "hour*Mar\n",
      "hour*Apr\n",
      "hour*May\n",
      "hour*Jun\n",
      "hour*Jul\n",
      "hour*Aug\n",
      "hour*Sept\n",
      "hour*Oct\n",
      "hour*Nov\n",
      "hour*Dec\n",
      "hour*Mon\n",
      "hour*Tue\n",
      "hour*Wed\n",
      "hour*Thu\n",
      "hour*Fri\n",
      "hour*Sat\n",
      "hum*Feb\n",
      "hum*Mar\n",
      "hum*Apr\n",
      "hum*May\n",
      "hum*Jun\n",
      "hum*Jul\n",
      "hum*Aug\n",
      "hum*Sept\n",
      "hum*Oct\n",
      "hum*Nov\n",
      "hum*Dec\n",
      "hum*Mon\n",
      "hum*Tue\n",
      "hum*Wed\n",
      "hum*Thu\n",
      "hum*Fri\n",
      "hum*Sat\n",
      "windspeed*Feb\n",
      "windspeed*Mar\n",
      "windspeed*Apr\n",
      "windspeed*May\n",
      "windspeed*Jun\n",
      "windspeed*Jul\n",
      "windspeed*Aug\n",
      "windspeed*Sept\n",
      "windspeed*Oct\n",
      "windspeed*Nov\n",
      "windspeed*Dec\n",
      "windspeed*Mon\n",
      "windspeed*Tue\n",
      "windspeed*Wed\n",
      "windspeed*Thu\n",
      "windspeed*Fri\n",
      "windspeed*Sat\n"
     ]
    },
    {
     "data": {
      "text/html": [
       "<div>\n",
       "<style scoped>\n",
       "    .dataframe tbody tr th:only-of-type {\n",
       "        vertical-align: middle;\n",
       "    }\n",
       "\n",
       "    .dataframe tbody tr th {\n",
       "        vertical-align: top;\n",
       "    }\n",
       "\n",
       "    .dataframe thead th {\n",
       "        text-align: right;\n",
       "    }\n",
       "</style>\n",
       "<table border=\"1\" class=\"dataframe\">\n",
       "  <thead>\n",
       "    <tr style=\"text-align: right;\">\n",
       "      <th></th>\n",
       "      <th>counts</th>\n",
       "      <th>hour</th>\n",
       "      <th>hum</th>\n",
       "      <th>temp</th>\n",
       "      <th>windspeed</th>\n",
       "      <th>year</th>\n",
       "      <th>temp^2</th>\n",
       "      <th>temp^3</th>\n",
       "      <th>hum^2</th>\n",
       "      <th>hum^3</th>\n",
       "      <th>...</th>\n",
       "      <th>windspeed*Sept</th>\n",
       "      <th>windspeed*Oct</th>\n",
       "      <th>windspeed*Nov</th>\n",
       "      <th>windspeed*Dec</th>\n",
       "      <th>windspeed*Mon</th>\n",
       "      <th>windspeed*Tue</th>\n",
       "      <th>windspeed*Wed</th>\n",
       "      <th>windspeed*Thu</th>\n",
       "      <th>windspeed*Fri</th>\n",
       "      <th>windspeed*Sat</th>\n",
       "    </tr>\n",
       "  </thead>\n",
       "  <tbody>\n",
       "    <tr>\n",
       "      <th>0</th>\n",
       "      <td>-0.702089</td>\n",
       "      <td>1.350889</td>\n",
       "      <td>-0.131350</td>\n",
       "      <td>-1.331553</td>\n",
       "      <td>0.511831</td>\n",
       "      <td>0.993176</td>\n",
       "      <td>1.773032</td>\n",
       "      <td>-2.360885</td>\n",
       "      <td>0.017253</td>\n",
       "      <td>-0.002266</td>\n",
       "      <td>...</td>\n",
       "      <td>0.0</td>\n",
       "      <td>0.000000</td>\n",
       "      <td>0.0</td>\n",
       "      <td>0.511831</td>\n",
       "      <td>0.0</td>\n",
       "      <td>0.0</td>\n",
       "      <td>0.0</td>\n",
       "      <td>0.511831</td>\n",
       "      <td>0.0</td>\n",
       "      <td>0.0</td>\n",
       "    </tr>\n",
       "    <tr>\n",
       "      <th>1</th>\n",
       "      <td>1.590779</td>\n",
       "      <td>0.776193</td>\n",
       "      <td>1.064817</td>\n",
       "      <td>0.641851</td>\n",
       "      <td>0.511831</td>\n",
       "      <td>-1.006755</td>\n",
       "      <td>0.411973</td>\n",
       "      <td>0.264426</td>\n",
       "      <td>1.133836</td>\n",
       "      <td>1.207329</td>\n",
       "      <td>...</td>\n",
       "      <td>0.0</td>\n",
       "      <td>0.511831</td>\n",
       "      <td>0.0</td>\n",
       "      <td>0.000000</td>\n",
       "      <td>0.0</td>\n",
       "      <td>0.0</td>\n",
       "      <td>0.0</td>\n",
       "      <td>0.511831</td>\n",
       "      <td>0.0</td>\n",
       "      <td>0.0</td>\n",
       "    </tr>\n",
       "    <tr>\n",
       "      <th>2</th>\n",
       "      <td>0.896304</td>\n",
       "      <td>-0.373198</td>\n",
       "      <td>0.180694</td>\n",
       "      <td>1.368895</td>\n",
       "      <td>-0.214322</td>\n",
       "      <td>0.993176</td>\n",
       "      <td>1.873874</td>\n",
       "      <td>2.565136</td>\n",
       "      <td>0.032650</td>\n",
       "      <td>0.005900</td>\n",
       "      <td>...</td>\n",
       "      <td>-0.0</td>\n",
       "      <td>-0.000000</td>\n",
       "      <td>-0.0</td>\n",
       "      <td>-0.000000</td>\n",
       "      <td>-0.0</td>\n",
       "      <td>-0.0</td>\n",
       "      <td>-0.0</td>\n",
       "      <td>-0.214322</td>\n",
       "      <td>-0.0</td>\n",
       "      <td>-0.0</td>\n",
       "    </tr>\n",
       "    <tr>\n",
       "      <th>3</th>\n",
       "      <td>1.215983</td>\n",
       "      <td>0.776193</td>\n",
       "      <td>-2.107627</td>\n",
       "      <td>0.641851</td>\n",
       "      <td>0.875312</td>\n",
       "      <td>0.993176</td>\n",
       "      <td>0.411973</td>\n",
       "      <td>0.264426</td>\n",
       "      <td>4.442090</td>\n",
       "      <td>-9.362266</td>\n",
       "      <td>...</td>\n",
       "      <td>0.0</td>\n",
       "      <td>0.000000</td>\n",
       "      <td>0.0</td>\n",
       "      <td>0.000000</td>\n",
       "      <td>0.0</td>\n",
       "      <td>0.0</td>\n",
       "      <td>0.0</td>\n",
       "      <td>0.000000</td>\n",
       "      <td>0.0</td>\n",
       "      <td>0.0</td>\n",
       "    </tr>\n",
       "    <tr>\n",
       "      <th>4</th>\n",
       "      <td>-0.663507</td>\n",
       "      <td>-0.516872</td>\n",
       "      <td>-1.171496</td>\n",
       "      <td>-1.643143</td>\n",
       "      <td>-0.456913</td>\n",
       "      <td>0.993176</td>\n",
       "      <td>2.699918</td>\n",
       "      <td>-4.436350</td>\n",
       "      <td>1.372402</td>\n",
       "      <td>-1.607762</td>\n",
       "      <td>...</td>\n",
       "      <td>-0.0</td>\n",
       "      <td>-0.000000</td>\n",
       "      <td>-0.0</td>\n",
       "      <td>-0.000000</td>\n",
       "      <td>-0.0</td>\n",
       "      <td>-0.0</td>\n",
       "      <td>-0.0</td>\n",
       "      <td>-0.000000</td>\n",
       "      <td>-0.0</td>\n",
       "      <td>-0.0</td>\n",
       "    </tr>\n",
       "  </tbody>\n",
       "</table>\n",
       "<p>5 rows × 99 columns</p>\n",
       "</div>"
      ],
      "text/plain": [
       "     counts      hour       hum      temp  windspeed      year    temp^2  \\\n",
       "0 -0.702089  1.350889 -0.131350 -1.331553   0.511831  0.993176  1.773032   \n",
       "1  1.590779  0.776193  1.064817  0.641851   0.511831 -1.006755  0.411973   \n",
       "2  0.896304 -0.373198  0.180694  1.368895  -0.214322  0.993176  1.873874   \n",
       "3  1.215983  0.776193 -2.107627  0.641851   0.875312  0.993176  0.411973   \n",
       "4 -0.663507 -0.516872 -1.171496 -1.643143  -0.456913  0.993176  2.699918   \n",
       "\n",
       "     temp^3     hum^2     hum^3  ...  windspeed*Sept  windspeed*Oct  \\\n",
       "0 -2.360885  0.017253 -0.002266  ...             0.0       0.000000   \n",
       "1  0.264426  1.133836  1.207329  ...             0.0       0.511831   \n",
       "2  2.565136  0.032650  0.005900  ...            -0.0      -0.000000   \n",
       "3  0.264426  4.442090 -9.362266  ...             0.0       0.000000   \n",
       "4 -4.436350  1.372402 -1.607762  ...            -0.0      -0.000000   \n",
       "\n",
       "   windspeed*Nov  windspeed*Dec  windspeed*Mon  windspeed*Tue  windspeed*Wed  \\\n",
       "0            0.0       0.511831            0.0            0.0            0.0   \n",
       "1            0.0       0.000000            0.0            0.0            0.0   \n",
       "2           -0.0      -0.000000           -0.0           -0.0           -0.0   \n",
       "3            0.0       0.000000            0.0            0.0            0.0   \n",
       "4           -0.0      -0.000000           -0.0           -0.0           -0.0   \n",
       "\n",
       "   windspeed*Thu  windspeed*Fri  windspeed*Sat  \n",
       "0       0.511831            0.0            0.0  \n",
       "1       0.511831            0.0            0.0  \n",
       "2      -0.214322           -0.0           -0.0  \n",
       "3       0.000000            0.0            0.0  \n",
       "4      -0.000000           -0.0           -0.0  \n",
       "\n",
       "[5 rows x 99 columns]"
      ]
     },
     "execution_count": 38,
     "metadata": {},
     "output_type": "execute_result"
    }
   ],
   "source": [
    "month_weekday_dummies = ['Feb', 'Mar', 'Apr','May', 'Jun', 'Jul', 'Aug', 'Sept', 'Oct', 'Nov', 'Dec', 'Mon', 'Tue', 'Wed', 'Thu', 'Fri', 'Sat']\n",
    "practice_X_train_poly[month_weekday_dummies] = BSS_train[month_weekday_dummies]\n",
    "\n",
    "practice_X_train_poly_interactions = build_interaction(\n",
    "    practice_X_train_poly, \n",
    "    ['temp', 'hour','hum','windspeed'], month_weekday_dummies\n",
    ")\n",
    "for i in practice_X_train_poly_interactions.columns:\n",
    "    print(i)\n",
    "practice_X_train_poly_interactions.head()\n"
   ]
  },
  {
   "cell_type": "code",
   "execution_count": 39,
   "metadata": {},
   "outputs": [
    {
     "data": {
      "text/html": [
       "<div>\n",
       "<style scoped>\n",
       "    .dataframe tbody tr th:only-of-type {\n",
       "        vertical-align: middle;\n",
       "    }\n",
       "\n",
       "    .dataframe tbody tr th {\n",
       "        vertical-align: top;\n",
       "    }\n",
       "\n",
       "    .dataframe thead th {\n",
       "        text-align: right;\n",
       "    }\n",
       "</style>\n",
       "<table border=\"1\" class=\"dataframe\">\n",
       "  <thead>\n",
       "    <tr style=\"text-align: right;\">\n",
       "      <th></th>\n",
       "      <th>counts</th>\n",
       "      <th>hour</th>\n",
       "      <th>hum</th>\n",
       "      <th>temp</th>\n",
       "      <th>windspeed</th>\n",
       "      <th>year</th>\n",
       "      <th>temp^2</th>\n",
       "      <th>temp^3</th>\n",
       "      <th>hum^2</th>\n",
       "      <th>hum^3</th>\n",
       "      <th>...</th>\n",
       "      <th>windspeed*Sept</th>\n",
       "      <th>windspeed*Oct</th>\n",
       "      <th>windspeed*Nov</th>\n",
       "      <th>windspeed*Dec</th>\n",
       "      <th>windspeed*Mon</th>\n",
       "      <th>windspeed*Tue</th>\n",
       "      <th>windspeed*Wed</th>\n",
       "      <th>windspeed*Thu</th>\n",
       "      <th>windspeed*Fri</th>\n",
       "      <th>windspeed*Sat</th>\n",
       "    </tr>\n",
       "  </thead>\n",
       "  <tbody>\n",
       "    <tr>\n",
       "      <th>count</th>\n",
       "      <td>8.689000e+03</td>\n",
       "      <td>8.689000e+03</td>\n",
       "      <td>8.689000e+03</td>\n",
       "      <td>8.689000e+03</td>\n",
       "      <td>8.689000e+03</td>\n",
       "      <td>8.689000e+03</td>\n",
       "      <td>8689.000000</td>\n",
       "      <td>8689.000000</td>\n",
       "      <td>8689.000000</td>\n",
       "      <td>8689.000000</td>\n",
       "      <td>...</td>\n",
       "      <td>8689.000000</td>\n",
       "      <td>8689.000000</td>\n",
       "      <td>8689.000000</td>\n",
       "      <td>8689.000000</td>\n",
       "      <td>8689.000000</td>\n",
       "      <td>8689.000000</td>\n",
       "      <td>8689.000000</td>\n",
       "      <td>8689.000000</td>\n",
       "      <td>8689.000000</td>\n",
       "      <td>8689.000000</td>\n",
       "    </tr>\n",
       "    <tr>\n",
       "      <th>mean</th>\n",
       "      <td>6.602051e-17</td>\n",
       "      <td>7.326526e-17</td>\n",
       "      <td>3.874411e-14</td>\n",
       "      <td>1.180187e-14</td>\n",
       "      <td>7.452489e-14</td>\n",
       "      <td>1.077015e-15</td>\n",
       "      <td>0.999885</td>\n",
       "      <td>-0.003552</td>\n",
       "      <td>0.999885</td>\n",
       "      <td>-0.117150</td>\n",
       "      <td>...</td>\n",
       "      <td>-0.018334</td>\n",
       "      <td>-0.013420</td>\n",
       "      <td>-0.004616</td>\n",
       "      <td>-0.007543</td>\n",
       "      <td>-0.001365</td>\n",
       "      <td>0.004269</td>\n",
       "      <td>-0.003621</td>\n",
       "      <td>0.001751</td>\n",
       "      <td>-0.002836</td>\n",
       "      <td>0.005889</td>\n",
       "    </tr>\n",
       "    <tr>\n",
       "      <th>std</th>\n",
       "      <td>1.000000e+00</td>\n",
       "      <td>1.000000e+00</td>\n",
       "      <td>1.000000e+00</td>\n",
       "      <td>1.000000e+00</td>\n",
       "      <td>1.000000e+00</td>\n",
       "      <td>1.000000e+00</td>\n",
       "      <td>1.031393</td>\n",
       "      <td>2.427325</td>\n",
       "      <td>1.096709</td>\n",
       "      <td>2.722721</td>\n",
       "      <td>...</td>\n",
       "      <td>0.266038</td>\n",
       "      <td>0.301259</td>\n",
       "      <td>0.287817</td>\n",
       "      <td>0.302338</td>\n",
       "      <td>0.386071</td>\n",
       "      <td>0.371281</td>\n",
       "      <td>0.380900</td>\n",
       "      <td>0.363119</td>\n",
       "      <td>0.391164</td>\n",
       "      <td>0.384242</td>\n",
       "    </tr>\n",
       "    <tr>\n",
       "      <th>min</th>\n",
       "      <td>-1.043814e+00</td>\n",
       "      <td>-1.666263e+00</td>\n",
       "      <td>-3.251787e+00</td>\n",
       "      <td>-2.474050e+00</td>\n",
       "      <td>-1.546547e+00</td>\n",
       "      <td>-1.006755e+00</td>\n",
       "      <td>0.000349</td>\n",
       "      <td>-15.143462</td>\n",
       "      <td>0.000609</td>\n",
       "      <td>-34.384770</td>\n",
       "      <td>...</td>\n",
       "      <td>-1.546547</td>\n",
       "      <td>-1.546547</td>\n",
       "      <td>-1.546547</td>\n",
       "      <td>-1.546547</td>\n",
       "      <td>-1.546547</td>\n",
       "      <td>-1.546547</td>\n",
       "      <td>-1.546547</td>\n",
       "      <td>-1.546547</td>\n",
       "      <td>-1.546547</td>\n",
       "      <td>-1.546547</td>\n",
       "    </tr>\n",
       "    <tr>\n",
       "      <th>25%</th>\n",
       "      <td>-8.288580e-01</td>\n",
       "      <td>-8.042200e-01</td>\n",
       "      <td>-7.554373e-01</td>\n",
       "      <td>-8.122357e-01</td>\n",
       "      <td>-6.986934e-01</td>\n",
       "      <td>-1.006755e+00</td>\n",
       "      <td>0.188464</td>\n",
       "      <td>-0.535854</td>\n",
       "      <td>0.153183</td>\n",
       "      <td>-0.431117</td>\n",
       "      <td>...</td>\n",
       "      <td>0.000000</td>\n",
       "      <td>-0.000000</td>\n",
       "      <td>0.000000</td>\n",
       "      <td>0.000000</td>\n",
       "      <td>0.000000</td>\n",
       "      <td>0.000000</td>\n",
       "      <td>0.000000</td>\n",
       "      <td>0.000000</td>\n",
       "      <td>0.000000</td>\n",
       "      <td>0.000000</td>\n",
       "    </tr>\n",
       "    <tr>\n",
       "      <th>50%</th>\n",
       "      <td>-2.556411e-01</td>\n",
       "      <td>5.782341e-02</td>\n",
       "      <td>-2.733539e-02</td>\n",
       "      <td>1.867126e-02</td>\n",
       "      <td>2.745877e-02</td>\n",
       "      <td>9.931755e-01</td>\n",
       "      <td>0.659727</td>\n",
       "      <td>0.000007</td>\n",
       "      <td>0.647673</td>\n",
       "      <td>-0.000020</td>\n",
       "      <td>...</td>\n",
       "      <td>-0.000000</td>\n",
       "      <td>0.000000</td>\n",
       "      <td>0.000000</td>\n",
       "      <td>0.000000</td>\n",
       "      <td>0.000000</td>\n",
       "      <td>0.000000</td>\n",
       "      <td>0.000000</td>\n",
       "      <td>0.000000</td>\n",
       "      <td>-0.000000</td>\n",
       "      <td>0.000000</td>\n",
       "    </tr>\n",
       "    <tr>\n",
       "      <th>75%</th>\n",
       "      <td>5.159971e-01</td>\n",
       "      <td>9.198668e-01</td>\n",
       "      <td>8.047811e-01</td>\n",
       "      <td>8.495782e-01</td>\n",
       "      <td>5.118307e-01</td>\n",
       "      <td>9.931755e-01</td>\n",
       "      <td>1.507221</td>\n",
       "      <td>0.613211</td>\n",
       "      <td>1.620138</td>\n",
       "      <td>0.521235</td>\n",
       "      <td>...</td>\n",
       "      <td>0.000000</td>\n",
       "      <td>0.000000</td>\n",
       "      <td>0.000000</td>\n",
       "      <td>0.000000</td>\n",
       "      <td>0.000000</td>\n",
       "      <td>0.000000</td>\n",
       "      <td>0.000000</td>\n",
       "      <td>0.000000</td>\n",
       "      <td>0.000000</td>\n",
       "      <td>0.000000</td>\n",
       "    </tr>\n",
       "    <tr>\n",
       "      <th>max</th>\n",
       "      <td>4.335606e+00</td>\n",
       "      <td>1.638236e+00</td>\n",
       "      <td>1.948941e+00</td>\n",
       "      <td>2.511392e+00</td>\n",
       "      <td>5.355550e+00</td>\n",
       "      <td>9.931755e-01</td>\n",
       "      <td>6.307090</td>\n",
       "      <td>15.839576</td>\n",
       "      <td>10.574116</td>\n",
       "      <td>7.402803</td>\n",
       "      <td>...</td>\n",
       "      <td>3.660654</td>\n",
       "      <td>3.176282</td>\n",
       "      <td>3.418062</td>\n",
       "      <td>3.781544</td>\n",
       "      <td>4.265916</td>\n",
       "      <td>4.750288</td>\n",
       "      <td>3.660654</td>\n",
       "      <td>3.660654</td>\n",
       "      <td>4.992879</td>\n",
       "      <td>5.234659</td>\n",
       "    </tr>\n",
       "  </tbody>\n",
       "</table>\n",
       "<p>8 rows × 99 columns</p>\n",
       "</div>"
      ],
      "text/plain": [
       "             counts          hour           hum          temp     windspeed  \\\n",
       "count  8.689000e+03  8.689000e+03  8.689000e+03  8.689000e+03  8.689000e+03   \n",
       "mean   6.602051e-17  7.326526e-17  3.874411e-14  1.180187e-14  7.452489e-14   \n",
       "std    1.000000e+00  1.000000e+00  1.000000e+00  1.000000e+00  1.000000e+00   \n",
       "min   -1.043814e+00 -1.666263e+00 -3.251787e+00 -2.474050e+00 -1.546547e+00   \n",
       "25%   -8.288580e-01 -8.042200e-01 -7.554373e-01 -8.122357e-01 -6.986934e-01   \n",
       "50%   -2.556411e-01  5.782341e-02 -2.733539e-02  1.867126e-02  2.745877e-02   \n",
       "75%    5.159971e-01  9.198668e-01  8.047811e-01  8.495782e-01  5.118307e-01   \n",
       "max    4.335606e+00  1.638236e+00  1.948941e+00  2.511392e+00  5.355550e+00   \n",
       "\n",
       "               year       temp^2       temp^3        hum^2        hum^3  ...  \\\n",
       "count  8.689000e+03  8689.000000  8689.000000  8689.000000  8689.000000  ...   \n",
       "mean   1.077015e-15     0.999885    -0.003552     0.999885    -0.117150  ...   \n",
       "std    1.000000e+00     1.031393     2.427325     1.096709     2.722721  ...   \n",
       "min   -1.006755e+00     0.000349   -15.143462     0.000609   -34.384770  ...   \n",
       "25%   -1.006755e+00     0.188464    -0.535854     0.153183    -0.431117  ...   \n",
       "50%    9.931755e-01     0.659727     0.000007     0.647673    -0.000020  ...   \n",
       "75%    9.931755e-01     1.507221     0.613211     1.620138     0.521235  ...   \n",
       "max    9.931755e-01     6.307090    15.839576    10.574116     7.402803  ...   \n",
       "\n",
       "       windspeed*Sept  windspeed*Oct  windspeed*Nov  windspeed*Dec  \\\n",
       "count     8689.000000    8689.000000    8689.000000    8689.000000   \n",
       "mean        -0.018334      -0.013420      -0.004616      -0.007543   \n",
       "std          0.266038       0.301259       0.287817       0.302338   \n",
       "min         -1.546547      -1.546547      -1.546547      -1.546547   \n",
       "25%          0.000000      -0.000000       0.000000       0.000000   \n",
       "50%         -0.000000       0.000000       0.000000       0.000000   \n",
       "75%          0.000000       0.000000       0.000000       0.000000   \n",
       "max          3.660654       3.176282       3.418062       3.781544   \n",
       "\n",
       "       windspeed*Mon  windspeed*Tue  windspeed*Wed  windspeed*Thu  \\\n",
       "count    8689.000000    8689.000000    8689.000000    8689.000000   \n",
       "mean       -0.001365       0.004269      -0.003621       0.001751   \n",
       "std         0.386071       0.371281       0.380900       0.363119   \n",
       "min        -1.546547      -1.546547      -1.546547      -1.546547   \n",
       "25%         0.000000       0.000000       0.000000       0.000000   \n",
       "50%         0.000000       0.000000       0.000000       0.000000   \n",
       "75%         0.000000       0.000000       0.000000       0.000000   \n",
       "max         4.265916       4.750288       3.660654       3.660654   \n",
       "\n",
       "       windspeed*Fri  windspeed*Sat  \n",
       "count    8689.000000    8689.000000  \n",
       "mean       -0.002836       0.005889  \n",
       "std         0.391164       0.384242  \n",
       "min        -1.546547      -1.546547  \n",
       "25%         0.000000       0.000000  \n",
       "50%        -0.000000       0.000000  \n",
       "75%         0.000000       0.000000  \n",
       "max         4.992879       5.234659  \n",
       "\n",
       "[8 rows x 99 columns]"
      ]
     },
     "execution_count": 39,
     "metadata": {},
     "output_type": "execute_result"
    }
   ],
   "source": [
    "practice_X_train_poly_interactions.describe()"
   ]
  },
  {
   "cell_type": "markdown",
   "metadata": {
    "button": false,
    "new_sheet": false,
    "run_control": {
     "read_only": false
    }
   },
   "source": [
    "**4.5** Combine all your code so far into a function named `get_design_mats` that takes in `BSS_train`, `BSS_test`, the names of columns for polynomial, the target column, the columns to be dropped and produces computation-ready design matrices `X_train` and `X_test` and responses `y_train` and `y_test`. Your final function should build correct, scaled design matrices with the stated interaction terms and any polynomial degree."
   ]
  },
  {
   "cell_type": "code",
   "execution_count": 40,
   "metadata": {},
   "outputs": [
    {
     "name": "stdout",
     "output_type": "stream",
     "text": [
      "(8689, 27)\n",
      "(8690, 27)\n"
     ]
    }
   ],
   "source": [
    "print(BSS_train.shape)\n",
    "print(BSS_test.shape)"
   ]
  },
  {
   "cell_type": "code",
   "execution_count": 41,
   "metadata": {
    "button": false,
    "new_sheet": false,
    "run_control": {
     "read_only": false
    }
   },
   "outputs": [],
   "source": [
    "def get_design_mats(train_df, val_df,  degree, \n",
    "                    columns_forpoly=['temp', 'hum','windspeed', 'hour'],\n",
    "                    target_col='counts', \n",
    "                    bad_columns=['counts']):\n",
    "    \"\"\"\n",
    "    :param train_df: The training data\n",
    "    :param val_df: Your test/validation data\n",
    "    :param columns_forpoly: List containing the column name for which we want to create \n",
    "                            polynomial terms\n",
    "    :param target_col: The response variable column\n",
    "    :param bad_columns: The columns you want to drop\n",
    "    \"\"\"\n",
    "    \n",
    "    X_train = train_df.copy()\n",
    "    X_test = val_df.copy()\n",
    "    \n",
    "    #scale non-binary columns that are in the dataframe\n",
    "    #QQ - may need to NOT scale some cols here\n",
    "    X_train, X_test = scale_datasets(X_train, X_test, ['temp', 'hum', 'windspeed', 'hour', 'year'])\n",
    "    \n",
    "    #create responses\n",
    "    y_train = X_train[target_col]\n",
    "    y_test = X_test[target_col]\n",
    "    \n",
    "    #drop bad columns\n",
    "    X_train = X_train.drop(bad_columns, axis = 1)\n",
    "    X_test = X_test.drop(bad_columns, axis = 1)\n",
    "    \n",
    "    #polynomial degrees\n",
    "    X_train = add_poly_features(X_train, degree, columns_forpoly)\n",
    "    X_test = add_poly_features(X_test, degree, columns_forpoly)\n",
    "    \n",
    "    #interaction terms\n",
    "    interact_continuous = ['temp', 'hum', 'windspeed', 'hour']\n",
    "    interact_discrete = ['Feb', 'Mar', 'Apr','May', 'Jun', 'Jul', \n",
    "     'Aug', 'Sept', 'Oct', 'Nov', 'Dec',\n",
    "     'Mon', 'Tue', 'Wed', 'Thu', 'Fri', 'Sat']\n",
    "    \n",
    "    X_train = build_interaction(X_train, interact_continuous, interact_discrete)\n",
    "    X_test = build_interaction(X_test, interact_continuous, interact_discrete)\n",
    "    \n",
    "     \n",
    "    return X_train, y_train, X_test, y_test"
   ]
  },
  {
   "cell_type": "markdown",
   "metadata": {
    "button": false,
    "new_sheet": false,
    "run_control": {
     "read_only": false
    }
   },
   "source": [
    "**4.6 For polynomials of `degrees = [3,6,9,12,15,18]`:...**"
   ]
  },
  {
   "cell_type": "code",
   "execution_count": 42,
   "metadata": {
    "button": false,
    "new_sheet": false,
    "run_control": {
     "read_only": false
    }
   },
   "outputs": [
    {
     "name": "stdout",
     "output_type": "stream",
     "text": [
      "degree 3 model score is 0.5724879174547226 on TEST data\n",
      "degree 6 model score is 0.609356553103693 on TEST data\n",
      "degree 9 model score is 0.6601476836166149 on TEST data\n",
      "degree 12 model score is 0.6653164752465033 on TEST data\n",
      "degree 15 model score is 0.6980353784365377 on TEST data\n",
      "degree 18 model score is 0.6844056493354564 on TEST data\n"
     ]
    }
   ],
   "source": [
    "degrees = [3,6,9,12,15,18]\n",
    "\n",
    "for degree in degrees:\n",
    "    #getting train and test datasets\n",
    "    X_train, y_train, X_test, y_test = get_design_mats(BSS_train, BSS_test, degree)\n",
    "    #print(X_train.head())\n",
    "    #fitting a regression model to the training data\n",
    "    regress = LinearRegression(fit_intercept=True).fit(X_train, y_train)\n",
    "    print('degree {} model score is {} on TEST data'.format(degree, regress.score(X_test, y_test)))\n"
   ]
  },
  {
   "cell_type": "markdown",
   "metadata": {
    "button": false,
    "new_sheet": false,
    "run_control": {
     "read_only": false
    }
   },
   "source": [
    "**4.7 Which model would you select, and why?**"
   ]
  },
  {
   "cell_type": "markdown",
   "metadata": {
    "button": false,
    "new_sheet": false,
    "run_control": {
     "read_only": false
    }
   },
   "source": [
    "I would select the degree 15 model since it has the highest $R^2$. However, it is important to note that we could have just been lucky here. To have a better idea of what model is best we should cross-validate.\n"
   ]
  },
  {
   "cell_type": "markdown",
   "metadata": {},
   "source": [
    "---"
   ]
  },
  {
   "cell_type": "markdown",
   "metadata": {
    "button": false,
    "new_sheet": false,
    "run_control": {
     "read_only": false
    }
   },
   "source": [
    "<div class='exercise'> <b> Question 5 [25pts]: Regularized Models </b> </div>\n",
    "\n",
    "**5.1** Let's try regularizing our models via ridge regression. Split the training set, `BSS_train`, into an 80-20 train-validation split (use `random_state=109`).  Build a table showing the validation set $R^2$ for the degree-15 polynomial model, regularized at the levels `alphas = np.exp(np.arange(-10,11,1))`. Do not perform cross validation at this point, simply report performance on the single validation set. \n",
    "\n",
    "**5.2** Find the best-scoring Ridge model above.\n",
    "\n",
    "**5.3** It's time to see how well our selected model will do on future data. Use the earlier created test dataset, do any required formatting, and report the best model's $R^2$ score. How does it compare to the validation set score that made us choose this model? Does the test set simply have observations that are more difficult or easier to predict?\n",
    "\n",
    "**5.4** Build a dataset (design matrix) with polynomial degree 2 and fit an OLS model, a Ridge model, and a Lasso model. Use `RidgeCV` and `LassoCV` to select the best regularization level from among `alphas = np.exp(np.arange(-10,10,1))`. \n",
    "\n",
    "Note: On the lasso model, you may need to increase `max_iter` (start with 100,000) for the optimization to converge.\n",
    "\n",
    "**5.5** Build a plot which cleanly presents, for the 'main effect' features: 1) The coefficient assigned by OLS, 2) the coefficient assigned by ridge, and 3) the coefficient assigned by lasso, so that each predictor's coefficient can be easily compared across the 3 models.  These main effect features should be: `['hour', 'holiday', 'year', 'temp', 'hum', 'windspeed', 'Feb', 'Mar',\n",
    "       'Apr', 'May', 'Jun', 'Jul', 'Aug', 'Sept', 'Oct', 'Nov', 'Dec', 'Mon',\n",
    "       'Tue', 'Wed', 'Thu', 'Fri', 'Sat', 'Cloudy', 'Snow', 'Storm']`\n",
    "\n",
    "**Hint: Bar plots are a possible choice, but you are not required to use them**\n",
    "\n",
    "**Hint: use `xticks` to label coefficients with their feature names**\n",
    "\n",
    "**5.6** What differences do you see in the plot above comparing the 3 types of models?  Are any of the results surprising?"
   ]
  },
  {
   "cell_type": "markdown",
   "metadata": {
    "button": false,
    "new_sheet": false,
    "run_control": {
     "read_only": false
    }
   },
   "source": [
    "### Answers"
   ]
  },
  {
   "cell_type": "markdown",
   "metadata": {
    "button": false,
    "new_sheet": false,
    "run_control": {
     "read_only": false
    }
   },
   "source": [
    "**5.1** Let's try regularizing our models via ridge regression. Split the training set, `BSS_train`, into an 80-20 train-validation split (use `random_state=109`).  Build a table showing the validation set $R^2$ for the degree-15 polynomial model, regularized at the levels `alphas = np.exp(np.arange(-10,11,1))`. Do not perform cross validation at this point, simply report performance on the single validation set. "
   ]
  },
  {
   "cell_type": "code",
   "execution_count": 43,
   "metadata": {
    "button": false,
    "new_sheet": false,
    "run_control": {
     "read_only": false
    }
   },
   "outputs": [],
   "source": [
    "bikes_train, bikes_val = train_test_split(BSS_train, test_size=.2, random_state=109)"
   ]
  },
  {
   "cell_type": "code",
   "execution_count": 44,
   "metadata": {
    "button": false,
    "new_sheet": false,
    "run_control": {
     "read_only": false
    }
   },
   "outputs": [
    {
     "name": "stdout",
     "output_type": "stream",
     "text": [
      "(6951, 27)\n",
      "(1738, 27)\n"
     ]
    }
   ],
   "source": [
    "print(bikes_train.shape)\n",
    "print(bikes_val.shape)"
   ]
  },
  {
   "cell_type": "code",
   "execution_count": 45,
   "metadata": {},
   "outputs": [
    {
     "name": "stderr",
     "output_type": "stream",
     "text": [
      "/Users/anuragmitra/opt/miniconda3/envs/cs109a/lib/python3.7/site-packages/sklearn/linear_model/_ridge.py:148: LinAlgWarning: Ill-conditioned matrix (rcond=8.91681e-26): result may not be accurate.\n",
      "  overwrite_a=True).T\n",
      "/Users/anuragmitra/opt/miniconda3/envs/cs109a/lib/python3.7/site-packages/sklearn/linear_model/_ridge.py:148: LinAlgWarning: Ill-conditioned matrix (rcond=9.71554e-26): result may not be accurate.\n",
      "  overwrite_a=True).T\n",
      "/Users/anuragmitra/opt/miniconda3/envs/cs109a/lib/python3.7/site-packages/sklearn/linear_model/_ridge.py:148: LinAlgWarning: Ill-conditioned matrix (rcond=1.18995e-25): result may not be accurate.\n",
      "  overwrite_a=True).T\n",
      "/Users/anuragmitra/opt/miniconda3/envs/cs109a/lib/python3.7/site-packages/sklearn/linear_model/_ridge.py:148: LinAlgWarning: Ill-conditioned matrix (rcond=1.79164e-25): result may not be accurate.\n",
      "  overwrite_a=True).T\n",
      "/Users/anuragmitra/opt/miniconda3/envs/cs109a/lib/python3.7/site-packages/sklearn/linear_model/_ridge.py:148: LinAlgWarning: Ill-conditioned matrix (rcond=3.46316e-25): result may not be accurate.\n",
      "  overwrite_a=True).T\n",
      "/Users/anuragmitra/opt/miniconda3/envs/cs109a/lib/python3.7/site-packages/sklearn/linear_model/_ridge.py:148: LinAlgWarning: Ill-conditioned matrix (rcond=9.92357e-25): result may not be accurate.\n",
      "  overwrite_a=True).T\n",
      "/Users/anuragmitra/opt/miniconda3/envs/cs109a/lib/python3.7/site-packages/sklearn/linear_model/_ridge.py:148: LinAlgWarning: Ill-conditioned matrix (rcond=2.19711e-24): result may not be accurate.\n",
      "  overwrite_a=True).T\n",
      "/Users/anuragmitra/opt/miniconda3/envs/cs109a/lib/python3.7/site-packages/sklearn/linear_model/_ridge.py:148: LinAlgWarning: Ill-conditioned matrix (rcond=5.44545e-24): result may not be accurate.\n",
      "  overwrite_a=True).T\n",
      "/Users/anuragmitra/opt/miniconda3/envs/cs109a/lib/python3.7/site-packages/sklearn/linear_model/_ridge.py:148: LinAlgWarning: Ill-conditioned matrix (rcond=1.80454e-23): result may not be accurate.\n",
      "  overwrite_a=True).T\n",
      "/Users/anuragmitra/opt/miniconda3/envs/cs109a/lib/python3.7/site-packages/sklearn/linear_model/_ridge.py:148: LinAlgWarning: Ill-conditioned matrix (rcond=3.79426e-23): result may not be accurate.\n",
      "  overwrite_a=True).T\n",
      "/Users/anuragmitra/opt/miniconda3/envs/cs109a/lib/python3.7/site-packages/sklearn/linear_model/_ridge.py:148: LinAlgWarning: Ill-conditioned matrix (rcond=1.12838e-22): result may not be accurate.\n",
      "  overwrite_a=True).T\n",
      "/Users/anuragmitra/opt/miniconda3/envs/cs109a/lib/python3.7/site-packages/sklearn/linear_model/_ridge.py:148: LinAlgWarning: Ill-conditioned matrix (rcond=2.79638e-22): result may not be accurate.\n",
      "  overwrite_a=True).T\n",
      "/Users/anuragmitra/opt/miniconda3/envs/cs109a/lib/python3.7/site-packages/sklearn/linear_model/_ridge.py:148: LinAlgWarning: Ill-conditioned matrix (rcond=7.93262e-22): result may not be accurate.\n",
      "  overwrite_a=True).T\n",
      "/Users/anuragmitra/opt/miniconda3/envs/cs109a/lib/python3.7/site-packages/sklearn/linear_model/_ridge.py:148: LinAlgWarning: Ill-conditioned matrix (rcond=1.70283e-21): result may not be accurate.\n",
      "  overwrite_a=True).T\n",
      "/Users/anuragmitra/opt/miniconda3/envs/cs109a/lib/python3.7/site-packages/sklearn/linear_model/_ridge.py:148: LinAlgWarning: Ill-conditioned matrix (rcond=4.72166e-21): result may not be accurate.\n",
      "  overwrite_a=True).T\n",
      "/Users/anuragmitra/opt/miniconda3/envs/cs109a/lib/python3.7/site-packages/sklearn/linear_model/_ridge.py:148: LinAlgWarning: Ill-conditioned matrix (rcond=1.30609e-20): result may not be accurate.\n",
      "  overwrite_a=True).T\n",
      "/Users/anuragmitra/opt/miniconda3/envs/cs109a/lib/python3.7/site-packages/sklearn/linear_model/_ridge.py:148: LinAlgWarning: Ill-conditioned matrix (rcond=3.12997e-20): result may not be accurate.\n",
      "  overwrite_a=True).T\n",
      "/Users/anuragmitra/opt/miniconda3/envs/cs109a/lib/python3.7/site-packages/sklearn/linear_model/_ridge.py:148: LinAlgWarning: Ill-conditioned matrix (rcond=8.94339e-20): result may not be accurate.\n",
      "  overwrite_a=True).T\n",
      "/Users/anuragmitra/opt/miniconda3/envs/cs109a/lib/python3.7/site-packages/sklearn/linear_model/_ridge.py:148: LinAlgWarning: Ill-conditioned matrix (rcond=2.07048e-19): result may not be accurate.\n",
      "  overwrite_a=True).T\n",
      "/Users/anuragmitra/opt/miniconda3/envs/cs109a/lib/python3.7/site-packages/sklearn/linear_model/_ridge.py:148: LinAlgWarning: Ill-conditioned matrix (rcond=7.39166e-19): result may not be accurate.\n",
      "  overwrite_a=True).T\n",
      "/Users/anuragmitra/opt/miniconda3/envs/cs109a/lib/python3.7/site-packages/sklearn/linear_model/_ridge.py:148: LinAlgWarning: Ill-conditioned matrix (rcond=1.91542e-18): result may not be accurate.\n",
      "  overwrite_a=True).T\n"
     ]
    },
    {
     "data": {
      "image/png": "[encoded data removed]",
      "text/plain": [
       "<Figure size 432x288 with 1 Axes>"
      ]
     },
     "metadata": {
      "needs_background": "light"
     },
     "output_type": "display_data"
    }
   ],
   "source": [
    "alphas = np.exp(np.arange(-10,11,1))\n",
    "\n",
    "r_lst = []\n",
    "\n",
    "X_train, y_train, X_val, y_val = get_design_mats(bikes_train, bikes_val, 15)\n",
    "\n",
    "for c in alphas:    \n",
    "    #fitting a regression model to the training data\n",
    "    ridge = Ridge(alpha = c, fit_intercept=True).fit(X_train, y_train)\n",
    "    r_lst.append(r2_score(y_val, ridge.predict(X_val)))\n",
    "\n",
    "plt.plot(alphas, r_lst)\n",
    "\n",
    "r2_dict = {\n",
    "    'alpha': alphas,\n",
    "    'r^2': r_lst\n",
    "}"
   ]
  },
  {
   "cell_type": "code",
   "execution_count": 46,
   "metadata": {},
   "outputs": [
    {
     "data": {
      "text/html": [
       "<div>\n",
       "<style scoped>\n",
       "    .dataframe tbody tr th:only-of-type {\n",
       "        vertical-align: middle;\n",
       "    }\n",
       "\n",
       "    .dataframe tbody tr th {\n",
       "        vertical-align: top;\n",
       "    }\n",
       "\n",
       "    .dataframe thead th {\n",
       "        text-align: right;\n",
       "    }\n",
       "</style>\n",
       "<table border=\"1\" class=\"dataframe\">\n",
       "  <thead>\n",
       "    <tr style=\"text-align: right;\">\n",
       "      <th></th>\n",
       "      <th>alpha</th>\n",
       "      <th>r^2</th>\n",
       "    </tr>\n",
       "  </thead>\n",
       "  <tbody>\n",
       "    <tr>\n",
       "      <th>0</th>\n",
       "      <td>0.000045</td>\n",
       "      <td>0.684937</td>\n",
       "    </tr>\n",
       "    <tr>\n",
       "      <th>1</th>\n",
       "      <td>0.000123</td>\n",
       "      <td>0.683667</td>\n",
       "    </tr>\n",
       "    <tr>\n",
       "      <th>2</th>\n",
       "      <td>0.000335</td>\n",
       "      <td>0.687260</td>\n",
       "    </tr>\n",
       "    <tr>\n",
       "      <th>3</th>\n",
       "      <td>0.000912</td>\n",
       "      <td>0.686682</td>\n",
       "    </tr>\n",
       "    <tr>\n",
       "      <th>4</th>\n",
       "      <td>0.002479</td>\n",
       "      <td>0.682584</td>\n",
       "    </tr>\n",
       "    <tr>\n",
       "      <th>5</th>\n",
       "      <td>0.006738</td>\n",
       "      <td>0.680013</td>\n",
       "    </tr>\n",
       "    <tr>\n",
       "      <th>6</th>\n",
       "      <td>0.018316</td>\n",
       "      <td>0.678004</td>\n",
       "    </tr>\n",
       "    <tr>\n",
       "      <th>7</th>\n",
       "      <td>0.049787</td>\n",
       "      <td>0.678446</td>\n",
       "    </tr>\n",
       "    <tr>\n",
       "      <th>8</th>\n",
       "      <td>0.135335</td>\n",
       "      <td>0.676892</td>\n",
       "    </tr>\n",
       "    <tr>\n",
       "      <th>9</th>\n",
       "      <td>0.367879</td>\n",
       "      <td>0.676018</td>\n",
       "    </tr>\n",
       "    <tr>\n",
       "      <th>10</th>\n",
       "      <td>1.000000</td>\n",
       "      <td>0.675175</td>\n",
       "    </tr>\n",
       "    <tr>\n",
       "      <th>11</th>\n",
       "      <td>2.718282</td>\n",
       "      <td>0.671529</td>\n",
       "    </tr>\n",
       "    <tr>\n",
       "      <th>12</th>\n",
       "      <td>7.389056</td>\n",
       "      <td>0.663062</td>\n",
       "    </tr>\n",
       "    <tr>\n",
       "      <th>13</th>\n",
       "      <td>20.085537</td>\n",
       "      <td>0.651850</td>\n",
       "    </tr>\n",
       "    <tr>\n",
       "      <th>14</th>\n",
       "      <td>54.598150</td>\n",
       "      <td>0.639980</td>\n",
       "    </tr>\n",
       "    <tr>\n",
       "      <th>15</th>\n",
       "      <td>148.413159</td>\n",
       "      <td>0.627030</td>\n",
       "    </tr>\n",
       "    <tr>\n",
       "      <th>16</th>\n",
       "      <td>403.428793</td>\n",
       "      <td>0.610520</td>\n",
       "    </tr>\n",
       "    <tr>\n",
       "      <th>17</th>\n",
       "      <td>1096.633158</td>\n",
       "      <td>0.585377</td>\n",
       "    </tr>\n",
       "    <tr>\n",
       "      <th>18</th>\n",
       "      <td>2980.957987</td>\n",
       "      <td>0.547058</td>\n",
       "    </tr>\n",
       "    <tr>\n",
       "      <th>19</th>\n",
       "      <td>8103.083928</td>\n",
       "      <td>0.495149</td>\n",
       "    </tr>\n",
       "    <tr>\n",
       "      <th>20</th>\n",
       "      <td>22026.465795</td>\n",
       "      <td>0.431889</td>\n",
       "    </tr>\n",
       "  </tbody>\n",
       "</table>\n",
       "</div>"
      ],
      "text/plain": [
       "           alpha       r^2\n",
       "0       0.000045  0.684937\n",
       "1       0.000123  0.683667\n",
       "2       0.000335  0.687260\n",
       "3       0.000912  0.686682\n",
       "4       0.002479  0.682584\n",
       "5       0.006738  0.680013\n",
       "6       0.018316  0.678004\n",
       "7       0.049787  0.678446\n",
       "8       0.135335  0.676892\n",
       "9       0.367879  0.676018\n",
       "10      1.000000  0.675175\n",
       "11      2.718282  0.671529\n",
       "12      7.389056  0.663062\n",
       "13     20.085537  0.651850\n",
       "14     54.598150  0.639980\n",
       "15    148.413159  0.627030\n",
       "16    403.428793  0.610520\n",
       "17   1096.633158  0.585377\n",
       "18   2980.957987  0.547058\n",
       "19   8103.083928  0.495149\n",
       "20  22026.465795  0.431889"
      ]
     },
     "execution_count": 46,
     "metadata": {},
     "output_type": "execute_result"
    }
   ],
   "source": [
    "pd.DataFrame.from_dict(r2_dict)"
   ]
  },
  {
   "cell_type": "markdown",
   "metadata": {
    "button": false,
    "new_sheet": false,
    "run_control": {
     "read_only": false
    }
   },
   "source": [
    "**5.2** Find the best-scoring Ridge model above."
   ]
  },
  {
   "cell_type": "code",
   "execution_count": 47,
   "metadata": {
    "button": false,
    "new_sheet": false,
    "run_control": {
     "read_only": false
    }
   },
   "outputs": [
    {
     "name": "stdout",
     "output_type": "stream",
     "text": [
      "The best alpha is 0.00033546262790251185\n"
     ]
    }
   ],
   "source": [
    "best_alpha = alphas[r_lst.index(max(r_lst))]\n",
    "print('The best alpha is {}'.format(best_alpha))"
   ]
  },
  {
   "cell_type": "markdown",
   "metadata": {
    "button": false,
    "new_sheet": false,
    "run_control": {
     "read_only": false
    }
   },
   "source": [
    "**5.3** It's time to see how well our selected model will do on future data. Use the earlier created test dataset, do any required formatting, and report the best model's $R^2$ score. How does it compare to the validation set score that made us choose this model? Does the test set simply have observations that are more difficult or easier to predict?"
   ]
  },
  {
   "cell_type": "code",
   "execution_count": 48,
   "metadata": {
    "button": false,
    "new_sheet": false,
    "run_control": {
     "read_only": false
    }
   },
   "outputs": [
    {
     "name": "stderr",
     "output_type": "stream",
     "text": [
      "/Users/anuragmitra/opt/miniconda3/envs/cs109a/lib/python3.7/site-packages/sklearn/linear_model/_ridge.py:148: LinAlgWarning: Ill-conditioned matrix (rcond=1.18995e-25): result may not be accurate.\n",
      "  overwrite_a=True).T\n"
     ]
    },
    {
     "data": {
      "text/plain": [
       "0.40699852877284803"
      ]
     },
     "execution_count": 48,
     "metadata": {},
     "output_type": "execute_result"
    }
   ],
   "source": [
    "best_ridge = Ridge(alpha = best_alpha, fit_intercept=True).fit(X_train, y_train)\n",
    "\n",
    "_, _, X_test, y_test = get_design_mats(bikes_train, BSS_test, 15)\n",
    "\n",
    "r2_score(y_test, ridge.predict(X_test))"
   ]
  },
  {
   "cell_type": "markdown",
   "metadata": {},
   "source": [
    "The performance is significantly worse than on the validation set. This is likely because we did not perform cross-validation, and so overfitted to the validation set when choosing the order for our selected model. It isn't really a question of whether the test set has easier or harder observations, just that it is unknown and an overfit model can't perform well."
   ]
  },
  {
   "cell_type": "markdown",
   "metadata": {
    "button": false,
    "new_sheet": false,
    "run_control": {
     "read_only": false
    }
   },
   "source": [
    "**5.4** Build a dataset (design matrix) with polynomial degree 2 and fit an OLS model, a Ridge model, and a Lasso model. Use `RidgeCV` and `LassoCV` to select the best regularization level from among `alphas = np.exp(np.arange(-10,10,1))`. \n",
    "\n",
    "Note: On the lasso model, you may need to increase `max_iter` (start with 100,000) for the optimization to converge."
   ]
  },
  {
   "cell_type": "code",
   "execution_count": 49,
   "metadata": {
    "button": false,
    "new_sheet": false,
    "run_control": {
     "read_only": false
    }
   },
   "outputs": [
    {
     "name": "stdout",
     "output_type": "stream",
     "text": [
      "Linear regression (unregularized) score is 0.5225190487288567\n",
      "RidgeCV score is 0.5224259291158168\n",
      "LassoCV score is 0.5222787049344659\n"
     ]
    }
   ],
   "source": [
    "#build dataset with polynomial degree 2\n",
    "X_train, y_train, X_test, y_test = get_design_mats(BSS_train, BSS_test, 2)\n",
    "\n",
    "alphas = np.exp(np.arange(-10,10,1))\n",
    "\n",
    "lin_regress = LinearRegression(fit_intercept = True).fit(X_train, y_train)\n",
    "\n",
    "ridges = RidgeCV(alphas = alphas, cv=10).fit(X_train, y_train)\n",
    "\n",
    "lassos = LassoCV(alphas = alphas, cv=10, max_iter = 1000000).fit(X_train, y_train)\n",
    "\n",
    "print(\"Linear regression (unregularized) score is\", lin_regress.score(X_test, y_test))\n",
    "print(\"RidgeCV score is\", ridges.score(X_test, y_test))\n",
    "print(\"LassoCV score is\", lassos.score(X_test, y_test))"
   ]
  },
  {
   "cell_type": "markdown",
   "metadata": {
    "button": false,
    "new_sheet": false,
    "run_control": {
     "read_only": false
    }
   },
   "source": [
    "**5.5** Build a plot which cleanly presents, for the 'main effect' features: 1) The coefficient assigned by OLS, 2) the coefficient assigned by ridge, and 3) the coefficient assigned by lasso, so that each predictor's coefficient can be easily compared across the 3 models.  These main effect features should be: `['hour', 'holiday', 'year', 'temp', 'hum', 'windspeed', 'Feb', 'Mar',\n",
    "       'Apr', 'May', 'Jun', 'Jul', 'Aug', 'Sept', 'Oct', 'Nov', 'Dec', 'Mon',\n",
    "       'Tue', 'Wed', 'Thu', 'Fri', 'Sat', 'Cloudy', 'Snow', 'Storm']`\n",
    "\n",
    "**Hint: Bar plots are a possible choice, but you are not required to use them**\n",
    "\n",
    "**Hint: use `xticks` to label coefficients with their feature names**"
   ]
  },
  {
   "cell_type": "code",
   "execution_count": 51,
   "metadata": {
    "button": false,
    "new_sheet": false,
    "run_control": {
     "read_only": false
    }
   },
   "outputs": [
    {
     "data": {
      "image/png": "[encoded data removed]",
      "text/plain": [
       "<Figure size 1440x432 with 1 Axes>"
      ]
     },
     "metadata": {
      "needs_background": "light"
     },
     "output_type": "display_data"
    }
   ],
   "source": [
    "\"\"\"\n",
    "print(\"RIDGE CV:Best model searched:\\nalpha = {}\\nintercept = {}\\nbetas = {}, \".format(ridgeCV_object.alpha_,\n",
    "                                                                            ridgeCV_object.intercept_,\n",
    "                                                                            ridgeCV_object.coef_\n",
    "                                                                            ))\n",
    "\n",
    "print(\"LASSO CV:Best model searched:\\nalpha = {}\\nintercept = {}\\nbetas = {}, \".format(lassoCV_object.alpha_,\n",
    "                                                                            ridgeCV_object.intercept_,\n",
    "                                                                            ridgeCV_object.coef_\n",
    "                                                                            ))\n",
    "\"\"\"\n",
    "\n",
    "\n",
    "col_names = ['hour', 'holiday', 'year', 'temp', 'hum', 'windspeed', 'Feb', 'Mar',\n",
    "       'Apr', 'May', 'Jun', 'Jul', 'Aug', 'Sept', 'Oct', 'Nov', 'Dec', 'Mon',\n",
    "       'Tue', 'Wed', 'Thu', 'Fri', 'Sat', 'Cloudy', 'Snow', 'Storm']\n",
    "\n",
    "data = [ridges.coef_[0:26], lassos.coef_[0:26], regress.coef_[0:26]]\n",
    "\n",
    "fig, ax = plt.subplots(figsize = (20,6))\n",
    "\n",
    "ax.set_xticks(np.asarray([i for i in range(26)]))\n",
    "ax.set_xticklabels(col_names, rotation=65)\n",
    "\n",
    "plt.bar(np.asarray([i for i in range(26)]) + 0.00, data[0], color = 'b', width = 0.25, label = \"ridge\", alpha = .5)\n",
    "plt.bar(np.asarray([i for i in range(26)]) + 0.25, data[1], color = 'g', width = 0.25, label = \"lasso\",  alpha = .5)\n",
    "plt.bar(np.asarray([i for i in range(26)]) + 0.50, data[2], color = 'r', width = 0.25, label = \"linear regression (unregularized)\",  alpha = .5)\n",
    "plt.legend()\n",
    "ax.set_ylabel('coefficient value')\n",
    "ax.set_xlabel('coefficient name')\n",
    "plt.show();\n"
   ]
  },
  {
   "cell_type": "markdown",
   "metadata": {
    "button": false,
    "new_sheet": false,
    "run_control": {
     "read_only": false
    }
   },
   "source": [
    "**5.6** What differences do you see in the plot above comparing the 3 types of models?  Are any of the results surprising?"
   ]
  },
  {
   "cell_type": "markdown",
   "metadata": {
    "button": false,
    "new_sheet": false,
    "run_control": {
     "read_only": false
    }
   },
   "source": [
    "One surprise is the paucity of columns for which lasso has completely eliminated the coefficient (only one (Storm) can be seen on the graph). \n",
    "\n",
    "Another surprising result is that in quite a few cases ridge and lasso actually increase the size of the coefficient, rather than reducing it (e.g. June, July, October, Friday, Saturday, Thursday). This still makes sense because maybe the variables confound with other variables thus resulting in some coefficients to rise with the fall of others."
   ]
  },
  {
   "cell_type": "markdown",
   "metadata": {},
   "source": [
    "---"
   ]
  }
 ],
 "metadata": {
  "anaconda-cloud": {},
  "kernelspec": {
   "display_name": "Python 3",
   "language": "python",
   "name": "python3"
  },
  "language_info": {
   "codemirror_mode": {
    "name": "ipython",
    "version": 3
   },
   "file_extension": ".py",
   "mimetype": "text/x-python",
   "name": "python",
   "nbconvert_exporter": "python",
   "pygments_lexer": "ipython3",
   "version": "3.7.10"
  }
 },
 "nbformat": 4,
 "nbformat_minor": 2
}
