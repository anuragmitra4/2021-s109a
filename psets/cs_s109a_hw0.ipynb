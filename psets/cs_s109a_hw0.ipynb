{
 "cells": [
  {
   "cell_type": "markdown",
   "metadata": {
    "button": false,
    "new_sheet": false,
    "run_control": {
     "read_only": false
    }
   },
   "source": [
    "# <img style=\"float: left; padding-right: 10px; width: 45px\" src=\"data:image/png;base64,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\"> CS-S109A Introduction to Data Science \n",
    "\n",
    "## Homework 0: Knowledge Test\n",
    "\n",
    "**Harvard University**<br/>\n",
    "**Summer 2021**<br/>\n",
    "**Instructor**: Kevin Rader\n",
    "\n",
    "\n",
    "<hr style='height:2px'>\n",
    "\n",
    "---\n",
    "\n",
    "This is a homework which you must turn in.  It will not be graded (checked over for completion).  \n",
    "\n",
    "This homework has the following intentions:\n",
    "\n",
    "1. To get you familiar with the jupyter/python environment\n",
    "2. You should easily understand these questions and what is being asked. If you struggle mightily, this may not be the right class for you.\n",
    "3. You should be able to understand the intent (if not the exact syntax) of the code and be able to look up Google and provide code that is asked of you. If you cannot, this may not be the right class for you.\n",
    "\n"
   ]
  },
  {
   "cell_type": "code",
   "execution_count": 1,
   "metadata": {},
   "outputs": [
    {
     "data": {
      "text/html": [
       "<style>\n",
       "blockquote { background: #AEDE94; }\n",
       "h1 { \n",
       "    padding-top: 25px;\n",
       "    padding-bottom: 25px;\n",
       "    text-align: left; \n",
       "    padding-left: 10px;\n",
       "    background-color: #DDDDDD; \n",
       "    color: black;\n",
       "}\n",
       "h2 { \n",
       "    padding-top: 10px;\n",
       "    padding-bottom: 10px;\n",
       "    text-align: left; \n",
       "    padding-left: 5px;\n",
       "    background-color: #EEEEEE; \n",
       "    color: black;\n",
       "}\n",
       "\n",
       "div.exercise {\n",
       "\tbackground-color: #ffcccc;\n",
       "\tborder-color: #E9967A; \t\n",
       "\tborder-left: 5px solid #800080; \n",
       "\tpadding: 0.5em;\n",
       "}\n",
       "\n",
       "div.exercise-r {\n",
       "\tbackground-color: #fce8e8;\n",
       "\tborder-color: #E9967A; \t\n",
       "\tborder-left: 5px solid #800080; \n",
       "\tpadding: 0.5em;\n",
       "}\n",
       "\n",
       "\n",
       "span.sub-q {\n",
       "\tfont-weight: bold;\n",
       "}\n",
       "div.theme {\n",
       "\tbackground-color: #DDDDDD;\n",
       "\tborder-color: #E9967A; \t\n",
       "\tborder-left: 5px solid #800080; \n",
       "\tpadding: 0.5em;\n",
       "\tfont-size: 18pt;\n",
       "}\n",
       "div.gc { \n",
       "\tbackground-color: #AEDE94;\n",
       "\tborder-color: #E9967A; \t \n",
       "\tborder-left: 5px solid #800080; \n",
       "\tpadding: 0.5em;\n",
       "\tfont-size: 12pt;\n",
       "}\n",
       "p.q1 { \n",
       "    padding-top: 5px;\n",
       "    padding-bottom: 5px;\n",
       "    text-align: left; \n",
       "    padding-left: 5px;\n",
       "    background-color: #EEEEEE; \n",
       "    color: black;\n",
       "}\n",
       "header {\n",
       "   padding-top: 35px;\n",
       "    padding-bottom: 35px;\n",
       "    text-align: left; \n",
       "    padding-left: 10px;\n",
       "    background-color: #DDDDDD; \n",
       "    color: black;\n",
       "}\n",
       "</style>\n",
       "\n"
      ],
      "text/plain": [
       "<IPython.core.display.HTML object>"
      ]
     },
     "execution_count": 1,
     "metadata": {},
     "output_type": "execute_result"
    }
   ],
   "source": [
    "## RUN THIS CELL TO GET THE RIGHT FORMATTING \n",
    "import requests\n",
    "from IPython.core.display import HTML\n",
    "styles = requests.get(\"https://raw.githubusercontent.com/Harvard-IACS/2018-CS109A/master/content/styles/cs109.css\").text\n",
    "HTML(styles)"
   ]
  },
  {
   "cell_type": "code",
   "execution_count": 3,
   "metadata": {
    "button": false,
    "new_sheet": false,
    "run_control": {
     "read_only": false
    }
   },
   "outputs": [],
   "source": [
    "## Use these packages\n",
    "\n",
    "### The line %... is a jupyter \"magic\" command, and is not part of the Python language.\n",
    "# In this case we're just telling the plotting library to draw things on\n",
    "# the notebook, instead of on a separate window.\n",
    "%matplotlib inline\n",
    "# See the \"import ... as ...\" contructs below? They're just aliasing the package names.\n",
    "# That way we can call methods like plt.plot() instead of matplotlib.pyplot.plot().\n",
    "import numpy as np\n",
    "import scipy as sp\n",
    "import pandas as pd\n",
    "import scipy.stats\n",
    "import statsmodels\n",
    "import matplotlib.pyplot as plt"
   ]
  },
  {
   "cell_type": "markdown",
   "metadata": {
    "button": false,
    "new_sheet": false,
    "run_control": {
     "read_only": false
    }
   },
   "source": [
    "---"
   ]
  },
  {
   "cell_type": "markdown",
   "metadata": {
    "button": false,
    "new_sheet": false,
    "run_control": {
     "read_only": false
    }
   },
   "source": [
    "## Basic Math and Probability/Statistics Calculations"
   ]
  },
  {
   "cell_type": "markdown",
   "metadata": {
    "button": false,
    "new_sheet": false,
    "run_control": {
     "read_only": false
    }
   },
   "source": [
    "We'll start you off with some basic math and statistics problems questions to make sure you have the appropriate background to be comfortable with concepts that will come up in CS 109a."
   ]
  },
  {
   "cell_type": "markdown",
   "metadata": {
    "button": false,
    "new_sheet": false,
    "run_control": {
     "read_only": false
    }
   },
   "source": [
    "### Question 1: Mathiage is What Brings Us Together Today\n",
    "\n",
    "**Matrix Operations**\n",
    "\n",
    "*Complete the following matrix operations (show your work as a markdown/latex notebook cell)*"
   ]
  },
  {
   "cell_type": "markdown",
   "metadata": {
    "button": false,
    "new_sheet": false,
    "run_control": {
     "read_only": false
    }
   },
   "source": [
    "**1.1.** &nbsp;&nbsp;Let &nbsp;&nbsp; $ A =  \\left( \\begin{array}{ccc}\n",
    "3 & 4 & 2 \\\\\n",
    "5 & 6 & 4 \\\\\n",
    "4 & 3 & 4 \\end{array} \\right) \\,\\,$ and  $ \\,\\, B = \\left( \\begin{array}{ccc}\n",
    "1 & 4 & 2 \\\\\n",
    "1 & 9 & 3 \\\\\n",
    "2 & 3 & 3 \\end{array} \\right)\n",
    "$.  \n",
    "\n",
    "Compute &nbsp;$A \\cdot B$.\n",
    "\n",
    "**1.2.** &nbsp;&nbsp;Let &nbsp;&nbsp;\n",
    "$ A =  \\left( \\begin{array}{ccc}\n",
    "0 & 12 & 8 \\\\\n",
    "1 & 15 & 0 \\\\\n",
    "0 & 6 & 3 \\end{array} \\right)$.  \n",
    "\n",
    "Compute &nbsp; $A^{-1}$.  \n",
    "\n"
   ]
  },
  {
   "cell_type": "markdown",
   "metadata": {
    "button": false,
    "new_sheet": false,
    "run_control": {
     "read_only": false
    }
   },
   "source": [
    "**Solution**\n",
    "\n",
    "**1.1**\n",
    "\n",
    "$A \\cdot B$ = $\\left( \\begin{array}{ccc}\n",
    "3 & 4 & 2 \\\\\n",
    "5 & 6 & 4 \\\\\n",
    "4 & 3 & 4 \\end{array} \\right) \\cdot \\left( \\begin{array}{ccc}\n",
    "1 & 4 & 2 \\\\\n",
    "1 & 9 & 3 \\\\\n",
    "2 & 3 & 3 \\end{array} \\right)$\n",
    "\n",
    "$ = \\left( \\begin{array}{ccc}\n",
    "3\\cdot1 + 4\\cdot1 + 2\\cdot2 & 3\\cdot4 + 4\\cdot9 + 2\\cdot3 & 3\\cdot2 + 4\\cdot3 + 2\\cdot3 \\\\\n",
    "5\\cdot1 + 6\\cdot1 + 3\\cdot2 & 5\\cdot4 + 6\\cdot9 + 3\\cdot3 & 5\\cdot2 + 6\\cdot3 + 3\\cdot3 \\\\\n",
    "4\\cdot1 + 3\\cdot4 + 4\\cdot3 & 4\\cdot4 + 3\\cdot9 + 4\\cdot3 & 4\\cdot2 + 3\\cdot3 + 4\\cdot3 \\end{array} \\right) $\n",
    "\n",
    "$ = \\left( \\begin{array}{ccc}\n",
    "10 & 54 & 24 \\\\\n",
    "19 & 86 & 40 \\\\\n",
    "15 & 55 & 29 \\end{array} \\right)$"
   ]
  },
  {
   "cell_type": "markdown",
   "metadata": {},
   "source": [
    "**1.2**\n",
    "\n",
    "$ A =  \\left( \\begin{array}{ccc}\n",
    "0 & 12 & 8 \\\\\n",
    "1 & 15 & 0 \\\\\n",
    "0 & 6 & 3 \\end{array} \\right)$.  \n",
    "\n",
    "Let the determinant be $d$.\n",
    "\n",
    "$d = 0 - 12 \\cdot (1 \\cdot 3 - 0) + 8 \\cdot (6 \\cdot 1 - 0)$\n",
    "\n",
    "$d = 12$\n",
    "\n",
    "Now, we need to find the determinants of each 2x2 minor matrix and create the $Adj(A)$ by following the sign convention: $ \\left( \\begin{array}{ccc}\n",
    "+ & - & + \\\\\n",
    "- & + & - \\\\\n",
    "+ & - & + \\end{array} \\right)$ and then transposing.  \n",
    "\n",
    "$Adj(A) = \\left( \\begin{array}{ccc}\n",
    "45 & -3 & 6 \\\\\n",
    "12 & 0 & 0 \\\\\n",
    "-120 & 8 & -12 \\end{array} \\right)^T$\n",
    "\n",
    "$Adj(A) = \\left( \\begin{array}{ccc}\n",
    "45 & 12 & -120 \\\\\n",
    "-3 & 0 & 8 \\\\\n",
    "6 & 0 & -12 \\end{array} \\right)$\n",
    "\n",
    "Now, to find the inverse, we multiply with the reciprocal of $d$.\n",
    "\n",
    "$ A^{-1} = 1/12 \\cdot \\left( \\begin{array}{ccc}\n",
    "45 & 12 & -120 \\\\\n",
    "-3 & 0 & 8 \\\\\n",
    "6 & 0 & -12 \\end{array} \\right)$\n",
    "\n",
    "$ A^{-1} = \\left( \\begin{array}{ccc}\n",
    "15/4 & 1 & -10 \\\\\n",
    "-1/4 & 0 & 2/3 \\\\\n",
    "1/2 & 0 & -1 \\end{array} \\right)$"
   ]
  },
  {
   "cell_type": "markdown",
   "metadata": {
    "button": false,
    "new_sheet": false,
    "run_control": {
     "read_only": false
    }
   },
   "source": [
    "**Calculus and Probability**\n",
    "\n",
    "*Complete the following (show your work as a markdown/latex notebook cell)*\n",
    "\n",
    "**1.3**. From Wikipedia:\n",
    "\n",
    "  > In mathematical optimization, statistics, econometrics, decision theory, machine learning and computational neuroscience, a loss function or cost function is a function that maps an event or values of one or more variables onto a real number intuitively representing some \"cost\" associated with the event. An optimization problem seeks to minimize a loss function.\n",
    "  \n",
    "   We've generated a cost function on parameters $x,y \\in \\mathcal{R}$  $L(x,y)= 3x^2y - y^3 - 3x^2 - 3y^2 + 2$.  Find the critical points (optima) of $L(x,y)$.\n",
    "\n",
    "**1.4**. Let $X_1, X_2, ..., X_{25}$ be i.i.d. (independence and identically distributed) random variables with mean 0 and variance $5^2$.  Provide approximations for the following calculations:\n",
    "\n",
    "   a) $P(X_1)>10$\n",
    "   \n",
    "   b) $P(X_1)>5$\n",
    "   \n",
    "   c) $P(X_1+X_2+...+X_{25})>5$\n",
    "\n",
    "**1.5**. Let $X \\sim N(1,2)$ and $X \\sim N(3,4)$ with correlation $\\rho_{X,Y} = 0.2$.\n",
    "\n",
    "  a) What is the covariance matrix of $\\left( \\begin{array}{c}\n",
    "X_1 \\\\\n",
    "X_2 \\end{array} \\right)$?\n",
    "    \n",
    "   b) What distribution does $X_1 - X_2$ have?  What are its parameters?\n"
   ]
  },
  {
   "cell_type": "markdown",
   "metadata": {},
   "source": [
    "\n",
    "**Solution**\n",
    "\n",
    "**1.3** \n",
    "\n",
    "$L(x,y)= 3x^2y - y^3 - 3x^2 - 3y^2 + 2$\n",
    "\n",
    "$L_x(x,y)= 6xy - 0 - 6x - 0 + 0$\n",
    "\n",
    "$L_x(x,y)= 6xy - 6x$\n",
    "\n",
    "and, \n",
    "\n",
    "$L_y(x,y)= 3x^2 - 3y^2 - 0 - 6y + 0$\n",
    "\n",
    "\n",
    "$L_y(x,y)= 3x^2 - 3y^2 - 6y$\n",
    "\n",
    "Equating $L_x(x,y)$ to 0, \n",
    "\n",
    "$L_x(x,y)= 6xy - 6x = 0$\n",
    "\n",
    "$L_x(x,y)= 6x(y - 1) = 0$\n",
    "\n",
    "Thus, $x = 0$ or $y=1$\n",
    "\n",
    "Now, equating $L_y(x,y)$ to 0,\n",
    "\n",
    "$L_y(x,y)= 3x^2 - 3y^2 - 6y = 0$\n",
    "\n",
    "When $x=0$,\n",
    "$L_y(0,y)= - 3y^2 - 6y = 0$\n",
    "\n",
    "Thus, $y=0,2$\n",
    "\n",
    "When $y=1$, \n",
    "$L_y(x,1)= 3x^2 - 3 - 6 = 0$\n",
    "\n",
    "Thus, $x= -\\sqrt 3,\\sqrt 3 $\n",
    "\n",
    "\n",
    "Thus, the critical points where both $L_y(x,y)$ and $L_x(x,y)$ are $(0,0),(0,-2),(\\sqrt 3,1),(-\\sqrt 3,1)$.\n"
   ]
  },
  {
   "cell_type": "markdown",
   "metadata": {},
   "source": [
    "**1.4** To get an approximation, we can use the Normal distribution with mean 0 and variance 25 to determine the respective probabilites. \n",
    "\n",
    "$P(X_1 > 10) = 1 - P(X_1 \\leq 10)$ \\\n",
    "Similarly, $P(X_1 > 5) = 1 - P(X_1 \\leq 5)$"
   ]
  },
  {
   "cell_type": "code",
   "execution_count": 120,
   "metadata": {},
   "outputs": [
    {
     "name": "stdout",
     "output_type": "stream",
     "text": [
      "a) P(X_1 > 10) = 0.02275013194817921\n",
      "b) P(X_1 > 5) = 0.15865525393145707\n"
     ]
    }
   ],
   "source": [
    "print(\"a) P(X_1 > 10) =\", 1 - scipy.stats.norm.cdf(10,0,5))\n",
    "print(\"b) P(X_1 > 5) =\", 1 - scipy.stats.norm.cdf(5,0,5))"
   ]
  },
  {
   "cell_type": "markdown",
   "metadata": {},
   "source": [
    "**c)** The sum of independent normals is still independent so $X_1 + X_2 + ... + X_25 \\sim (0, 25 \\cdot 25)$."
   ]
  },
  {
   "cell_type": "code",
   "execution_count": 121,
   "metadata": {},
   "outputs": [
    {
     "name": "stdout",
     "output_type": "stream",
     "text": [
      "c) P(X_1 + X_2 + ... X_25 > 5) = 0.420740290560897\n"
     ]
    }
   ],
   "source": [
    "print(\"c) P(X_1 + X_2 + ... X_25 > 5) =\", 1 - scipy.stats.norm.cdf(5,0,25))"
   ]
  },
  {
   "cell_type": "markdown",
   "metadata": {},
   "source": [
    "**1.5** \\\n",
    "**a)** $Cov(X,X) = Var(X) = 2$ \\\n",
    "$Cov(Y, Y) = Var(y) = 4$ \\\n",
    "$Cov(X, Y) = Cov(Y, X) = \\rho_{X,Y} \\cdot \\sigma_X \\cdot \\sigma_Y = 0.2 \\cdot 2 \\cdot \\sqrt 2 = 0.4 \\sqrt 2$ \\\n",
    "The matrix is \\\n",
    "$\\left( \\begin{array}{ccc}\n",
    "2 & 0.4 \\sqrt 2 \\\\\n",
    "0.4 \\sqrt 2 & 4 \\end{array} \\right)$.\n",
    "\n",
    "**b)** \n",
    "The difference of independent normals is independent and the variances get added while the means are subtracted.\n",
    "Thus,\n",
    "$X_1 - X_2 \\sim N(1-3,2+4)$ which is $X_1 - X_2 \\sim N(-2,6)$"
   ]
  },
  {
   "cell_type": "markdown",
   "metadata": {},
   "source": [
    "**Basic Statistics**\n",
    "\n",
    "*Complete the following: you can perform the calculations by hand (show your work) or using software (include the code and output, screenshots are fine if it is from another platform).*\n",
    "\n",
    "**1.6**. 37 of the 76 female CS concentrators have taken Data Science 1 (DS1) while 50 of the 133 male concentrators haven taken DS1.  Perform a statistical test to determine if interest in Data Science (by taking DS1) is related to sex.  Be sure to state your conclusion."
   ]
  },
  {
   "cell_type": "markdown",
   "metadata": {},
   "source": [
    "\n",
    "**Solution**\n",
    "\n",
    "Let F, M be the subscripts for female and male respectively. Then $p_F$ and $p_M$ are the desired population proportions. \n",
    "\n",
    "Null hypothesis: Interest in Data Science is not related to sex. $p_F = p_M$.\\\n",
    "Alternate hypothesis: Interest in Data Science is related to sex. $p_F \\neq p_M$.\n",
    "\n",
    "The pooled proportion $p_C$ is calculated as follows: \n",
    "$p_C = \\frac{x_M + x_F}{n_M + n_F} = \\frac{37+50}{76+133} = \\frac{87}{209} = 0.41626794258$\n",
    "\n",
    "$P_F - P_M \\sim N(0,\\sqrt{p_C \\cdot (1-p_C) \\cdot (1/n_M + 1/n_F)})$ \\\n",
    "$P_F - P_M \\sim N(0,\\sqrt{0.41626794258 \\cdot 0.58373205741 \\cdot (1/133 + 1/76)})$ \\\n",
    "$P_F - P_M \\sim N(0,0.07088164401)$ \n",
    "\n",
    "p-value is 0.1165899 (calculated using qnorm in R).\n",
    "\n",
    "$p_F - p_M = 37/76 - 50/133 = 0.11090225563.\n",
    "\n",
    "The value is less than the p-value so we stay with the null hypothesis: \n",
    "interest in Data Science is not related to sex."
   ]
  },
  {
   "cell_type": "code",
   "execution_count": null,
   "metadata": {},
   "outputs": [],
   "source": [
    "## your code here ##"
   ]
  },
  {
   "cell_type": "markdown",
   "metadata": {
    "button": false,
    "new_sheet": false,
    "run_control": {
     "read_only": false
    }
   },
   "source": [
    "------"
   ]
  },
  {
   "cell_type": "markdown",
   "metadata": {
    "button": false,
    "new_sheet": false,
    "run_control": {
     "read_only": false
    }
   },
   "source": [
    "## Simulation of a Coin Throw\n",
    "\n",
    "We'd like to do some experiments with coin flips, but we don't have a physical coin at the moment. So let us **simulate** the process of flipping a coin on a computer. To do this we will use a form of the **random number generator** built into `numpy`. In particular, we will use the function `np.random.choice` which picks items with uniform probability from a list. If we provide it a list ['H', 'T'], it will pick one of the two items in the list. We can also ask it to do this multiple times by specifying the parameter `size`. "
   ]
  },
  {
   "cell_type": "code",
   "execution_count": 14,
   "metadata": {
    "button": false,
    "new_sheet": false,
    "run_control": {
     "read_only": false
    }
   },
   "outputs": [],
   "source": [
    "def throw_a_coin(n_trials):\n",
    "    return np.random.choice(['H','T'], size=n_trials)"
   ]
  },
  {
   "cell_type": "markdown",
   "metadata": {
    "button": false,
    "new_sheet": false,
    "run_control": {
     "read_only": false
    }
   },
   "source": [
    "`np.sum` is a function that returns the sum of items in an iterable (i.e. a list or an array).  Because python coerces `True` to 1 and `False` to 0, the effect of calling `np.sum` on the array of `True`s and `False`s will be to return the number of of `True`s in the array which is the same as the number of heads."
   ]
  },
  {
   "cell_type": "markdown",
   "metadata": {
    "button": false,
    "new_sheet": false,
    "run_control": {
     "read_only": false
    }
   },
   "source": [
    "### Question 2: The 12 Labors of Bernoullis\n",
    "\n",
    "Now that we know how to run our coin flip experiment, we're interested in knowing what happens as we choose larger and larger number of coin flips.\n",
    "\n",
    "\n",
    "**2.1**.  Run one experiment of flipping a coin 40 times storing the resulting sample in the variable `throws1`.   What's the total proportion of heads?\n",
    "\n",
    "**2.2**.  **Replicate** the experiment in 2.1 storing the resulting sample  in the variable `throws2`.   What's the proportion of heads?  How does this result compare to that you obtained in question 2.1?\n",
    "\n",
    "**2.3**.  Write a function  called `run_trials` that takes as input a list, called `n_flips`, of integers representing different values for the number of coin flips in a trial.  For each element in the input list, `run_trials` should run the coin flip experiment with that number of flips and calculate the proportion of heads.  The output of `run_trials` should be the list of calculated proportions.  Store the output of calling `run_trials` in a list called `proportions`.\n",
    "\n",
    "**2.4**.  Using the results in 2.3, reproduce the plot below. \n",
    "<!--of the proportion of observed heads to total coins flipped in the trial when `run_trials` is run for each of the sample sizes in `trials` -->  <img src=\"HW0Plot1.png\"/>\n",
    "\n",
    "**2.5**.  What's the appropriate observation about the result of running the coin flip experiment with larger and larger numbers of coin flips?  Choose the appropriate one from the choices below. \n",
    "\n",
    "> A. Regardless of sample size the probability of in our experiment of observing heads is 0.5 so the proportion of heads observed in the coin-flip experiments will always be 0.5.  \n",
    ">\n",
    "> B. The proportions **fluctuate** about their long-run value of 0.5 (what you might expect if you tossed the coin an infinite amount of times), in accordance with the notion of a fair coin (which we encoded in our simulation by having `np.random.choice` choose between two possibilities with equal probability), with the fluctuations seeming to become much smaller as the number of trials increases.\n",
    ">\n",
    "> C. The proportions **fluctuate** about their long-run value of 0.5 (what you might expect if you tossed the coin an infinite amount of times), in accordance with the notion of a fair coin (which we encoded in our simulation by having `np.random.choice` choose between two possibilities with equal probability), with the fluctuations constant regardless of the number of trials.\n"
   ]
  },
  {
   "cell_type": "markdown",
   "metadata": {
    "button": false,
    "new_sheet": false,
    "run_control": {
     "read_only": false
    }
   },
   "source": [
    "#### Solutions"
   ]
  },
  {
   "cell_type": "markdown",
   "metadata": {
    "button": false,
    "new_sheet": false,
    "run_control": {
     "read_only": false
    }
   },
   "source": [
    "**2.1**"
   ]
  },
  {
   "cell_type": "code",
   "execution_count": 23,
   "metadata": {
    "button": false,
    "new_sheet": false,
    "run_control": {
     "read_only": false
    }
   },
   "outputs": [
    {
     "name": "stdout",
     "output_type": "stream",
     "text": [
      "Proportion of heads:  0.5\n"
     ]
    }
   ],
   "source": [
    "throws1 = throw_a_coin(40)\n",
    "throws_bools1 = [ True if x == \"H\" else False for x in throws1]\n",
    "print(\"Proportion of heads: \", np.sum(throws_bools1) / 40)"
   ]
  },
  {
   "cell_type": "markdown",
   "metadata": {
    "button": false,
    "new_sheet": false,
    "run_control": {
     "read_only": false
    }
   },
   "source": [
    "**2.2** "
   ]
  },
  {
   "cell_type": "code",
   "execution_count": 25,
   "metadata": {
    "button": false,
    "new_sheet": false,
    "run_control": {
     "read_only": false
    }
   },
   "outputs": [
    {
     "name": "stdout",
     "output_type": "stream",
     "text": [
      "Proportion of heads:  0.45\n"
     ]
    }
   ],
   "source": [
    "throws2 = throw_a_coin(40)\n",
    "throws_bools2 = [ True if x == \"H\" else False for x in throws2]\n",
    "print(\"Proportion of heads: \", np.sum(throws_bools2) / 40)"
   ]
  },
  {
   "cell_type": "markdown",
   "metadata": {},
   "source": [
    "The proportion of heads is sometimes higher and sometimes lower on running the second script. In this case, it turned out to be lower than the first question but it could easily have been higher."
   ]
  },
  {
   "cell_type": "markdown",
   "metadata": {
    "button": false,
    "new_sheet": false,
    "run_control": {
     "read_only": false
    }
   },
   "source": [
    "**2.3** "
   ]
  },
  {
   "cell_type": "code",
   "execution_count": 33,
   "metadata": {
    "button": false,
    "new_sheet": false,
    "run_control": {
     "read_only": false
    }
   },
   "outputs": [],
   "source": [
    "n_flips = [10, 30, 50, 70, 100, 130, 170, 200, 500, 1000, 2000, 5000, 10000]"
   ]
  },
  {
   "cell_type": "code",
   "execution_count": 42,
   "metadata": {
    "button": false,
    "new_sheet": false,
    "run_control": {
     "read_only": false
    }
   },
   "outputs": [],
   "source": [
    "def get_proportion(num_trials):\n",
    "    throws = throw_a_coin(num_trials)\n",
    "    return np.sum([ True if x == \"H\" else False for x in throws]) / num_trials\n",
    "\n",
    "def run_trials(n_flips):\n",
    "    return list(map(lambda x: get_proportion(x), n_flips))\n",
    "\n",
    "proportions = run_trials(n_flips)"
   ]
  },
  {
   "cell_type": "markdown",
   "metadata": {
    "button": false,
    "new_sheet": false,
    "run_control": {
     "read_only": false
    }
   },
   "source": [
    "**2.4** "
   ]
  },
  {
   "cell_type": "code",
   "execution_count": 64,
   "metadata": {},
   "outputs": [
    {
     "data": {
      "text/plain": [
       "Text(0.5, 1.0, 'Proportions of heads from simulation vs Total number of flips')"
      ]
     },
     "execution_count": 64,
     "metadata": {},
     "output_type": "execute_result"
    },
    {
     "data": {
      "image/png": "[encoded data removed]",
      "text/plain": [
       "<Figure size 432x288 with 1 Axes>"
      ]
     },
     "metadata": {
      "needs_background": "light"
     },
     "output_type": "display_data"
    }
   ],
   "source": [
    "plt.plot(n_flips, proportions, marker = 'o')\n",
    "plt.axhline(y=0.5, color='r', linestyle='-')\n",
    "plt.xlabel(\"number of flips\")\n",
    "plt.ylabel(\"proportions of heads from simulation\")\n",
    "plt.title(\"Proportions of heads from simulation vs Total number of flips\")"
   ]
  },
  {
   "cell_type": "markdown",
   "metadata": {
    "button": false,
    "new_sheet": false,
    "run_control": {
     "read_only": false
    }
   },
   "source": [
    "**2.5** "
   ]
  },
  {
   "cell_type": "markdown",
   "metadata": {
    "button": false,
    "new_sheet": false,
    "run_control": {
     "read_only": false
    }
   },
   "source": [
    "**What's the appropriate observation about the result of applying the coin flip experiment to larger and larger numbers of coin flips?  Choose the appropriate one.**\n",
    "\n",
    "B\n"
   ]
  },
  {
   "cell_type": "markdown",
   "metadata": {
    "button": false,
    "new_sheet": false,
    "run_control": {
     "read_only": false
    }
   },
   "source": [
    "## Multiple Replications of the Coin Flip Experiment\n",
    "\n",
    "The coin flip experiment that we did above gave us some insight, but we don't have a good notion of how robust our results are under repetition as we've only run one experiment for each number of coin flips. Lets redo the coin flip experiment, but let's incorporate multiple repetitions of each number of coin flips. For each choice of the number of flips,  $n$, in an experiment, we'll do $M$ replications of the coin tossing experiment."
   ]
  },
  {
   "cell_type": "markdown",
   "metadata": {
    "button": false,
    "new_sheet": false,
    "run_control": {
     "read_only": false
    }
   },
   "source": [
    "### Question 3.  Wash, Rinse, Replicate \n",
    "\n",
    "**3.1**.  Write a function `make_throws` which takes as arguments the `n_replications` ($M$) and the `n_flips` ($n$), and returns a list (of size $M$) of proportions, with each proportion calculated by taking the ratio of heads to to total number of coin flips in each replication of $n$ coin tosses.  `n_flips` should be a python parameter whose value should default to 20 if unspecified when `make_throws` is called. \n",
    "\n",
    "**3.2**.  Create the variables `proportions_at_n_flips_100` and `proportions_at_n_flips_1000`.  Store in these variables the result of `make_throws` for `n_flips` equal to 100 and 1000 respectively while keeping `n_replications` at 200.  Create a plot with the histograms of `proportions_at_n_flips_100` and `proportions_at_n_flips_1000`.  Make sure to title your plot, label the x-axis and provide a legend.(See below for an example of what the plot may look like) ![](figs/HW0Plot2.png) \n",
    "\n",
    "**3.3**. Calculate the mean and variance of the results in the each of the variables `proportions_at_n_flips_100` and `proportions_at_n_flips_1000` generated in 3.2.\n",
    "\n",
    "3.4. Based upon the plots what would be your guess of what type of distribution is represented by histograms in 3.2?  Explain the factors that influenced your choice.\n",
    "> A. Uniform Distribution\n",
    ">\n",
    "> B. Poisson Distribution\n",
    ">\n",
    "> C. Gaussian/Normal Distribution\n",
    "\n",
    "**3.5**. Let's just assume for arguments sake that the answer to 3.4 is **C. Gaussian/Normal Distribution**.  Plot a *normed* histogram of your results `proportions_at_n_flips_1000` overlayed with your selection for the appropriate normal distribution to represent the experiment of flipping a coin 1000 times.   (**Hint:  What parameters should you use for your Gaussian/Normal Distribution?**)\n"
   ]
  },
  {
   "cell_type": "markdown",
   "metadata": {
    "button": false,
    "new_sheet": false,
    "run_control": {
     "read_only": false
    }
   },
   "source": [
    "#### Answers"
   ]
  },
  {
   "cell_type": "markdown",
   "metadata": {
    "button": false,
    "new_sheet": false,
    "run_control": {
     "read_only": false
    }
   },
   "source": [
    "**3.1**"
   ]
  },
  {
   "cell_type": "code",
   "execution_count": 68,
   "metadata": {
    "button": false,
    "new_sheet": false,
    "run_control": {
     "read_only": false
    }
   },
   "outputs": [],
   "source": [
    "def make_throws(n_replications, n_flips=20):\n",
    "    return [get_proportion(n_flips) for _ in range(n_replications)]"
   ]
  },
  {
   "cell_type": "markdown",
   "metadata": {
    "button": false,
    "new_sheet": false,
    "run_control": {
     "read_only": false
    }
   },
   "source": [
    "**3.2**"
   ]
  },
  {
   "cell_type": "code",
   "execution_count": 81,
   "metadata": {
    "button": false,
    "new_sheet": false,
    "run_control": {
     "read_only": false
    }
   },
   "outputs": [],
   "source": [
    "proportions_at_n_flips_100 = make_throws(200,100)\n",
    "proportions_at_n_flips_1000 = make_throws(200,1000)"
   ]
  },
  {
   "cell_type": "code",
   "execution_count": 89,
   "metadata": {
    "button": false,
    "new_sheet": false,
    "run_control": {
     "read_only": false
    }
   },
   "outputs": [
    {
     "data": {
      "text/plain": [
       "Text(0.5, 1.0, 'Histogram of samples at different Numbers of flips')"
      ]
     },
     "execution_count": 89,
     "metadata": {},
     "output_type": "execute_result"
    },
    {
     "data": {
      "image/png": "[encoded data removed]",
      "text/plain": [
       "<Figure size 432x288 with 1 Axes>"
      ]
     },
     "metadata": {
      "needs_background": "light"
     },
     "output_type": "display_data"
    }
   ],
   "source": [
    "plt.hist(proportions_at_n_flips_100, alpha=0.4)\n",
    "plt.hist(proportions_at_n_flips_1000, color='orange', alpha=0.4)\n",
    "plt.xlabel(\"mean proportion of heads\")\n",
    "plt.title(\"Histogram of samples at different Numbers of flips\")"
   ]
  },
  {
   "cell_type": "markdown",
   "metadata": {
    "button": false,
    "new_sheet": false,
    "run_control": {
     "read_only": false
    }
   },
   "source": [
    "**3.3**"
   ]
  },
  {
   "cell_type": "code",
   "execution_count": 97,
   "metadata": {
    "button": false,
    "new_sheet": false,
    "run_control": {
     "read_only": false
    }
   },
   "outputs": [
    {
     "name": "stdout",
     "output_type": "stream",
     "text": [
      "Mean of proportions_at_n_flips_100 = 0.49235\n",
      "Variance of proportions_at_n_flips_100 = 0.0021339775000000006\n",
      "Mean of proportions_at_n_flips_1000 = 0.500255\n",
      "Variance of proportions_at_n_flips_1000 = 0.00029927997500000045\n"
     ]
    }
   ],
   "source": [
    "print(\"Mean of proportions_at_n_flips_100 =\", np.mean(proportions_at_n_flips_100))\n",
    "print(\"Variance of proportions_at_n_flips_100 =\", np.var(proportions_at_n_flips_100))\n",
    "print(\"Mean of proportions_at_n_flips_1000 =\", np.mean(proportions_at_n_flips_1000))\n",
    "print(\"Variance of proportions_at_n_flips_1000 =\", np.var(proportions_at_n_flips_1000))"
   ]
  },
  {
   "cell_type": "markdown",
   "metadata": {
    "button": false,
    "new_sheet": false,
    "run_control": {
     "read_only": false
    }
   },
   "source": [
    "**3.4**"
   ]
  },
  {
   "cell_type": "markdown",
   "metadata": {
    "button": false,
    "new_sheet": false,
    "run_control": {
     "read_only": false
    }
   },
   "source": [
    "C; it looks like a Gaussian distribution with the bell-shape it has. Also used the method of elimination because it looked far from a uniform or a geometric distribution."
   ]
  },
  {
   "cell_type": "markdown",
   "metadata": {
    "button": false,
    "new_sheet": false,
    "run_control": {
     "read_only": false
    }
   },
   "source": [
    "**3.5**"
   ]
  },
  {
   "cell_type": "code",
   "execution_count": 109,
   "metadata": {
    "button": false,
    "new_sheet": false,
    "run_control": {
     "read_only": false
    }
   },
   "outputs": [
    {
     "data": {
      "text/plain": [
       "Text(0.5, 1.0, 'Histogram of samples at different Numbers of flips')"
      ]
     },
     "execution_count": 109,
     "metadata": {},
     "output_type": "execute_result"
    },
    {
     "data": {
      "image/png": "[encoded data removed]",
      "text/plain": [
       "<Figure size 432x288 with 1 Axes>"
      ]
     },
     "metadata": {
      "needs_background": "light"
     },
     "output_type": "display_data"
    }
   ],
   "source": [
    "import math\n",
    "# For a standard coin toss, the mean is n*p and the variance is n*p*q where n is the number of tosses,\n",
    "# p is the probability of heads and q=1-p. \n",
    "\n",
    "# For a 1000 tosses, mean = 500, variance = 250. Since we will take the average over 1000 tosses, \n",
    "# the mean of one toss = 500/1000, variance = 250/(1000*1000).\n",
    "normal_data = np.random.normal(500/1000,math.sqrt(250/(1000*1000)),200)\n",
    "\n",
    "plt.hist(normal_data, alpha=0.4)\n",
    "plt.hist(proportions_at_n_flips_1000, color='orange', alpha=0.4)\n",
    "plt.xlabel(\"mean proportion of heads\")\n",
    "plt.title(\"Histogram of samples at different Numbers of flips\")"
   ]
  },
  {
   "cell_type": "code",
   "execution_count": null,
   "metadata": {},
   "outputs": [],
   "source": []
  }
 ],
 "metadata": {
  "anaconda-cloud": {},
  "kernelspec": {
   "display_name": "Python 3",
   "language": "python",
   "name": "python3"
  },
  "language_info": {
   "codemirror_mode": {
    "name": "ipython",
    "version": 3
   },
   "file_extension": ".py",
   "mimetype": "text/x-python",
   "name": "python",
   "nbconvert_exporter": "python",
   "pygments_lexer": "ipython3",
   "version": "3.7.10"
  }
 },
 "nbformat": 4,
 "nbformat_minor": 2
}
