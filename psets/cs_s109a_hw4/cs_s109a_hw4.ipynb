{
 "cells": [
  {
   "cell_type": "markdown",
   "metadata": {
    "button": false,
    "new_sheet": false,
    "run_control": {
     "read_only": false
    }
   },
   "source": [
    "# <img style=\"float: left; padding-right: 10px; width: 45px\" src=\"https://github.com/Harvard-IACS/2021-s109a/blob/master/lectures/crest.png?raw=true\"> CS-S109A Introduction to Data Science \n",
    "\n",
    "## Homework 4:  Logistic Regression and PCA\n",
    "\n",
    "**Harvard University**<br/>\n",
    "**Summer 2021**<br/>\n",
    "**Instructors**: Kevin Rader\n",
    "\n",
    "\n",
    "<hr style='height:2px'>\n",
    "\n",
    "---\n",
    "\n"
   ]
  },
  {
   "cell_type": "code",
   "execution_count": 48,
   "metadata": {},
   "outputs": [
    {
     "data": {
      "text/html": [
       "<style>\n",
       "blockquote { background: #AEDE94; }\n",
       "h1 { \n",
       "    padding-top: 25px;\n",
       "    padding-bottom: 25px;\n",
       "    text-align: left; \n",
       "    padding-left: 10px;\n",
       "    background-color: #DDDDDD; \n",
       "    color: black;\n",
       "}\n",
       "h2 { \n",
       "    padding-top: 10px;\n",
       "    padding-bottom: 10px;\n",
       "    text-align: left; \n",
       "    padding-left: 5px;\n",
       "    background-color: #EEEEEE; \n",
       "    color: black;\n",
       "}\n",
       "\n",
       "div.exercise {\n",
       "\tbackground-color: #ffcccc;\n",
       "\tborder-color: #E9967A; \t\n",
       "\tborder-left: 5px solid #800080; \n",
       "\tpadding: 0.5em;\n",
       "}\n",
       "\n",
       "div.exercise-r {\n",
       "\tbackground-color: #fce8e8;\n",
       "\tborder-color: #E9967A; \t\n",
       "\tborder-left: 5px solid #800080; \n",
       "\tpadding: 0.5em;\n",
       "}\n",
       "\n",
       "\n",
       "span.sub-q {\n",
       "\tfont-weight: bold;\n",
       "}\n",
       "div.theme {\n",
       "\tbackground-color: #DDDDDD;\n",
       "\tborder-color: #E9967A; \t\n",
       "\tborder-left: 5px solid #800080; \n",
       "\tpadding: 0.5em;\n",
       "\tfont-size: 18pt;\n",
       "}\n",
       "div.gc { \n",
       "\tbackground-color: #AEDE94;\n",
       "\tborder-color: #E9967A; \t \n",
       "\tborder-left: 5px solid #800080; \n",
       "\tpadding: 0.5em;\n",
       "\tfont-size: 12pt;\n",
       "}\n",
       "p.q1 { \n",
       "    padding-top: 5px;\n",
       "    padding-bottom: 5px;\n",
       "    text-align: left; \n",
       "    padding-left: 5px;\n",
       "    background-color: #EEEEEE; \n",
       "    color: black;\n",
       "}\n",
       "header {\n",
       "   padding-top: 35px;\n",
       "    padding-bottom: 35px;\n",
       "    text-align: left; \n",
       "    padding-left: 10px;\n",
       "    background-color: #DDDDDD; \n",
       "    color: black;\n",
       "}\n",
       "</style>\n",
       "\n"
      ],
      "text/plain": [
       "<IPython.core.display.HTML object>"
      ]
     },
     "execution_count": 48,
     "metadata": {},
     "output_type": "execute_result"
    }
   ],
   "source": [
    "## RUN THIS CELL TO GET THE RIGHT FORMATTING \n",
    "import requests\n",
    "from IPython.core.display import HTML\n",
    "styles = requests.get(\"https://raw.githubusercontent.com/Harvard-IACS/2018-CS109A/master/content/styles/cs109.css\").text\n",
    "HTML(styles)"
   ]
  },
  {
   "cell_type": "markdown",
   "metadata": {},
   "source": [
    "### INSTRUCTIONS\n",
    "\n",
    "- To submit your assignment follow the instructions given in Canvas.\n",
    "- Restart the kernel and run the whole notebook again before you submit. \n",
    "- If you submit individually and you have worked with someone, please include the name of your [one] partner below. \n",
    "- As much as possible, try and stick to the hints and functions we import at the top of the homework, as those are the ideas and tools the class supports and is aiming to teach. And if a problem specifies a particular library you're required to use that library, and possibly others from the import list.\n",
    "- Please use .head() when viewing data. Do not submit a notebook that is excessively long because output was not suppressed or otherwise limited. "
   ]
  },
  {
   "cell_type": "code",
   "execution_count": 49,
   "metadata": {},
   "outputs": [],
   "source": [
    "import numpy as np\n",
    "import pandas as pd\n",
    "import sklearn as sk\n",
    "\n",
    "from sklearn.linear_model import LogisticRegression\n",
    "from sklearn.linear_model import LogisticRegressionCV\n",
    "\n",
    "from sklearn.neighbors import KNeighborsClassifier\n",
    "from sklearn.model_selection import cross_val_score\n",
    "from sklearn.metrics import accuracy_score\n",
    "from sklearn.model_selection import KFold\n",
    "from sklearn.preprocessing import MinMaxScaler\n",
    "from sklearn.model_selection import train_test_split\n",
    "from sklearn import metrics\n",
    "from sklearn.decomposition import PCA\n",
    "\n",
    "import matplotlib\n",
    "import matplotlib.pyplot as plt\n",
    "%matplotlib inline\n",
    "\n",
    "import zipfile\n",
    "\n",
    "\n",
    "import seaborn as sns\n",
    "sns.set()\n",
    "\n",
    "# if you want to do a 2-sample t-test:\n",
    "from scipy.stats import ttest_ind"
   ]
  },
  {
   "cell_type": "markdown",
   "metadata": {},
   "source": [
    "<div class='theme'> Cancer Classification from Gene Expressions </div>\n",
    "\n",
    "In this problem, we will build a classification model to distinguish between two related classes of cancer, acute lymphoblastic leukemia (ALL) and acute myeloid leukemia (AML), using gene expression measurements. The dataset is provided in the file `data/genomic_data.csv`. Each row in this file corresponds to a tumor tissue sample from a patient with one of the two forms of Leukemia. The first column contains the cancer type, with **0 indicating the ALL** class and **1 indicating the AML** class. Columns 2-7130 contain expression levels of 7129 genes recorded from each tissue sample. \n",
    "\n",
    "In the following questions, we will use linear and logistic regression to build classification models for this data set. \n"
   ]
  },
  {
   "cell_type": "markdown",
   "metadata": {},
   "source": [
    "<div class='exercise'><b> Question 1 [15 pts]: Data Exploration </b></div>\n",
    "\n",
    "The first step is to split the observations into an approximate 75-25 train-test split.  Below is some code to do this for you (we want to make sure everyone has the same splits). It also prints the dataset's shape before splitting and after splitting. `Cancer_type` is our target column.\n",
    "\n",
    "\n",
    "**1.1** Take a peek at your training set: you should notice the severe differences in the measurements from one gene to the next (some are negative, some hover around zero, and some are well into the thousands). To account for these differences in scale and variability, normalize each predictor to vary between 0 and 1. **NOTE: for the entirety of this homework assignment, you will use these normalized values, not the original, raw values**. Normalizing genomic data is a fairly standard first step.\n",
    "\n",
    "\n",
    "**1.2** The training set contains more predictors than observations. What problem(s) can this lead to in fitting a classification model to such a dataset? Explain in 3 or fewer sentences.\n",
    "\n",
    "\n",
    "**1.3** Determine which single gene individually discriminates between the two cancer classes the best (consider every gene in the dataset) and call it `best_predictor`.\n",
    "\n",
    "Plot two histograms of your `best_predictor` -- one using the training set and another using the testing set. The histogram should clearly distinguish two different `Cancer_type` classes.\n",
    "\n",
    "**Hint:** You may use any reasonable approach to determine the `best_predictor`, but please use something very simple (whether taught in this class or elsewhere).\n",
    "\n",
    "\n",
    "**1.4** Using `best_predictor`, create a classification model by simply eye-balling a value for this gene that would discriminate the two classes the best (do not use an algorithm to determine for you the optimal coefficient or threshold; we are asking you to provide a rough estimate / model by manual inspection). Justify your choice in 1-2 sentences. Report the accuracy of your hand-chosen model on the test set.\n",
    "\n",
    "<hr> "
   ]
  },
  {
   "cell_type": "markdown",
   "metadata": {},
   "source": [
    "\n",
    "### Answers"
   ]
  },
  {
   "cell_type": "markdown",
   "metadata": {},
   "source": [
    "**The first step is to split the observations into an approximate 75-25 train-test split. Below is some code to do this for you (we want to make sure everyone has the same splits). Print dataset shape before splitting and after splitting. `Cancer_type` is our target column.**"
   ]
  },
  {
   "cell_type": "code",
   "execution_count": 50,
   "metadata": {},
   "outputs": [],
   "source": [
    "np.random.seed(10)\n",
    "df = pd.read_csv('data/genomic_data.csv', index_col=0)\n",
    "X_train, X_test, y_train, y_test = train_test_split(df.loc[:, df.columns != 'Cancer_type'], \n",
    "                                                         df.Cancer_type, test_size=0.25, \n",
    "                                                         random_state = 109, \n",
    "                                                         stratify = df.Cancer_type)"
   ]
  },
  {
   "cell_type": "code",
   "execution_count": 51,
   "metadata": {},
   "outputs": [
    {
     "name": "stdout",
     "output_type": "stream",
     "text": [
      "(752, 7130)\n",
      "(564, 7129) (188, 7129) (564,) (188,)\n",
      "0.0    0.511968\n",
      "1.0    0.488032\n",
      "Name: Cancer_type, dtype: float64\n"
     ]
    }
   ],
   "source": [
    "print(df.shape)\n",
    "print(X_train.shape, X_test.shape, y_train.shape, y_test.shape)\n",
    "print(df.Cancer_type.value_counts(normalize=True))"
   ]
  },
  {
   "cell_type": "markdown",
   "metadata": {},
   "source": [
    "**1.1 Take a peek at your training set: you should notice the severe differences in the measurements from one gene to the next (some are negative, some hover around zero, and some are well into the thousands). To account for these differences in scale and variability, normalize each predictor to vary between 0 and 1. **NOTE: for the entirety of this homework assignment, you will use these normalized values, not the original, raw values.**\n"
   ]
  },
  {
   "cell_type": "code",
   "execution_count": 52,
   "metadata": {},
   "outputs": [
    {
     "data": {
      "text/html": [
       "<div>\n",
       "<style scoped>\n",
       "    .dataframe tbody tr th:only-of-type {\n",
       "        vertical-align: middle;\n",
       "    }\n",
       "\n",
       "    .dataframe tbody tr th {\n",
       "        vertical-align: top;\n",
       "    }\n",
       "\n",
       "    .dataframe thead th {\n",
       "        text-align: right;\n",
       "    }\n",
       "</style>\n",
       "<table border=\"1\" class=\"dataframe\">\n",
       "  <thead>\n",
       "    <tr style=\"text-align: right;\">\n",
       "      <th></th>\n",
       "      <th>AFFX-BioB-5_at</th>\n",
       "      <th>AFFX-BioB-M_at</th>\n",
       "      <th>AFFX-BioB-3_at</th>\n",
       "      <th>AFFX-BioC-5_at</th>\n",
       "      <th>AFFX-BioC-3_at</th>\n",
       "      <th>AFFX-BioDn-5_at</th>\n",
       "      <th>AFFX-BioDn-3_at</th>\n",
       "      <th>AFFX-CreX-5_at</th>\n",
       "      <th>AFFX-CreX-3_at</th>\n",
       "      <th>AFFX-BioB-5_st</th>\n",
       "      <th>...</th>\n",
       "      <th>U48730_at</th>\n",
       "      <th>U58516_at</th>\n",
       "      <th>U73738_at</th>\n",
       "      <th>X06956_at</th>\n",
       "      <th>X16699_at</th>\n",
       "      <th>X83863_at</th>\n",
       "      <th>Z17240_at</th>\n",
       "      <th>L49218_f_at</th>\n",
       "      <th>M71243_f_at</th>\n",
       "      <th>Z78285_f_at</th>\n",
       "    </tr>\n",
       "  </thead>\n",
       "  <tbody>\n",
       "    <tr>\n",
       "      <th>count</th>\n",
       "      <td>564.000000</td>\n",
       "      <td>564.000000</td>\n",
       "      <td>564.000000</td>\n",
       "      <td>564.000000</td>\n",
       "      <td>564.000000</td>\n",
       "      <td>564.000000</td>\n",
       "      <td>564.000000</td>\n",
       "      <td>564.000000</td>\n",
       "      <td>564.000000</td>\n",
       "      <td>564.000000</td>\n",
       "      <td>...</td>\n",
       "      <td>564.000000</td>\n",
       "      <td>564.000000</td>\n",
       "      <td>564.000000</td>\n",
       "      <td>564.000000</td>\n",
       "      <td>564.000000</td>\n",
       "      <td>564.000000</td>\n",
       "      <td>564.000000</td>\n",
       "      <td>564.000000</td>\n",
       "      <td>564.000000</td>\n",
       "      <td>564.000000</td>\n",
       "    </tr>\n",
       "    <tr>\n",
       "      <th>mean</th>\n",
       "      <td>-117.907036</td>\n",
       "      <td>-163.527476</td>\n",
       "      <td>26.835753</td>\n",
       "      <td>210.370847</td>\n",
       "      <td>-248.657677</td>\n",
       "      <td>-406.595313</td>\n",
       "      <td>-28.764782</td>\n",
       "      <td>-190.080423</td>\n",
       "      <td>74.023263</td>\n",
       "      <td>94.750752</td>\n",
       "      <td>...</td>\n",
       "      <td>162.952887</td>\n",
       "      <td>698.676059</td>\n",
       "      <td>2.962852</td>\n",
       "      <td>415.726722</td>\n",
       "      <td>-50.791438</td>\n",
       "      <td>833.447504</td>\n",
       "      <td>329.612463</td>\n",
       "      <td>7.808718</td>\n",
       "      <td>520.229369</td>\n",
       "      <td>-24.088765</td>\n",
       "    </tr>\n",
       "    <tr>\n",
       "      <th>std</th>\n",
       "      <td>169.792429</td>\n",
       "      <td>189.691312</td>\n",
       "      <td>205.798155</td>\n",
       "      <td>205.008971</td>\n",
       "      <td>209.564816</td>\n",
       "      <td>258.448200</td>\n",
       "      <td>541.128517</td>\n",
       "      <td>162.728073</td>\n",
       "      <td>175.291394</td>\n",
       "      <td>356.386595</td>\n",
       "      <td>...</td>\n",
       "      <td>164.794952</td>\n",
       "      <td>521.178135</td>\n",
       "      <td>151.324810</td>\n",
       "      <td>580.873231</td>\n",
       "      <td>106.535986</td>\n",
       "      <td>820.213770</td>\n",
       "      <td>370.829412</td>\n",
       "      <td>84.859351</td>\n",
       "      <td>936.957523</td>\n",
       "      <td>72.056218</td>\n",
       "    </tr>\n",
       "    <tr>\n",
       "      <th>min</th>\n",
       "      <td>-894.789505</td>\n",
       "      <td>-1095.737090</td>\n",
       "      <td>-645.439001</td>\n",
       "      <td>-425.750627</td>\n",
       "      <td>-1154.285694</td>\n",
       "      <td>-1091.492494</td>\n",
       "      <td>-2066.516448</td>\n",
       "      <td>-728.996262</td>\n",
       "      <td>-770.025847</td>\n",
       "      <td>-1176.663615</td>\n",
       "      <td>...</td>\n",
       "      <td>-416.206278</td>\n",
       "      <td>-1010.430536</td>\n",
       "      <td>-447.077819</td>\n",
       "      <td>-1870.955269</td>\n",
       "      <td>-432.967768</td>\n",
       "      <td>-2151.593119</td>\n",
       "      <td>-651.051441</td>\n",
       "      <td>-255.419724</td>\n",
       "      <td>-2754.665185</td>\n",
       "      <td>-237.864216</td>\n",
       "    </tr>\n",
       "    <tr>\n",
       "      <th>25%</th>\n",
       "      <td>-225.038171</td>\n",
       "      <td>-274.322819</td>\n",
       "      <td>-95.270925</td>\n",
       "      <td>84.245857</td>\n",
       "      <td>-379.511872</td>\n",
       "      <td>-566.993723</td>\n",
       "      <td>-342.364586</td>\n",
       "      <td>-300.978001</td>\n",
       "      <td>-20.279803</td>\n",
       "      <td>-122.958169</td>\n",
       "      <td>...</td>\n",
       "      <td>68.056179</td>\n",
       "      <td>354.959208</td>\n",
       "      <td>-88.764266</td>\n",
       "      <td>96.448742</td>\n",
       "      <td>-105.297264</td>\n",
       "      <td>274.126036</td>\n",
       "      <td>89.320933</td>\n",
       "      <td>-41.845553</td>\n",
       "      <td>-49.150550</td>\n",
       "      <td>-73.781203</td>\n",
       "    </tr>\n",
       "    <tr>\n",
       "      <th>50%</th>\n",
       "      <td>-107.412549</td>\n",
       "      <td>-146.993065</td>\n",
       "      <td>20.548933</td>\n",
       "      <td>213.143203</td>\n",
       "      <td>-228.639073</td>\n",
       "      <td>-432.747578</td>\n",
       "      <td>-49.602631</td>\n",
       "      <td>-179.079214</td>\n",
       "      <td>88.038576</td>\n",
       "      <td>102.087963</td>\n",
       "      <td>...</td>\n",
       "      <td>153.844059</td>\n",
       "      <td>679.200114</td>\n",
       "      <td>8.707703</td>\n",
       "      <td>379.423043</td>\n",
       "      <td>-35.816408</td>\n",
       "      <td>776.498538</td>\n",
       "      <td>290.209261</td>\n",
       "      <td>7.337169</td>\n",
       "      <td>460.622697</td>\n",
       "      <td>-25.003950</td>\n",
       "    </tr>\n",
       "    <tr>\n",
       "      <th>75%</th>\n",
       "      <td>-6.157261</td>\n",
       "      <td>-43.097489</td>\n",
       "      <td>127.413838</td>\n",
       "      <td>331.513199</td>\n",
       "      <td>-115.153022</td>\n",
       "      <td>-251.990616</td>\n",
       "      <td>324.333687</td>\n",
       "      <td>-73.891345</td>\n",
       "      <td>186.391086</td>\n",
       "      <td>284.218792</td>\n",
       "      <td>...</td>\n",
       "      <td>265.721675</td>\n",
       "      <td>1058.612890</td>\n",
       "      <td>95.688864</td>\n",
       "      <td>718.826611</td>\n",
       "      <td>19.827732</td>\n",
       "      <td>1321.287958</td>\n",
       "      <td>520.922602</td>\n",
       "      <td>62.512588</td>\n",
       "      <td>1109.915839</td>\n",
       "      <td>20.020152</td>\n",
       "    </tr>\n",
       "    <tr>\n",
       "      <th>max</th>\n",
       "      <td>516.618491</td>\n",
       "      <td>384.626762</td>\n",
       "      <td>696.983127</td>\n",
       "      <td>1022.560525</td>\n",
       "      <td>308.876677</td>\n",
       "      <td>607.737258</td>\n",
       "      <td>1385.881293</td>\n",
       "      <td>263.634029</td>\n",
       "      <td>589.778466</td>\n",
       "      <td>1355.537180</td>\n",
       "      <td>...</td>\n",
       "      <td>686.321597</td>\n",
       "      <td>2522.188808</td>\n",
       "      <td>481.820516</td>\n",
       "      <td>3982.980299</td>\n",
       "      <td>215.047697</td>\n",
       "      <td>3743.264860</td>\n",
       "      <td>1996.244626</td>\n",
       "      <td>274.575647</td>\n",
       "      <td>3315.374276</td>\n",
       "      <td>224.773440</td>\n",
       "    </tr>\n",
       "  </tbody>\n",
       "</table>\n",
       "<p>8 rows × 7129 columns</p>\n",
       "</div>"
      ],
      "text/plain": [
       "       AFFX-BioB-5_at  AFFX-BioB-M_at  AFFX-BioB-3_at  AFFX-BioC-5_at  \\\n",
       "count      564.000000      564.000000      564.000000      564.000000   \n",
       "mean      -117.907036     -163.527476       26.835753      210.370847   \n",
       "std        169.792429      189.691312      205.798155      205.008971   \n",
       "min       -894.789505    -1095.737090     -645.439001     -425.750627   \n",
       "25%       -225.038171     -274.322819      -95.270925       84.245857   \n",
       "50%       -107.412549     -146.993065       20.548933      213.143203   \n",
       "75%         -6.157261      -43.097489      127.413838      331.513199   \n",
       "max        516.618491      384.626762      696.983127     1022.560525   \n",
       "\n",
       "       AFFX-BioC-3_at  AFFX-BioDn-5_at  AFFX-BioDn-3_at  AFFX-CreX-5_at  \\\n",
       "count      564.000000       564.000000       564.000000      564.000000   \n",
       "mean      -248.657677      -406.595313       -28.764782     -190.080423   \n",
       "std        209.564816       258.448200       541.128517      162.728073   \n",
       "min      -1154.285694     -1091.492494     -2066.516448     -728.996262   \n",
       "25%       -379.511872      -566.993723      -342.364586     -300.978001   \n",
       "50%       -228.639073      -432.747578       -49.602631     -179.079214   \n",
       "75%       -115.153022      -251.990616       324.333687      -73.891345   \n",
       "max        308.876677       607.737258      1385.881293      263.634029   \n",
       "\n",
       "       AFFX-CreX-3_at  AFFX-BioB-5_st  ...   U48730_at    U58516_at  \\\n",
       "count      564.000000      564.000000  ...  564.000000   564.000000   \n",
       "mean        74.023263       94.750752  ...  162.952887   698.676059   \n",
       "std        175.291394      356.386595  ...  164.794952   521.178135   \n",
       "min       -770.025847    -1176.663615  ... -416.206278 -1010.430536   \n",
       "25%        -20.279803     -122.958169  ...   68.056179   354.959208   \n",
       "50%         88.038576      102.087963  ...  153.844059   679.200114   \n",
       "75%        186.391086      284.218792  ...  265.721675  1058.612890   \n",
       "max        589.778466     1355.537180  ...  686.321597  2522.188808   \n",
       "\n",
       "        U73738_at    X06956_at   X16699_at    X83863_at    Z17240_at  \\\n",
       "count  564.000000   564.000000  564.000000   564.000000   564.000000   \n",
       "mean     2.962852   415.726722  -50.791438   833.447504   329.612463   \n",
       "std    151.324810   580.873231  106.535986   820.213770   370.829412   \n",
       "min   -447.077819 -1870.955269 -432.967768 -2151.593119  -651.051441   \n",
       "25%    -88.764266    96.448742 -105.297264   274.126036    89.320933   \n",
       "50%      8.707703   379.423043  -35.816408   776.498538   290.209261   \n",
       "75%     95.688864   718.826611   19.827732  1321.287958   520.922602   \n",
       "max    481.820516  3982.980299  215.047697  3743.264860  1996.244626   \n",
       "\n",
       "       L49218_f_at  M71243_f_at  Z78285_f_at  \n",
       "count   564.000000   564.000000   564.000000  \n",
       "mean      7.808718   520.229369   -24.088765  \n",
       "std      84.859351   936.957523    72.056218  \n",
       "min    -255.419724 -2754.665185  -237.864216  \n",
       "25%     -41.845553   -49.150550   -73.781203  \n",
       "50%       7.337169   460.622697   -25.003950  \n",
       "75%      62.512588  1109.915839    20.020152  \n",
       "max     274.575647  3315.374276   224.773440  \n",
       "\n",
       "[8 rows x 7129 columns]"
      ]
     },
     "execution_count": 52,
     "metadata": {},
     "output_type": "execute_result"
    }
   ],
   "source": [
    "X_train.describe()"
   ]
  },
  {
   "cell_type": "code",
   "execution_count": 53,
   "metadata": {},
   "outputs": [],
   "source": [
    "scaler = MinMaxScaler().fit(X_train)\n",
    "\n",
    "X_train = pd.DataFrame(scaler.transform(X_train), index=X_train.index, columns=list(X_train.columns))\n",
    "X_test = pd.DataFrame(scaler.transform(X_test), index=X_test.index, columns=list(X_test.columns))"
   ]
  },
  {
   "cell_type": "markdown",
   "metadata": {},
   "source": [
    "**1.2 The training set contains more predictors than observations. What problem(s) can this lead to in fitting a classification model to such a dataset? Explain in 3 or fewer sentences.**"
   ]
  },
  {
   "cell_type": "markdown",
   "metadata": {},
   "source": [
    "Since $p > n$, we have an over-specified model so the parameters are unidentifiable. The fitted model will have perfect predictions on the training set but will be susceptible overfitting on the test sets. It is also likely that there will be multicollinearity which will affect the accuracy of our model. "
   ]
  },
  {
   "cell_type": "markdown",
   "metadata": {},
   "source": [
    "**1.3 Determine which single gene individually discriminates between the two cancer classes the best (consider every gene in the dataset) and call it `best_predictor`.**\n",
    "\n",
    "**Plot two histograms of your `best_predictor` -- one using the training set and another using the testing set. The histogram should clearly distinguish two different `Cancer_type` classes.**"
   ]
  },
  {
   "cell_type": "code",
   "execution_count": 54,
   "metadata": {},
   "outputs": [
    {
     "name": "stdout",
     "output_type": "stream",
     "text": [
      "The best predictor is X95735_at based on the t-test statistic\n"
     ]
    }
   ],
   "source": [
    "X_train['Cancer_type'] = y_train\n",
    "X_test['Cancer_type'] = y_test\n",
    "\n",
    "AML_X_train = X_train[X_train['Cancer_type'] == 1]\n",
    "ALL_X_train = X_train[X_train['Cancer_type'] == 0]\n",
    "\n",
    "X_train = X_train.drop(columns=['Cancer_type'])\n",
    "AML_X_train = AML_X_train.drop(columns=['Cancer_type'])\n",
    "ALL_X_train = ALL_X_train.drop(columns=['Cancer_type'])\n",
    "\n",
    "AML_X_test = X_test[X_test['Cancer_type'] == 1]\n",
    "ALL_X_test = X_test[X_test['Cancer_type'] == 0]\n",
    "\n",
    "X_test = X_test.drop(columns=['Cancer_type'])\n",
    "AML_X_test = AML_X_test.drop(columns=['Cancer_type'])\n",
    "ALL_X_test = ALL_X_test.drop(columns=['Cancer_type'])\n",
    "\n",
    "training_data_columns = X_train.columns\n",
    "min_p = float('inf')\n",
    "best_predictor = None\n",
    "\n",
    "for col in training_data_columns:\n",
    "    t_test = ttest_ind(AML_X_train[col], ALL_X_train[col])\n",
    "    if t_test[1] < min_p:\n",
    "        min_p = t_test[1]\n",
    "        best_predictor = col\n",
    "\n",
    "print(\"The best predictor is {} based on the t-test statistic\".format(best_predictor))"
   ]
  },
  {
   "cell_type": "code",
   "execution_count": 55,
   "metadata": {},
   "outputs": [
    {
     "data": {
      "image/png": "[encoded data removed]",
      "text/plain": [
       "<Figure size 432x288 with 1 Axes>"
      ]
     },
     "metadata": {},
     "output_type": "display_data"
    },
    {
     "data": {
      "image/png": "[encoded data removed]",
      "text/plain": [
       "<Figure size 432x288 with 1 Axes>"
      ]
     },
     "metadata": {},
     "output_type": "display_data"
    }
   ],
   "source": [
    "plt.hist([AML_X_train[best_predictor], ALL_X_train[best_predictor]], color=['b', 'r'], label=['AML', 'ALL'])\n",
    "plt.title(\"Distribution of Best Predictor in Training Set for Cancer Types AML and ALL\")\n",
    "plt.xlabel(best_predictor + \" (best predictor in training set)\")\n",
    "plt.ylabel(\"Frequency\")\n",
    "plt.legend()\n",
    "plt.show()\n",
    "\n",
    "plt.hist([AML_X_test[best_predictor], ALL_X_test[best_predictor]], color=['b', 'r'], label=['AML', 'ALL'])\n",
    "plt.title(\"Distribution of Best Predictor in Test Set \")\n",
    "plt.xlabel(best_predictor + \" (best predictor in test set)\")\n",
    "plt.ylabel(\"Frequency\")\n",
    "plt.legend()\n",
    "plt.show()"
   ]
  },
  {
   "cell_type": "markdown",
   "metadata": {},
   "source": [
    "**1.4 Using `best_predictor`, create a classification model by simply eye-balling a value for this gene that would discriminate the two classes the best (do not use an algorithm to determine for you the optimal coefficient or threshold; we are asking you to provide a rough estimate / model by manual inspection). Justify your choice in 1-2 sentences. Report the accuracy of your hand-chosen model on the test set.**\n"
   ]
  },
  {
   "cell_type": "code",
   "execution_count": 56,
   "metadata": {},
   "outputs": [
    {
     "name": "stdout",
     "output_type": "stream",
     "text": [
      "0.7021276595744681\n"
     ]
    }
   ],
   "source": [
    "def eye_ball_model(value):\n",
    "    return 0 if value < 0.45 else 1\n",
    "\n",
    "y_preds = [eye_ball_model(i) for i in X_test[best_predictor]]\n",
    "\n",
    "print(accuracy_score(y_test, y_preds))"
   ]
  },
  {
   "cell_type": "markdown",
   "metadata": {},
   "source": [
    "It seems like a value of around $0.45$ works to separate the two classes based on the `best_predictor`. It is especially clear on the test set (and also on the train set) that most of the ALL cases are when `best_predictor` $< 0.45$ and most AML cases are on the other side of $0.45$. "
   ]
  },
  {
   "cell_type": "markdown",
   "metadata": {},
   "source": [
    "---"
   ]
  },
  {
   "cell_type": "markdown",
   "metadata": {},
   "source": [
    "<div class='exercise'> <b> Question 2 [35pts]: Logistic Regression Modeling </b> </div>\n",
    "\n",
    "\n",
    "**2.1** Fit a simple logistic regression model to the training set using the single gene predictor `best_predictor` to predict cancer type.  Carefully interpret the coefficient estimates for this model.\n",
    "\n",
    "*Remember, you need to set the regularization parameter for sklearn's logistic regression function to be a very large value in order to **not** regularize (use `C=100000` or `penalty = \"none\"`).\n",
    "\n",
    "**2.2** Plot the logistic curves for the model in 2.1 ($y$-axis is probability scale, $x$-axis is `best_predictor`).  Interpret this plot: at what values of your `best_predictor` will you predict the patient to have ALL?  How does this compare to your eeballed value from 1.4?\n",
    "\n",
    "**2.3** Calculate the training and test classification accuracies of this model in 2.1. How do these compare to the eye-balled model from 1.4?\n",
    "\n",
    "\n",
    "**2.4** Next, fit a multiple logistic regression model with **all** the gene predictors from the data set (reminder: for this assignment, we are always using the normalized values). How does the classification accuracy of this model compare with the models fitted with a single gene (on both the training and test sets)?  \n",
    "\n",
    "**2.5** Print out and interpret the logistic regression coefficients for  `best_predictor` from both the simple logistic and multiple logistic regression models from the previous two parts.  Do they agree or disagree?  What does this indicate?\n",
    "\n",
    "**2.6** Now let's use regularization to improve the predictions from the multiple logistic regression model. Specifically, use LASSO-like regularization and 5-fold cross-validation to fit the model on the training set (choose between 20 reasonable values of $\\lambda$). Report the classification accuracy on both the training and testing set.\n",
    "\n",
    "**2.7** How many predictors are considered as important features in this regularized model?  What does that say about the full logistic regression model in problem 2.4?"
   ]
  },
  {
   "cell_type": "markdown",
   "metadata": {},
   "source": [
    "\n",
    "## Answers"
   ]
  },
  {
   "cell_type": "markdown",
   "metadata": {},
   "source": [
    "**2.1 Fit a simple logistic regression model to the training set using the single gene predictor `best_predictor` to predict cancer type. Carefully interpret the coefficient estimates for this model.**"
   ]
  },
  {
   "cell_type": "code",
   "execution_count": 57,
   "metadata": {},
   "outputs": [
    {
     "name": "stdout",
     "output_type": "stream",
     "text": [
      "Logistic Regression Estimated Intercept: -4.529789694773293\n",
      "Logistic Regression Estimated Slope: 9.640038875212554\n"
     ]
    }
   ],
   "source": [
    "logistic_model_best_predictor = LogisticRegression(fit_intercept=True, penalty = \"none\").fit(X_train[best_predictor].values.reshape(-1, 1), y_train)\n",
    "print(\"Logistic Regression Estimated Intercept:\", logistic_model_best_predictor.intercept_[0])\n",
    "print(\"Logistic Regression Estimated Slope:\", logistic_model_best_predictor.coef_[0][0])"
   ]
  },
  {
   "cell_type": "markdown",
   "metadata": {},
   "source": [
    "The slope is positive which means that the predicted probability for AML is low (close to 0) for small values of the `best_predictor` and high for larger values of `best_predictor` (closer to 1). If we increase the value of the `best_predictor` (the standardized value of X95735_at) by $1$, the log-odds of having AML rises by $9.64$.\n",
    "\n",
    "The intercept tells us that if the value of X95735_at is $0$, the log-odds of having AML is $-4.53$.\n"
   ]
  },
  {
   "cell_type": "markdown",
   "metadata": {},
   "source": [
    "**2.2 Plot the logistic curves for the model in 2.1 ($y$-axis is probability scale, $x$-axis is `best_predictor`).  Interpret this plot: at what values of your `best_predictor` will you predict the patient to have ALL?  How does this compare to your eeballed value from 1.4?**\n"
   ]
  },
  {
   "cell_type": "code",
   "execution_count": 58,
   "metadata": {},
   "outputs": [
    {
     "data": {
      "image/png": "[encoded data removed]",
      "text/plain": [
       "<Figure size 432x288 with 1 Axes>"
      ]
     },
     "metadata": {},
     "output_type": "display_data"
    },
    {
     "name": "stdout",
     "output_type": "stream",
     "text": [
      "Values of best predictor that are less than this threshold are more likely to be ALL: 0.47000000000000003\n"
     ]
    }
   ],
   "source": [
    "dummy_x = np.arange(np.min(X_train[best_predictor]),np.max(X_train[best_predictor]),0.01)\n",
    "\n",
    "plt.scatter(dummy_x, logistic_model_best_predictor.predict_proba(dummy_x.reshape(-1, 1))[:,1])\n",
    "plt.title(\"Probability of AML vs Best Predictor: {}\".format(best_predictor))\n",
    "plt.xlabel(best_predictor + \" (best predictor in training set)\")\n",
    "plt.ylabel(\"Probability of AML\")\n",
    "plt.show()\n",
    "\n",
    "preds = logistic_model_best_predictor.predict_proba(dummy_x.reshape(-1, 1))[:,1]\n",
    "\n",
    "crossover = 0\n",
    "for i in range(1, len(preds)):\n",
    "    if preds[i-1] < 0.5 and preds[i] >= 0.5:\n",
    "        crossover = i\n",
    "        break\n",
    "\n",
    "print(\"Values of best predictor that are less than this threshold are more likely to be ALL:\", dummy_x[crossover])"
   ]
  },
  {
   "cell_type": "markdown",
   "metadata": {},
   "source": [
    "For values of our best predictor X95735_at that are less than 0.47 will be predicted to be ALL.\n"
   ]
  },
  {
   "cell_type": "markdown",
   "metadata": {},
   "source": [
    "**2.3 Calculate the training and test classification accuracies of this model in 2.1.  How do these compare to the eye-balled model from 1.4?**"
   ]
  },
  {
   "cell_type": "code",
   "execution_count": 59,
   "metadata": {},
   "outputs": [
    {
     "name": "stdout",
     "output_type": "stream",
     "text": [
      "Training Classification Accuracy: 0.7145390070921985\n",
      "Test Classification Accuracy: 0.7127659574468085\n"
     ]
    }
   ],
   "source": [
    "train_accuracy = logistic_model_best_predictor.score(X_train[best_predictor].values.reshape(-1, 1), y_train)\n",
    "test_accuracy = logistic_model_best_predictor.score(X_test[best_predictor].values.reshape(-1, 1), y_test)\n",
    "\n",
    "print(\"Training Classification Accuracy: {}\".format(train_accuracy))\n",
    "print(\"Test Classification Accuracy: {}\".format(test_accuracy))"
   ]
  },
  {
   "cell_type": "markdown",
   "metadata": {},
   "source": [
    "The eyeball model threshold was pretty close to the model we designed in 2.1. The classification accuracy of the model in 2.1 (0.7127659574468085) is slightly higher than the accuracy for the 1.4 model (0.7021276595744681).\n"
   ]
  },
  {
   "cell_type": "markdown",
   "metadata": {},
   "source": [
    "**2.4 Next, fit a multiple logistic regression model with *all* the gene predictors from the data set (reminder: for this assignment, we are always using the normalized values). How does the classification accuracy of this model compare with the models fitted with a single gene (on both the training and test sets)?**\n"
   ]
  },
  {
   "cell_type": "code",
   "execution_count": 12,
   "metadata": {},
   "outputs": [
    {
     "name": "stdout",
     "output_type": "stream",
     "text": [
      "Training Classification Accuracy: 1.0\n",
      "Test Classification Accuracy: 0.7978723404255319\n"
     ]
    }
   ],
   "source": [
    "multiple_logistic_model = LogisticRegression(fit_intercept=True, penalty = \"none\").fit(X_train, y_train)\n",
    "train_accuracy_multiple = multiple_logistic_model.score(X_train, y_train)\n",
    "test_accuracy_multiple = multiple_logistic_model.score(X_test, y_test)\n",
    "\n",
    "print(\"Training Classification Accuracy: {}\".format(train_accuracy_multiple))\n",
    "print(\"Test Classification Accuracy: {}\".format(test_accuracy_multiple))"
   ]
  },
  {
   "cell_type": "markdown",
   "metadata": {},
   "source": [
    "The training accuracy is 1.0 as expected from data with more predictors than observations. The training accuracy for all the predictors (1.0) is higher than the training accuracy with the best predictor (0.715). Thus our model is not unique and the parameters are not identifiable. The test classification accuracy with all the predictors (0.7979) is better than the accuracy with only the best predictor (0.712). This also makes sense since we get more information about a specific case from more predictors."
   ]
  },
  {
   "cell_type": "markdown",
   "metadata": {},
   "source": [
    "**2.5 Print out and interpret the logistic regression coefficients for `best_predictor` from both the simple logistic and multiple logistic regression models from the previous two parts.  Do they agree or disagree?  What does this indicate?**"
   ]
  },
  {
   "cell_type": "code",
   "execution_count": 13,
   "metadata": {},
   "outputs": [
    {
     "name": "stdout",
     "output_type": "stream",
     "text": [
      "Simple Logistic Regression Estimated Intercept: -4.529789694773293\n",
      "Simple Logistic Regression Estimated Slope: 9.640038875212554\n",
      "Multiple Logistic Regression Estimated Intercept for Best Predictor: -0.12937187791682864\n",
      "Multiple Logistic Regression Estimated Slope for Best Predictor: 3.476706848821522\n"
     ]
    }
   ],
   "source": [
    "print(\"Simple Logistic Regression Estimated Intercept:\", logistic_model_best_predictor.intercept_[0])\n",
    "print(\"Simple Logistic Regression Estimated Slope:\", logistic_model_best_predictor.coef_[0][0])\n",
    "\n",
    "best_predictor_index = X_train.columns.get_loc(best_predictor)\n",
    "\n",
    "print(\"Multiple Logistic Regression Estimated Intercept for Best Predictor:\", multiple_logistic_model.intercept_[0])\n",
    "print(\"Multiple Logistic Regression Estimated Slope for Best Predictor:\", multiple_logistic_model.coef_[0][best_predictor_index])"
   ]
  },
  {
   "cell_type": "markdown",
   "metadata": {},
   "source": [
    "Slope is same sign (both positive) which tells us the general trend for both the models is the same (the probability of being AML increases as you increase the value of the `best_predictor`. In the case of the single predictor, the rise is steeper (larger coefficient) compared to the model with the multiple predictors. This means that the log-odds of it being AML is higher for the single predictor model than the multiple predictor model. \n",
    "\n",
    "The smaller coefficient in the multiple logistic regression model is representative of the correlation present between the `best_predictor` and other predictors whereas the simple logistic regression model only has one predictor. "
   ]
  },
  {
   "cell_type": "markdown",
   "metadata": {},
   "source": [
    "**2.6 Now let's use regularization to improve the predictions from the multiple logistic regression model. Specifically, use LASSO-like regularization and 5-fold cross-validation to fit the model on the training set (choose between 20 reasonable values of $\\lambda$). Report the classification accuracy on both the training and testing set.**"
   ]
  },
  {
   "cell_type": "code",
   "execution_count": 60,
   "metadata": {},
   "outputs": [
    {
     "name": "stdout",
     "output_type": "stream",
     "text": [
      "Training Classification Accuracy: 0.9273049645390071\n",
      "Test Classification Accuracy: 0.8670212765957447\n"
     ]
    }
   ],
   "source": [
    "lasso_multiple_logistic_model = LogisticRegressionCV(Cs=20, solver='liblinear', penalty='l1', cv=5)\n",
    "lasso_multiple_logistic_model.fit(X_train, y_train)\n",
    "best_model = lasso_multiple_logistic_model\n",
    "\n",
    "lasso_train_accuracy = best_model.score(X_train, y_train)\n",
    "lasso_test_accuracy = best_model.score(X_test, y_test)\n",
    "        \n",
    "print(\"Training Classification Accuracy: {}\".format(lasso_train_accuracy))\n",
    "print(\"Test Classification Accuracy: {}\".format(lasso_test_accuracy))"
   ]
  },
  {
   "cell_type": "markdown",
   "metadata": {},
   "source": [
    "**2.7 How many predictors are considered as important features in this regularized model?  What does that say about the full logistic regression model in problem 2.4?**\n"
   ]
  },
  {
   "cell_type": "code",
   "execution_count": 15,
   "metadata": {},
   "outputs": [
    {
     "name": "stdout",
     "output_type": "stream",
     "text": [
      "Actual number of predictors: 7129\n",
      "LASSO-Like Regularized Multiple Logistic Regression Number of Non-zero Estimated Slopes (number of important features): 119\n",
      "Full Multiple Logistic Regression Number of Non-zero Estimated Slopes (number of important features): 7129\n"
     ]
    }
   ],
   "source": [
    "lasso_coefficients = best_model.coef_[0]\n",
    "counter = 0\n",
    "for i in range(len(lasso_coefficients)):\n",
    "    if lasso_coefficients[i] != 0:\n",
    "        counter += 1\n",
    "        \n",
    "full_coefficients = multiple_logistic_model.coef_[0]\n",
    "counter_full = 0\n",
    "for i in range(len(full_coefficients)):\n",
    "    if full_coefficients[i] != 0:\n",
    "        counter_full += 1\n",
    "        \n",
    "print(\"Actual number of predictors:\", X_train.shape[1])\n",
    "print(\"LASSO-Like Regularized Multiple Logistic Regression Number of Non-zero Estimated Slopes (number of important features):\", counter)\n",
    "print(\"Full Multiple Logistic Regression Number of Non-zero Estimated Slopes (number of important features):\", counter_full)\n",
    "\n"
   ]
  },
  {
   "cell_type": "markdown",
   "metadata": {},
   "source": [
    "There are only 119 predictors that have a non-zero coefficient for our LASSO-like regularized model meaning that our regularized model only considers 119 predictors to be important features. The full logistic regression model in 2.4 uses all 7129 predictors in comparison, so this is a very large difference.\n",
    "\n",
    "The larger number of dropped predictors is indicative of the fact that many of them are redundant and do not play a substantial role in determining whether the patient has ALL or AML."
   ]
  },
  {
   "cell_type": "markdown",
   "metadata": {},
   "source": [
    "---"
   ]
  },
  {
   "cell_type": "markdown",
   "metadata": {},
   "source": [
    "<div class='exercise'> <b> Question 3 [10pts]: $k$-NN Classification </b> </div>"
   ]
  },
  {
   "cell_type": "markdown",
   "metadata": {},
   "source": [
    "**3.1** Use 5-fold cross-validation to select $k$ for a $k$-NN classification model based on the full predictor set.  Choose between `ks = [1,3,5,7,10,15,20,50,100]`. \n",
    "\n",
    "**3.2** Provide the confusion matrix for 3 models: (i) the full multiple logistic regression model from 2.4, (ii) the best regularized model from 2.6, and (iii) the best $k$-NN from the previous part. Report the false positive and false negative rates (all in the test set).  Briefly interpret what you notice."
   ]
  },
  {
   "cell_type": "markdown",
   "metadata": {},
   "source": [
    "\n",
    "### Answers"
   ]
  },
  {
   "cell_type": "markdown",
   "metadata": {},
   "source": [
    "**3.1 Use 5-fold cross-validation to select $k$ for a $k$-NN classification model based on the full predictor set.  Choose between `ks = [1,3,5,7,10,15,20,50,100]`.  Report your chosen $k$, and report the misclassification rate on both the train and test sets for the model using your chosen $k$.**"
   ]
  },
  {
   "cell_type": "code",
   "execution_count": 62,
   "metadata": {},
   "outputs": [
    {
     "name": "stdout",
     "output_type": "stream",
     "text": [
      "The best k is: 3\n",
      "\n",
      " Classification accuracy for knn:\n",
      "Training misclassification rate = 0.08333333333333337 , Test misclassification rate = 0.16489361702127658\n"
     ]
    }
   ],
   "source": [
    "ks = [1,3,5,7,10,15,20,50,100]\n",
    "best_score = 0\n",
    "best_k = 0\n",
    "for k in ks:\n",
    "    knn = KNeighborsClassifier(n_neighbors=k)\n",
    "    scores = cross_val_score(knn, X_train, y_train, cv=5, scoring='accuracy')\n",
    "    average_score = scores.mean()\n",
    "    if average_score > best_score:\n",
    "        best_score = average_score\n",
    "        best_k = k\n",
    "        \n",
    "print(\"The best k is:\", best_k)\n",
    "best_knn = KNeighborsClassifier(n_neighbors=best_k)\n",
    "best_knn.fit(X_train,y_train)\n",
    "print(\"\\n Classification accuracy for knn:\")\n",
    "print(\"Training misclassification rate =\", 1-best_knn.score(X_train, y_train),\", Test misclassification rate =\", 1-best_knn.score(X_test,y_test))"
   ]
  },
  {
   "cell_type": "markdown",
   "metadata": {},
   "source": [
    "**3.2 Provide the confusion matrix for 3 models: (i) the full multiple logistic regression model from 2.4, (ii) the best regularized model from 2.6, and (iii) the best $k$-NN from the previous part. what are the  false positive and false negative rates in these 3 models (all in the test set)?  Briefly interpret what you notice.**"
   ]
  },
  {
   "cell_type": "code",
   "execution_count": 17,
   "metadata": {},
   "outputs": [
    {
     "name": "stdout",
     "output_type": "stream",
     "text": [
      "Confusion matrix for multiple logistic regression model: \n",
      " \n",
      "         pred:0  pred:1\n",
      "true:0      82      14\n",
      "true:1      24      68 \n",
      "\n",
      "Confusion matrix for best regularized logistic regression model: \n",
      " \n",
      "         pred:0  pred:1\n",
      "true:0      85      11\n",
      "true:1      14      78 \n",
      "\n",
      "Confusion matrix for best k-NN model: \n",
      "         pred:0  pred:1\n",
      "true:0      83      13\n",
      "true:1      18      74\n"
     ]
    }
   ],
   "source": [
    "from sklearn.metrics import confusion_matrix\n",
    "\n",
    "conf_mat_multiple_logistic_model = pd.DataFrame(\n",
    "    confusion_matrix(y_test, multiple_logistic_model.predict(X_test)), \n",
    "    index=['true:0', 'true:1'], \n",
    "    columns=['pred:0', 'pred:1']\n",
    ")\n",
    "\n",
    "conf_mat_best_model = pd.DataFrame(\n",
    "    confusion_matrix(y_test, best_model.predict(X_test)), \n",
    "    index=['true:0', 'true:1'], \n",
    "    columns=['pred:0', 'pred:1']\n",
    ")\n",
    "\n",
    "conf_mat_best_knn = pd.DataFrame(\n",
    "    confusion_matrix(y_test, best_knn.predict(X_test)), \n",
    "    index=['true:0', 'true:1'], \n",
    "    columns=['pred:0', 'pred:1']\n",
    ")\n",
    "\n",
    "print(\"Confusion matrix for multiple logistic regression model: \\n \\n\", conf_mat_multiple_logistic_model, \"\\n\")\n",
    "print(\"Confusion matrix for best regularized logistic regression model: \\n \\n\", conf_mat_best_model, \"\\n\")\n",
    "print(\"Confusion matrix for best k-NN model: \\n\", conf_mat_best_knn)"
   ]
  },
  {
   "cell_type": "markdown",
   "metadata": {},
   "source": [
    "Multiple logistic regression model: \n",
    "\n",
    "The false positive rate is $\\frac{14}{14+82} = \\frac{14}{96} \\approx 0.1458$ \\\n",
    "The false negative rate is $\\frac{24}{24+68} = \\frac{24}{92} \\approx 0.2609$\n",
    "\n",
    "\n",
    "Regularized logistic regression model: \n",
    "\n",
    "The false positive rate is $\\frac{11}{11+85} = \\frac{11}{96} \\approx 0.1146$ \\\n",
    "The false negative rate is $\\frac{14}{14+78} = \\frac{14}{92} \\approx 0.1522$\n",
    "\n",
    "\n",
    "Best k-NN model: \n",
    "\n",
    "The false positive rate is $\\frac{13}{13+83} = \\frac{13}{96} \\approx 0.1354$ \\\n",
    "The false negative rate is $\\frac{18}{18+74} = \\frac{18}{92} \\approx 0.1957$"
   ]
  },
  {
   "cell_type": "markdown",
   "metadata": {},
   "source": [
    "The regularized logistic regression model performed the best on the test set compared to the other two models, since it has the highest number of true positive and negative predictions. The multiple logistic regression model and the 3-NN model have the similar number of true negative predictions (82 and 83 respectively) but the 3-NN model has more true positive predictions (74 compared to 68), meaning the 3-NN model did a bit better than the multiple logistic model on the test set."
   ]
  },
  {
   "cell_type": "markdown",
   "metadata": {},
   "source": [
    "---"
   ]
  },
  {
   "cell_type": "markdown",
   "metadata": {},
   "source": [
    "#### <div class='exercise'><b> Question 4 [15 pts]: Performing Principal Components Analysis </b></div>"
   ]
  },
  {
   "cell_type": "markdown",
   "metadata": {},
   "source": [
    "**4.1** Create the full PCA decomposition of `X_train` and apply the transformation to both `X_train` and `X_test`.  Report the shape of both of these.  What is the limiting factor for the maximum number of PCA components for this data set? \n",
    "\n",
    "*Hint: be sure to standardize before performing PCA.\n",
    "\n",
    "**4.2** PCA is often solely used to help in visualizing high-dimensional problems.  Plot the scatterplot of the second PCA vector of train on the $Y$-axis and the first PCA vector of train on the $X$-axis (be sure to denote the classes via different colors and markings).  In 2-3 sentences, explain why using the scatterplot of the top 2 PCA vectors is a useful approach to visualize a high dimensional classification problem.\n",
    "\n",
    "**4.3** Determine and report the variance explained in `X_train` based on the top 2 PCA vectors.  Determine and report how many PCA vectors are needed so that 90\\% of the variability in the predictors is explained, and create a plot to illustrate this result (Hint: look at cumulative explained variability vs. number of PCA components used).  Select a reasonable value for the number of components that balances representativeness (of the predictors) with parsimony. \n"
   ]
  },
  {
   "cell_type": "markdown",
   "metadata": {},
   "source": [
    "\n",
    "### Answers"
   ]
  },
  {
   "cell_type": "markdown",
   "metadata": {},
   "source": [
    "**4.1 Create the full PCA decomposition of X_train and apply the transformation to both X_train and X_test. Report the shape of both of these. What is the limiting factor for the maximum number of PCA components for this data set?**"
   ]
  },
  {
   "cell_type": "code",
   "execution_count": 66,
   "metadata": {},
   "outputs": [
    {
     "name": "stdout",
     "output_type": "stream",
     "text": [
      "Shape of PCA X_train: (564, 564)\n",
      "Shape of PCA X_test: (188, 564)\n"
     ]
    }
   ],
   "source": [
    "from sklearn.preprocessing import StandardScaler\n",
    "\n",
    "scale_transformer = StandardScaler(copy=True).fit(X_train)\n",
    "X_train_scaled = scale_transformer.transform(X_train)\n",
    "X_test_scaled = scale_transformer.transform(X_test)\n",
    "\n",
    "pca_transformer = PCA().fit(X_train_scaled)\n",
    "x_train_pca = pca_transformer.transform(X_train_scaled)\n",
    "x_test_pca =  pca_transformer.transform(X_test_scaled)\n",
    "\n",
    "print(\"Shape of PCA X_train:\", x_train_pca.shape)\n",
    "print(\"Shape of PCA X_test:\", x_test_pca.shape)"
   ]
  },
  {
   "cell_type": "markdown",
   "metadata": {},
   "source": [
    "The limiting factor for the maximum number of PCA components for this dataset is the number of observations of the training set because that is the number of observations in the dataset. The PCA transformation is only done on the training set."
   ]
  },
  {
   "cell_type": "markdown",
   "metadata": {},
   "source": [
    "**4.2 PCA is often solely used to help in visualizing high-dimensional problems. Plot the scatterplot of the second PCA vector on the  𝑌 -axis and the first PCA vector on the  𝑋 -axis (be sure to denote the classes via different color/markings). In 2-3 sentences, explain why using the scatterplot of the top 2 PCA vectors is a useful approach to visualize a high dimensional classification problem.**"
   ]
  },
  {
   "cell_type": "code",
   "execution_count": 67,
   "metadata": {},
   "outputs": [
    {
     "data": {
      "image/png": "[encoded data removed]",
      "text/plain": [
       "<Figure size 432x288 with 1 Axes>"
      ]
     },
     "metadata": {},
     "output_type": "display_data"
    }
   ],
   "source": [
    "colors = ['r', 'b']\n",
    "labels = [\"ALL\", \"AML\"]\n",
    "\n",
    "for cur_quality in [0,1]:\n",
    "    cur_df = x_train_pca[y_train==cur_quality]\n",
    "    plt.scatter(cur_df[:,0], cur_df[:,1], c = colors[cur_quality], label=labels[cur_quality])\n",
    "\n",
    "# all plots need labels\n",
    "plt.xlabel(\"PCA Dimension 1\")\n",
    "plt.ylabel(\"PCA Dimension 2\")\n",
    "plt.legend();"
   ]
  },
  {
   "cell_type": "markdown",
   "metadata": {},
   "source": [
    "If plot each datapoint with a color that indicates its associated label/class in the scatterplot of the two PCA dimensions, we can see how separable the transformed data is. If there is minimal overlap between the datapoints of different colors, then that means it is easier for our model to learn a relationship between the transformed input data and the response variable/label. We can visually see the amount of overlap/separation between datapoints with the scatterplot of the top 2 PCA vectors, which is especially useful since the top 2 PCA vectors are the ones that capture the most amount of variance from the original dataset."
   ]
  },
  {
   "cell_type": "markdown",
   "metadata": {},
   "source": [
    "**4.3 Determine and report the variance explained in `X_train` based on the top 2 PCA vectors.  Determine and report how many PCA vectors are needed so that 90\\% of the variability in the predictors is explained, and create a plot to illustrate this result (Hint: look at cumulative explained variability vs. number of PCA components used).  Select a reasonable value for the number of components that balances representativeness (of the predictors) with parsimony.**"
   ]
  },
  {
   "cell_type": "code",
   "execution_count": 20,
   "metadata": {},
   "outputs": [
    {
     "name": "stdout",
     "output_type": "stream",
     "text": [
      "Variance explained by each of the top 2 PCA components: [0.06456346 0.04926115]\n",
      "Total Variance Explained by the top 2 PCA components: 0.11382461095205532\n",
      "224 PCA vectors are needed so that 90% of the variability in the predictors is explained.\n"
     ]
    },
    {
     "data": {
      "image/png": "[encoded data removed]",
      "text/plain": [
       "<Figure size 432x288 with 1 Axes>"
      ]
     },
     "metadata": {},
     "output_type": "display_data"
    }
   ],
   "source": [
    "var_explained = pca_transformer.explained_variance_ratio_\n",
    "print(\"Variance explained by each of the top 2 PCA components:\", var_explained[0:2])\n",
    "print(\"Total Variance Explained by the top 2 PCA components:\", np.sum(var_explained[0:2]))\n",
    "\n",
    "cumulative_variance = [var_explained[0]]\n",
    "threshold_num = 0\n",
    "\n",
    "if cumulative_variance[0] >= 0.9:\n",
    "    threshold_num = 1\n",
    "else:\n",
    "    for i in range(1, len(var_explained)):\n",
    "        cumulative_variance.append(cumulative_variance[i-1] + var_explained[i])\n",
    "        if cumulative_variance[i-1] < 0.9 and cumulative_variance[i] >= 0.9:\n",
    "            threshold_num = i+1\n",
    "            \n",
    "print(\"{} PCA vectors are needed so that 90% of the variability in the predictors is explained.\".format(threshold_num))\n",
    "\n",
    "plt.plot(range(1, len(cumulative_variance)+1), cumulative_variance)\n",
    "plt.title('Cumulative Explained Variability vs Number of PCA vectors')\n",
    "plt.xlabel('Number of PCA vectors used (starting from the top PCA vector)')\n",
    "plt.ylabel('Cumulative Explained Variability')\n",
    "plt.show()"
   ]
  },
  {
   "cell_type": "markdown",
   "metadata": {},
   "source": [
    "We see that the cumulative explained variability noticeably plateaus after the top 100 PCA vectors, so there is diminishing returns in selecting more than 100 for the number of components used. The top 100 PCA components is enough to represent the original dataset but also balances parsimony with the diminishing returns/plateau observation above."
   ]
  },
  {
   "cell_type": "markdown",
   "metadata": {},
   "source": [
    "---"
   ]
  },
  {
   "cell_type": "markdown",
   "metadata": {},
   "source": [
    "<div class='exercise'><b> Question 5 [10 pts]: Principal Components Regression (PCR) </b></div>\n",
    "\n",
    "**5.1** Fit three separate Logistic Regression models using principal components as the predictors: (1) with just the first 2 PCA vectors, (2) with the number of component vectors you chose from 5.4 above, and (3) with the number of components that explain at least 90% of the variability in the predictor set. How do the classification accuracy values on both the training and test sets compare with these models?\n",
    "\n",
    "**5.2** Use cross-validation to determine the best number of principal components. Try out the 3 values from the previous sub-part and optionally include other values as well. For the best performing model according to cross-validation, interpret what the model says about the relationship between `best_predictor` and `Cancer_type`.\n"
   ]
  },
  {
   "cell_type": "markdown",
   "metadata": {},
   "source": [
    "\n",
    "### Answers"
   ]
  },
  {
   "cell_type": "markdown",
   "metadata": {},
   "source": [
    "**5.1 Fit three separate Logistic Regression models using principal components as the predictors: (1) with just the first 2 PCA vectors, (2) with the number of component vectors you chose from 5.4 above, and (3) with the number of components that explain at least 90% of the variability in the predictor set. How do the classification accuracy values on both the training and test sets compare with these models?**"
   ]
  },
  {
   "cell_type": "code",
   "execution_count": 73,
   "metadata": {},
   "outputs": [
    {
     "name": "stdout",
     "output_type": "stream",
     "text": [
      "Accuracies of logistic regressions:\n",
      "Top 2 PCA vectors for train set:  0.774822695035461\n",
      "Top 2 PCA vectors for test set:  0.75\n",
      "\n",
      "Top 100 PCA vectors for train set:  0.9202127659574468\n",
      "Top 100 PCA vectors for test set:  0.8351063829787234\n",
      "\n",
      "Top 224 PCA vectors (explain at least 90% variability) for train set:  1.0\n",
      "Top 224 PCA vectors (explain at least 90% variability) for test set:  0.7446808510638298\n"
     ]
    }
   ],
   "source": [
    "x_train_pca_df = pd.DataFrame(x_train_pca)\n",
    "x_test_pca_df =  pd.DataFrame(x_test_pca)\n",
    "\n",
    "logistic_pca_top_2 = LogisticRegression(C=100000, solver='liblinear', max_iter=1000)\n",
    "logistic_pca_top_2.fit(x_train_pca_df.iloc[:, 0:2], y_train)\n",
    "\n",
    "logistic_pca_goldilocks = LogisticRegression(C=100000, solver='liblinear', max_iter=1000)\n",
    "logistic_pca_goldilocks.fit(x_train_pca_df.iloc[:, 0:100], y_train)\n",
    "\n",
    "logistic_pca_at_least_90 = LogisticRegression(C=100000, solver='liblinear', max_iter=1000)\n",
    "logistic_pca_at_least_90.fit(x_train_pca_df.iloc[:, 0:224], y_train)\n",
    "\n",
    "print(\"Accuracies of logistic regressions:\")\n",
    "\n",
    "y_hat_train_top_2 = logistic_pca_top_2.predict(x_train_pca_df.iloc[:, 0:2])\n",
    "top_2_accuracy = accuracy_score(y_train.to_numpy(), y_hat_train_top_2)\n",
    "print(\"Top 2 PCA vectors for train set: \", top_2_accuracy)\n",
    "\n",
    "y_hat_test_top_2 = logistic_pca_top_2.predict(x_test_pca_df.iloc[:, 0:2])\n",
    "top_2_accuracy = accuracy_score(y_test.to_numpy(), y_hat_test_top_2)\n",
    "print(\"Top 2 PCA vectors for test set: \", top_2_accuracy)\n",
    "\n",
    "y_hat_train_goldilocks = logistic_pca_goldilocks.predict(x_train_pca_df.iloc[:, 0:100])\n",
    "goldilocks_accuracy = accuracy_score(y_train.to_numpy(), y_hat_train_goldilocks)\n",
    "print(\"\\nTop 100 PCA vectors for train set: \", goldilocks_accuracy)\n",
    "\n",
    "y_hat_test_goldilocks = logistic_pca_goldilocks.predict(x_test_pca_df.iloc[:, 0:100])\n",
    "goldilocks_accuracy = accuracy_score(y_test.to_numpy(), y_hat_test_goldilocks)\n",
    "print(\"Top 100 PCA vectors for test set: \", goldilocks_accuracy)\n",
    "\n",
    "y_hat_train_at_least_90 = logistic_pca_at_least_90.predict(x_train_pca_df.iloc[:, 0:224])\n",
    "at_least_90_accuracy = accuracy_score(y_train.to_numpy(), y_hat_train_at_least_90)\n",
    "print(\"\\nTop 224 PCA vectors (explain at least 90% variability) for train set: \", at_least_90_accuracy)\n",
    "\n",
    "y_hat_test_at_least_90 = logistic_pca_at_least_90.predict(x_test_pca_df.iloc[:, 0:224])\n",
    "at_least_90_accuracy = accuracy_score(y_test.to_numpy(), y_hat_test_at_least_90)\n",
    "print(\"Top 224 PCA vectors (explain at least 90% variability) for test set: \", at_least_90_accuracy)\n",
    "\n"
   ]
  },
  {
   "cell_type": "markdown",
   "metadata": {},
   "source": [
    "We can see that the model with the Top 100 PCA vectors has the highest accuracy on the test set (0.8351). The accuracies of the test sets for Top 2 and Top 224 are roughly the same (around 0.75) which shows that overfitting becomes a problem with too many predictors.\n",
    "\n",
    "The accuracy on the train set is highest in the Top 224 PCA vectors model (1.0) but is closely followed by Top 100 PCA model (0.9202). "
   ]
  },
  {
   "cell_type": "markdown",
   "metadata": {},
   "source": [
    "**5.2 Use cross-validation to determine the best number of principal components. Try out the 3 values from the previous sub-part and optionally include other values as well. For the best performing model according to cross-validation, interpret what the model says about the relationship between your `best_predictor` and `Cancer_type`**."
   ]
  },
  {
   "cell_type": "code",
   "execution_count": 79,
   "metadata": {},
   "outputs": [
    {
     "name": "stdout",
     "output_type": "stream",
     "text": [
      "Average cross validation classification accuracy for Top 2 PCA Model: 0.7570164348925411\n",
      "Average cross validation classification accuracy for Top 100 PCA Model: 0.8439949431099872\n",
      "Average cross validation classification accuracy for Top 224 PCA Model: 0.7606352718078382\n"
     ]
    },
    {
     "data": {
      "image/png": "[encoded data removed]",
      "text/plain": [
       "<Figure size 432x288 with 1 Axes>"
      ]
     },
     "metadata": {},
     "output_type": "display_data"
    }
   ],
   "source": [
    "import warnings\n",
    "warnings.filterwarnings('ignore')\n",
    "\n",
    "np.random.RandomState(109)\n",
    "\n",
    "n_folds = 5\n",
    "k_fold = KFold(n_folds, random_state=109, shuffle=True)\n",
    "\n",
    "X_top_2_df = x_train_pca_df.iloc[:, 0:2]\n",
    "X_goldilocks_df = x_train_pca_df.iloc[:, 0:70]\n",
    "X_at_least_90_df = x_train_pca_df.iloc[:, 0:224]\n",
    "\n",
    "acc_cv_top_2 = []\n",
    "acc_cv_goldilocks = []\n",
    "acc_cv_at_least_90 = []\n",
    "\n",
    "y_train_reset = y_train.reset_index(drop=True)\n",
    "\n",
    "for traincv_index, testcv_index in k_fold.split(x_train_pca_df):\n",
    "    y_traincv, y_testcv = y_train_reset[traincv_index], y_train_reset[testcv_index]\n",
    "        \n",
    "    X_top_2_traincv, X_top_2_testcv = X_top_2_df.loc[traincv_index], X_top_2_df.loc[testcv_index]\n",
    "    X_goldilocks_traincv, X_goldilocks_testcv = X_goldilocks_df.loc[traincv_index], X_goldilocks_df.loc[testcv_index]\n",
    "    X_at_least_90_traincv, X_at_least_90_testcv = X_at_least_90_df.loc[traincv_index], X_at_least_90_df.loc[testcv_index]\n",
    "\n",
    "    model1 = LogisticRegression(fit_intercept=True).fit(X_top_2_traincv, y_traincv)\n",
    "    model2 = LogisticRegression(fit_intercept=True).fit(X_goldilocks_traincv, y_traincv)\n",
    "    model3 = LogisticRegression(fit_intercept=True).fit(X_at_least_90_traincv, y_traincv)\n",
    "    \n",
    "    acc_cv_top_2.append(model1.score(X_top_2_testcv, y_testcv))\n",
    "    acc_cv_goldilocks.append(model2.score(X_goldilocks_testcv, y_testcv))\n",
    "    acc_cv_at_least_90.append(model3.score(X_at_least_90_testcv, y_testcv))\n",
    "    \n",
    "print(\"Average cross validation classification accuracy for Top 2 PCA Model:\", np.mean(acc_cv_top_2))\n",
    "print(\"Average cross validation classification accuracy for Top 100 PCA Model:\", np.mean(acc_cv_goldilocks))\n",
    "print(\"Average cross validation classification accuracy for Top 224 PCA Model:\", np.mean(acc_cv_at_least_90))\n",
    "\n",
    "plt.boxplot([acc_cv_top_2, acc_cv_goldilocks, acc_cv_at_least_90], labels=['top2', 'top100', 'top224'])\n",
    "plt.title('Average Cross Validation classification accuracy for each Model (Top 2, 100, 224 PCA Vectors)')\n",
    "plt.xlabel('Models with different number of top PCA components')\n",
    "plt.ylabel('Average classification accuracy')\n",
    "plt.show()"
   ]
  },
  {
   "cell_type": "markdown",
   "metadata": {},
   "source": [
    "From the three possible number of PCA components (2, 100 and 224), we have found the 100 PCA components results in the highest classification accuracy from cross validation. The code below transforms back to coefficients of our original predictors to find the coefficient for the best predictor in the original data set. We see that the coefficient is 0.03777821525561256."
   ]
  },
  {
   "cell_type": "code",
   "execution_count": 80,
   "metadata": {},
   "outputs": [
    {
     "name": "stdout",
     "output_type": "stream",
     "text": [
      "0.021760212448569096\n"
     ]
    }
   ],
   "source": [
    "pca_coefficients = model2.coef_[0].tolist()\n",
    "components = pd.DataFrame(pca_transformer.components_[0:70, :], columns=list(X_train.columns))\n",
    "best_predictor_weights = components[best_predictor].tolist()\n",
    "\n",
    "best_predictor_coef = sum([a*b for a,b in zip(pca_coefficients, best_predictor_weights)])\n",
    "print(best_predictor_coef)"
   ]
  },
  {
   "cell_type": "markdown",
   "metadata": {},
   "source": [
    "<div class='exercise'><b> Question 6 [15 pts]: Evaluating Classifiers </b></div>\n",
    "\n",
    "**6.1**: Another way to evaluate models in a classification setting is through an Area-under-the-ROC-Curve (AUC). Briefly explain what the AUC and the ROC are trying to do and how this approach differs from evaluating models based on misclassification rate (as you have done thus far in this problem set).\n",
    "\n",
    "**6.2** Evaluate the 'best' models (best based on test misclassification: if there is a tie, choose the 'simplest' model) from each class of classification models using AUC.  That is calculate AUC for the following models:\n",
    "- the best logistic regression model, whether regularized or not (question 2)\n",
    "- the best $k$-NN model (question 3)\n",
    "- the best PCR model (question 5)\n",
    "\n",
    "For the model with the best AUC, plot the ROC. Briefly interpret your plot.\n",
    "\n",
    "**6.3** Based on AUC, is there one clear stand-out winner or are a lot of models similar in prediction?  If you were to predict real cancer patients, how would use these models to predict cancer type?\n",
    "\n",
    "*See extra information about ALL and AML at the bottom of this notebook.*"
   ]
  },
  {
   "cell_type": "markdown",
   "metadata": {},
   "source": [
    "### Answers"
   ]
  },
  {
   "cell_type": "markdown",
   "metadata": {},
   "source": [
    "**6.1 Another way to evaluate models in a classification setting is through an Area-under-the-ROC-Curve (AUC). Briefly explain what the AUC and the ROC are trying to do and how this approach differs from evaluating models based on misclassification rate (as you have done thus far in this problem set).**"
   ]
  },
  {
   "cell_type": "markdown",
   "metadata": {},
   "source": [
    "*your answer here*\n"
   ]
  },
  {
   "cell_type": "markdown",
   "metadata": {},
   "source": [
    "**6.2 use AUC to evaluate the 'best' models (best based on test misclassification: if there is a tie, choose the 'simplest' model) from each class of classification models.  That is calculate AUC for the following models:**\n",
    "- the best logistic regression model, whether regularized or not (question 2)\n",
    "- the best $k$-NN model (question 3)\n",
    "- the best PCR model (question 5)\n",
    "\n",
    "**For the model with the best AUC, plot the ROC. Briefly interpret your plot.**\n",
    "\n"
   ]
  },
  {
   "cell_type": "code",
   "execution_count": 24,
   "metadata": {},
   "outputs": [],
   "source": [
    "######\n",
    "# your code here\n",
    "######\n"
   ]
  },
  {
   "cell_type": "markdown",
   "metadata": {},
   "source": [
    "*your answer here*"
   ]
  },
  {
   "cell_type": "markdown",
   "metadata": {},
   "source": [
    "**6.3 Based on AUC, is there one clear stand-out winner or are a lot of models similar in prediction?  If you were to predict real cancer patients, how would use these models to predict cancer type?**"
   ]
  },
  {
   "cell_type": "markdown",
   "metadata": {},
   "source": [
    "*your answer here*\n"
   ]
  },
  {
   "cell_type": "markdown",
   "metadata": {},
   "source": [
    "<hr style=\"height:2pt\">"
   ]
  },
  {
   "cell_type": "markdown",
   "metadata": {},
   "source": [
    "\n",
    "**Additional Information**\n",
    "\n",
    "Acute Lymphoblastic Leukemia (ALL):\n",
    "- About 98% of children with ALL go into remission within weeks after starting treatment.\n",
    "- About 90% of those children can be cured. Patients are considered cured after 10 years in remission.\n",
    "\n",
    "Acute Myeloid Leukemia (AML):\n",
    "- In general, children with AML are seen as lower risk than adults. \n",
    "- Around 85 to 90 percent of children with AML will go into remission after induction, according to the American Cancer Society. AML will return in some cases.  \n",
    "- The five-year-survival-rate for children with AML is 60 to 70 percent."
   ]
  },
  {
   "cell_type": "markdown",
   "metadata": {},
   "source": [
    "<hr style=\"height:2pt\">"
   ]
  }
 ],
 "metadata": {
  "anaconda-cloud": {},
  "kernelspec": {
   "display_name": "Python 3",
   "language": "python",
   "name": "python3"
  },
  "language_info": {
   "codemirror_mode": {
    "name": "ipython",
    "version": 3
   },
   "file_extension": ".py",
   "mimetype": "text/x-python",
   "name": "python",
   "nbconvert_exporter": "python",
   "pygments_lexer": "ipython3",
   "version": "3.7.10"
  }
 },
 "nbformat": 4,
 "nbformat_minor": 2
}
